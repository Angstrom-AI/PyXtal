{
 "cells": [
  {
   "cell_type": "markdown",
   "metadata": {},
   "source": [
    "# Tutorial 1: Atomic crystal module in PyXtal\n",
    "\n",
    "Source code: https://github.com/qzhu2017/PyXtal\n",
    "\n",
    "Created by Qiang Zhu (2020/11/23)\n",
    "\n",
    "Last updated: 2021/04/07\n",
    "\n",
    "More details can be found at the following [link](https://pyxtal.readthedocs.io/en/latest/)\n",
    "\n",
    "# 1.1 Generate a random atomic crystal"
   ]
  },
  {
   "cell_type": "code",
   "execution_count": null,
   "metadata": {},
   "outputs": [],
   "source": [
    "from pyxtal import pyxtal"
   ]
  },
  {
   "cell_type": "code",
   "execution_count": null,
   "metadata": {},
   "outputs": [],
   "source": [
    "C1 = pyxtal()\n",
    "C1.from_random(3, 227, ['C'], [8])\n",
    "# Alternative, you can also generate the structure with pre-assigned sites\n",
    "# C1.from_random(3, 225, [\"C\"], [12], sites=[[\"4a\", \"8c\"]])\n",
    "\n",
    "print(C1)"
   ]
  },
  {
   "cell_type": "code",
   "execution_count": null,
   "metadata": {},
   "outputs": [],
   "source": [
    "C1.atom_sites[0].wp"
   ]
  },
  {
   "cell_type": "code",
   "execution_count": null,
   "metadata": {},
   "outputs": [],
   "source": [
    "#display the structure can be easily accessed with the show() function\n",
    "C1.show(supercell=(2,2,1))"
   ]
  },
  {
   "cell_type": "markdown",
   "metadata": {},
   "source": [
    "# 1.2 Manipulating the crystal via symmetry relation"
   ]
  },
  {
   "cell_type": "code",
   "execution_count": null,
   "metadata": {},
   "outputs": [],
   "source": [
    "# lower the symmetry from cubic to tetragonal\n",
    "C2 = C1.subgroup_once(H=141, eps=1e-2)\n",
    "print(C2)"
   ]
  },
  {
   "cell_type": "code",
   "execution_count": null,
   "metadata": {},
   "outputs": [],
   "source": [
    "# Compute the XRD\n",
    "xrd1 = C1.get_XRD()\n",
    "xrd2 = C2.get_XRD()\n"
   ]
  },
  {
   "cell_type": "code",
   "execution_count": null,
   "metadata": {},
   "outputs": [],
   "source": [
    "# Compare two structures by XRD\n",
    "from pyxtal.XRD import Similarity\n",
    "p1 = xrd1.get_profile()\n",
    "p2 = xrd2.get_profile()\n",
    "s = Similarity(p1, p2, x_range=[15, 90])\n",
    "print(s)\n",
    "s.show()"
   ]
  },
  {
   "cell_type": "markdown",
   "metadata": {},
   "source": [
    "# 1.3 Chemical substitution via symmetry relation"
   ]
  },
  {
   "cell_type": "code",
   "execution_count": null,
   "metadata": {},
   "outputs": [],
   "source": [
    "#play substitution\n",
    "permutation = {\"C\":\"Si\"}\n",
    "SiC = C1.subgroup_once(eps=0.01, H=None, permutations=permutation)\n",
    "print(C1)\n",
    "print(SiC)\n",
    "SiC.show(supercell=(2,2,2))"
   ]
  },
  {
   "cell_type": "markdown",
   "metadata": {},
   "source": [
    "# 1.4 Supergroup symmetry"
   ]
  },
  {
   "cell_type": "code",
   "execution_count": null,
   "metadata": {
    "scrolled": false
   },
   "outputs": [],
   "source": [
    "# load the experimental alpha-quartz structure from the cif file\n",
    "\n",
    "lt_sio2 = pyxtal()\n",
    "lt_sio2.from_seed('lt_quartz.cif')\n",
    "print(lt_sio2)\n",
    "lt_sio2.show()"
   ]
  },
  {
   "cell_type": "code",
   "execution_count": null,
   "metadata": {},
   "outputs": [],
   "source": [
    "# Here we search for the high temperature phase\n",
    "\n",
    "ht_sio2 = lt_sio2.supergroup(G=[180]) \n",
    "print(len(ht_sio2), 'structures have been generated')\n",
    "print(ht_sio2[-1])\n",
    "ht_sio2[-1].show()"
   ]
  },
  {
   "cell_type": "markdown",
   "metadata": {},
   "source": [
    "# 1.5 Exporting the structure"
   ]
  },
  {
   "cell_type": "code",
   "execution_count": null,
   "metadata": {},
   "outputs": [],
   "source": [
    "#In general, you can export the structure in several ways\n",
    "\n",
    "# CIF/POSCAR file\n",
    "C1.to_file('1.cif')\n",
    "C1.to_ase().write('1.vasp', format='vasp', vasp5=True)\n",
    "\n",
    "# ASE's atoms object\n",
    "ase_struc = C1.to_ase()\n",
    "print(ase_struc)\n",
    "\n",
    "# Pymatgen object\n",
    "pmg_struc = C1.to_pymatgen()\n",
    "print(pmg_struc)"
   ]
  },
  {
   "cell_type": "markdown",
   "metadata": {},
   "source": [
    "# 1.6 Low dimensional systems"
   ]
  },
  {
   "cell_type": "code",
   "execution_count": null,
   "metadata": {},
   "outputs": [],
   "source": [
    "# An example to generate 2D atomic crystal\n",
    "C3 = pyxtal()\n",
    "C3.from_random(2, 75, ['C'], [6], thickness=0.0)\n",
    "C3.show(scale=0.2)"
   ]
  },
  {
   "cell_type": "code",
   "execution_count": null,
   "metadata": {},
   "outputs": [],
   "source": [
    "# An example to generate 0D atomic cluster\n",
    "C4 = pyxtal()\n",
    "C4.from_random(0, 'Ih', ['C'], [60])\n",
    "C4.show(scale=0.2)"
   ]
  },
  {
   "cell_type": "code",
   "execution_count": null,
   "metadata": {},
   "outputs": [],
   "source": [
    "# to improve the quality, you can increase the minimum distance\n",
    "C4.from_random(0, 'Ih', ['C'], [60], t_factor=1.2)\n",
    "C4.show(scale=0.1, radius=0.01)"
   ]
  }
 ],
 "metadata": {
  "@webio": {
   "lastCommId": null,
   "lastKernelId": null
  },
  "kernelspec": {
   "display_name": "Python 3",
   "language": "python",
   "name": "python3"
  },
  "language_info": {
   "codemirror_mode": {
    "name": "ipython",
    "version": 3
   },
   "file_extension": ".py",
   "mimetype": "text/x-python",
   "name": "python",
   "nbconvert_exporter": "python",
   "pygments_lexer": "ipython3",
   "version": "3.7.4"
  }
 },
 "nbformat": 4,
 "nbformat_minor": 4
}
