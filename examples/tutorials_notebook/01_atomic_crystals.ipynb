{
 "cells": [
  {
   "cell_type": "code",
   "execution_count": 1,
   "metadata": {},
   "outputs": [],
   "source": [
    "from pyxtal.crystal import random_crystal"
   ]
  },
  {
   "cell_type": "code",
   "execution_count": 2,
   "metadata": {},
   "outputs": [],
   "source": [
    "C = random_crystal(227, ['C'], [2], 1.0)"
   ]
  },
  {
   "cell_type": "code",
   "execution_count": 3,
   "metadata": {},
   "outputs": [
    {
     "name": "stdout",
     "output_type": "stream",
     "text": [
      "------Random Crystal------\n",
      "Composition: C8\n",
      "Dimension: 3\n",
      "Group: Fd-3m (227)\n",
      "Volume factor: 1.0\n",
      "cubic lattice:   3.9877   3.9877   3.9877  90.0000  90.0000  90.0000\n",
      "Wyckoff sites:\n",
      "\t C @ [0.3750 0.3750 0.3750], WP:  8b, Site symmetry: -4 3 m\n"
     ]
    }
   ],
   "source": [
    "print(C)"
   ]
  },
  {
   "cell_type": "code",
   "execution_count": 4,
   "metadata": {
    "scrolled": true
   },
   "outputs": [
    {
     "data": {
      "application/3dmoljs_load.v0": "<div id=\"3dmolviewer_1596774413750536\"  style=\"position: relative; width: 600px; height: 300px\">\n        <p id=\"3dmolwarning_1596774413750536\" style=\"background-color:#ffcccc;color:black\">You appear to be running in JupyterLab (or JavaScript failed to load for some other reason).  You need to install the 3dmol extension: <br>\n        <tt>jupyter labextension install jupyterlab_3dmol</tt></p>\n        </div>\n<script>\n\nvar loadScriptAsync = function(uri){\n  return new Promise((resolve, reject) => {\n    var tag = document.createElement('script');\n    tag.src = uri;\n    tag.async = true;\n    tag.onload = () => {\n      resolve();\n    };\n  var firstScriptTag = document.getElementsByTagName('script')[0];\n  firstScriptTag.parentNode.insertBefore(tag, firstScriptTag);\n});\n};\n\nif(typeof $3Dmolpromise === 'undefined') {\n$3Dmolpromise = null;\n  $3Dmolpromise = loadScriptAsync('https://3dmol.csb.pitt.edu/build/3Dmol.js');\n}\n\nvar viewer_1596774413750536 = null;\nvar warn = document.getElementById(\"3dmolwarning_1596774413750536\");\nif(warn) {\n    warn.parentNode.removeChild(warn);\n}\n$3Dmolpromise.then(function() {\nviewer_1596774413750536 = $3Dmol.createViewer($(\"#3dmolviewer_1596774413750536\"),{backgroundColor:\"white\"});\n\tviewer_1596774413750536.addModel(\"#############################################################\\n#             ______       _    _          _   \\t            #\\n#            (_____ \\\\     \\\\ \\\\  / /        | |               #\\n#             _____) )   _ \\\\ \\\\/ / |_  ____| |  \\t            #\\n#            |  ____/ | | | )  (|  _)/ _  | | \\t            #\\n#            | |    | |_| |/ /\\\\ \\\\ |_( (_| | |___            #\\n#            |_|     \\\\__  /_/  \\\\_\\\\___)__|_|_____)           #\\n#                   (____/                                  #\\n#-----------------------(version    0.0.6)------------------#\\n#       A Python package for random crystal generation      #\\n#       url: https://github.com/qzhu2017/pyxtal             #\\n#       @Zhu's group at University of Nevada Las Vegas      #\\n#############################################################\\ndata_from_pyxtal\\n\\n_symmetry_space_group_name_H-M 'Fd-3m'\\n_symmetry_Int_Tables_number                  227\\n_symmetry_cell_setting                     cubic\\n_cell_length_a            3.987741\\n_cell_length_b            3.987741\\n_cell_length_c            3.987741\\n_cell_angle_alpha        90.000000\\n_cell_angle_beta         90.000000\\n_cell_angle_gamma        90.000000\\n\\nloop_\\n _symmetry_equiv_pos_site_id\\n _symmetry_equiv_pos_as_xyz\\n1 'x, y, z'\\n2 '-x+3/4, -y+1/4, z+1/2'\\n3 '-x+1/4, y+1/2, -z+3/4'\\n4 'x+1/2, -y+3/4, -z+1/4'\\n5 'z, x, y'\\n6 'z+1/2, -x+3/4, -y+1/4'\\n7 '-z+3/4, -x+1/4, y+1/2'\\n8 '-z+1/4, x+1/2, -y+3/4'\\n9 'y, z, x'\\n10 '-y+1/4, z+1/2, -x+3/4'\\n11 'y+1/2, -z+3/4, -x+1/4'\\n12 '-y+3/4, -z+1/4, x+1/2'\\n13 'y+3/4, x+1/4, -z+1/2'\\n14 '-y, -x, -z'\\n15 'y+1/4, -x+1/2, z+3/4'\\n16 '-y+1/2, x+3/4, z+1/4'\\n17 'x+3/4, z+1/4, -y+1/2'\\n18 '-x+1/2, z+3/4, y+1/4'\\n19 '-x, -z, -y'\\n20 'x+1/4, -z+1/2, y+3/4'\\n21 'z+3/4, y+1/4, -x+1/2'\\n22 'z+1/4, -y+1/2, x+3/4'\\n23 '-z+1/2, y+3/4, x+1/4'\\n24 '-z, -y, -x'\\n25 '-x, -y, -z'\\n26 'x+1/4, y+3/4, -z+1/2'\\n27 'x+3/4, -y+1/2, z+1/4'\\n28 '-x+1/2, y+1/4, z+3/4'\\n29 '-z, -x, -y'\\n30 '-z+1/2, x+1/4, y+3/4'\\n31 'z+1/4, x+3/4, -y+1/2'\\n32 'z+3/4, -x+1/2, y+1/4'\\n33 '-y, -z, -x'\\n34 'y+3/4, -z+1/2, x+1/4'\\n35 '-y+1/2, z+1/4, x+3/4'\\n36 'y+1/4, z+3/4, -x+1/2'\\n37 '-y+1/4, -x+3/4, z+1/2'\\n38 'y, x, z'\\n39 '-y+3/4, x+1/2, -z+1/4'\\n40 'y+1/2, -x+1/4, -z+3/4'\\n41 '-x+1/4, -z+3/4, y+1/2'\\n42 'x+1/2, -z+1/4, -y+3/4'\\n43 'x, z, y'\\n44 '-x+3/4, z+1/2, -y+1/4'\\n45 '-z+1/4, -y+3/4, x+1/2'\\n46 '-z+3/4, y+1/2, -x+1/4'\\n47 'z+1/2, -y+1/4, -x+3/4'\\n48 'z, y, x'\\n49 'x, y+1/2, z+1/2'\\n50 '-x+3/4, -y+3/4, z+1'\\n51 '-x+1/4, y+1, -z+5/4'\\n52 'x+1/2, -y+5/4, -z+3/4'\\n53 'z, x+1/2, y+1/2'\\n54 'z+1/2, -x+5/4, -y+3/4'\\n55 '-z+3/4, -x+3/4, y+1'\\n56 '-z+1/4, x+1, -y+5/4'\\n57 'y, z+1/2, x+1/2'\\n58 '-y+1/4, z+1, -x+5/4'\\n59 'y+1/2, -z+5/4, -x+3/4'\\n60 '-y+3/4, -z+3/4, x+1'\\n61 'y+3/4, x+3/4, -z+1'\\n62 '-y, -x+1/2, -z+1/2'\\n63 'y+1/4, -x+1, z+5/4'\\n64 '-y+1/2, x+5/4, z+3/4'\\n65 'x+3/4, z+3/4, -y+1'\\n66 '-x+1/2, z+5/4, y+3/4'\\n67 '-x, -z+1/2, -y+1/2'\\n68 'x+1/4, -z+1, y+5/4'\\n69 'z+3/4, y+3/4, -x+1'\\n70 'z+1/4, -y+1, x+5/4'\\n71 '-z+1/2, y+5/4, x+3/4'\\n72 '-z, -y+1/2, -x+1/2'\\n73 '-x, -y+1/2, -z+1/2'\\n74 'x+1/4, y+5/4, -z+1'\\n75 'x+3/4, -y+1, z+3/4'\\n76 '-x+1/2, y+3/4, z+5/4'\\n77 '-z, -x+1/2, -y+1/2'\\n78 '-z+1/2, x+3/4, y+5/4'\\n79 'z+1/4, x+5/4, -y+1'\\n80 'z+3/4, -x+1, y+3/4'\\n81 '-y, -z+1/2, -x+1/2'\\n82 'y+3/4, -z+1, x+3/4'\\n83 '-y+1/2, z+3/4, x+5/4'\\n84 'y+1/4, z+5/4, -x+1'\\n85 '-y+1/4, -x+5/4, z+1'\\n86 'y, x+1/2, z+1/2'\\n87 '-y+3/4, x+1, -z+3/4'\\n88 'y+1/2, -x+3/4, -z+5/4'\\n89 '-x+1/4, -z+5/4, y+1'\\n90 'x+1/2, -z+3/4, -y+5/4'\\n91 'x, z+1/2, y+1/2'\\n92 '-x+3/4, z+1, -y+3/4'\\n93 '-z+1/4, -y+5/4, x+1'\\n94 '-z+3/4, y+1, -x+3/4'\\n95 'z+1/2, -y+3/4, -x+5/4'\\n96 'z, y+1/2, x+1/2'\\n97 'x+1/2, y, z+1/2'\\n98 '-x+5/4, -y+1/4, z+1'\\n99 '-x+3/4, y+1/2, -z+5/4'\\n100 'x+1, -y+3/4, -z+3/4'\\n101 'z+1/2, x, y+1/2'\\n102 'z+1, -x+3/4, -y+3/4'\\n103 '-z+5/4, -x+1/4, y+1'\\n104 '-z+3/4, x+1/2, -y+5/4'\\n105 'y+1/2, z, x+1/2'\\n106 '-y+3/4, z+1/2, -x+5/4'\\n107 'y+1, -z+3/4, -x+3/4'\\n108 '-y+5/4, -z+1/4, x+1'\\n109 'y+5/4, x+1/4, -z+1'\\n110 '-y+1/2, -x, -z+1/2'\\n111 'y+3/4, -x+1/2, z+5/4'\\n112 '-y+1, x+3/4, z+3/4'\\n113 'x+5/4, z+1/4, -y+1'\\n114 '-x+1, z+3/4, y+3/4'\\n115 '-x+1/2, -z, -y+1/2'\\n116 'x+3/4, -z+1/2, y+5/4'\\n117 'z+5/4, y+1/4, -x+1'\\n118 'z+3/4, -y+1/2, x+5/4'\\n119 '-z+1, y+3/4, x+3/4'\\n120 '-z+1/2, -y, -x+1/2'\\n121 '-x+1/2, -y, -z+1/2'\\n122 'x+3/4, y+3/4, -z+1'\\n123 'x+5/4, -y+1/2, z+3/4'\\n124 '-x+1, y+1/4, z+5/4'\\n125 '-z+1/2, -x, -y+1/2'\\n126 '-z+1, x+1/4, y+5/4'\\n127 'z+3/4, x+3/4, -y+1'\\n128 'z+5/4, -x+1/2, y+3/4'\\n129 '-y+1/2, -z, -x+1/2'\\n130 'y+5/4, -z+1/2, x+3/4'\\n131 '-y+1, z+1/4, x+5/4'\\n132 'y+3/4, z+3/4, -x+1'\\n133 '-y+3/4, -x+3/4, z+1'\\n134 'y+1/2, x, z+1/2'\\n135 '-y+5/4, x+1/2, -z+3/4'\\n136 'y+1, -x+1/4, -z+5/4'\\n137 '-x+3/4, -z+3/4, y+1'\\n138 'x+1, -z+1/4, -y+5/4'\\n139 'x+1/2, z, y+1/2'\\n140 '-x+5/4, z+1/2, -y+3/4'\\n141 '-z+3/4, -y+3/4, x+1'\\n142 '-z+5/4, y+1/2, -x+3/4'\\n143 'z+1, -y+1/4, -x+5/4'\\n144 'z+1/2, y, x+1/2'\\n145 'x+1/2, y+1/2, z'\\n146 '-x+5/4, -y+3/4, z+1/2'\\n147 '-x+3/4, y+1, -z+3/4'\\n148 'x+1, -y+5/4, -z+1/4'\\n149 'z+1/2, x+1/2, y'\\n150 'z+1, -x+5/4, -y+1/4'\\n151 '-z+5/4, -x+3/4, y+1/2'\\n152 '-z+3/4, x+1, -y+3/4'\\n153 'y+1/2, z+1/2, x'\\n154 '-y+3/4, z+1, -x+3/4'\\n155 'y+1, -z+5/4, -x+1/4'\\n156 '-y+5/4, -z+3/4, x+1/2'\\n157 'y+5/4, x+3/4, -z+1/2'\\n158 '-y+1/2, -x+1/2, -z'\\n159 'y+3/4, -x+1, z+3/4'\\n160 '-y+1, x+5/4, z+1/4'\\n161 'x+5/4, z+3/4, -y+1/2'\\n162 '-x+1, z+5/4, y+1/4'\\n163 '-x+1/2, -z+1/2, -y'\\n164 'x+3/4, -z+1, y+3/4'\\n165 'z+5/4, y+3/4, -x+1/2'\\n166 'z+3/4, -y+1, x+3/4'\\n167 '-z+1, y+5/4, x+1/4'\\n168 '-z+1/2, -y+1/2, -x'\\n169 '-x+1/2, -y+1/2, -z'\\n170 'x+3/4, y+5/4, -z+1/2'\\n171 'x+5/4, -y+1, z+1/4'\\n172 '-x+1, y+3/4, z+3/4'\\n173 '-z+1/2, -x+1/2, -y'\\n174 '-z+1, x+3/4, y+3/4'\\n175 'z+3/4, x+5/4, -y+1/2'\\n176 'z+5/4, -x+1, y+1/4'\\n177 '-y+1/2, -z+1/2, -x'\\n178 'y+5/4, -z+1, x+1/4'\\n179 '-y+1, z+3/4, x+3/4'\\n180 'y+3/4, z+5/4, -x+1/2'\\n181 '-y+3/4, -x+5/4, z+1/2'\\n182 'y+1/2, x+1/2, z'\\n183 '-y+5/4, x+1, -z+1/4'\\n184 'y+1, -x+3/4, -z+3/4'\\n185 '-x+3/4, -z+5/4, y+1/2'\\n186 'x+1, -z+3/4, -y+3/4'\\n187 'x+1/2, z+1/2, y'\\n188 '-x+5/4, z+1, -y+1/4'\\n189 '-z+3/4, -y+5/4, x+1/2'\\n190 '-z+5/4, y+1, -x+1/4'\\n191 'z+1, -y+3/4, -x+3/4'\\n192 'z+1/2, y+1/2, x'\\n\\nloop_\\n _atom_site_label\\n _atom_site_fract_x\\n _atom_site_fract_y\\n _atom_site_fract_z\\n _atom_site_occupancy\\nC           0.375000    0.375000    0.375000 1\\n#END\\n\\n\",\"cif\",{\"doAssembly\": true, \"duplicateAssemblyAtoms\": true});\n\tviewer_1596774413750536.setStyle({\"sphere\": {\"colorscheme\": \"Jmol\", \"scale\": 0.25}, \"stick\": {\"colorscheme\": \"Jmol\", \"radius\": 0.1}});\n\tviewer_1596774413750536.addUnitCell();\n\tviewer_1596774413750536.replicateUnitCell(2,2,1);\n\tviewer_1596774413750536.zoomTo();\nviewer_1596774413750536.render();\n});\n</script>",
      "text/html": [
       "<div id=\"3dmolviewer_1596774413750536\"  style=\"position: relative; width: 600px; height: 300px\">\n",
       "        <p id=\"3dmolwarning_1596774413750536\" style=\"background-color:#ffcccc;color:black\">You appear to be running in JupyterLab (or JavaScript failed to load for some other reason).  You need to install the 3dmol extension: <br>\n",
       "        <tt>jupyter labextension install jupyterlab_3dmol</tt></p>\n",
       "        </div>\n",
       "<script>\n",
       "\n",
       "var loadScriptAsync = function(uri){\n",
       "  return new Promise((resolve, reject) => {\n",
       "    var tag = document.createElement('script');\n",
       "    tag.src = uri;\n",
       "    tag.async = true;\n",
       "    tag.onload = () => {\n",
       "      resolve();\n",
       "    };\n",
       "  var firstScriptTag = document.getElementsByTagName('script')[0];\n",
       "  firstScriptTag.parentNode.insertBefore(tag, firstScriptTag);\n",
       "});\n",
       "};\n",
       "\n",
       "if(typeof $3Dmolpromise === 'undefined') {\n",
       "$3Dmolpromise = null;\n",
       "  $3Dmolpromise = loadScriptAsync('https://3dmol.csb.pitt.edu/build/3Dmol.js');\n",
       "}\n",
       "\n",
       "var viewer_1596774413750536 = null;\n",
       "var warn = document.getElementById(\"3dmolwarning_1596774413750536\");\n",
       "if(warn) {\n",
       "    warn.parentNode.removeChild(warn);\n",
       "}\n",
       "$3Dmolpromise.then(function() {\n",
       "viewer_1596774413750536 = $3Dmol.createViewer($(\"#3dmolviewer_1596774413750536\"),{backgroundColor:\"white\"});\n",
       "\tviewer_1596774413750536.addModel(\"#############################################################\\n#             ______       _    _          _   \\t            #\\n#            (_____ \\\\     \\\\ \\\\  / /        | |               #\\n#             _____) )   _ \\\\ \\\\/ / |_  ____| |  \\t            #\\n#            |  ____/ | | | )  (|  _)/ _  | | \\t            #\\n#            | |    | |_| |/ /\\\\ \\\\ |_( (_| | |___            #\\n#            |_|     \\\\__  /_/  \\\\_\\\\___)__|_|_____)           #\\n#                   (____/                                  #\\n#-----------------------(version    0.0.6)------------------#\\n#       A Python package for random crystal generation      #\\n#       url: https://github.com/qzhu2017/pyxtal             #\\n#       @Zhu's group at University of Nevada Las Vegas      #\\n#############################################################\\ndata_from_pyxtal\\n\\n_symmetry_space_group_name_H-M 'Fd-3m'\\n_symmetry_Int_Tables_number                  227\\n_symmetry_cell_setting                     cubic\\n_cell_length_a            3.987741\\n_cell_length_b            3.987741\\n_cell_length_c            3.987741\\n_cell_angle_alpha        90.000000\\n_cell_angle_beta         90.000000\\n_cell_angle_gamma        90.000000\\n\\nloop_\\n _symmetry_equiv_pos_site_id\\n _symmetry_equiv_pos_as_xyz\\n1 'x, y, z'\\n2 '-x+3/4, -y+1/4, z+1/2'\\n3 '-x+1/4, y+1/2, -z+3/4'\\n4 'x+1/2, -y+3/4, -z+1/4'\\n5 'z, x, y'\\n6 'z+1/2, -x+3/4, -y+1/4'\\n7 '-z+3/4, -x+1/4, y+1/2'\\n8 '-z+1/4, x+1/2, -y+3/4'\\n9 'y, z, x'\\n10 '-y+1/4, z+1/2, -x+3/4'\\n11 'y+1/2, -z+3/4, -x+1/4'\\n12 '-y+3/4, -z+1/4, x+1/2'\\n13 'y+3/4, x+1/4, -z+1/2'\\n14 '-y, -x, -z'\\n15 'y+1/4, -x+1/2, z+3/4'\\n16 '-y+1/2, x+3/4, z+1/4'\\n17 'x+3/4, z+1/4, -y+1/2'\\n18 '-x+1/2, z+3/4, y+1/4'\\n19 '-x, -z, -y'\\n20 'x+1/4, -z+1/2, y+3/4'\\n21 'z+3/4, y+1/4, -x+1/2'\\n22 'z+1/4, -y+1/2, x+3/4'\\n23 '-z+1/2, y+3/4, x+1/4'\\n24 '-z, -y, -x'\\n25 '-x, -y, -z'\\n26 'x+1/4, y+3/4, -z+1/2'\\n27 'x+3/4, -y+1/2, z+1/4'\\n28 '-x+1/2, y+1/4, z+3/4'\\n29 '-z, -x, -y'\\n30 '-z+1/2, x+1/4, y+3/4'\\n31 'z+1/4, x+3/4, -y+1/2'\\n32 'z+3/4, -x+1/2, y+1/4'\\n33 '-y, -z, -x'\\n34 'y+3/4, -z+1/2, x+1/4'\\n35 '-y+1/2, z+1/4, x+3/4'\\n36 'y+1/4, z+3/4, -x+1/2'\\n37 '-y+1/4, -x+3/4, z+1/2'\\n38 'y, x, z'\\n39 '-y+3/4, x+1/2, -z+1/4'\\n40 'y+1/2, -x+1/4, -z+3/4'\\n41 '-x+1/4, -z+3/4, y+1/2'\\n42 'x+1/2, -z+1/4, -y+3/4'\\n43 'x, z, y'\\n44 '-x+3/4, z+1/2, -y+1/4'\\n45 '-z+1/4, -y+3/4, x+1/2'\\n46 '-z+3/4, y+1/2, -x+1/4'\\n47 'z+1/2, -y+1/4, -x+3/4'\\n48 'z, y, x'\\n49 'x, y+1/2, z+1/2'\\n50 '-x+3/4, -y+3/4, z+1'\\n51 '-x+1/4, y+1, -z+5/4'\\n52 'x+1/2, -y+5/4, -z+3/4'\\n53 'z, x+1/2, y+1/2'\\n54 'z+1/2, -x+5/4, -y+3/4'\\n55 '-z+3/4, -x+3/4, y+1'\\n56 '-z+1/4, x+1, -y+5/4'\\n57 'y, z+1/2, x+1/2'\\n58 '-y+1/4, z+1, -x+5/4'\\n59 'y+1/2, -z+5/4, -x+3/4'\\n60 '-y+3/4, -z+3/4, x+1'\\n61 'y+3/4, x+3/4, -z+1'\\n62 '-y, -x+1/2, -z+1/2'\\n63 'y+1/4, -x+1, z+5/4'\\n64 '-y+1/2, x+5/4, z+3/4'\\n65 'x+3/4, z+3/4, -y+1'\\n66 '-x+1/2, z+5/4, y+3/4'\\n67 '-x, -z+1/2, -y+1/2'\\n68 'x+1/4, -z+1, y+5/4'\\n69 'z+3/4, y+3/4, -x+1'\\n70 'z+1/4, -y+1, x+5/4'\\n71 '-z+1/2, y+5/4, x+3/4'\\n72 '-z, -y+1/2, -x+1/2'\\n73 '-x, -y+1/2, -z+1/2'\\n74 'x+1/4, y+5/4, -z+1'\\n75 'x+3/4, -y+1, z+3/4'\\n76 '-x+1/2, y+3/4, z+5/4'\\n77 '-z, -x+1/2, -y+1/2'\\n78 '-z+1/2, x+3/4, y+5/4'\\n79 'z+1/4, x+5/4, -y+1'\\n80 'z+3/4, -x+1, y+3/4'\\n81 '-y, -z+1/2, -x+1/2'\\n82 'y+3/4, -z+1, x+3/4'\\n83 '-y+1/2, z+3/4, x+5/4'\\n84 'y+1/4, z+5/4, -x+1'\\n85 '-y+1/4, -x+5/4, z+1'\\n86 'y, x+1/2, z+1/2'\\n87 '-y+3/4, x+1, -z+3/4'\\n88 'y+1/2, -x+3/4, -z+5/4'\\n89 '-x+1/4, -z+5/4, y+1'\\n90 'x+1/2, -z+3/4, -y+5/4'\\n91 'x, z+1/2, y+1/2'\\n92 '-x+3/4, z+1, -y+3/4'\\n93 '-z+1/4, -y+5/4, x+1'\\n94 '-z+3/4, y+1, -x+3/4'\\n95 'z+1/2, -y+3/4, -x+5/4'\\n96 'z, y+1/2, x+1/2'\\n97 'x+1/2, y, z+1/2'\\n98 '-x+5/4, -y+1/4, z+1'\\n99 '-x+3/4, y+1/2, -z+5/4'\\n100 'x+1, -y+3/4, -z+3/4'\\n101 'z+1/2, x, y+1/2'\\n102 'z+1, -x+3/4, -y+3/4'\\n103 '-z+5/4, -x+1/4, y+1'\\n104 '-z+3/4, x+1/2, -y+5/4'\\n105 'y+1/2, z, x+1/2'\\n106 '-y+3/4, z+1/2, -x+5/4'\\n107 'y+1, -z+3/4, -x+3/4'\\n108 '-y+5/4, -z+1/4, x+1'\\n109 'y+5/4, x+1/4, -z+1'\\n110 '-y+1/2, -x, -z+1/2'\\n111 'y+3/4, -x+1/2, z+5/4'\\n112 '-y+1, x+3/4, z+3/4'\\n113 'x+5/4, z+1/4, -y+1'\\n114 '-x+1, z+3/4, y+3/4'\\n115 '-x+1/2, -z, -y+1/2'\\n116 'x+3/4, -z+1/2, y+5/4'\\n117 'z+5/4, y+1/4, -x+1'\\n118 'z+3/4, -y+1/2, x+5/4'\\n119 '-z+1, y+3/4, x+3/4'\\n120 '-z+1/2, -y, -x+1/2'\\n121 '-x+1/2, -y, -z+1/2'\\n122 'x+3/4, y+3/4, -z+1'\\n123 'x+5/4, -y+1/2, z+3/4'\\n124 '-x+1, y+1/4, z+5/4'\\n125 '-z+1/2, -x, -y+1/2'\\n126 '-z+1, x+1/4, y+5/4'\\n127 'z+3/4, x+3/4, -y+1'\\n128 'z+5/4, -x+1/2, y+3/4'\\n129 '-y+1/2, -z, -x+1/2'\\n130 'y+5/4, -z+1/2, x+3/4'\\n131 '-y+1, z+1/4, x+5/4'\\n132 'y+3/4, z+3/4, -x+1'\\n133 '-y+3/4, -x+3/4, z+1'\\n134 'y+1/2, x, z+1/2'\\n135 '-y+5/4, x+1/2, -z+3/4'\\n136 'y+1, -x+1/4, -z+5/4'\\n137 '-x+3/4, -z+3/4, y+1'\\n138 'x+1, -z+1/4, -y+5/4'\\n139 'x+1/2, z, y+1/2'\\n140 '-x+5/4, z+1/2, -y+3/4'\\n141 '-z+3/4, -y+3/4, x+1'\\n142 '-z+5/4, y+1/2, -x+3/4'\\n143 'z+1, -y+1/4, -x+5/4'\\n144 'z+1/2, y, x+1/2'\\n145 'x+1/2, y+1/2, z'\\n146 '-x+5/4, -y+3/4, z+1/2'\\n147 '-x+3/4, y+1, -z+3/4'\\n148 'x+1, -y+5/4, -z+1/4'\\n149 'z+1/2, x+1/2, y'\\n150 'z+1, -x+5/4, -y+1/4'\\n151 '-z+5/4, -x+3/4, y+1/2'\\n152 '-z+3/4, x+1, -y+3/4'\\n153 'y+1/2, z+1/2, x'\\n154 '-y+3/4, z+1, -x+3/4'\\n155 'y+1, -z+5/4, -x+1/4'\\n156 '-y+5/4, -z+3/4, x+1/2'\\n157 'y+5/4, x+3/4, -z+1/2'\\n158 '-y+1/2, -x+1/2, -z'\\n159 'y+3/4, -x+1, z+3/4'\\n160 '-y+1, x+5/4, z+1/4'\\n161 'x+5/4, z+3/4, -y+1/2'\\n162 '-x+1, z+5/4, y+1/4'\\n163 '-x+1/2, -z+1/2, -y'\\n164 'x+3/4, -z+1, y+3/4'\\n165 'z+5/4, y+3/4, -x+1/2'\\n166 'z+3/4, -y+1, x+3/4'\\n167 '-z+1, y+5/4, x+1/4'\\n168 '-z+1/2, -y+1/2, -x'\\n169 '-x+1/2, -y+1/2, -z'\\n170 'x+3/4, y+5/4, -z+1/2'\\n171 'x+5/4, -y+1, z+1/4'\\n172 '-x+1, y+3/4, z+3/4'\\n173 '-z+1/2, -x+1/2, -y'\\n174 '-z+1, x+3/4, y+3/4'\\n175 'z+3/4, x+5/4, -y+1/2'\\n176 'z+5/4, -x+1, y+1/4'\\n177 '-y+1/2, -z+1/2, -x'\\n178 'y+5/4, -z+1, x+1/4'\\n179 '-y+1, z+3/4, x+3/4'\\n180 'y+3/4, z+5/4, -x+1/2'\\n181 '-y+3/4, -x+5/4, z+1/2'\\n182 'y+1/2, x+1/2, z'\\n183 '-y+5/4, x+1, -z+1/4'\\n184 'y+1, -x+3/4, -z+3/4'\\n185 '-x+3/4, -z+5/4, y+1/2'\\n186 'x+1, -z+3/4, -y+3/4'\\n187 'x+1/2, z+1/2, y'\\n188 '-x+5/4, z+1, -y+1/4'\\n189 '-z+3/4, -y+5/4, x+1/2'\\n190 '-z+5/4, y+1, -x+1/4'\\n191 'z+1, -y+3/4, -x+3/4'\\n192 'z+1/2, y+1/2, x'\\n\\nloop_\\n _atom_site_label\\n _atom_site_fract_x\\n _atom_site_fract_y\\n _atom_site_fract_z\\n _atom_site_occupancy\\nC           0.375000    0.375000    0.375000 1\\n#END\\n\\n\",\"cif\",{\"doAssembly\": true, \"duplicateAssemblyAtoms\": true});\n",
       "\tviewer_1596774413750536.setStyle({\"sphere\": {\"colorscheme\": \"Jmol\", \"scale\": 0.25}, \"stick\": {\"colorscheme\": \"Jmol\", \"radius\": 0.1}});\n",
       "\tviewer_1596774413750536.addUnitCell();\n",
       "\tviewer_1596774413750536.replicateUnitCell(2,2,1);\n",
       "\tviewer_1596774413750536.zoomTo();\n",
       "viewer_1596774413750536.render();\n",
       "});\n",
       "</script>"
      ]
     },
     "metadata": {},
     "output_type": "display_data"
    },
    {
     "data": {
      "text/plain": [
       "<py3Dmol.view at 0x229020b90>"
      ]
     },
     "execution_count": 4,
     "metadata": {},
     "output_type": "execute_result"
    }
   ],
   "source": [
    "#display the structure can be easily accessed with the show() function\n",
    "C.show(supercell=(2,2,1))"
   ]
  },
  {
   "cell_type": "code",
   "execution_count": 5,
   "metadata": {
    "scrolled": false
   },
   "outputs": [],
   "source": [
    "#the structure can be dumped as cif format\n",
    "#C.to_file('c-diamond.cif')\n",
    "\n",
    "#if you want to look how it looks like\n",
    "#print(C.to_file())"
   ]
  },
  {
   "cell_type": "code",
   "execution_count": 6,
   "metadata": {},
   "outputs": [
    {
     "name": "stdout",
     "output_type": "stream",
     "text": [
      "Atoms(symbols='C8', pbc=False, cell=[[3.987741333439992, 0.0, 0.0], [2.441787329912442e-16, 3.987741333439992, 0.0], [2.441787329912442e-16, 2.441787329912442e-16, 3.987741333439992]])\n",
      "Full Formula (C8)\n",
      "Reduced Formula: C\n",
      "abc   :   3.987741   3.987741   3.987741\n",
      "angles:  90.000000  90.000000  90.000000\n",
      "Sites (8)\n",
      "  #  SP        a      b      c\n",
      "---  ----  -----  -----  -----\n",
      "  0  C     0.375  0.375  0.375\n",
      "  1  C     0.125  0.625  0.125\n",
      "  2  C     0.375  0.875  0.875\n",
      "  3  C     0.125  1.125  0.625\n",
      "  4  C     0.875  0.375  0.875\n",
      "  5  C     0.625  0.625  0.625\n",
      "  6  C     0.875  0.875  0.375\n",
      "  7  C     0.625  1.125  0.125\n"
     ]
    }
   ],
   "source": [
    "#Alternatively, you can export the structure to ASE or pymatgen\n",
    "ase_struc = C.to_ase()\n",
    "print(ase_struc)\n",
    "pmg_struc = C.to_pymatgen()\n",
    "print(pmg_struc)"
   ]
  },
  {
   "cell_type": "code",
   "execution_count": 7,
   "metadata": {},
   "outputs": [
    {
     "data": {
      "application/3dmoljs_load.v0": "<div id=\"3dmolviewer_1596774418012359\"  style=\"position: relative; width: 600px; height: 300px\">\n        <p id=\"3dmolwarning_1596774418012359\" style=\"background-color:#ffcccc;color:black\">You appear to be running in JupyterLab (or JavaScript failed to load for some other reason).  You need to install the 3dmol extension: <br>\n        <tt>jupyter labextension install jupyterlab_3dmol</tt></p>\n        </div>\n<script>\n\nvar loadScriptAsync = function(uri){\n  return new Promise((resolve, reject) => {\n    var tag = document.createElement('script');\n    tag.src = uri;\n    tag.async = true;\n    tag.onload = () => {\n      resolve();\n    };\n  var firstScriptTag = document.getElementsByTagName('script')[0];\n  firstScriptTag.parentNode.insertBefore(tag, firstScriptTag);\n});\n};\n\nif(typeof $3Dmolpromise === 'undefined') {\n$3Dmolpromise = null;\n  $3Dmolpromise = loadScriptAsync('https://3dmol.csb.pitt.edu/build/3Dmol.js');\n}\n\nvar viewer_1596774418012359 = null;\nvar warn = document.getElementById(\"3dmolwarning_1596774418012359\");\nif(warn) {\n    warn.parentNode.removeChild(warn);\n}\n$3Dmolpromise.then(function() {\nviewer_1596774418012359 = $3Dmol.createViewer($(\"#3dmolviewer_1596774418012359\"),{backgroundColor:\"white\"});\n\tviewer_1596774418012359.addModel(\"60\\nC60\\nC -0.000000 -2.721733 0.696717\\nC -1.853569 -1.576164 1.404718\\nC -2.550287 1.145569 0.277405\\nC -2.550287 -1.145569 0.277405\\nC 1.576164 -1.404718 1.853569\\nC 1.853569 1.576164 -1.404718\\nC -1.145569 -0.277405 2.550287\\nC -1.576164 -1.404718 -1.853569\\nC 0.277405 2.550287 1.145569\\nC -2.550287 1.145569 -0.277405\\nC -1.145569 0.277405 2.550287\\nC -0.000000 -2.721733 -0.696717\\nC -0.696717 -0.000000 -2.721733\\nC -1.404718 -1.853569 -1.576164\\nC 0.000000 2.721733 -0.696717\\nC 0.696717 -0.000000 -2.721733\\nC 1.404718 1.853569 -1.576164\\nC 1.576164 -1.404718 -1.853569\\nC -1.853569 1.576164 -1.404718\\nC 1.853569 -1.576164 1.404718\\nC 1.145569 -0.277405 -2.550287\\nC -0.277405 2.550287 -1.145569\\nC -0.277405 2.550287 1.145569\\nC 1.145569 -0.277405 2.550287\\nC 2.550287 -1.145569 0.277405\\nC 2.550287 1.145569 0.277405\\nC 1.145569 0.277405 -2.550287\\nC -1.576164 1.404718 -1.853569\\nC 1.853569 -1.576164 -1.404718\\nC -1.853569 1.576164 1.404718\\nC 1.576164 1.404718 1.853569\\nC 0.000000 2.721733 0.696717\\nC -0.696717 0.000000 2.721733\\nC -2.721733 -0.696717 0.000000\\nC -2.550287 -1.145569 -0.277405\\nC -0.277405 -2.550287 -1.145569\\nC -1.404718 -1.853569 1.576164\\nC 0.696717 0.000000 2.721733\\nC 2.721733 0.696717 0.000000\\nC 1.576164 1.404718 -1.853569\\nC -0.277405 -2.550287 1.145569\\nC -1.576164 -1.404718 1.853569\\nC 1.853569 1.576164 1.404718\\nC 2.550287 -1.145569 -0.277405\\nC 2.550287 1.145569 -0.277405\\nC 0.277405 2.550287 -1.145569\\nC 1.404718 1.853569 1.576164\\nC -2.721733 0.696717 0.000000\\nC -1.576164 1.404718 1.853569\\nC 2.721733 -0.696717 0.000000\\nC -1.853569 -1.576164 -1.404718\\nC 1.145569 0.277405 2.550287\\nC -1.145569 -0.277405 -2.550287\\nC 1.404718 -1.853569 -1.576164\\nC 0.277405 -2.550287 1.145569\\nC 0.277405 -2.550287 -1.145569\\nC -1.145569 0.277405 -2.550287\\nC -1.404718 1.853569 -1.576164\\nC -1.404718 1.853569 1.576164\\nC 1.404718 -1.853569 1.576164\",\"xyz\",{\"doAssembly\": true, \"duplicateAssemblyAtoms\": true});\n\tviewer_1596774418012359.setStyle({\"sphere\": {\"colorscheme\": \"Jmol\", \"scale\": 0.2}, \"stick\": {\"colorscheme\": \"Jmol\", \"radius\": 0.1}});\n\tviewer_1596774418012359.zoomTo();\nviewer_1596774418012359.render();\n});\n</script>",
      "text/html": [
       "<div id=\"3dmolviewer_1596774418012359\"  style=\"position: relative; width: 600px; height: 300px\">\n",
       "        <p id=\"3dmolwarning_1596774418012359\" style=\"background-color:#ffcccc;color:black\">You appear to be running in JupyterLab (or JavaScript failed to load for some other reason).  You need to install the 3dmol extension: <br>\n",
       "        <tt>jupyter labextension install jupyterlab_3dmol</tt></p>\n",
       "        </div>\n",
       "<script>\n",
       "\n",
       "var loadScriptAsync = function(uri){\n",
       "  return new Promise((resolve, reject) => {\n",
       "    var tag = document.createElement('script');\n",
       "    tag.src = uri;\n",
       "    tag.async = true;\n",
       "    tag.onload = () => {\n",
       "      resolve();\n",
       "    };\n",
       "  var firstScriptTag = document.getElementsByTagName('script')[0];\n",
       "  firstScriptTag.parentNode.insertBefore(tag, firstScriptTag);\n",
       "});\n",
       "};\n",
       "\n",
       "if(typeof $3Dmolpromise === 'undefined') {\n",
       "$3Dmolpromise = null;\n",
       "  $3Dmolpromise = loadScriptAsync('https://3dmol.csb.pitt.edu/build/3Dmol.js');\n",
       "}\n",
       "\n",
       "var viewer_1596774418012359 = null;\n",
       "var warn = document.getElementById(\"3dmolwarning_1596774418012359\");\n",
       "if(warn) {\n",
       "    warn.parentNode.removeChild(warn);\n",
       "}\n",
       "$3Dmolpromise.then(function() {\n",
       "viewer_1596774418012359 = $3Dmol.createViewer($(\"#3dmolviewer_1596774418012359\"),{backgroundColor:\"white\"});\n",
       "\tviewer_1596774418012359.addModel(\"60\\nC60\\nC -0.000000 -2.721733 0.696717\\nC -1.853569 -1.576164 1.404718\\nC -2.550287 1.145569 0.277405\\nC -2.550287 -1.145569 0.277405\\nC 1.576164 -1.404718 1.853569\\nC 1.853569 1.576164 -1.404718\\nC -1.145569 -0.277405 2.550287\\nC -1.576164 -1.404718 -1.853569\\nC 0.277405 2.550287 1.145569\\nC -2.550287 1.145569 -0.277405\\nC -1.145569 0.277405 2.550287\\nC -0.000000 -2.721733 -0.696717\\nC -0.696717 -0.000000 -2.721733\\nC -1.404718 -1.853569 -1.576164\\nC 0.000000 2.721733 -0.696717\\nC 0.696717 -0.000000 -2.721733\\nC 1.404718 1.853569 -1.576164\\nC 1.576164 -1.404718 -1.853569\\nC -1.853569 1.576164 -1.404718\\nC 1.853569 -1.576164 1.404718\\nC 1.145569 -0.277405 -2.550287\\nC -0.277405 2.550287 -1.145569\\nC -0.277405 2.550287 1.145569\\nC 1.145569 -0.277405 2.550287\\nC 2.550287 -1.145569 0.277405\\nC 2.550287 1.145569 0.277405\\nC 1.145569 0.277405 -2.550287\\nC -1.576164 1.404718 -1.853569\\nC 1.853569 -1.576164 -1.404718\\nC -1.853569 1.576164 1.404718\\nC 1.576164 1.404718 1.853569\\nC 0.000000 2.721733 0.696717\\nC -0.696717 0.000000 2.721733\\nC -2.721733 -0.696717 0.000000\\nC -2.550287 -1.145569 -0.277405\\nC -0.277405 -2.550287 -1.145569\\nC -1.404718 -1.853569 1.576164\\nC 0.696717 0.000000 2.721733\\nC 2.721733 0.696717 0.000000\\nC 1.576164 1.404718 -1.853569\\nC -0.277405 -2.550287 1.145569\\nC -1.576164 -1.404718 1.853569\\nC 1.853569 1.576164 1.404718\\nC 2.550287 -1.145569 -0.277405\\nC 2.550287 1.145569 -0.277405\\nC 0.277405 2.550287 -1.145569\\nC 1.404718 1.853569 1.576164\\nC -2.721733 0.696717 0.000000\\nC -1.576164 1.404718 1.853569\\nC 2.721733 -0.696717 0.000000\\nC -1.853569 -1.576164 -1.404718\\nC 1.145569 0.277405 2.550287\\nC -1.145569 -0.277405 -2.550287\\nC 1.404718 -1.853569 -1.576164\\nC 0.277405 -2.550287 1.145569\\nC 0.277405 -2.550287 -1.145569\\nC -1.145569 0.277405 -2.550287\\nC -1.404718 1.853569 -1.576164\\nC -1.404718 1.853569 1.576164\\nC 1.404718 -1.853569 1.576164\",\"xyz\",{\"doAssembly\": true, \"duplicateAssemblyAtoms\": true});\n",
       "\tviewer_1596774418012359.setStyle({\"sphere\": {\"colorscheme\": \"Jmol\", \"scale\": 0.2}, \"stick\": {\"colorscheme\": \"Jmol\", \"radius\": 0.1}});\n",
       "\tviewer_1596774418012359.zoomTo();\n",
       "viewer_1596774418012359.render();\n",
       "});\n",
       "</script>"
      ]
     },
     "metadata": {},
     "output_type": "display_data"
    },
    {
     "data": {
      "text/plain": [
       "<py3Dmol.view at 0x2298ebcd0>"
      ]
     },
     "execution_count": 7,
     "metadata": {},
     "output_type": "execute_result"
    }
   ],
   "source": [
    "from pyxtal.crystal import random_cluster\n",
    "C60 = random_cluster('Ih', ['C'], [60], 1.0)\n",
    "C60.show(scale=0.2)"
   ]
  },
  {
   "cell_type": "code",
   "execution_count": 8,
   "metadata": {},
   "outputs": [
    {
     "data": {
      "application/3dmoljs_load.v0": "<div id=\"3dmolviewer_1596774418209801\"  style=\"position: relative; width: 600px; height: 300px\">\n        <p id=\"3dmolwarning_1596774418209801\" style=\"background-color:#ffcccc;color:black\">You appear to be running in JupyterLab (or JavaScript failed to load for some other reason).  You need to install the 3dmol extension: <br>\n        <tt>jupyter labextension install jupyterlab_3dmol</tt></p>\n        </div>\n<script>\n\nvar loadScriptAsync = function(uri){\n  return new Promise((resolve, reject) => {\n    var tag = document.createElement('script');\n    tag.src = uri;\n    tag.async = true;\n    tag.onload = () => {\n      resolve();\n    };\n  var firstScriptTag = document.getElementsByTagName('script')[0];\n  firstScriptTag.parentNode.insertBefore(tag, firstScriptTag);\n});\n};\n\nif(typeof $3Dmolpromise === 'undefined') {\n$3Dmolpromise = null;\n  $3Dmolpromise = loadScriptAsync('https://3dmol.csb.pitt.edu/build/3Dmol.js');\n}\n\nvar viewer_1596774418209801 = null;\nvar warn = document.getElementById(\"3dmolwarning_1596774418209801\");\nif(warn) {\n    warn.parentNode.removeChild(warn);\n}\n$3Dmolpromise.then(function() {\nviewer_1596774418209801 = $3Dmol.createViewer($(\"#3dmolviewer_1596774418209801\"),{backgroundColor:\"white\"});\n\tviewer_1596774418209801.addModel(\"60\\nC60\\nC 0.000000 1.536686 -1.104984\\nC 0.690713 1.109802 -1.368813\\nC 1.795697 -0.426884 0.419089\\nC 1.795697 0.426884 0.419089\\nC -1.109802 1.368813 -0.690713\\nC -0.690713 -1.109802 1.368813\\nC 0.426884 -0.419089 -1.795697\\nC 1.109802 1.368813 0.690713\\nC 0.419089 -1.795697 -0.426884\\nC 1.795697 -0.426884 -0.419089\\nC 0.426884 0.419089 -1.795697\\nC 0.000000 1.536686 1.104984\\nC 1.104984 0.000000 1.536686\\nC 1.368813 0.690713 1.109802\\nC -0.000000 -1.536686 1.104984\\nC -1.104984 0.000000 1.536686\\nC -1.368813 -0.690713 1.109802\\nC -1.109802 1.368813 0.690713\\nC 0.690713 -1.109802 1.368813\\nC -0.690713 1.109802 -1.368813\\nC -0.426884 -0.419089 1.795697\\nC -0.419089 -1.795697 0.426884\\nC -0.419089 -1.795697 -0.426884\\nC -0.426884 -0.419089 -1.795697\\nC -1.795697 0.426884 0.419089\\nC -1.795697 -0.426884 0.419089\\nC -0.426884 0.419089 1.795697\\nC 1.109802 -1.368813 0.690713\\nC -0.690713 1.109802 1.368813\\nC 0.690713 -1.109802 -1.368813\\nC -1.109802 -1.368813 -0.690713\\nC -0.000000 -1.536686 -1.104984\\nC 1.104984 -0.000000 -1.536686\\nC 1.536686 1.104984 0.000000\\nC 1.795697 0.426884 -0.419089\\nC -0.419089 1.795697 0.426884\\nC 1.368813 0.690713 -1.109802\\nC -1.104984 -0.000000 -1.536686\\nC -1.536686 -1.104984 0.000000\\nC -1.109802 -1.368813 0.690713\\nC -0.419089 1.795697 -0.426884\\nC 1.109802 1.368813 -0.690713\\nC -0.690713 -1.109802 -1.368813\\nC -1.795697 0.426884 -0.419089\\nC -1.795697 -0.426884 -0.419089\\nC 0.419089 -1.795697 0.426884\\nC -1.368813 -0.690713 -1.109802\\nC 1.536686 -1.104984 0.000000\\nC 1.109802 -1.368813 -0.690713\\nC -1.536686 1.104984 0.000000\\nC 0.690713 1.109802 1.368813\\nC -0.426884 0.419089 -1.795697\\nC 0.426884 -0.419089 1.795697\\nC -1.368813 0.690713 1.109802\\nC 0.419089 1.795697 -0.426884\\nC 0.419089 1.795697 0.426884\\nC 0.426884 0.419089 1.795697\\nC 1.368813 -0.690713 1.109802\\nC 1.368813 -0.690713 -1.109802\\nC -1.368813 0.690713 -1.109802\",\"xyz\",{\"doAssembly\": true, \"duplicateAssemblyAtoms\": true});\n\tviewer_1596774418209801.setStyle({\"sphere\": {\"colorscheme\": \"Jmol\", \"scale\": 0.2}, \"stick\": {\"colorscheme\": \"Jmol\", \"radius\": 0.01}});\n\tviewer_1596774418209801.zoomTo();\nviewer_1596774418209801.render();\n});\n</script>",
      "text/html": [
       "<div id=\"3dmolviewer_1596774418209801\"  style=\"position: relative; width: 600px; height: 300px\">\n",
       "        <p id=\"3dmolwarning_1596774418209801\" style=\"background-color:#ffcccc;color:black\">You appear to be running in JupyterLab (or JavaScript failed to load for some other reason).  You need to install the 3dmol extension: <br>\n",
       "        <tt>jupyter labextension install jupyterlab_3dmol</tt></p>\n",
       "        </div>\n",
       "<script>\n",
       "\n",
       "var loadScriptAsync = function(uri){\n",
       "  return new Promise((resolve, reject) => {\n",
       "    var tag = document.createElement('script');\n",
       "    tag.src = uri;\n",
       "    tag.async = true;\n",
       "    tag.onload = () => {\n",
       "      resolve();\n",
       "    };\n",
       "  var firstScriptTag = document.getElementsByTagName('script')[0];\n",
       "  firstScriptTag.parentNode.insertBefore(tag, firstScriptTag);\n",
       "});\n",
       "};\n",
       "\n",
       "if(typeof $3Dmolpromise === 'undefined') {\n",
       "$3Dmolpromise = null;\n",
       "  $3Dmolpromise = loadScriptAsync('https://3dmol.csb.pitt.edu/build/3Dmol.js');\n",
       "}\n",
       "\n",
       "var viewer_1596774418209801 = null;\n",
       "var warn = document.getElementById(\"3dmolwarning_1596774418209801\");\n",
       "if(warn) {\n",
       "    warn.parentNode.removeChild(warn);\n",
       "}\n",
       "$3Dmolpromise.then(function() {\n",
       "viewer_1596774418209801 = $3Dmol.createViewer($(\"#3dmolviewer_1596774418209801\"),{backgroundColor:\"white\"});\n",
       "\tviewer_1596774418209801.addModel(\"60\\nC60\\nC 0.000000 1.536686 -1.104984\\nC 0.690713 1.109802 -1.368813\\nC 1.795697 -0.426884 0.419089\\nC 1.795697 0.426884 0.419089\\nC -1.109802 1.368813 -0.690713\\nC -0.690713 -1.109802 1.368813\\nC 0.426884 -0.419089 -1.795697\\nC 1.109802 1.368813 0.690713\\nC 0.419089 -1.795697 -0.426884\\nC 1.795697 -0.426884 -0.419089\\nC 0.426884 0.419089 -1.795697\\nC 0.000000 1.536686 1.104984\\nC 1.104984 0.000000 1.536686\\nC 1.368813 0.690713 1.109802\\nC -0.000000 -1.536686 1.104984\\nC -1.104984 0.000000 1.536686\\nC -1.368813 -0.690713 1.109802\\nC -1.109802 1.368813 0.690713\\nC 0.690713 -1.109802 1.368813\\nC -0.690713 1.109802 -1.368813\\nC -0.426884 -0.419089 1.795697\\nC -0.419089 -1.795697 0.426884\\nC -0.419089 -1.795697 -0.426884\\nC -0.426884 -0.419089 -1.795697\\nC -1.795697 0.426884 0.419089\\nC -1.795697 -0.426884 0.419089\\nC -0.426884 0.419089 1.795697\\nC 1.109802 -1.368813 0.690713\\nC -0.690713 1.109802 1.368813\\nC 0.690713 -1.109802 -1.368813\\nC -1.109802 -1.368813 -0.690713\\nC -0.000000 -1.536686 -1.104984\\nC 1.104984 -0.000000 -1.536686\\nC 1.536686 1.104984 0.000000\\nC 1.795697 0.426884 -0.419089\\nC -0.419089 1.795697 0.426884\\nC 1.368813 0.690713 -1.109802\\nC -1.104984 -0.000000 -1.536686\\nC -1.536686 -1.104984 0.000000\\nC -1.109802 -1.368813 0.690713\\nC -0.419089 1.795697 -0.426884\\nC 1.109802 1.368813 -0.690713\\nC -0.690713 -1.109802 -1.368813\\nC -1.795697 0.426884 -0.419089\\nC -1.795697 -0.426884 -0.419089\\nC 0.419089 -1.795697 0.426884\\nC -1.368813 -0.690713 -1.109802\\nC 1.536686 -1.104984 0.000000\\nC 1.109802 -1.368813 -0.690713\\nC -1.536686 1.104984 0.000000\\nC 0.690713 1.109802 1.368813\\nC -0.426884 0.419089 -1.795697\\nC 0.426884 -0.419089 1.795697\\nC -1.368813 0.690713 1.109802\\nC 0.419089 1.795697 -0.426884\\nC 0.419089 1.795697 0.426884\\nC 0.426884 0.419089 1.795697\\nC 1.368813 -0.690713 1.109802\\nC 1.368813 -0.690713 -1.109802\\nC -1.368813 0.690713 -1.109802\",\"xyz\",{\"doAssembly\": true, \"duplicateAssemblyAtoms\": true});\n",
       "\tviewer_1596774418209801.setStyle({\"sphere\": {\"colorscheme\": \"Jmol\", \"scale\": 0.2}, \"stick\": {\"colorscheme\": \"Jmol\", \"radius\": 0.01}});\n",
       "\tviewer_1596774418209801.zoomTo();\n",
       "viewer_1596774418209801.render();\n",
       "});\n",
       "</script>"
      ]
     },
     "metadata": {},
     "output_type": "display_data"
    },
    {
     "data": {
      "text/plain": [
       "<py3Dmol.view at 0x2289e0250>"
      ]
     },
     "execution_count": 8,
     "metadata": {},
     "output_type": "execute_result"
    }
   ],
   "source": [
    "# to improve the quality, you can increase the minimum distance\n",
    "from pyxtal.crystal import Tol_matrix\n",
    "tol = Tol_matrix.from_matrix([[1.2]])\n",
    "C60 = random_cluster('Ih', ['C'], [60], 1.0, tm=tol)\n",
    "C60.show(scale=0.2, radius=0.01)"
   ]
  },
  {
   "cell_type": "code",
   "execution_count": 10,
   "metadata": {},
   "outputs": [
    {
     "data": {
      "application/3dmoljs_load.v0": "<div id=\"3dmolviewer_1596774440202348\"  style=\"position: relative; width: 600px; height: 300px\">\n        <p id=\"3dmolwarning_1596774440202348\" style=\"background-color:#ffcccc;color:black\">You appear to be running in JupyterLab (or JavaScript failed to load for some other reason).  You need to install the 3dmol extension: <br>\n        <tt>jupyter labextension install jupyterlab_3dmol</tt></p>\n        </div>\n<script>\n\nvar loadScriptAsync = function(uri){\n  return new Promise((resolve, reject) => {\n    var tag = document.createElement('script');\n    tag.src = uri;\n    tag.async = true;\n    tag.onload = () => {\n      resolve();\n    };\n  var firstScriptTag = document.getElementsByTagName('script')[0];\n  firstScriptTag.parentNode.insertBefore(tag, firstScriptTag);\n});\n};\n\nif(typeof $3Dmolpromise === 'undefined') {\n$3Dmolpromise = null;\n  $3Dmolpromise = loadScriptAsync('https://3dmol.csb.pitt.edu/build/3Dmol.js');\n}\n\nvar viewer_1596774440202348 = null;\nvar warn = document.getElementById(\"3dmolwarning_1596774440202348\");\nif(warn) {\n    warn.parentNode.removeChild(warn);\n}\n$3Dmolpromise.then(function() {\nviewer_1596774440202348 = $3Dmol.createViewer($(\"#3dmolviewer_1596774440202348\"),{backgroundColor:\"white\"});\n\tviewer_1596774440202348.addModel(\"60\\nC60\\nC 0.000000 1.536686 -1.104984\\nC 0.690713 1.109802 -1.368813\\nC 1.795697 -0.426884 0.419089\\nC 1.795697 0.426884 0.419089\\nC -1.109802 1.368813 -0.690713\\nC -0.690713 -1.109802 1.368813\\nC 0.426884 -0.419089 -1.795697\\nC 1.109802 1.368813 0.690713\\nC 0.419089 -1.795697 -0.426884\\nC 1.795697 -0.426884 -0.419089\\nC 0.426884 0.419089 -1.795697\\nC 0.000000 1.536686 1.104984\\nC 1.104984 0.000000 1.536686\\nC 1.368813 0.690713 1.109802\\nC -0.000000 -1.536686 1.104984\\nC -1.104984 0.000000 1.536686\\nC -1.368813 -0.690713 1.109802\\nC -1.109802 1.368813 0.690713\\nC 0.690713 -1.109802 1.368813\\nC -0.690713 1.109802 -1.368813\\nC -0.426884 -0.419089 1.795697\\nC -0.419089 -1.795697 0.426884\\nC -0.419089 -1.795697 -0.426884\\nC -0.426884 -0.419089 -1.795697\\nC -1.795697 0.426884 0.419089\\nC -1.795697 -0.426884 0.419089\\nC -0.426884 0.419089 1.795697\\nC 1.109802 -1.368813 0.690713\\nC -0.690713 1.109802 1.368813\\nC 0.690713 -1.109802 -1.368813\\nC -1.109802 -1.368813 -0.690713\\nC -0.000000 -1.536686 -1.104984\\nC 1.104984 -0.000000 -1.536686\\nC 1.536686 1.104984 0.000000\\nC 1.795697 0.426884 -0.419089\\nC -0.419089 1.795697 0.426884\\nC 1.368813 0.690713 -1.109802\\nC -1.104984 -0.000000 -1.536686\\nC -1.536686 -1.104984 0.000000\\nC -1.109802 -1.368813 0.690713\\nC -0.419089 1.795697 -0.426884\\nC 1.109802 1.368813 -0.690713\\nC -0.690713 -1.109802 -1.368813\\nC -1.795697 0.426884 -0.419089\\nC -1.795697 -0.426884 -0.419089\\nC 0.419089 -1.795697 0.426884\\nC -1.368813 -0.690713 -1.109802\\nC 1.536686 -1.104984 0.000000\\nC 1.109802 -1.368813 -0.690713\\nC -1.536686 1.104984 0.000000\\nC 0.690713 1.109802 1.368813\\nC -0.426884 0.419089 -1.795697\\nC 0.426884 -0.419089 1.795697\\nC -1.368813 0.690713 1.109802\\nC 0.419089 1.795697 -0.426884\\nC 0.419089 1.795697 0.426884\\nC 0.426884 0.419089 1.795697\\nC 1.368813 -0.690713 1.109802\\nC 1.368813 -0.690713 -1.109802\\nC -1.368813 0.690713 -1.109802\",\"xyz\",{\"doAssembly\": true, \"duplicateAssemblyAtoms\": true});\n\tviewer_1596774440202348.setStyle({\"sphere\": {\"colorscheme\": \"Jmol\", \"scale\": 0.1}, \"stick\": {\"colorscheme\": \"Jmol\", \"radius\": 0.01}});\n\tviewer_1596774440202348.zoomTo();\nviewer_1596774440202348.render();\n});\n</script>",
      "text/html": [
       "<div id=\"3dmolviewer_1596774440202348\"  style=\"position: relative; width: 600px; height: 300px\">\n",
       "        <p id=\"3dmolwarning_1596774440202348\" style=\"background-color:#ffcccc;color:black\">You appear to be running in JupyterLab (or JavaScript failed to load for some other reason).  You need to install the 3dmol extension: <br>\n",
       "        <tt>jupyter labextension install jupyterlab_3dmol</tt></p>\n",
       "        </div>\n",
       "<script>\n",
       "\n",
       "var loadScriptAsync = function(uri){\n",
       "  return new Promise((resolve, reject) => {\n",
       "    var tag = document.createElement('script');\n",
       "    tag.src = uri;\n",
       "    tag.async = true;\n",
       "    tag.onload = () => {\n",
       "      resolve();\n",
       "    };\n",
       "  var firstScriptTag = document.getElementsByTagName('script')[0];\n",
       "  firstScriptTag.parentNode.insertBefore(tag, firstScriptTag);\n",
       "});\n",
       "};\n",
       "\n",
       "if(typeof $3Dmolpromise === 'undefined') {\n",
       "$3Dmolpromise = null;\n",
       "  $3Dmolpromise = loadScriptAsync('https://3dmol.csb.pitt.edu/build/3Dmol.js');\n",
       "}\n",
       "\n",
       "var viewer_1596774440202348 = null;\n",
       "var warn = document.getElementById(\"3dmolwarning_1596774440202348\");\n",
       "if(warn) {\n",
       "    warn.parentNode.removeChild(warn);\n",
       "}\n",
       "$3Dmolpromise.then(function() {\n",
       "viewer_1596774440202348 = $3Dmol.createViewer($(\"#3dmolviewer_1596774440202348\"),{backgroundColor:\"white\"});\n",
       "\tviewer_1596774440202348.addModel(\"60\\nC60\\nC 0.000000 1.536686 -1.104984\\nC 0.690713 1.109802 -1.368813\\nC 1.795697 -0.426884 0.419089\\nC 1.795697 0.426884 0.419089\\nC -1.109802 1.368813 -0.690713\\nC -0.690713 -1.109802 1.368813\\nC 0.426884 -0.419089 -1.795697\\nC 1.109802 1.368813 0.690713\\nC 0.419089 -1.795697 -0.426884\\nC 1.795697 -0.426884 -0.419089\\nC 0.426884 0.419089 -1.795697\\nC 0.000000 1.536686 1.104984\\nC 1.104984 0.000000 1.536686\\nC 1.368813 0.690713 1.109802\\nC -0.000000 -1.536686 1.104984\\nC -1.104984 0.000000 1.536686\\nC -1.368813 -0.690713 1.109802\\nC -1.109802 1.368813 0.690713\\nC 0.690713 -1.109802 1.368813\\nC -0.690713 1.109802 -1.368813\\nC -0.426884 -0.419089 1.795697\\nC -0.419089 -1.795697 0.426884\\nC -0.419089 -1.795697 -0.426884\\nC -0.426884 -0.419089 -1.795697\\nC -1.795697 0.426884 0.419089\\nC -1.795697 -0.426884 0.419089\\nC -0.426884 0.419089 1.795697\\nC 1.109802 -1.368813 0.690713\\nC -0.690713 1.109802 1.368813\\nC 0.690713 -1.109802 -1.368813\\nC -1.109802 -1.368813 -0.690713\\nC -0.000000 -1.536686 -1.104984\\nC 1.104984 -0.000000 -1.536686\\nC 1.536686 1.104984 0.000000\\nC 1.795697 0.426884 -0.419089\\nC -0.419089 1.795697 0.426884\\nC 1.368813 0.690713 -1.109802\\nC -1.104984 -0.000000 -1.536686\\nC -1.536686 -1.104984 0.000000\\nC -1.109802 -1.368813 0.690713\\nC -0.419089 1.795697 -0.426884\\nC 1.109802 1.368813 -0.690713\\nC -0.690713 -1.109802 -1.368813\\nC -1.795697 0.426884 -0.419089\\nC -1.795697 -0.426884 -0.419089\\nC 0.419089 -1.795697 0.426884\\nC -1.368813 -0.690713 -1.109802\\nC 1.536686 -1.104984 0.000000\\nC 1.109802 -1.368813 -0.690713\\nC -1.536686 1.104984 0.000000\\nC 0.690713 1.109802 1.368813\\nC -0.426884 0.419089 -1.795697\\nC 0.426884 -0.419089 1.795697\\nC -1.368813 0.690713 1.109802\\nC 0.419089 1.795697 -0.426884\\nC 0.419089 1.795697 0.426884\\nC 0.426884 0.419089 1.795697\\nC 1.368813 -0.690713 1.109802\\nC 1.368813 -0.690713 -1.109802\\nC -1.368813 0.690713 -1.109802\",\"xyz\",{\"doAssembly\": true, \"duplicateAssemblyAtoms\": true});\n",
       "\tviewer_1596774440202348.setStyle({\"sphere\": {\"colorscheme\": \"Jmol\", \"scale\": 0.1}, \"stick\": {\"colorscheme\": \"Jmol\", \"radius\": 0.01}});\n",
       "\tviewer_1596774440202348.zoomTo();\n",
       "viewer_1596774440202348.render();\n",
       "});\n",
       "</script>"
      ]
     },
     "metadata": {},
     "output_type": "display_data"
    },
    {
     "data": {
      "text/plain": [
       "<py3Dmol.view at 0x22921c810>"
      ]
     },
     "execution_count": 10,
     "metadata": {},
     "output_type": "execute_result"
    }
   ],
   "source": [
    "C60.show(scale=0.1, radius=0.01)"
   ]
  },
  {
   "cell_type": "code",
   "execution_count": null,
   "metadata": {},
   "outputs": [],
   "source": []
  }
 ],
 "metadata": {
  "@webio": {
   "lastCommId": null,
   "lastKernelId": null
  },
  "kernelspec": {
   "display_name": "Python 3",
   "language": "python",
   "name": "python3"
  },
  "language_info": {
   "codemirror_mode": {
    "name": "ipython",
    "version": 3
   },
   "file_extension": ".py",
   "mimetype": "text/x-python",
   "name": "python",
   "nbconvert_exporter": "python",
   "pygments_lexer": "ipython3",
   "version": "3.7.4"
  }
 },
 "nbformat": 4,
 "nbformat_minor": 2
}
