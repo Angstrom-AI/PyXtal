{
 "cells": [
  {
   "cell_type": "markdown",
   "metadata": {},
   "source": [
    "# Tutorial 2: Molecular crystal module in PyXtal\n",
    "\n",
    "Source code: https://github.com/qzhu2017/PyXtal\n",
    "\n",
    "Created by Qiang Zhu (2020/11/23)\n",
    "\n",
    "Last updated: 2021/04/07\n",
    "\n",
    "\n",
    "# 2.1 Generate a random crystal\n",
    "\n",
    "To use the code, just import the following module\n",
    "```python\n",
    "from pyxtal import pyxtal\n",
    "s = pyxtal(molecular=True)\n",
    "```\n",
    "\n",
    "Ideally, one just needs to define the following parameters:\n",
    "- dimension: 1, 2 or 3\n",
    "- group: integer number from 1 to 230\n",
    "- molecules: a list of molecules, e.g. ['H2O']\n",
    "- number of molecules: a list of numbers, e.g. [4]\n",
    "\n",
    "More details can be found at the following [link](https://pyxtal.readthedocs.io/en/latest)"
   ]
  },
  {
   "cell_type": "code",
   "execution_count": 1,
   "metadata": {
    "scrolled": true
   },
   "outputs": [
    {
     "name": "stdout",
     "output_type": "stream",
     "text": [
      "\n",
      "------Crystal from random------\n",
      "Dimension: 3\n",
      "Composition: [H2O]4\n",
      "Group: P212121 (19)\n",
      "orthorhombic lattice:   5.3732   8.6366   3.7542  90.0000  90.0000  90.0000\n",
      "Wyckoff sites:\n",
      "\tH2O1 @ [ 0.1558  0.2845  0.0047]  WP:  4a, Site symmetry 1 ==> Euler: -0.299 21.255 -79.816\n"
     ]
    }
   ],
   "source": [
    "from pyxtal import pyxtal\n",
    "h2o = pyxtal(molecular=True)\n",
    "h2o.from_random(3, 19, ['H2O'], [4])\n",
    "print(h2o)"
   ]
  },
  {
   "cell_type": "code",
   "execution_count": 2,
   "metadata": {},
   "outputs": [
    {
     "data": {
      "application/3dmoljs_load.v0": "<div id=\"3dmolviewer_1617861609104608\"  style=\"position: relative; width: 600px; height: 300px\">\n        <p id=\"3dmolwarning_1617861609104608\" style=\"background-color:#ffcccc;color:black\">You appear to be running in JupyterLab (or JavaScript failed to load for some other reason).  You need to install the 3dmol extension: <br>\n        <tt>jupyter labextension install jupyterlab_3dmol</tt></p>\n        </div>\n<script>\n\nvar loadScriptAsync = function(uri){\n  return new Promise((resolve, reject) => {\n    var tag = document.createElement('script');\n    tag.src = uri;\n    tag.async = true;\n    tag.onload = () => {\n      resolve();\n    };\n  var firstScriptTag = document.getElementsByTagName('script')[0];\n  firstScriptTag.parentNode.insertBefore(tag, firstScriptTag);\n});\n};\n\nif(typeof $3Dmolpromise === 'undefined') {\n$3Dmolpromise = null;\n  $3Dmolpromise = loadScriptAsync('https://3dmol.csb.pitt.edu/build/3Dmol.js');\n}\n\nvar viewer_1617861609104608 = null;\nvar warn = document.getElementById(\"3dmolwarning_1617861609104608\");\nif(warn) {\n    warn.parentNode.removeChild(warn);\n}\n$3Dmolpromise.then(function() {\nviewer_1617861609104608 = $3Dmol.createViewer($(\"#3dmolviewer_1617861609104608\"),{backgroundColor:\"white\"});\n\tviewer_1617861609104608.addModel(\"#############################################################\\n#             ______       _    _          _   \\t            #\\n#            (_____ \\\\     \\\\ \\\\  / /        | |               #\\n#             _____) )   _ \\\\ \\\\/ / |_  ____| |  \\t            #\\n#            |  ____/ | | | )  (|  _)/ _  | | \\t            #\\n#            | |    | |_| |/ /\\\\ \\\\ |_( (_| | |___            #\\n#            |_|     \\\\__  /_/  \\\\_\\\\___)__|_|_____)           #\\n#                   (____/                                  #\\n#---------------------(version    0.2.4)--------------------#\\n#       A Python package for random crystal generation      #\\n#       url: https://github.com/qzhu2017/pyxtal             #\\n#       @Zhu's group at University of Nevada Las Vegas      #\\n#############################################################\\ndata_from_pyxtal\\n\\n_symmetry_space_group_name_H-M 'P212121'\\n_symmetry_Int_Tables_number                   19\\n_symmetry_cell_setting              orthorhombic\\n_cell_length_a            5.373181\\n_cell_length_b            8.636608\\n_cell_length_c            3.754155\\n_cell_angle_alpha        90.000000\\n_cell_angle_beta         90.000000\\n_cell_angle_gamma        90.000000\\n\\nloop_\\n _symmetry_equiv_pos_site_id\\n _symmetry_equiv_pos_as_xyz\\n1 'x, y, z'\\n2 '-x+1/2, -y, z+1/2'\\n3 '-x, y+1/2, -z+1/2'\\n4 'x+1/2, -y+1/2, -z'\\n\\nloop_\\n _atom_site_label\\n _atom_site_type_symbol\\n _atom_site_symmetry_multiplicity\\n _atom_site_fract_x\\n _atom_site_fract_y\\n _atom_site_fract_z\\n _atom_site_occupancy\\nO      O        4     0.134107    0.254663   -0.069818 1\\nH      H        4     0.040764    0.340181    0.030519 1\\nH      H        4     0.292455    0.258697    0.053351 1\\n#END\\n\\n\",\"cif\",{\"doAssembly\": true, \"duplicateAssemblyAtoms\": true, \"normalizeAssembly\": true});\n\tviewer_1617861609104608.setStyle({\"stick\": {\"colorscheme\": \"greenCarbon\"}});\n\tviewer_1617861609104608.addUnitCell();\n\tviewer_1617861609104608.replicateUnitCell(1,1,1);\n\tviewer_1617861609104608.zoomTo();\nviewer_1617861609104608.render();\n});\n</script>",
      "text/html": [
       "<div id=\"3dmolviewer_1617861609104608\"  style=\"position: relative; width: 600px; height: 300px\">\n",
       "        <p id=\"3dmolwarning_1617861609104608\" style=\"background-color:#ffcccc;color:black\">You appear to be running in JupyterLab (or JavaScript failed to load for some other reason).  You need to install the 3dmol extension: <br>\n",
       "        <tt>jupyter labextension install jupyterlab_3dmol</tt></p>\n",
       "        </div>\n",
       "<script>\n",
       "\n",
       "var loadScriptAsync = function(uri){\n",
       "  return new Promise((resolve, reject) => {\n",
       "    var tag = document.createElement('script');\n",
       "    tag.src = uri;\n",
       "    tag.async = true;\n",
       "    tag.onload = () => {\n",
       "      resolve();\n",
       "    };\n",
       "  var firstScriptTag = document.getElementsByTagName('script')[0];\n",
       "  firstScriptTag.parentNode.insertBefore(tag, firstScriptTag);\n",
       "});\n",
       "};\n",
       "\n",
       "if(typeof $3Dmolpromise === 'undefined') {\n",
       "$3Dmolpromise = null;\n",
       "  $3Dmolpromise = loadScriptAsync('https://3dmol.csb.pitt.edu/build/3Dmol.js');\n",
       "}\n",
       "\n",
       "var viewer_1617861609104608 = null;\n",
       "var warn = document.getElementById(\"3dmolwarning_1617861609104608\");\n",
       "if(warn) {\n",
       "    warn.parentNode.removeChild(warn);\n",
       "}\n",
       "$3Dmolpromise.then(function() {\n",
       "viewer_1617861609104608 = $3Dmol.createViewer($(\"#3dmolviewer_1617861609104608\"),{backgroundColor:\"white\"});\n",
       "\tviewer_1617861609104608.addModel(\"#############################################################\\n#             ______       _    _          _   \\t            #\\n#            (_____ \\\\     \\\\ \\\\  / /        | |               #\\n#             _____) )   _ \\\\ \\\\/ / |_  ____| |  \\t            #\\n#            |  ____/ | | | )  (|  _)/ _  | | \\t            #\\n#            | |    | |_| |/ /\\\\ \\\\ |_( (_| | |___            #\\n#            |_|     \\\\__  /_/  \\\\_\\\\___)__|_|_____)           #\\n#                   (____/                                  #\\n#---------------------(version    0.2.4)--------------------#\\n#       A Python package for random crystal generation      #\\n#       url: https://github.com/qzhu2017/pyxtal             #\\n#       @Zhu's group at University of Nevada Las Vegas      #\\n#############################################################\\ndata_from_pyxtal\\n\\n_symmetry_space_group_name_H-M 'P212121'\\n_symmetry_Int_Tables_number                   19\\n_symmetry_cell_setting              orthorhombic\\n_cell_length_a            5.373181\\n_cell_length_b            8.636608\\n_cell_length_c            3.754155\\n_cell_angle_alpha        90.000000\\n_cell_angle_beta         90.000000\\n_cell_angle_gamma        90.000000\\n\\nloop_\\n _symmetry_equiv_pos_site_id\\n _symmetry_equiv_pos_as_xyz\\n1 'x, y, z'\\n2 '-x+1/2, -y, z+1/2'\\n3 '-x, y+1/2, -z+1/2'\\n4 'x+1/2, -y+1/2, -z'\\n\\nloop_\\n _atom_site_label\\n _atom_site_type_symbol\\n _atom_site_symmetry_multiplicity\\n _atom_site_fract_x\\n _atom_site_fract_y\\n _atom_site_fract_z\\n _atom_site_occupancy\\nO      O        4     0.134107    0.254663   -0.069818 1\\nH      H        4     0.040764    0.340181    0.030519 1\\nH      H        4     0.292455    0.258697    0.053351 1\\n#END\\n\\n\",\"cif\",{\"doAssembly\": true, \"duplicateAssemblyAtoms\": true, \"normalizeAssembly\": true});\n",
       "\tviewer_1617861609104608.setStyle({\"stick\": {\"colorscheme\": \"greenCarbon\"}});\n",
       "\tviewer_1617861609104608.addUnitCell();\n",
       "\tviewer_1617861609104608.replicateUnitCell(1,1,1);\n",
       "\tviewer_1617861609104608.zoomTo();\n",
       "viewer_1617861609104608.render();\n",
       "});\n",
       "</script>"
      ]
     },
     "metadata": {},
     "output_type": "display_data"
    },
    {
     "data": {
      "text/plain": [
       "<py3Dmol.view at 0x7f8f02a4cf10>"
      ]
     },
     "execution_count": 2,
     "metadata": {},
     "output_type": "execute_result"
    }
   ],
   "source": [
    "#display the structure\n",
    "h2o.show()\n",
    "\n",
    "#The crystal can also be exported to pymatgen or ase structure.\n",
    "#pmg_struc = h2o.to_pymatgen()\n",
    "#ase_struc = h2o.to_ase()"
   ]
  },
  {
   "cell_type": "code",
   "execution_count": 3,
   "metadata": {},
   "outputs": [
    {
     "data": {
      "application/3dmoljs_load.v0": "<div id=\"3dmolviewer_1617861609131952\"  style=\"position: relative; width: 400px; height: 300px\">\n        <p id=\"3dmolwarning_1617861609131952\" style=\"background-color:#ffcccc;color:black\">You appear to be running in JupyterLab (or JavaScript failed to load for some other reason).  You need to install the 3dmol extension: <br>\n        <tt>jupyter labextension install jupyterlab_3dmol</tt></p>\n        </div>\n<script>\n\nvar loadScriptAsync = function(uri){\n  return new Promise((resolve, reject) => {\n    var tag = document.createElement('script');\n    tag.src = uri;\n    tag.async = true;\n    tag.onload = () => {\n      resolve();\n    };\n  var firstScriptTag = document.getElementsByTagName('script')[0];\n  firstScriptTag.parentNode.insertBefore(tag, firstScriptTag);\n});\n};\n\nif(typeof $3Dmolpromise === 'undefined') {\n$3Dmolpromise = null;\n  $3Dmolpromise = loadScriptAsync('https://3dmol.csb.pitt.edu/build/3Dmol.js');\n}\n\nvar viewer_1617861609131952 = null;\nvar warn = document.getElementById(\"3dmolwarning_1617861609131952\");\nif(warn) {\n    warn.parentNode.removeChild(warn);\n}\n$3Dmolpromise.then(function() {\nviewer_1617861609131952 = $3Dmol.createViewer($(\"#3dmolviewer_1617861609131952\"),{backgroundColor:\"white\"});\n\tviewer_1617861609131952.addModelsAsFrames(\"#############################################################\\n#             ______       _    _          _   \\t            #\\n#            (_____ \\\\     \\\\ \\\\  / /        | |               #\\n#             _____) )   _ \\\\ \\\\/ / |_  ____| |  \\t            #\\n#            |  ____/ | | | )  (|  _)/ _  | | \\t            #\\n#            | |    | |_| |/ /\\\\ \\\\ |_( (_| | |___            #\\n#            |_|     \\\\__  /_/  \\\\_\\\\___)__|_|_____)           #\\n#                   (____/                                  #\\n#---------------------(version    0.2.4)--------------------#\\n#       A Python package for random crystal generation      #\\n#       url: https://github.com/qzhu2017/pyxtal             #\\n#       @Zhu's group at University of Nevada Las Vegas      #\\n#############################################################\\ndata_from_pyxtal\\n\\n_symmetry_space_group_name_H-M 'P1'\\n_symmetry_Int_Tables_number                    1\\n_symmetry_cell_setting                 triclinic\\n_cell_length_a            5.373181\\n_cell_length_b            8.636608\\n_cell_length_c            3.754155\\n_cell_angle_alpha        90.000000\\n_cell_angle_beta         90.000000\\n_cell_angle_gamma        90.000000\\n\\nloop_\\n _symmetry_equiv_pos_site_id\\n _symmetry_equiv_pos_as_xyz\\n1 'x, y, z'\\n\\nloop_\\n _atom_site_label\\n _atom_site_type_symbol\\n _atom_site_symmetry_multiplicity\\n _atom_site_fract_x\\n _atom_site_fract_y\\n _atom_site_fract_z\\n _atom_site_occupancy\\nO      O        4     0.134107    0.254663   -0.069818 1\\nH      H        4     0.040764    0.340181    0.030519 1\\nH      H        4     0.292455    0.258697    0.053351 1\\n#END\\n\\n#############################################################\\n#             ______       _    _          _   \\t            #\\n#            (_____ \\\\     \\\\ \\\\  / /        | |               #\\n#             _____) )   _ \\\\ \\\\/ / |_  ____| |  \\t            #\\n#            |  ____/ | | | )  (|  _)/ _  | | \\t            #\\n#            | |    | |_| |/ /\\\\ \\\\ |_( (_| | |___            #\\n#            |_|     \\\\__  /_/  \\\\_\\\\___)__|_|_____)           #\\n#                   (____/                                  #\\n#---------------------(version    0.2.4)--------------------#\\n#       A Python package for random crystal generation      #\\n#       url: https://github.com/qzhu2017/pyxtal             #\\n#       @Zhu's group at University of Nevada Las Vegas      #\\n#############################################################\\ndata_from_pyxtal\\n\\n_symmetry_space_group_name_H-M 'P1'\\n_symmetry_Int_Tables_number                    1\\n_symmetry_cell_setting                 triclinic\\n_cell_length_a            5.373181\\n_cell_length_b            8.636608\\n_cell_length_c            3.754155\\n_cell_angle_alpha        90.000000\\n_cell_angle_beta         90.000000\\n_cell_angle_gamma        90.000000\\n\\nloop_\\n _symmetry_equiv_pos_site_id\\n _symmetry_equiv_pos_as_xyz\\n1 'x, y, z'\\n\\nloop_\\n _atom_site_label\\n _atom_site_type_symbol\\n _atom_site_symmetry_multiplicity\\n _atom_site_fract_x\\n _atom_site_fract_y\\n _atom_site_fract_z\\n _atom_site_occupancy\\nO      O        4     0.134107    0.254663   -0.069818 1\\nH      H        4     0.040764    0.340181    0.030519 1\\nH      H        4     0.292455    0.258697    0.053351 1\\nO      O        4     0.365893    0.745337    0.430182 1\\nH      H        4     0.459236    0.659819    0.530519 1\\nH      H        4     0.207545    0.741303    0.553351 1\\n#END\\n\\n#############################################################\\n#             ______       _    _          _   \\t            #\\n#            (_____ \\\\     \\\\ \\\\  / /        | |               #\\n#             _____) )   _ \\\\ \\\\/ / |_  ____| |  \\t            #\\n#            |  ____/ | | | )  (|  _)/ _  | | \\t            #\\n#            | |    | |_| |/ /\\\\ \\\\ |_( (_| | |___            #\\n#            |_|     \\\\__  /_/  \\\\_\\\\___)__|_|_____)           #\\n#                   (____/                                  #\\n#---------------------(version    0.2.4)--------------------#\\n#       A Python package for random crystal generation      #\\n#       url: https://github.com/qzhu2017/pyxtal             #\\n#       @Zhu's group at University of Nevada Las Vegas      #\\n#############################################################\\ndata_from_pyxtal\\n\\n_symmetry_space_group_name_H-M 'P1'\\n_symmetry_Int_Tables_number                    1\\n_symmetry_cell_setting                 triclinic\\n_cell_length_a            5.373181\\n_cell_length_b            8.636608\\n_cell_length_c            3.754155\\n_cell_angle_alpha        90.000000\\n_cell_angle_beta         90.000000\\n_cell_angle_gamma        90.000000\\n\\nloop_\\n _symmetry_equiv_pos_site_id\\n _symmetry_equiv_pos_as_xyz\\n1 'x, y, z'\\n\\nloop_\\n _atom_site_label\\n _atom_site_type_symbol\\n _atom_site_symmetry_multiplicity\\n _atom_site_fract_x\\n _atom_site_fract_y\\n _atom_site_fract_z\\n _atom_site_occupancy\\nO      O        4     0.134107    0.254663   -0.069818 1\\nH      H        4     0.040764    0.340181    0.030519 1\\nH      H        4     0.292455    0.258697    0.053351 1\\nO      O        4     0.365893    0.745337    0.430182 1\\nH      H        4     0.459236    0.659819    0.530519 1\\nH      H        4     0.207545    0.741303    0.553351 1\\nO      O        4     0.865893    0.754663    0.569818 1\\nH      H        4     0.959236    0.840181    0.469481 1\\nH      H        4     0.707545    0.758697    0.446649 1\\n#END\\n\\n#############################################################\\n#             ______       _    _          _   \\t            #\\n#            (_____ \\\\     \\\\ \\\\  / /        | |               #\\n#             _____) )   _ \\\\ \\\\/ / |_  ____| |  \\t            #\\n#            |  ____/ | | | )  (|  _)/ _  | | \\t            #\\n#            | |    | |_| |/ /\\\\ \\\\ |_( (_| | |___            #\\n#            |_|     \\\\__  /_/  \\\\_\\\\___)__|_|_____)           #\\n#                   (____/                                  #\\n#---------------------(version    0.2.4)--------------------#\\n#       A Python package for random crystal generation      #\\n#       url: https://github.com/qzhu2017/pyxtal             #\\n#       @Zhu's group at University of Nevada Las Vegas      #\\n#############################################################\\ndata_from_pyxtal\\n\\n_symmetry_space_group_name_H-M 'P1'\\n_symmetry_Int_Tables_number                    1\\n_symmetry_cell_setting                 triclinic\\n_cell_length_a            5.373181\\n_cell_length_b            8.636608\\n_cell_length_c            3.754155\\n_cell_angle_alpha        90.000000\\n_cell_angle_beta         90.000000\\n_cell_angle_gamma        90.000000\\n\\nloop_\\n _symmetry_equiv_pos_site_id\\n _symmetry_equiv_pos_as_xyz\\n1 'x, y, z'\\n\\nloop_\\n _atom_site_label\\n _atom_site_type_symbol\\n _atom_site_symmetry_multiplicity\\n _atom_site_fract_x\\n _atom_site_fract_y\\n _atom_site_fract_z\\n _atom_site_occupancy\\nO      O        4     0.134107    0.254663   -0.069818 1\\nH      H        4     0.040764    0.340181    0.030519 1\\nH      H        4     0.292455    0.258697    0.053351 1\\nO      O        4     0.365893    0.745337    0.430182 1\\nH      H        4     0.459236    0.659819    0.530519 1\\nH      H        4     0.207545    0.741303    0.553351 1\\nO      O        4     0.865893    0.754663    0.569818 1\\nH      H        4     0.959236    0.840181    0.469481 1\\nH      H        4     0.707545    0.758697    0.446649 1\\nO      O        4     0.634107    0.245337    1.069818 1\\nH      H        4     0.540764    0.159819    0.969481 1\\nH      H        4     0.792455    0.241303    0.946649 1\\n#END\\n\\n\",\"cif\");\n\tviewer_1617861609131952.animate({\"loop\": \"forward\", \"interval\": 1000});\n\tviewer_1617861609131952.addUnitCell();\n\tviewer_1617861609131952.setStyle({\"model\": 0},{\"stick\": {\"colorscheme\": \"greenCarbon\"}});\n\tviewer_1617861609131952.zoomTo();\nviewer_1617861609131952.render();\n});\n</script>",
      "text/html": [
       "<div id=\"3dmolviewer_1617861609131952\"  style=\"position: relative; width: 400px; height: 300px\">\n",
       "        <p id=\"3dmolwarning_1617861609131952\" style=\"background-color:#ffcccc;color:black\">You appear to be running in JupyterLab (or JavaScript failed to load for some other reason).  You need to install the 3dmol extension: <br>\n",
       "        <tt>jupyter labextension install jupyterlab_3dmol</tt></p>\n",
       "        </div>\n",
       "<script>\n",
       "\n",
       "var loadScriptAsync = function(uri){\n",
       "  return new Promise((resolve, reject) => {\n",
       "    var tag = document.createElement('script');\n",
       "    tag.src = uri;\n",
       "    tag.async = true;\n",
       "    tag.onload = () => {\n",
       "      resolve();\n",
       "    };\n",
       "  var firstScriptTag = document.getElementsByTagName('script')[0];\n",
       "  firstScriptTag.parentNode.insertBefore(tag, firstScriptTag);\n",
       "});\n",
       "};\n",
       "\n",
       "if(typeof $3Dmolpromise === 'undefined') {\n",
       "$3Dmolpromise = null;\n",
       "  $3Dmolpromise = loadScriptAsync('https://3dmol.csb.pitt.edu/build/3Dmol.js');\n",
       "}\n",
       "\n",
       "var viewer_1617861609131952 = null;\n",
       "var warn = document.getElementById(\"3dmolwarning_1617861609131952\");\n",
       "if(warn) {\n",
       "    warn.parentNode.removeChild(warn);\n",
       "}\n",
       "$3Dmolpromise.then(function() {\n",
       "viewer_1617861609131952 = $3Dmol.createViewer($(\"#3dmolviewer_1617861609131952\"),{backgroundColor:\"white\"});\n",
       "\tviewer_1617861609131952.addModelsAsFrames(\"#############################################################\\n#             ______       _    _          _   \\t            #\\n#            (_____ \\\\     \\\\ \\\\  / /        | |               #\\n#             _____) )   _ \\\\ \\\\/ / |_  ____| |  \\t            #\\n#            |  ____/ | | | )  (|  _)/ _  | | \\t            #\\n#            | |    | |_| |/ /\\\\ \\\\ |_( (_| | |___            #\\n#            |_|     \\\\__  /_/  \\\\_\\\\___)__|_|_____)           #\\n#                   (____/                                  #\\n#---------------------(version    0.2.4)--------------------#\\n#       A Python package for random crystal generation      #\\n#       url: https://github.com/qzhu2017/pyxtal             #\\n#       @Zhu's group at University of Nevada Las Vegas      #\\n#############################################################\\ndata_from_pyxtal\\n\\n_symmetry_space_group_name_H-M 'P1'\\n_symmetry_Int_Tables_number                    1\\n_symmetry_cell_setting                 triclinic\\n_cell_length_a            5.373181\\n_cell_length_b            8.636608\\n_cell_length_c            3.754155\\n_cell_angle_alpha        90.000000\\n_cell_angle_beta         90.000000\\n_cell_angle_gamma        90.000000\\n\\nloop_\\n _symmetry_equiv_pos_site_id\\n _symmetry_equiv_pos_as_xyz\\n1 'x, y, z'\\n\\nloop_\\n _atom_site_label\\n _atom_site_type_symbol\\n _atom_site_symmetry_multiplicity\\n _atom_site_fract_x\\n _atom_site_fract_y\\n _atom_site_fract_z\\n _atom_site_occupancy\\nO      O        4     0.134107    0.254663   -0.069818 1\\nH      H        4     0.040764    0.340181    0.030519 1\\nH      H        4     0.292455    0.258697    0.053351 1\\n#END\\n\\n#############################################################\\n#             ______       _    _          _   \\t            #\\n#            (_____ \\\\     \\\\ \\\\  / /        | |               #\\n#             _____) )   _ \\\\ \\\\/ / |_  ____| |  \\t            #\\n#            |  ____/ | | | )  (|  _)/ _  | | \\t            #\\n#            | |    | |_| |/ /\\\\ \\\\ |_( (_| | |___            #\\n#            |_|     \\\\__  /_/  \\\\_\\\\___)__|_|_____)           #\\n#                   (____/                                  #\\n#---------------------(version    0.2.4)--------------------#\\n#       A Python package for random crystal generation      #\\n#       url: https://github.com/qzhu2017/pyxtal             #\\n#       @Zhu's group at University of Nevada Las Vegas      #\\n#############################################################\\ndata_from_pyxtal\\n\\n_symmetry_space_group_name_H-M 'P1'\\n_symmetry_Int_Tables_number                    1\\n_symmetry_cell_setting                 triclinic\\n_cell_length_a            5.373181\\n_cell_length_b            8.636608\\n_cell_length_c            3.754155\\n_cell_angle_alpha        90.000000\\n_cell_angle_beta         90.000000\\n_cell_angle_gamma        90.000000\\n\\nloop_\\n _symmetry_equiv_pos_site_id\\n _symmetry_equiv_pos_as_xyz\\n1 'x, y, z'\\n\\nloop_\\n _atom_site_label\\n _atom_site_type_symbol\\n _atom_site_symmetry_multiplicity\\n _atom_site_fract_x\\n _atom_site_fract_y\\n _atom_site_fract_z\\n _atom_site_occupancy\\nO      O        4     0.134107    0.254663   -0.069818 1\\nH      H        4     0.040764    0.340181    0.030519 1\\nH      H        4     0.292455    0.258697    0.053351 1\\nO      O        4     0.365893    0.745337    0.430182 1\\nH      H        4     0.459236    0.659819    0.530519 1\\nH      H        4     0.207545    0.741303    0.553351 1\\n#END\\n\\n#############################################################\\n#             ______       _    _          _   \\t            #\\n#            (_____ \\\\     \\\\ \\\\  / /        | |               #\\n#             _____) )   _ \\\\ \\\\/ / |_  ____| |  \\t            #\\n#            |  ____/ | | | )  (|  _)/ _  | | \\t            #\\n#            | |    | |_| |/ /\\\\ \\\\ |_( (_| | |___            #\\n#            |_|     \\\\__  /_/  \\\\_\\\\___)__|_|_____)           #\\n#                   (____/                                  #\\n#---------------------(version    0.2.4)--------------------#\\n#       A Python package for random crystal generation      #\\n#       url: https://github.com/qzhu2017/pyxtal             #\\n#       @Zhu's group at University of Nevada Las Vegas      #\\n#############################################################\\ndata_from_pyxtal\\n\\n_symmetry_space_group_name_H-M 'P1'\\n_symmetry_Int_Tables_number                    1\\n_symmetry_cell_setting                 triclinic\\n_cell_length_a            5.373181\\n_cell_length_b            8.636608\\n_cell_length_c            3.754155\\n_cell_angle_alpha        90.000000\\n_cell_angle_beta         90.000000\\n_cell_angle_gamma        90.000000\\n\\nloop_\\n _symmetry_equiv_pos_site_id\\n _symmetry_equiv_pos_as_xyz\\n1 'x, y, z'\\n\\nloop_\\n _atom_site_label\\n _atom_site_type_symbol\\n _atom_site_symmetry_multiplicity\\n _atom_site_fract_x\\n _atom_site_fract_y\\n _atom_site_fract_z\\n _atom_site_occupancy\\nO      O        4     0.134107    0.254663   -0.069818 1\\nH      H        4     0.040764    0.340181    0.030519 1\\nH      H        4     0.292455    0.258697    0.053351 1\\nO      O        4     0.365893    0.745337    0.430182 1\\nH      H        4     0.459236    0.659819    0.530519 1\\nH      H        4     0.207545    0.741303    0.553351 1\\nO      O        4     0.865893    0.754663    0.569818 1\\nH      H        4     0.959236    0.840181    0.469481 1\\nH      H        4     0.707545    0.758697    0.446649 1\\n#END\\n\\n#############################################################\\n#             ______       _    _          _   \\t            #\\n#            (_____ \\\\     \\\\ \\\\  / /        | |               #\\n#             _____) )   _ \\\\ \\\\/ / |_  ____| |  \\t            #\\n#            |  ____/ | | | )  (|  _)/ _  | | \\t            #\\n#            | |    | |_| |/ /\\\\ \\\\ |_( (_| | |___            #\\n#            |_|     \\\\__  /_/  \\\\_\\\\___)__|_|_____)           #\\n#                   (____/                                  #\\n#---------------------(version    0.2.4)--------------------#\\n#       A Python package for random crystal generation      #\\n#       url: https://github.com/qzhu2017/pyxtal             #\\n#       @Zhu's group at University of Nevada Las Vegas      #\\n#############################################################\\ndata_from_pyxtal\\n\\n_symmetry_space_group_name_H-M 'P1'\\n_symmetry_Int_Tables_number                    1\\n_symmetry_cell_setting                 triclinic\\n_cell_length_a            5.373181\\n_cell_length_b            8.636608\\n_cell_length_c            3.754155\\n_cell_angle_alpha        90.000000\\n_cell_angle_beta         90.000000\\n_cell_angle_gamma        90.000000\\n\\nloop_\\n _symmetry_equiv_pos_site_id\\n _symmetry_equiv_pos_as_xyz\\n1 'x, y, z'\\n\\nloop_\\n _atom_site_label\\n _atom_site_type_symbol\\n _atom_site_symmetry_multiplicity\\n _atom_site_fract_x\\n _atom_site_fract_y\\n _atom_site_fract_z\\n _atom_site_occupancy\\nO      O        4     0.134107    0.254663   -0.069818 1\\nH      H        4     0.040764    0.340181    0.030519 1\\nH      H        4     0.292455    0.258697    0.053351 1\\nO      O        4     0.365893    0.745337    0.430182 1\\nH      H        4     0.459236    0.659819    0.530519 1\\nH      H        4     0.207545    0.741303    0.553351 1\\nO      O        4     0.865893    0.754663    0.569818 1\\nH      H        4     0.959236    0.840181    0.469481 1\\nH      H        4     0.707545    0.758697    0.446649 1\\nO      O        4     0.634107    0.245337    1.069818 1\\nH      H        4     0.540764    0.159819    0.969481 1\\nH      H        4     0.792455    0.241303    0.946649 1\\n#END\\n\\n\",\"cif\");\n",
       "\tviewer_1617861609131952.animate({\"loop\": \"forward\", \"interval\": 1000});\n",
       "\tviewer_1617861609131952.addUnitCell();\n",
       "\tviewer_1617861609131952.setStyle({\"model\": 0},{\"stick\": {\"colorscheme\": \"greenCarbon\"}});\n",
       "\tviewer_1617861609131952.zoomTo();\n",
       "viewer_1617861609131952.render();\n",
       "});\n",
       "</script>"
      ]
     },
     "metadata": {},
     "output_type": "display_data"
    },
    {
     "data": {
      "text/plain": [
       "<py3Dmol.view at 0x7f8f029db650>"
      ]
     },
     "execution_count": 3,
     "metadata": {},
     "output_type": "execute_result"
    }
   ],
   "source": [
    "# It is also fun to check how the structure is generated from a simple animation \n",
    "h2o.show(size=(400, 300), animation=True, interval=1000)"
   ]
  },
  {
   "cell_type": "markdown",
   "metadata": {},
   "source": [
    "# 2.2 Crystal with molecules at the special Wyckoff positions\n",
    "\n",
    "In addition to the general `Wyckoff positions` (WP), there are also special WPs which have the `site symmetries` more than the identify operation. If the `molecular symmetry` is compatible with the site symmetry, the molecules can also take the special WPs. In that event, the molecules have less degree of freedom and they can only rotate in a limited range. `PyXtal` takes care of this when dealing the structural manipulation.\n",
    "\n",
    "Below is an example to show the water molecules occupy the 4a site in space group Cmc21(36)."
   ]
  },
  {
   "cell_type": "code",
   "execution_count": 4,
   "metadata": {},
   "outputs": [
    {
     "name": "stdout",
     "output_type": "stream",
     "text": [
      "\n",
      "------Crystal from random------\n",
      "Dimension: 3\n",
      "Composition: [H2O]4\n",
      "Group: P212121 (19)\n",
      "orthorhombic lattice:   5.3732   8.6366   3.7542  90.0000  90.0000  90.0000\n",
      "Wyckoff sites:\n",
      "\tH2O1 @ [ 0.1558  0.2845  0.0047]  WP:  4a, Site symmetry 1 ==> Euler: -0.299 21.255 -79.816\n"
     ]
    }
   ],
   "source": [
    "from pyxtal import pyxtal\n",
    "h2o_36 = pyxtal(molecular=True)\n",
    "h2o_36.from_random(3, 36, ['H2O'], [4])\n",
    "print(h2o)"
   ]
  },
  {
   "cell_type": "code",
   "execution_count": 5,
   "metadata": {},
   "outputs": [
    {
     "data": {
      "application/vnd.jupyter.widget-view+json": {
       "model_id": "47a4c7d1b39c40cf8c17213b00fafb4a",
       "version_major": 2,
       "version_minor": 0
      },
      "text/plain": [
       "interactive(children=(IntSlider(value=0, description='id:', max=3), Output()), _dom_classes=('widget-interact'…"
      ]
     },
     "metadata": {},
     "output_type": "display_data"
    }
   ],
   "source": [
    "# Below is a script to show how the molecules rotate around the allowed axis\n",
    "ax = h2o_36.mol_sites[0].orientation.axis\n",
    "\n",
    "strucs = []\n",
    "for angle in [90, 180, 270, 360]:\n",
    "    struc = h2o_36.copy()\n",
    "    struc.mol_sites[0].rotate(ax_vector=ax, angle=angle)\n",
    "    strucs.append(struc)\n",
    "    \n",
    "from pyxtal.viz import display_mol_crystals\n",
    "display_mol_crystals(strucs, axis=2*ax)"
   ]
  },
  {
   "cell_type": "markdown",
   "metadata": {},
   "source": [
    "# 2.3 2D and 1D Crystals "
   ]
  },
  {
   "cell_type": "code",
   "execution_count": 6,
   "metadata": {},
   "outputs": [
    {
     "data": {
      "application/3dmoljs_load.v0": "<div id=\"3dmolviewer_1617861609711744\"  style=\"position: relative; width: 600px; height: 300px\">\n        <p id=\"3dmolwarning_1617861609711744\" style=\"background-color:#ffcccc;color:black\">You appear to be running in JupyterLab (or JavaScript failed to load for some other reason).  You need to install the 3dmol extension: <br>\n        <tt>jupyter labextension install jupyterlab_3dmol</tt></p>\n        </div>\n<script>\n\nvar loadScriptAsync = function(uri){\n  return new Promise((resolve, reject) => {\n    var tag = document.createElement('script');\n    tag.src = uri;\n    tag.async = true;\n    tag.onload = () => {\n      resolve();\n    };\n  var firstScriptTag = document.getElementsByTagName('script')[0];\n  firstScriptTag.parentNode.insertBefore(tag, firstScriptTag);\n});\n};\n\nif(typeof $3Dmolpromise === 'undefined') {\n$3Dmolpromise = null;\n  $3Dmolpromise = loadScriptAsync('https://3dmol.csb.pitt.edu/build/3Dmol.js');\n}\n\nvar viewer_1617861609711744 = null;\nvar warn = document.getElementById(\"3dmolwarning_1617861609711744\");\nif(warn) {\n    warn.parentNode.removeChild(warn);\n}\n$3Dmolpromise.then(function() {\nviewer_1617861609711744 = $3Dmol.createViewer($(\"#3dmolviewer_1617861609711744\"),{backgroundColor:\"white\"});\n\tviewer_1617861609711744.addModel(\"# generated using pymatgen\\ndata_H2O\\n_symmetry_space_group_name_H-M   'P 1'\\n_cell_length_a   22.12448647\\n_cell_length_b   22.12448647\\n_cell_length_c   5.94484360\\n_cell_angle_alpha   90.00000000\\n_cell_angle_beta   90.00000000\\n_cell_angle_gamma   120.00000000\\n_symmetry_Int_Tables_number   1\\n_chemical_formula_structural   H2O\\n_chemical_formula_sum   'H12 O6'\\n_cell_volume   2520.09819535\\n_cell_formula_units_Z   6\\nloop_\\n _symmetry_equiv_pos_site_id\\n _symmetry_equiv_pos_as_xyz\\n  1  'x, y, z'\\nloop_\\n _atom_site_type_symbol\\n _atom_site_label\\n _atom_site_symmetry_multiplicity\\n _atom_site_fract_x\\n _atom_site_fract_y\\n _atom_site_fract_z\\n _atom_site_occupancy\\n  H  H0  1  0.38926572  0.58115220  0.24994977  1\\n  H  H1  1  0.46895826  0.62099846  0.25005023  1\\n  H  H2  1  0.66700637  0.80811351  0.24994977  1\\n  H  H3  1  0.62716012  0.84795981  0.25005023  1\\n  H  H4  1  0.44004506  0.85889286  0.24994977  1\\n  H  H5  1  0.40019877  0.77920031  0.25005023  1\\n  H  H6  1  0.71561844  0.81028079  0.74994977  1\\n  H  H7  1  0.63592589  0.77043454  0.75005023  1\\n  H  H8  1  0.43787778  0.58331948  0.74994977  1\\n  H  H9  1  0.47772404  0.54347319  0.75005023  1\\n  H  H10  1  0.66483909  0.53254014  0.74994977  1\\n  H  H11  1  0.70468539  0.61223268  0.75005023  1\\n  O  O12  1  0.42911201  0.62804558  0.25000000  1\\n  O  O13  1  0.62011299  0.80106642  0.25000000  1\\n  O  O14  1  0.44709215  0.81904657  0.25000000  1\\n  O  O15  1  0.67577215  0.76338741  0.75000000  1\\n  O  O16  1  0.48477116  0.59036657  0.75000000  1\\n  O  O17  1  0.65779200  0.57238643  0.75000000  1\\n\",\"cif\",{\"doAssembly\": true, \"duplicateAssemblyAtoms\": true, \"normalizeAssembly\": true});\n\tviewer_1617861609711744.setStyle({\"stick\": {\"colorscheme\": \"greenCarbon\"}});\n\tviewer_1617861609711744.addUnitCell();\n\tviewer_1617861609711744.replicateUnitCell(1,1,3);\n\tviewer_1617861609711744.zoomTo();\nviewer_1617861609711744.render();\n});\n</script>",
      "text/html": [
       "<div id=\"3dmolviewer_1617861609711744\"  style=\"position: relative; width: 600px; height: 300px\">\n",
       "        <p id=\"3dmolwarning_1617861609711744\" style=\"background-color:#ffcccc;color:black\">You appear to be running in JupyterLab (or JavaScript failed to load for some other reason).  You need to install the 3dmol extension: <br>\n",
       "        <tt>jupyter labextension install jupyterlab_3dmol</tt></p>\n",
       "        </div>\n",
       "<script>\n",
       "\n",
       "var loadScriptAsync = function(uri){\n",
       "  return new Promise((resolve, reject) => {\n",
       "    var tag = document.createElement('script');\n",
       "    tag.src = uri;\n",
       "    tag.async = true;\n",
       "    tag.onload = () => {\n",
       "      resolve();\n",
       "    };\n",
       "  var firstScriptTag = document.getElementsByTagName('script')[0];\n",
       "  firstScriptTag.parentNode.insertBefore(tag, firstScriptTag);\n",
       "});\n",
       "};\n",
       "\n",
       "if(typeof $3Dmolpromise === 'undefined') {\n",
       "$3Dmolpromise = null;\n",
       "  $3Dmolpromise = loadScriptAsync('https://3dmol.csb.pitt.edu/build/3Dmol.js');\n",
       "}\n",
       "\n",
       "var viewer_1617861609711744 = null;\n",
       "var warn = document.getElementById(\"3dmolwarning_1617861609711744\");\n",
       "if(warn) {\n",
       "    warn.parentNode.removeChild(warn);\n",
       "}\n",
       "$3Dmolpromise.then(function() {\n",
       "viewer_1617861609711744 = $3Dmol.createViewer($(\"#3dmolviewer_1617861609711744\"),{backgroundColor:\"white\"});\n",
       "\tviewer_1617861609711744.addModel(\"# generated using pymatgen\\ndata_H2O\\n_symmetry_space_group_name_H-M   'P 1'\\n_cell_length_a   22.12448647\\n_cell_length_b   22.12448647\\n_cell_length_c   5.94484360\\n_cell_angle_alpha   90.00000000\\n_cell_angle_beta   90.00000000\\n_cell_angle_gamma   120.00000000\\n_symmetry_Int_Tables_number   1\\n_chemical_formula_structural   H2O\\n_chemical_formula_sum   'H12 O6'\\n_cell_volume   2520.09819535\\n_cell_formula_units_Z   6\\nloop_\\n _symmetry_equiv_pos_site_id\\n _symmetry_equiv_pos_as_xyz\\n  1  'x, y, z'\\nloop_\\n _atom_site_type_symbol\\n _atom_site_label\\n _atom_site_symmetry_multiplicity\\n _atom_site_fract_x\\n _atom_site_fract_y\\n _atom_site_fract_z\\n _atom_site_occupancy\\n  H  H0  1  0.38926572  0.58115220  0.24994977  1\\n  H  H1  1  0.46895826  0.62099846  0.25005023  1\\n  H  H2  1  0.66700637  0.80811351  0.24994977  1\\n  H  H3  1  0.62716012  0.84795981  0.25005023  1\\n  H  H4  1  0.44004506  0.85889286  0.24994977  1\\n  H  H5  1  0.40019877  0.77920031  0.25005023  1\\n  H  H6  1  0.71561844  0.81028079  0.74994977  1\\n  H  H7  1  0.63592589  0.77043454  0.75005023  1\\n  H  H8  1  0.43787778  0.58331948  0.74994977  1\\n  H  H9  1  0.47772404  0.54347319  0.75005023  1\\n  H  H10  1  0.66483909  0.53254014  0.74994977  1\\n  H  H11  1  0.70468539  0.61223268  0.75005023  1\\n  O  O12  1  0.42911201  0.62804558  0.25000000  1\\n  O  O13  1  0.62011299  0.80106642  0.25000000  1\\n  O  O14  1  0.44709215  0.81904657  0.25000000  1\\n  O  O15  1  0.67577215  0.76338741  0.75000000  1\\n  O  O16  1  0.48477116  0.59036657  0.75000000  1\\n  O  O17  1  0.65779200  0.57238643  0.75000000  1\\n\",\"cif\",{\"doAssembly\": true, \"duplicateAssemblyAtoms\": true, \"normalizeAssembly\": true});\n",
       "\tviewer_1617861609711744.setStyle({\"stick\": {\"colorscheme\": \"greenCarbon\"}});\n",
       "\tviewer_1617861609711744.addUnitCell();\n",
       "\tviewer_1617861609711744.replicateUnitCell(1,1,3);\n",
       "\tviewer_1617861609711744.zoomTo();\n",
       "viewer_1617861609711744.render();\n",
       "});\n",
       "</script>"
      ]
     },
     "metadata": {},
     "output_type": "display_data"
    },
    {
     "data": {
      "text/plain": [
       "<py3Dmol.view at 0x7f8f02f7b950>"
      ]
     },
     "execution_count": 6,
     "metadata": {},
     "output_type": "execute_result"
    }
   ],
   "source": [
    "h2o_1D = pyxtal(molecular=True)\n",
    "h2o_1D.from_random(1, 75, ['H2O'], [6])\n",
    "#print(h2o_1D)\n",
    "h2o_1D.show(supercell=(1,1,3))"
   ]
  },
  {
   "cell_type": "code",
   "execution_count": 7,
   "metadata": {},
   "outputs": [
    {
     "data": {
      "application/3dmoljs_load.v0": "<div id=\"3dmolviewer_16178616098428748\"  style=\"position: relative; width: 600px; height: 300px\">\n        <p id=\"3dmolwarning_16178616098428748\" style=\"background-color:#ffcccc;color:black\">You appear to be running in JupyterLab (or JavaScript failed to load for some other reason).  You need to install the 3dmol extension: <br>\n        <tt>jupyter labextension install jupyterlab_3dmol</tt></p>\n        </div>\n<script>\n\nvar loadScriptAsync = function(uri){\n  return new Promise((resolve, reject) => {\n    var tag = document.createElement('script');\n    tag.src = uri;\n    tag.async = true;\n    tag.onload = () => {\n      resolve();\n    };\n  var firstScriptTag = document.getElementsByTagName('script')[0];\n  firstScriptTag.parentNode.insertBefore(tag, firstScriptTag);\n});\n};\n\nif(typeof $3Dmolpromise === 'undefined') {\n$3Dmolpromise = null;\n  $3Dmolpromise = loadScriptAsync('https://3dmol.csb.pitt.edu/build/3Dmol.js');\n}\n\nvar viewer_16178616098428748 = null;\nvar warn = document.getElementById(\"3dmolwarning_16178616098428748\");\nif(warn) {\n    warn.parentNode.removeChild(warn);\n}\n$3Dmolpromise.then(function() {\nviewer_16178616098428748 = $3Dmol.createViewer($(\"#3dmolviewer_16178616098428748\"),{backgroundColor:\"white\"});\n\tviewer_16178616098428748.addModel(\"# generated using pymatgen\\ndata_H2O\\n_symmetry_space_group_name_H-M   'P 1'\\n_cell_length_a   9.88474110\\n_cell_length_b   5.87489873\\n_cell_length_c   18.00000000\\n_cell_angle_alpha   90.00000000\\n_cell_angle_beta   90.00000000\\n_cell_angle_gamma   90.00000000\\n_symmetry_Int_Tables_number   1\\n_chemical_formula_structural   H2O\\n_chemical_formula_sum   'H8 O4'\\n_cell_volume   1045.29335211\\n_cell_formula_units_Z   4\\nloop_\\n _symmetry_equiv_pos_site_id\\n _symmetry_equiv_pos_as_xyz\\n  1  'x, y, z'\\nloop_\\n _atom_site_type_symbol\\n _atom_site_label\\n _atom_site_symmetry_multiplicity\\n _atom_site_fract_x\\n _atom_site_fract_y\\n _atom_site_fract_z\\n _atom_site_occupancy\\n  H  H0  1  0.60794892  0.31222221  0.50123254  1\\n  H  H1  1  0.45817574  0.33775671  0.52025566  1\\n  H  H2  1  0.39205108  0.68777779  0.50123254  1\\n  H  H3  1  0.54182426  0.66224329  0.52025566  1\\n  H  H4  1  0.10794892  0.18777779  0.50123254  1\\n  H  H5  1  -0.04182426  0.16224329  0.52025566  1\\n  H  H6  1  0.89205108  0.81222221  0.50123254  1\\n  H  H7  1  1.04182426  0.83775671  0.52025566  1\\n  O  O8  1  0.52003534  0.33409637  0.47851180  1\\n  O  O9  1  0.47996466  0.66590363  0.47851180  1\\n  O  O10  1  0.02003534  0.16590363  0.47851180  1\\n  O  O11  1  0.97996466  0.83409637  0.47851180  1\\n\",\"cif\",{\"doAssembly\": true, \"duplicateAssemblyAtoms\": true, \"normalizeAssembly\": true});\n\tviewer_16178616098428748.setStyle({\"stick\": {\"colorscheme\": \"greenCarbon\"}});\n\tviewer_16178616098428748.addUnitCell();\n\tviewer_16178616098428748.replicateUnitCell(2,2,1);\n\tviewer_16178616098428748.zoomTo();\nviewer_16178616098428748.render();\n});\n</script>",
      "text/html": [
       "<div id=\"3dmolviewer_16178616098428748\"  style=\"position: relative; width: 600px; height: 300px\">\n",
       "        <p id=\"3dmolwarning_16178616098428748\" style=\"background-color:#ffcccc;color:black\">You appear to be running in JupyterLab (or JavaScript failed to load for some other reason).  You need to install the 3dmol extension: <br>\n",
       "        <tt>jupyter labextension install jupyterlab_3dmol</tt></p>\n",
       "        </div>\n",
       "<script>\n",
       "\n",
       "var loadScriptAsync = function(uri){\n",
       "  return new Promise((resolve, reject) => {\n",
       "    var tag = document.createElement('script');\n",
       "    tag.src = uri;\n",
       "    tag.async = true;\n",
       "    tag.onload = () => {\n",
       "      resolve();\n",
       "    };\n",
       "  var firstScriptTag = document.getElementsByTagName('script')[0];\n",
       "  firstScriptTag.parentNode.insertBefore(tag, firstScriptTag);\n",
       "});\n",
       "};\n",
       "\n",
       "if(typeof $3Dmolpromise === 'undefined') {\n",
       "$3Dmolpromise = null;\n",
       "  $3Dmolpromise = loadScriptAsync('https://3dmol.csb.pitt.edu/build/3Dmol.js');\n",
       "}\n",
       "\n",
       "var viewer_16178616098428748 = null;\n",
       "var warn = document.getElementById(\"3dmolwarning_16178616098428748\");\n",
       "if(warn) {\n",
       "    warn.parentNode.removeChild(warn);\n",
       "}\n",
       "$3Dmolpromise.then(function() {\n",
       "viewer_16178616098428748 = $3Dmol.createViewer($(\"#3dmolviewer_16178616098428748\"),{backgroundColor:\"white\"});\n",
       "\tviewer_16178616098428748.addModel(\"# generated using pymatgen\\ndata_H2O\\n_symmetry_space_group_name_H-M   'P 1'\\n_cell_length_a   9.88474110\\n_cell_length_b   5.87489873\\n_cell_length_c   18.00000000\\n_cell_angle_alpha   90.00000000\\n_cell_angle_beta   90.00000000\\n_cell_angle_gamma   90.00000000\\n_symmetry_Int_Tables_number   1\\n_chemical_formula_structural   H2O\\n_chemical_formula_sum   'H8 O4'\\n_cell_volume   1045.29335211\\n_cell_formula_units_Z   4\\nloop_\\n _symmetry_equiv_pos_site_id\\n _symmetry_equiv_pos_as_xyz\\n  1  'x, y, z'\\nloop_\\n _atom_site_type_symbol\\n _atom_site_label\\n _atom_site_symmetry_multiplicity\\n _atom_site_fract_x\\n _atom_site_fract_y\\n _atom_site_fract_z\\n _atom_site_occupancy\\n  H  H0  1  0.60794892  0.31222221  0.50123254  1\\n  H  H1  1  0.45817574  0.33775671  0.52025566  1\\n  H  H2  1  0.39205108  0.68777779  0.50123254  1\\n  H  H3  1  0.54182426  0.66224329  0.52025566  1\\n  H  H4  1  0.10794892  0.18777779  0.50123254  1\\n  H  H5  1  -0.04182426  0.16224329  0.52025566  1\\n  H  H6  1  0.89205108  0.81222221  0.50123254  1\\n  H  H7  1  1.04182426  0.83775671  0.52025566  1\\n  O  O8  1  0.52003534  0.33409637  0.47851180  1\\n  O  O9  1  0.47996466  0.66590363  0.47851180  1\\n  O  O10  1  0.02003534  0.16590363  0.47851180  1\\n  O  O11  1  0.97996466  0.83409637  0.47851180  1\\n\",\"cif\",{\"doAssembly\": true, \"duplicateAssemblyAtoms\": true, \"normalizeAssembly\": true});\n",
       "\tviewer_16178616098428748.setStyle({\"stick\": {\"colorscheme\": \"greenCarbon\"}});\n",
       "\tviewer_16178616098428748.addUnitCell();\n",
       "\tviewer_16178616098428748.replicateUnitCell(2,2,1);\n",
       "\tviewer_16178616098428748.zoomTo();\n",
       "viewer_16178616098428748.render();\n",
       "});\n",
       "</script>"
      ]
     },
     "metadata": {},
     "output_type": "display_data"
    },
    {
     "data": {
      "text/plain": [
       "<py3Dmol.view at 0x7f8f02f66f90>"
      ]
     },
     "execution_count": 7,
     "metadata": {},
     "output_type": "execute_result"
    }
   ],
   "source": [
    "h2o_2D = pyxtal(molecular=True)\n",
    "h2o_2D.from_random(2, 25, ['H2O'], [4], thickness=0)\n",
    "#print(h2o_2D)\n",
    "h2o_2D.show(supercell=(2,2,1))"
   ]
  },
  {
   "cell_type": "markdown",
   "metadata": {},
   "source": [
    "# 2.4 Subgroup"
   ]
  },
  {
   "cell_type": "code",
   "execution_count": 8,
   "metadata": {},
   "outputs": [
    {
     "name": "stdout",
     "output_type": "stream",
     "text": [
      "\n",
      "------Crystal from Seed------\n",
      "Dimension: 3\n",
      "Composition: [aspirin]4\n",
      "Group: P21/c (14)\n",
      "monoclinic lattice:  11.2330   6.5440  11.2310  90.0000  95.8900  90.0000\n",
      "Wyckoff sites:\n",
      "\tH8C9O4 @ [ 0.7586  0.4218  0.9832]  WP:  4e, Site symmetry 1 ==> Euler:  0.000  0.000  0.000\n"
     ]
    },
    {
     "data": {
      "application/3dmoljs_load.v0": "<div id=\"3dmolviewer_1617861610046815\"  style=\"position: relative; width: 600px; height: 300px\">\n        <p id=\"3dmolwarning_1617861610046815\" style=\"background-color:#ffcccc;color:black\">You appear to be running in JupyterLab (or JavaScript failed to load for some other reason).  You need to install the 3dmol extension: <br>\n        <tt>jupyter labextension install jupyterlab_3dmol</tt></p>\n        </div>\n<script>\n\nvar loadScriptAsync = function(uri){\n  return new Promise((resolve, reject) => {\n    var tag = document.createElement('script');\n    tag.src = uri;\n    tag.async = true;\n    tag.onload = () => {\n      resolve();\n    };\n  var firstScriptTag = document.getElementsByTagName('script')[0];\n  firstScriptTag.parentNode.insertBefore(tag, firstScriptTag);\n});\n};\n\nif(typeof $3Dmolpromise === 'undefined') {\n$3Dmolpromise = null;\n  $3Dmolpromise = loadScriptAsync('https://3dmol.csb.pitt.edu/build/3Dmol.js');\n}\n\nvar viewer_1617861610046815 = null;\nvar warn = document.getElementById(\"3dmolwarning_1617861610046815\");\nif(warn) {\n    warn.parentNode.removeChild(warn);\n}\n$3Dmolpromise.then(function() {\nviewer_1617861610046815 = $3Dmol.createViewer($(\"#3dmolviewer_1617861610046815\"),{backgroundColor:\"white\"});\n\tviewer_1617861610046815.addModel(\"#############################################################\\n#             ______       _    _          _   \\t            #\\n#            (_____ \\\\     \\\\ \\\\  / /        | |               #\\n#             _____) )   _ \\\\ \\\\/ / |_  ____| |  \\t            #\\n#            |  ____/ | | | )  (|  _)/ _  | | \\t            #\\n#            | |    | |_| |/ /\\\\ \\\\ |_( (_| | |___            #\\n#            |_|     \\\\__  /_/  \\\\_\\\\___)__|_|_____)           #\\n#                   (____/                                  #\\n#---------------------(version    0.2.4)--------------------#\\n#       A Python package for random crystal generation      #\\n#       url: https://github.com/qzhu2017/pyxtal             #\\n#       @Zhu's group at University of Nevada Las Vegas      #\\n#############################################################\\ndata_from_pyxtal\\n\\n_symmetry_space_group_name_H-M 'P21/c'\\n_symmetry_Int_Tables_number                   14\\n_symmetry_cell_setting                monoclinic\\n_cell_length_a           11.233000\\n_cell_length_b            6.544000\\n_cell_length_c           11.231000\\n_cell_angle_alpha        90.000000\\n_cell_angle_beta         95.890000\\n_cell_angle_gamma        90.000000\\n\\nloop_\\n _symmetry_equiv_pos_site_id\\n _symmetry_equiv_pos_as_xyz\\n1 'x, y, z'\\n2 '-x, y+1/2, -z+1/2'\\n3 '-x, -y, -z'\\n4 'x, -y+1/2, z+1/2'\\n\\nloop_\\n _atom_site_label\\n _atom_site_type_symbol\\n _atom_site_symmetry_multiplicity\\n _atom_site_fract_x\\n _atom_site_fract_y\\n _atom_site_fract_z\\n _atom_site_occupancy\\nO      O        4     0.711400    0.417300    1.089000 1\\nO      O        4     0.876500    0.141000    1.052700 1\\nO      O        4     0.990200    0.187000    0.903400 1\\nO      O        4     0.597100    0.218500    0.963300 1\\nC      C        4     0.752700    0.516200    0.991200 1\\nC      C        4     0.846300    0.439700    0.933500 1\\nC      C        4     0.700200    0.702300    0.958600 1\\nC      C        4     0.884200    0.553700    0.838600 1\\nC      C        4     0.739100    0.812400    0.864800 1\\nC      C        4     0.831400    0.738000    0.805800 1\\nC      C        4     0.909700    0.243800    0.962800 1\\nC      C        4     0.632600    0.262700    1.062300 1\\nC      C        4     0.600700    0.160100    1.174000 1\\nH      H        4     0.630200    0.762300    1.009500 1\\nH      H        4     0.956700    0.493000    0.791700 1\\nH      H        4     0.698400    0.960400    0.840700 1\\nH      H        4     0.859400    0.826000    0.731200 1\\nH      H        4     0.538200    0.040000    1.145000 1\\nH      H        4     0.566000    0.265000    1.240000 1\\nH      H        4     0.680000    0.103000    1.224000 1\\nH      H        4     0.928700    0.014500    1.064200 1\\n#END\\n\\n\",\"cif\",{\"doAssembly\": true, \"duplicateAssemblyAtoms\": true, \"normalizeAssembly\": true});\n\tviewer_1617861610046815.setStyle({\"stick\": {\"colorscheme\": \"greenCarbon\"}});\n\tviewer_1617861610046815.addUnitCell();\n\tviewer_1617861610046815.replicateUnitCell(1,1,1);\n\tviewer_1617861610046815.zoomTo();\nviewer_1617861610046815.render();\n});\n</script>",
      "text/html": [
       "<div id=\"3dmolviewer_1617861610046815\"  style=\"position: relative; width: 600px; height: 300px\">\n",
       "        <p id=\"3dmolwarning_1617861610046815\" style=\"background-color:#ffcccc;color:black\">You appear to be running in JupyterLab (or JavaScript failed to load for some other reason).  You need to install the 3dmol extension: <br>\n",
       "        <tt>jupyter labextension install jupyterlab_3dmol</tt></p>\n",
       "        </div>\n",
       "<script>\n",
       "\n",
       "var loadScriptAsync = function(uri){\n",
       "  return new Promise((resolve, reject) => {\n",
       "    var tag = document.createElement('script');\n",
       "    tag.src = uri;\n",
       "    tag.async = true;\n",
       "    tag.onload = () => {\n",
       "      resolve();\n",
       "    };\n",
       "  var firstScriptTag = document.getElementsByTagName('script')[0];\n",
       "  firstScriptTag.parentNode.insertBefore(tag, firstScriptTag);\n",
       "});\n",
       "};\n",
       "\n",
       "if(typeof $3Dmolpromise === 'undefined') {\n",
       "$3Dmolpromise = null;\n",
       "  $3Dmolpromise = loadScriptAsync('https://3dmol.csb.pitt.edu/build/3Dmol.js');\n",
       "}\n",
       "\n",
       "var viewer_1617861610046815 = null;\n",
       "var warn = document.getElementById(\"3dmolwarning_1617861610046815\");\n",
       "if(warn) {\n",
       "    warn.parentNode.removeChild(warn);\n",
       "}\n",
       "$3Dmolpromise.then(function() {\n",
       "viewer_1617861610046815 = $3Dmol.createViewer($(\"#3dmolviewer_1617861610046815\"),{backgroundColor:\"white\"});\n",
       "\tviewer_1617861610046815.addModel(\"#############################################################\\n#             ______       _    _          _   \\t            #\\n#            (_____ \\\\     \\\\ \\\\  / /        | |               #\\n#             _____) )   _ \\\\ \\\\/ / |_  ____| |  \\t            #\\n#            |  ____/ | | | )  (|  _)/ _  | | \\t            #\\n#            | |    | |_| |/ /\\\\ \\\\ |_( (_| | |___            #\\n#            |_|     \\\\__  /_/  \\\\_\\\\___)__|_|_____)           #\\n#                   (____/                                  #\\n#---------------------(version    0.2.4)--------------------#\\n#       A Python package for random crystal generation      #\\n#       url: https://github.com/qzhu2017/pyxtal             #\\n#       @Zhu's group at University of Nevada Las Vegas      #\\n#############################################################\\ndata_from_pyxtal\\n\\n_symmetry_space_group_name_H-M 'P21/c'\\n_symmetry_Int_Tables_number                   14\\n_symmetry_cell_setting                monoclinic\\n_cell_length_a           11.233000\\n_cell_length_b            6.544000\\n_cell_length_c           11.231000\\n_cell_angle_alpha        90.000000\\n_cell_angle_beta         95.890000\\n_cell_angle_gamma        90.000000\\n\\nloop_\\n _symmetry_equiv_pos_site_id\\n _symmetry_equiv_pos_as_xyz\\n1 'x, y, z'\\n2 '-x, y+1/2, -z+1/2'\\n3 '-x, -y, -z'\\n4 'x, -y+1/2, z+1/2'\\n\\nloop_\\n _atom_site_label\\n _atom_site_type_symbol\\n _atom_site_symmetry_multiplicity\\n _atom_site_fract_x\\n _atom_site_fract_y\\n _atom_site_fract_z\\n _atom_site_occupancy\\nO      O        4     0.711400    0.417300    1.089000 1\\nO      O        4     0.876500    0.141000    1.052700 1\\nO      O        4     0.990200    0.187000    0.903400 1\\nO      O        4     0.597100    0.218500    0.963300 1\\nC      C        4     0.752700    0.516200    0.991200 1\\nC      C        4     0.846300    0.439700    0.933500 1\\nC      C        4     0.700200    0.702300    0.958600 1\\nC      C        4     0.884200    0.553700    0.838600 1\\nC      C        4     0.739100    0.812400    0.864800 1\\nC      C        4     0.831400    0.738000    0.805800 1\\nC      C        4     0.909700    0.243800    0.962800 1\\nC      C        4     0.632600    0.262700    1.062300 1\\nC      C        4     0.600700    0.160100    1.174000 1\\nH      H        4     0.630200    0.762300    1.009500 1\\nH      H        4     0.956700    0.493000    0.791700 1\\nH      H        4     0.698400    0.960400    0.840700 1\\nH      H        4     0.859400    0.826000    0.731200 1\\nH      H        4     0.538200    0.040000    1.145000 1\\nH      H        4     0.566000    0.265000    1.240000 1\\nH      H        4     0.680000    0.103000    1.224000 1\\nH      H        4     0.928700    0.014500    1.064200 1\\n#END\\n\\n\",\"cif\",{\"doAssembly\": true, \"duplicateAssemblyAtoms\": true, \"normalizeAssembly\": true});\n",
       "\tviewer_1617861610046815.setStyle({\"stick\": {\"colorscheme\": \"greenCarbon\"}});\n",
       "\tviewer_1617861610046815.addUnitCell();\n",
       "\tviewer_1617861610046815.replicateUnitCell(1,1,1);\n",
       "\tviewer_1617861610046815.zoomTo();\n",
       "viewer_1617861610046815.render();\n",
       "});\n",
       "</script>"
      ]
     },
     "metadata": {},
     "output_type": "display_data"
    },
    {
     "data": {
      "text/plain": [
       "<py3Dmol.view at 0x7f8f029d3dd0>"
      ]
     },
     "execution_count": 8,
     "metadata": {},
     "output_type": "execute_result"
    }
   ],
   "source": [
    "from pyxtal import pyxtal\n",
    "\n",
    "C1 = pyxtal(molecular=True)\n",
    "C1.from_seed(seed=\"aspirin.cif\", molecule=\"aspirin\")\n",
    "print(C1)\n",
    "C1.show() "
   ]
  },
  {
   "cell_type": "code",
   "execution_count": 9,
   "metadata": {},
   "outputs": [
    {
     "name": "stdout",
     "output_type": "stream",
     "text": [
      "\n",
      "------Crystal from subgroup------\n",
      "Dimension: 3\n",
      "Composition: [aspirin]4\n",
      "Group: Pc (7)\n",
      "monoclinic lattice:  11.2330   6.5440  11.2310  90.0000  95.8900  90.0000\n",
      "Wyckoff sites:\n",
      "\tH8C9O4 @ [ 0.7586  0.1718  0.9832]  WP:  2a, Site symmetry 1 ==> Euler:  0.000  0.000  0.000\n",
      "\tH8C9O4 @ [ 0.2414  0.6718  0.5168]  WP:  2a, Site symmetry 1 ==> Euler:  0.000  0.000  0.000\n"
     ]
    },
    {
     "data": {
      "application/3dmoljs_load.v0": "<div id=\"3dmolviewer_16178616101046941\"  style=\"position: relative; width: 600px; height: 300px\">\n        <p id=\"3dmolwarning_16178616101046941\" style=\"background-color:#ffcccc;color:black\">You appear to be running in JupyterLab (or JavaScript failed to load for some other reason).  You need to install the 3dmol extension: <br>\n        <tt>jupyter labextension install jupyterlab_3dmol</tt></p>\n        </div>\n<script>\n\nvar loadScriptAsync = function(uri){\n  return new Promise((resolve, reject) => {\n    var tag = document.createElement('script');\n    tag.src = uri;\n    tag.async = true;\n    tag.onload = () => {\n      resolve();\n    };\n  var firstScriptTag = document.getElementsByTagName('script')[0];\n  firstScriptTag.parentNode.insertBefore(tag, firstScriptTag);\n});\n};\n\nif(typeof $3Dmolpromise === 'undefined') {\n$3Dmolpromise = null;\n  $3Dmolpromise = loadScriptAsync('https://3dmol.csb.pitt.edu/build/3Dmol.js');\n}\n\nvar viewer_16178616101046941 = null;\nvar warn = document.getElementById(\"3dmolwarning_16178616101046941\");\nif(warn) {\n    warn.parentNode.removeChild(warn);\n}\n$3Dmolpromise.then(function() {\nviewer_16178616101046941 = $3Dmol.createViewer($(\"#3dmolviewer_16178616101046941\"),{backgroundColor:\"white\"});\n\tviewer_16178616101046941.addModel(\"#############################################################\\n#             ______       _    _          _   \\t            #\\n#            (_____ \\\\     \\\\ \\\\  / /        | |               #\\n#             _____) )   _ \\\\ \\\\/ / |_  ____| |  \\t            #\\n#            |  ____/ | | | )  (|  _)/ _  | | \\t            #\\n#            | |    | |_| |/ /\\\\ \\\\ |_( (_| | |___            #\\n#            |_|     \\\\__  /_/  \\\\_\\\\___)__|_|_____)           #\\n#                   (____/                                  #\\n#---------------------(version    0.2.4)--------------------#\\n#       A Python package for random crystal generation      #\\n#       url: https://github.com/qzhu2017/pyxtal             #\\n#       @Zhu's group at University of Nevada Las Vegas      #\\n#############################################################\\ndata_from_pyxtal\\n\\n_symmetry_space_group_name_H-M 'Pc'\\n_symmetry_Int_Tables_number                    7\\n_symmetry_cell_setting                monoclinic\\n_cell_length_a           11.233000\\n_cell_length_b            6.544000\\n_cell_length_c           11.231000\\n_cell_angle_alpha        90.000000\\n_cell_angle_beta         95.890000\\n_cell_angle_gamma        90.000000\\n\\nloop_\\n _symmetry_equiv_pos_site_id\\n _symmetry_equiv_pos_as_xyz\\n1 'x, y, z'\\n2 'x, -y, z+1/2'\\n\\nloop_\\n _atom_site_label\\n _atom_site_type_symbol\\n _atom_site_symmetry_multiplicity\\n _atom_site_fract_x\\n _atom_site_fract_y\\n _atom_site_fract_z\\n _atom_site_occupancy\\nO      O        2     0.711400    0.167300    1.089000 1\\nO      O        2     0.876500   -0.109000    1.052700 1\\nO      O        2     0.990200   -0.063000    0.903400 1\\nO      O        2     0.597100   -0.031500    0.963300 1\\nC      C        2     0.752700    0.266200    0.991200 1\\nC      C        2     0.846300    0.189700    0.933500 1\\nC      C        2     0.700200    0.452300    0.958600 1\\nC      C        2     0.884200    0.303700    0.838600 1\\nC      C        2     0.739100    0.562400    0.864800 1\\nC      C        2     0.831400    0.488000    0.805800 1\\nC      C        2     0.909700   -0.006200    0.962800 1\\nC      C        2     0.632600    0.012700    1.062300 1\\nC      C        2     0.600700   -0.089900    1.174000 1\\nH      H        2     0.630200    0.512300    1.009500 1\\nH      H        2     0.956700    0.243000    0.791700 1\\nH      H        2     0.698400    0.710400    0.840700 1\\nH      H        2     0.859400    0.576000    0.731200 1\\nH      H        2     0.538200   -0.210000    1.145000 1\\nH      H        2     0.566000    0.015000    1.240000 1\\nH      H        2     0.680000   -0.147000    1.224000 1\\nH      H        2     0.928700   -0.235500    1.064200 1\\nO      O        2     0.288600    0.676214    0.411000 1\\nO      O        2     0.123500    0.952514    0.447300 1\\nO      O        2     0.009800    0.906514    0.596600 1\\nO      O        2     0.402900    0.875014    0.536700 1\\nC      C        2     0.247300    0.577314    0.508800 1\\nC      C        2     0.153700    0.653814    0.566500 1\\nC      C        2     0.299800    0.391214    0.541400 1\\nC      C        2     0.115800    0.539814    0.661400 1\\nC      C        2     0.260900    0.281114    0.635200 1\\nC      C        2     0.168600    0.355514    0.694200 1\\nC      C        2     0.090300    0.849714    0.537200 1\\nC      C        2     0.367400    0.830814    0.437700 1\\nC      C        2     0.399300    0.933414    0.326000 1\\nH      H        2     0.369800    0.331214    0.490500 1\\nH      H        2     0.043300    0.600514    0.708300 1\\nH      H        2     0.301600    0.133114    0.659300 1\\nH      H        2     0.140600    0.267514    0.768800 1\\nH      H        2     0.461800    1.053514    0.355000 1\\nH      H        2     0.434000    0.828514    0.260000 1\\nH      H        2     0.320000    0.990514    0.276000 1\\nH      H        2     0.071300    1.079014    0.435800 1\\n#END\\n\\n\",\"cif\",{\"doAssembly\": true, \"duplicateAssemblyAtoms\": true, \"normalizeAssembly\": true});\n\tviewer_16178616101046941.setStyle({\"stick\": {\"colorscheme\": \"greenCarbon\"}});\n\tviewer_16178616101046941.addUnitCell();\n\tviewer_16178616101046941.replicateUnitCell(1,1,1);\n\tviewer_16178616101046941.zoomTo();\nviewer_16178616101046941.render();\n});\n</script>",
      "text/html": [
       "<div id=\"3dmolviewer_16178616101046941\"  style=\"position: relative; width: 600px; height: 300px\">\n",
       "        <p id=\"3dmolwarning_16178616101046941\" style=\"background-color:#ffcccc;color:black\">You appear to be running in JupyterLab (or JavaScript failed to load for some other reason).  You need to install the 3dmol extension: <br>\n",
       "        <tt>jupyter labextension install jupyterlab_3dmol</tt></p>\n",
       "        </div>\n",
       "<script>\n",
       "\n",
       "var loadScriptAsync = function(uri){\n",
       "  return new Promise((resolve, reject) => {\n",
       "    var tag = document.createElement('script');\n",
       "    tag.src = uri;\n",
       "    tag.async = true;\n",
       "    tag.onload = () => {\n",
       "      resolve();\n",
       "    };\n",
       "  var firstScriptTag = document.getElementsByTagName('script')[0];\n",
       "  firstScriptTag.parentNode.insertBefore(tag, firstScriptTag);\n",
       "});\n",
       "};\n",
       "\n",
       "if(typeof $3Dmolpromise === 'undefined') {\n",
       "$3Dmolpromise = null;\n",
       "  $3Dmolpromise = loadScriptAsync('https://3dmol.csb.pitt.edu/build/3Dmol.js');\n",
       "}\n",
       "\n",
       "var viewer_16178616101046941 = null;\n",
       "var warn = document.getElementById(\"3dmolwarning_16178616101046941\");\n",
       "if(warn) {\n",
       "    warn.parentNode.removeChild(warn);\n",
       "}\n",
       "$3Dmolpromise.then(function() {\n",
       "viewer_16178616101046941 = $3Dmol.createViewer($(\"#3dmolviewer_16178616101046941\"),{backgroundColor:\"white\"});\n",
       "\tviewer_16178616101046941.addModel(\"#############################################################\\n#             ______       _    _          _   \\t            #\\n#            (_____ \\\\     \\\\ \\\\  / /        | |               #\\n#             _____) )   _ \\\\ \\\\/ / |_  ____| |  \\t            #\\n#            |  ____/ | | | )  (|  _)/ _  | | \\t            #\\n#            | |    | |_| |/ /\\\\ \\\\ |_( (_| | |___            #\\n#            |_|     \\\\__  /_/  \\\\_\\\\___)__|_|_____)           #\\n#                   (____/                                  #\\n#---------------------(version    0.2.4)--------------------#\\n#       A Python package for random crystal generation      #\\n#       url: https://github.com/qzhu2017/pyxtal             #\\n#       @Zhu's group at University of Nevada Las Vegas      #\\n#############################################################\\ndata_from_pyxtal\\n\\n_symmetry_space_group_name_H-M 'Pc'\\n_symmetry_Int_Tables_number                    7\\n_symmetry_cell_setting                monoclinic\\n_cell_length_a           11.233000\\n_cell_length_b            6.544000\\n_cell_length_c           11.231000\\n_cell_angle_alpha        90.000000\\n_cell_angle_beta         95.890000\\n_cell_angle_gamma        90.000000\\n\\nloop_\\n _symmetry_equiv_pos_site_id\\n _symmetry_equiv_pos_as_xyz\\n1 'x, y, z'\\n2 'x, -y, z+1/2'\\n\\nloop_\\n _atom_site_label\\n _atom_site_type_symbol\\n _atom_site_symmetry_multiplicity\\n _atom_site_fract_x\\n _atom_site_fract_y\\n _atom_site_fract_z\\n _atom_site_occupancy\\nO      O        2     0.711400    0.167300    1.089000 1\\nO      O        2     0.876500   -0.109000    1.052700 1\\nO      O        2     0.990200   -0.063000    0.903400 1\\nO      O        2     0.597100   -0.031500    0.963300 1\\nC      C        2     0.752700    0.266200    0.991200 1\\nC      C        2     0.846300    0.189700    0.933500 1\\nC      C        2     0.700200    0.452300    0.958600 1\\nC      C        2     0.884200    0.303700    0.838600 1\\nC      C        2     0.739100    0.562400    0.864800 1\\nC      C        2     0.831400    0.488000    0.805800 1\\nC      C        2     0.909700   -0.006200    0.962800 1\\nC      C        2     0.632600    0.012700    1.062300 1\\nC      C        2     0.600700   -0.089900    1.174000 1\\nH      H        2     0.630200    0.512300    1.009500 1\\nH      H        2     0.956700    0.243000    0.791700 1\\nH      H        2     0.698400    0.710400    0.840700 1\\nH      H        2     0.859400    0.576000    0.731200 1\\nH      H        2     0.538200   -0.210000    1.145000 1\\nH      H        2     0.566000    0.015000    1.240000 1\\nH      H        2     0.680000   -0.147000    1.224000 1\\nH      H        2     0.928700   -0.235500    1.064200 1\\nO      O        2     0.288600    0.676214    0.411000 1\\nO      O        2     0.123500    0.952514    0.447300 1\\nO      O        2     0.009800    0.906514    0.596600 1\\nO      O        2     0.402900    0.875014    0.536700 1\\nC      C        2     0.247300    0.577314    0.508800 1\\nC      C        2     0.153700    0.653814    0.566500 1\\nC      C        2     0.299800    0.391214    0.541400 1\\nC      C        2     0.115800    0.539814    0.661400 1\\nC      C        2     0.260900    0.281114    0.635200 1\\nC      C        2     0.168600    0.355514    0.694200 1\\nC      C        2     0.090300    0.849714    0.537200 1\\nC      C        2     0.367400    0.830814    0.437700 1\\nC      C        2     0.399300    0.933414    0.326000 1\\nH      H        2     0.369800    0.331214    0.490500 1\\nH      H        2     0.043300    0.600514    0.708300 1\\nH      H        2     0.301600    0.133114    0.659300 1\\nH      H        2     0.140600    0.267514    0.768800 1\\nH      H        2     0.461800    1.053514    0.355000 1\\nH      H        2     0.434000    0.828514    0.260000 1\\nH      H        2     0.320000    0.990514    0.276000 1\\nH      H        2     0.071300    1.079014    0.435800 1\\n#END\\n\\n\",\"cif\",{\"doAssembly\": true, \"duplicateAssemblyAtoms\": true, \"normalizeAssembly\": true});\n",
       "\tviewer_16178616101046941.setStyle({\"stick\": {\"colorscheme\": \"greenCarbon\"}});\n",
       "\tviewer_16178616101046941.addUnitCell();\n",
       "\tviewer_16178616101046941.replicateUnitCell(1,1,1);\n",
       "\tviewer_16178616101046941.zoomTo();\n",
       "viewer_16178616101046941.render();\n",
       "});\n",
       "</script>"
      ]
     },
     "metadata": {},
     "output_type": "display_data"
    },
    {
     "data": {
      "text/plain": [
       "<py3Dmol.view at 0x7f8efadbc910>"
      ]
     },
     "execution_count": 9,
     "metadata": {},
     "output_type": "execute_result"
    }
   ],
   "source": [
    "C2 = C1.subgroup_once(H=7, eps=0, mut_lat=False)\n",
    "print(C2)\n",
    "C2.show()"
   ]
  },
  {
   "cell_type": "markdown",
   "metadata": {},
   "source": [
    "# 2.5 Cell Transformation"
   ]
  },
  {
   "cell_type": "code",
   "execution_count": 10,
   "metadata": {},
   "outputs": [
    {
     "name": "stdout",
     "output_type": "stream",
     "text": [
      "\n",
      "------Crystal from Seed------\n",
      "Dimension: 3\n",
      "Composition: [aspirin]4\n",
      "Group: P21/c (14)\n",
      "monoclinic lattice:  11.2330   6.5440  11.2310  90.0000  95.8900  90.0000\n",
      "Wyckoff sites:\n",
      "\tH8C9O4 @ [ 0.7586  0.4218  0.9832]  WP:  4e, Site symmetry 1 ==> Euler:  0.000  0.000  0.000\n"
     ]
    },
    {
     "data": {
      "application/3dmoljs_load.v0": "<div id=\"3dmolviewer_16178616103374689\"  style=\"position: relative; width: 600px; height: 300px\">\n        <p id=\"3dmolwarning_16178616103374689\" style=\"background-color:#ffcccc;color:black\">You appear to be running in JupyterLab (or JavaScript failed to load for some other reason).  You need to install the 3dmol extension: <br>\n        <tt>jupyter labextension install jupyterlab_3dmol</tt></p>\n        </div>\n<script>\n\nvar loadScriptAsync = function(uri){\n  return new Promise((resolve, reject) => {\n    var tag = document.createElement('script');\n    tag.src = uri;\n    tag.async = true;\n    tag.onload = () => {\n      resolve();\n    };\n  var firstScriptTag = document.getElementsByTagName('script')[0];\n  firstScriptTag.parentNode.insertBefore(tag, firstScriptTag);\n});\n};\n\nif(typeof $3Dmolpromise === 'undefined') {\n$3Dmolpromise = null;\n  $3Dmolpromise = loadScriptAsync('https://3dmol.csb.pitt.edu/build/3Dmol.js');\n}\n\nvar viewer_16178616103374689 = null;\nvar warn = document.getElementById(\"3dmolwarning_16178616103374689\");\nif(warn) {\n    warn.parentNode.removeChild(warn);\n}\n$3Dmolpromise.then(function() {\nviewer_16178616103374689 = $3Dmol.createViewer($(\"#3dmolviewer_16178616103374689\"),{backgroundColor:\"white\"});\n\tviewer_16178616103374689.addModel(\"#############################################################\\n#             ______       _    _          _   \\t            #\\n#            (_____ \\\\     \\\\ \\\\  / /        | |               #\\n#             _____) )   _ \\\\ \\\\/ / |_  ____| |  \\t            #\\n#            |  ____/ | | | )  (|  _)/ _  | | \\t            #\\n#            | |    | |_| |/ /\\\\ \\\\ |_( (_| | |___            #\\n#            |_|     \\\\__  /_/  \\\\_\\\\___)__|_|_____)           #\\n#                   (____/                                  #\\n#---------------------(version    0.2.4)--------------------#\\n#       A Python package for random crystal generation      #\\n#       url: https://github.com/qzhu2017/pyxtal             #\\n#       @Zhu's group at University of Nevada Las Vegas      #\\n#############################################################\\ndata_from_pyxtal\\n\\n_symmetry_space_group_name_H-M 'P21/c'\\n_symmetry_Int_Tables_number                   14\\n_symmetry_cell_setting                monoclinic\\n_cell_length_a           11.233000\\n_cell_length_b            6.544000\\n_cell_length_c           11.231000\\n_cell_angle_alpha        90.000000\\n_cell_angle_beta         95.890000\\n_cell_angle_gamma        90.000000\\n\\nloop_\\n _symmetry_equiv_pos_site_id\\n _symmetry_equiv_pos_as_xyz\\n1 'x, y, z'\\n2 '-x, y+1/2, -z+1/2'\\n3 '-x, -y, -z'\\n4 'x, -y+1/2, z+1/2'\\n\\nloop_\\n _atom_site_label\\n _atom_site_type_symbol\\n _atom_site_symmetry_multiplicity\\n _atom_site_fract_x\\n _atom_site_fract_y\\n _atom_site_fract_z\\n _atom_site_occupancy\\nO      O        4     0.711400    0.417300    1.089000 1\\nO      O        4     0.876500    0.141000    1.052700 1\\nO      O        4     0.990200    0.187000    0.903400 1\\nO      O        4     0.597100    0.218500    0.963300 1\\nC      C        4     0.752700    0.516200    0.991200 1\\nC      C        4     0.846300    0.439700    0.933500 1\\nC      C        4     0.700200    0.702300    0.958600 1\\nC      C        4     0.884200    0.553700    0.838600 1\\nC      C        4     0.739100    0.812400    0.864800 1\\nC      C        4     0.831400    0.738000    0.805800 1\\nC      C        4     0.909700    0.243800    0.962800 1\\nC      C        4     0.632600    0.262700    1.062300 1\\nC      C        4     0.600700    0.160100    1.174000 1\\nH      H        4     0.630200    0.762300    1.009500 1\\nH      H        4     0.956700    0.493000    0.791700 1\\nH      H        4     0.698400    0.960400    0.840700 1\\nH      H        4     0.859400    0.826000    0.731200 1\\nH      H        4     0.538200    0.040000    1.145000 1\\nH      H        4     0.566000    0.265000    1.240000 1\\nH      H        4     0.680000    0.103000    1.224000 1\\nH      H        4     0.928700    0.014500    1.064200 1\\n#END\\n\\n\",\"cif\",{\"doAssembly\": true, \"duplicateAssemblyAtoms\": true, \"normalizeAssembly\": true});\n\tviewer_16178616103374689.setStyle({\"stick\": {\"colorscheme\": \"greenCarbon\"}});\n\tviewer_16178616103374689.addUnitCell();\n\tviewer_16178616103374689.replicateUnitCell(1,1,1);\n\tviewer_16178616103374689.zoomTo();\nviewer_16178616103374689.render();\n});\n</script>",
      "text/html": [
       "<div id=\"3dmolviewer_16178616103374689\"  style=\"position: relative; width: 600px; height: 300px\">\n",
       "        <p id=\"3dmolwarning_16178616103374689\" style=\"background-color:#ffcccc;color:black\">You appear to be running in JupyterLab (or JavaScript failed to load for some other reason).  You need to install the 3dmol extension: <br>\n",
       "        <tt>jupyter labextension install jupyterlab_3dmol</tt></p>\n",
       "        </div>\n",
       "<script>\n",
       "\n",
       "var loadScriptAsync = function(uri){\n",
       "  return new Promise((resolve, reject) => {\n",
       "    var tag = document.createElement('script');\n",
       "    tag.src = uri;\n",
       "    tag.async = true;\n",
       "    tag.onload = () => {\n",
       "      resolve();\n",
       "    };\n",
       "  var firstScriptTag = document.getElementsByTagName('script')[0];\n",
       "  firstScriptTag.parentNode.insertBefore(tag, firstScriptTag);\n",
       "});\n",
       "};\n",
       "\n",
       "if(typeof $3Dmolpromise === 'undefined') {\n",
       "$3Dmolpromise = null;\n",
       "  $3Dmolpromise = loadScriptAsync('https://3dmol.csb.pitt.edu/build/3Dmol.js');\n",
       "}\n",
       "\n",
       "var viewer_16178616103374689 = null;\n",
       "var warn = document.getElementById(\"3dmolwarning_16178616103374689\");\n",
       "if(warn) {\n",
       "    warn.parentNode.removeChild(warn);\n",
       "}\n",
       "$3Dmolpromise.then(function() {\n",
       "viewer_16178616103374689 = $3Dmol.createViewer($(\"#3dmolviewer_16178616103374689\"),{backgroundColor:\"white\"});\n",
       "\tviewer_16178616103374689.addModel(\"#############################################################\\n#             ______       _    _          _   \\t            #\\n#            (_____ \\\\     \\\\ \\\\  / /        | |               #\\n#             _____) )   _ \\\\ \\\\/ / |_  ____| |  \\t            #\\n#            |  ____/ | | | )  (|  _)/ _  | | \\t            #\\n#            | |    | |_| |/ /\\\\ \\\\ |_( (_| | |___            #\\n#            |_|     \\\\__  /_/  \\\\_\\\\___)__|_|_____)           #\\n#                   (____/                                  #\\n#---------------------(version    0.2.4)--------------------#\\n#       A Python package for random crystal generation      #\\n#       url: https://github.com/qzhu2017/pyxtal             #\\n#       @Zhu's group at University of Nevada Las Vegas      #\\n#############################################################\\ndata_from_pyxtal\\n\\n_symmetry_space_group_name_H-M 'P21/c'\\n_symmetry_Int_Tables_number                   14\\n_symmetry_cell_setting                monoclinic\\n_cell_length_a           11.233000\\n_cell_length_b            6.544000\\n_cell_length_c           11.231000\\n_cell_angle_alpha        90.000000\\n_cell_angle_beta         95.890000\\n_cell_angle_gamma        90.000000\\n\\nloop_\\n _symmetry_equiv_pos_site_id\\n _symmetry_equiv_pos_as_xyz\\n1 'x, y, z'\\n2 '-x, y+1/2, -z+1/2'\\n3 '-x, -y, -z'\\n4 'x, -y+1/2, z+1/2'\\n\\nloop_\\n _atom_site_label\\n _atom_site_type_symbol\\n _atom_site_symmetry_multiplicity\\n _atom_site_fract_x\\n _atom_site_fract_y\\n _atom_site_fract_z\\n _atom_site_occupancy\\nO      O        4     0.711400    0.417300    1.089000 1\\nO      O        4     0.876500    0.141000    1.052700 1\\nO      O        4     0.990200    0.187000    0.903400 1\\nO      O        4     0.597100    0.218500    0.963300 1\\nC      C        4     0.752700    0.516200    0.991200 1\\nC      C        4     0.846300    0.439700    0.933500 1\\nC      C        4     0.700200    0.702300    0.958600 1\\nC      C        4     0.884200    0.553700    0.838600 1\\nC      C        4     0.739100    0.812400    0.864800 1\\nC      C        4     0.831400    0.738000    0.805800 1\\nC      C        4     0.909700    0.243800    0.962800 1\\nC      C        4     0.632600    0.262700    1.062300 1\\nC      C        4     0.600700    0.160100    1.174000 1\\nH      H        4     0.630200    0.762300    1.009500 1\\nH      H        4     0.956700    0.493000    0.791700 1\\nH      H        4     0.698400    0.960400    0.840700 1\\nH      H        4     0.859400    0.826000    0.731200 1\\nH      H        4     0.538200    0.040000    1.145000 1\\nH      H        4     0.566000    0.265000    1.240000 1\\nH      H        4     0.680000    0.103000    1.224000 1\\nH      H        4     0.928700    0.014500    1.064200 1\\n#END\\n\\n\",\"cif\",{\"doAssembly\": true, \"duplicateAssemblyAtoms\": true, \"normalizeAssembly\": true});\n",
       "\tviewer_16178616103374689.setStyle({\"stick\": {\"colorscheme\": \"greenCarbon\"}});\n",
       "\tviewer_16178616103374689.addUnitCell();\n",
       "\tviewer_16178616103374689.replicateUnitCell(1,1,1);\n",
       "\tviewer_16178616103374689.zoomTo();\n",
       "viewer_16178616103374689.render();\n",
       "});\n",
       "</script>"
      ]
     },
     "metadata": {},
     "output_type": "display_data"
    },
    {
     "data": {
      "text/plain": [
       "<py3Dmol.view at 0x7f8f02ffa8d0>"
      ]
     },
     "execution_count": 10,
     "metadata": {},
     "output_type": "execute_result"
    }
   ],
   "source": [
    "from pyxtal import pyxtal\n",
    "\n",
    "C1 = pyxtal(molecular=True)\n",
    "C1.from_seed(seed=\"aspirin.cif\", molecule=\"aspirin\")\n",
    "print(C1)\n",
    "C1.show()"
   ]
  },
  {
   "cell_type": "code",
   "execution_count": 11,
   "metadata": {},
   "outputs": [
    {
     "name": "stdout",
     "output_type": "stream",
     "text": [
      "\n",
      "------Crystal from Seed------\n",
      "Dimension: 3\n",
      "Composition: [aspirin]4\n",
      "Group: P21/n (14)\n",
      "monoclinic lattice:  11.2330   6.5440  15.0474  90.0000  47.9393  90.0000\n",
      "Wyckoff sites:\n",
      "\tH8C9O4 @ [ 0.7754  0.4218  0.9832]  WP:  4e, Site symmetry 1 ==> Euler:  0.000  0.000  0.000\n"
     ]
    },
    {
     "data": {
      "application/3dmoljs_load.v0": "<div id=\"3dmolviewer_1617861610385504\"  style=\"position: relative; width: 600px; height: 300px\">\n        <p id=\"3dmolwarning_1617861610385504\" style=\"background-color:#ffcccc;color:black\">You appear to be running in JupyterLab (or JavaScript failed to load for some other reason).  You need to install the 3dmol extension: <br>\n        <tt>jupyter labextension install jupyterlab_3dmol</tt></p>\n        </div>\n<script>\n\nvar loadScriptAsync = function(uri){\n  return new Promise((resolve, reject) => {\n    var tag = document.createElement('script');\n    tag.src = uri;\n    tag.async = true;\n    tag.onload = () => {\n      resolve();\n    };\n  var firstScriptTag = document.getElementsByTagName('script')[0];\n  firstScriptTag.parentNode.insertBefore(tag, firstScriptTag);\n});\n};\n\nif(typeof $3Dmolpromise === 'undefined') {\n$3Dmolpromise = null;\n  $3Dmolpromise = loadScriptAsync('https://3dmol.csb.pitt.edu/build/3Dmol.js');\n}\n\nvar viewer_1617861610385504 = null;\nvar warn = document.getElementById(\"3dmolwarning_1617861610385504\");\nif(warn) {\n    warn.parentNode.removeChild(warn);\n}\n$3Dmolpromise.then(function() {\nviewer_1617861610385504 = $3Dmol.createViewer($(\"#3dmolviewer_1617861610385504\"),{backgroundColor:\"white\"});\n\tviewer_1617861610385504.addModel(\"#############################################################\\n#             ______       _    _          _   \\t            #\\n#            (_____ \\\\     \\\\ \\\\  / /        | |               #\\n#             _____) )   _ \\\\ \\\\/ / |_  ____| |  \\t            #\\n#            |  ____/ | | | )  (|  _)/ _  | | \\t            #\\n#            | |    | |_| |/ /\\\\ \\\\ |_( (_| | |___            #\\n#            |_|     \\\\__  /_/  \\\\_\\\\___)__|_|_____)           #\\n#                   (____/                                  #\\n#---------------------(version    0.2.4)--------------------#\\n#       A Python package for random crystal generation      #\\n#       url: https://github.com/qzhu2017/pyxtal             #\\n#       @Zhu's group at University of Nevada Las Vegas      #\\n#############################################################\\ndata_from_pyxtal\\n\\n_symmetry_space_group_name_H-M 'P21/n'\\n_symmetry_Int_Tables_number                   14\\n_symmetry_cell_setting                monoclinic\\n_cell_length_a           11.233000\\n_cell_length_b            6.544000\\n_cell_length_c           15.047368\\n_cell_angle_alpha        90.000000\\n_cell_angle_beta         47.939346\\n_cell_angle_gamma        90.000000\\n\\nloop_\\n _symmetry_equiv_pos_site_id\\n _symmetry_equiv_pos_as_xyz\\n1 'x, y, z'\\n2 '-x+1/2, y+1/2, -z+1/2'\\n3 '-x, -y, -z'\\n4 'x+1/2, -y+1/2, z+1/2'\\n\\nloop_\\n _atom_site_label\\n _atom_site_type_symbol\\n _atom_site_symmetry_multiplicity\\n _atom_site_fract_x\\n _atom_site_fract_y\\n _atom_site_fract_z\\n _atom_site_occupancy\\nO      O        4     0.622400    0.417300    1.089000 1\\nO      O        4     0.823800    0.141000    1.052700 1\\nO      O        4     1.086800    0.187000    0.903400 1\\nO      O        4     0.633800    0.218500    0.963300 1\\nC      C        4     0.761500    0.516200    0.991200 1\\nC      C        4     0.912800    0.439700    0.933500 1\\nC      C        4     0.741600    0.702300    0.958600 1\\nC      C        4     1.045600    0.553700    0.838600 1\\nC      C        4     0.874300    0.812400    0.864800 1\\nC      C        4     1.025600    0.738000    0.805800 1\\nC      C        4     0.946900    0.243800    0.962800 1\\nC      C        4     0.570300    0.262700    1.062300 1\\nC      C        4     0.426700    0.160100    1.174000 1\\nH      H        4     0.620700    0.762300    1.009500 1\\nH      H        4     1.165000    0.493000    0.791700 1\\nH      H        4     0.857700    0.960400    0.840700 1\\nH      H        4     1.128200    0.826000    0.731200 1\\nH      H        4     0.393200    0.040000    1.145000 1\\nH      H        4     0.326000    0.265000    1.240000 1\\nH      H        4     0.456000    0.103000    1.224000 1\\nH      H        4     0.864500    0.014500    1.064200 1\\n#END\\n\\n\",\"cif\",{\"doAssembly\": true, \"duplicateAssemblyAtoms\": true, \"normalizeAssembly\": true});\n\tviewer_1617861610385504.setStyle({\"stick\": {\"colorscheme\": \"greenCarbon\"}});\n\tviewer_1617861610385504.addUnitCell();\n\tviewer_1617861610385504.replicateUnitCell(1,1,1);\n\tviewer_1617861610385504.zoomTo();\nviewer_1617861610385504.render();\n});\n</script>",
      "text/html": [
       "<div id=\"3dmolviewer_1617861610385504\"  style=\"position: relative; width: 600px; height: 300px\">\n",
       "        <p id=\"3dmolwarning_1617861610385504\" style=\"background-color:#ffcccc;color:black\">You appear to be running in JupyterLab (or JavaScript failed to load for some other reason).  You need to install the 3dmol extension: <br>\n",
       "        <tt>jupyter labextension install jupyterlab_3dmol</tt></p>\n",
       "        </div>\n",
       "<script>\n",
       "\n",
       "var loadScriptAsync = function(uri){\n",
       "  return new Promise((resolve, reject) => {\n",
       "    var tag = document.createElement('script');\n",
       "    tag.src = uri;\n",
       "    tag.async = true;\n",
       "    tag.onload = () => {\n",
       "      resolve();\n",
       "    };\n",
       "  var firstScriptTag = document.getElementsByTagName('script')[0];\n",
       "  firstScriptTag.parentNode.insertBefore(tag, firstScriptTag);\n",
       "});\n",
       "};\n",
       "\n",
       "if(typeof $3Dmolpromise === 'undefined') {\n",
       "$3Dmolpromise = null;\n",
       "  $3Dmolpromise = loadScriptAsync('https://3dmol.csb.pitt.edu/build/3Dmol.js');\n",
       "}\n",
       "\n",
       "var viewer_1617861610385504 = null;\n",
       "var warn = document.getElementById(\"3dmolwarning_1617861610385504\");\n",
       "if(warn) {\n",
       "    warn.parentNode.removeChild(warn);\n",
       "}\n",
       "$3Dmolpromise.then(function() {\n",
       "viewer_1617861610385504 = $3Dmol.createViewer($(\"#3dmolviewer_1617861610385504\"),{backgroundColor:\"white\"});\n",
       "\tviewer_1617861610385504.addModel(\"#############################################################\\n#             ______       _    _          _   \\t            #\\n#            (_____ \\\\     \\\\ \\\\  / /        | |               #\\n#             _____) )   _ \\\\ \\\\/ / |_  ____| |  \\t            #\\n#            |  ____/ | | | )  (|  _)/ _  | | \\t            #\\n#            | |    | |_| |/ /\\\\ \\\\ |_( (_| | |___            #\\n#            |_|     \\\\__  /_/  \\\\_\\\\___)__|_|_____)           #\\n#                   (____/                                  #\\n#---------------------(version    0.2.4)--------------------#\\n#       A Python package for random crystal generation      #\\n#       url: https://github.com/qzhu2017/pyxtal             #\\n#       @Zhu's group at University of Nevada Las Vegas      #\\n#############################################################\\ndata_from_pyxtal\\n\\n_symmetry_space_group_name_H-M 'P21/n'\\n_symmetry_Int_Tables_number                   14\\n_symmetry_cell_setting                monoclinic\\n_cell_length_a           11.233000\\n_cell_length_b            6.544000\\n_cell_length_c           15.047368\\n_cell_angle_alpha        90.000000\\n_cell_angle_beta         47.939346\\n_cell_angle_gamma        90.000000\\n\\nloop_\\n _symmetry_equiv_pos_site_id\\n _symmetry_equiv_pos_as_xyz\\n1 'x, y, z'\\n2 '-x+1/2, y+1/2, -z+1/2'\\n3 '-x, -y, -z'\\n4 'x+1/2, -y+1/2, z+1/2'\\n\\nloop_\\n _atom_site_label\\n _atom_site_type_symbol\\n _atom_site_symmetry_multiplicity\\n _atom_site_fract_x\\n _atom_site_fract_y\\n _atom_site_fract_z\\n _atom_site_occupancy\\nO      O        4     0.622400    0.417300    1.089000 1\\nO      O        4     0.823800    0.141000    1.052700 1\\nO      O        4     1.086800    0.187000    0.903400 1\\nO      O        4     0.633800    0.218500    0.963300 1\\nC      C        4     0.761500    0.516200    0.991200 1\\nC      C        4     0.912800    0.439700    0.933500 1\\nC      C        4     0.741600    0.702300    0.958600 1\\nC      C        4     1.045600    0.553700    0.838600 1\\nC      C        4     0.874300    0.812400    0.864800 1\\nC      C        4     1.025600    0.738000    0.805800 1\\nC      C        4     0.946900    0.243800    0.962800 1\\nC      C        4     0.570300    0.262700    1.062300 1\\nC      C        4     0.426700    0.160100    1.174000 1\\nH      H        4     0.620700    0.762300    1.009500 1\\nH      H        4     1.165000    0.493000    0.791700 1\\nH      H        4     0.857700    0.960400    0.840700 1\\nH      H        4     1.128200    0.826000    0.731200 1\\nH      H        4     0.393200    0.040000    1.145000 1\\nH      H        4     0.326000    0.265000    1.240000 1\\nH      H        4     0.456000    0.103000    1.224000 1\\nH      H        4     0.864500    0.014500    1.064200 1\\n#END\\n\\n\",\"cif\",{\"doAssembly\": true, \"duplicateAssemblyAtoms\": true, \"normalizeAssembly\": true});\n",
       "\tviewer_1617861610385504.setStyle({\"stick\": {\"colorscheme\": \"greenCarbon\"}});\n",
       "\tviewer_1617861610385504.addUnitCell();\n",
       "\tviewer_1617861610385504.replicateUnitCell(1,1,1);\n",
       "\tviewer_1617861610385504.zoomTo();\n",
       "viewer_1617861610385504.render();\n",
       "});\n",
       "</script>"
      ]
     },
     "metadata": {},
     "output_type": "display_data"
    },
    {
     "data": {
      "text/plain": [
       "<py3Dmol.view at 0x7f8efadca810>"
      ]
     },
     "execution_count": 11,
     "metadata": {},
     "output_type": "execute_result"
    }
   ],
   "source": [
    "# Now we apply the cell transformation \n",
    "C1.transform([[1,0,0],[0,1,0],[1,0,1]])\n",
    "print(C1)\n",
    "C1.show()"
   ]
  },
  {
   "cell_type": "code",
   "execution_count": 12,
   "metadata": {},
   "outputs": [
    {
     "name": "stdout",
     "output_type": "stream",
     "text": [
      "from p21/n to p21/c\n",
      "\n",
      "------Crystal from Seed------\n",
      "Dimension: 3\n",
      "Composition: [aspirin]4\n",
      "Group: P21/c (14)\n",
      "monoclinic lattice:  11.2330   6.5440  11.2310  90.0000  95.8900  90.0000\n",
      "Wyckoff sites:\n",
      "\tH8C9O4 @ [ 0.7586  0.4218  0.9832]  WP:  4e, Site symmetry 1 ==> Euler:  0.000  0.000  0.000\n"
     ]
    },
    {
     "data": {
      "application/3dmoljs_load.v0": "<div id=\"3dmolviewer_1617861610438878\"  style=\"position: relative; width: 600px; height: 300px\">\n        <p id=\"3dmolwarning_1617861610438878\" style=\"background-color:#ffcccc;color:black\">You appear to be running in JupyterLab (or JavaScript failed to load for some other reason).  You need to install the 3dmol extension: <br>\n        <tt>jupyter labextension install jupyterlab_3dmol</tt></p>\n        </div>\n<script>\n\nvar loadScriptAsync = function(uri){\n  return new Promise((resolve, reject) => {\n    var tag = document.createElement('script');\n    tag.src = uri;\n    tag.async = true;\n    tag.onload = () => {\n      resolve();\n    };\n  var firstScriptTag = document.getElementsByTagName('script')[0];\n  firstScriptTag.parentNode.insertBefore(tag, firstScriptTag);\n});\n};\n\nif(typeof $3Dmolpromise === 'undefined') {\n$3Dmolpromise = null;\n  $3Dmolpromise = loadScriptAsync('https://3dmol.csb.pitt.edu/build/3Dmol.js');\n}\n\nvar viewer_1617861610438878 = null;\nvar warn = document.getElementById(\"3dmolwarning_1617861610438878\");\nif(warn) {\n    warn.parentNode.removeChild(warn);\n}\n$3Dmolpromise.then(function() {\nviewer_1617861610438878 = $3Dmol.createViewer($(\"#3dmolviewer_1617861610438878\"),{backgroundColor:\"white\"});\n\tviewer_1617861610438878.addModel(\"#############################################################\\n#             ______       _    _          _   \\t            #\\n#            (_____ \\\\     \\\\ \\\\  / /        | |               #\\n#             _____) )   _ \\\\ \\\\/ / |_  ____| |  \\t            #\\n#            |  ____/ | | | )  (|  _)/ _  | | \\t            #\\n#            | |    | |_| |/ /\\\\ \\\\ |_( (_| | |___            #\\n#            |_|     \\\\__  /_/  \\\\_\\\\___)__|_|_____)           #\\n#                   (____/                                  #\\n#---------------------(version    0.2.4)--------------------#\\n#       A Python package for random crystal generation      #\\n#       url: https://github.com/qzhu2017/pyxtal             #\\n#       @Zhu's group at University of Nevada Las Vegas      #\\n#############################################################\\ndata_from_pyxtal\\n\\n_symmetry_space_group_name_H-M 'P21/c'\\n_symmetry_Int_Tables_number                   14\\n_symmetry_cell_setting                monoclinic\\n_cell_length_a           11.233000\\n_cell_length_b            6.544000\\n_cell_length_c           11.231000\\n_cell_angle_alpha        90.000000\\n_cell_angle_beta         95.890000\\n_cell_angle_gamma        90.000000\\n\\nloop_\\n _symmetry_equiv_pos_site_id\\n _symmetry_equiv_pos_as_xyz\\n1 'x, y, z'\\n2 '-x+1/2, y+1/2, -z+1/2'\\n3 '-x, -y, -z'\\n4 'x+1/2, -y+1/2, z+1/2'\\n\\nloop_\\n _atom_site_label\\n _atom_site_type_symbol\\n _atom_site_symmetry_multiplicity\\n _atom_site_fract_x\\n _atom_site_fract_y\\n _atom_site_fract_z\\n _atom_site_occupancy\\nO      O        4     0.711400    0.417300    1.089000 1\\nO      O        4     0.876500    0.141000    1.052700 1\\nO      O        4     0.990200    0.187000    0.903400 1\\nO      O        4     0.597100    0.218500    0.963300 1\\nC      C        4     0.752700    0.516200    0.991200 1\\nC      C        4     0.846300    0.439700    0.933500 1\\nC      C        4     0.700200    0.702300    0.958600 1\\nC      C        4     0.884200    0.553700    0.838600 1\\nC      C        4     0.739100    0.812400    0.864800 1\\nC      C        4     0.831400    0.738000    0.805800 1\\nC      C        4     0.909700    0.243800    0.962800 1\\nC      C        4     0.632600    0.262700    1.062300 1\\nC      C        4     0.600700    0.160100    1.174000 1\\nH      H        4     0.630200    0.762300    1.009500 1\\nH      H        4     0.956700    0.493000    0.791700 1\\nH      H        4     0.698400    0.960400    0.840700 1\\nH      H        4     0.859400    0.826000    0.731200 1\\nH      H        4     0.538200    0.040000    1.145000 1\\nH      H        4     0.566000    0.265000    1.240000 1\\nH      H        4     0.680000    0.103000    1.224000 1\\nH      H        4     0.928700    0.014500    1.064200 1\\n#END\\n\\n\",\"cif\",{\"doAssembly\": true, \"duplicateAssemblyAtoms\": true, \"normalizeAssembly\": true});\n\tviewer_1617861610438878.setStyle({\"stick\": {\"colorscheme\": \"greenCarbon\"}});\n\tviewer_1617861610438878.addUnitCell();\n\tviewer_1617861610438878.replicateUnitCell(1,1,1);\n\tviewer_1617861610438878.zoomTo();\nviewer_1617861610438878.render();\n});\n</script>",
      "text/html": [
       "<div id=\"3dmolviewer_1617861610438878\"  style=\"position: relative; width: 600px; height: 300px\">\n",
       "        <p id=\"3dmolwarning_1617861610438878\" style=\"background-color:#ffcccc;color:black\">You appear to be running in JupyterLab (or JavaScript failed to load for some other reason).  You need to install the 3dmol extension: <br>\n",
       "        <tt>jupyter labextension install jupyterlab_3dmol</tt></p>\n",
       "        </div>\n",
       "<script>\n",
       "\n",
       "var loadScriptAsync = function(uri){\n",
       "  return new Promise((resolve, reject) => {\n",
       "    var tag = document.createElement('script');\n",
       "    tag.src = uri;\n",
       "    tag.async = true;\n",
       "    tag.onload = () => {\n",
       "      resolve();\n",
       "    };\n",
       "  var firstScriptTag = document.getElementsByTagName('script')[0];\n",
       "  firstScriptTag.parentNode.insertBefore(tag, firstScriptTag);\n",
       "});\n",
       "};\n",
       "\n",
       "if(typeof $3Dmolpromise === 'undefined') {\n",
       "$3Dmolpromise = null;\n",
       "  $3Dmolpromise = loadScriptAsync('https://3dmol.csb.pitt.edu/build/3Dmol.js');\n",
       "}\n",
       "\n",
       "var viewer_1617861610438878 = null;\n",
       "var warn = document.getElementById(\"3dmolwarning_1617861610438878\");\n",
       "if(warn) {\n",
       "    warn.parentNode.removeChild(warn);\n",
       "}\n",
       "$3Dmolpromise.then(function() {\n",
       "viewer_1617861610438878 = $3Dmol.createViewer($(\"#3dmolviewer_1617861610438878\"),{backgroundColor:\"white\"});\n",
       "\tviewer_1617861610438878.addModel(\"#############################################################\\n#             ______       _    _          _   \\t            #\\n#            (_____ \\\\     \\\\ \\\\  / /        | |               #\\n#             _____) )   _ \\\\ \\\\/ / |_  ____| |  \\t            #\\n#            |  ____/ | | | )  (|  _)/ _  | | \\t            #\\n#            | |    | |_| |/ /\\\\ \\\\ |_( (_| | |___            #\\n#            |_|     \\\\__  /_/  \\\\_\\\\___)__|_|_____)           #\\n#                   (____/                                  #\\n#---------------------(version    0.2.4)--------------------#\\n#       A Python package for random crystal generation      #\\n#       url: https://github.com/qzhu2017/pyxtal             #\\n#       @Zhu's group at University of Nevada Las Vegas      #\\n#############################################################\\ndata_from_pyxtal\\n\\n_symmetry_space_group_name_H-M 'P21/c'\\n_symmetry_Int_Tables_number                   14\\n_symmetry_cell_setting                monoclinic\\n_cell_length_a           11.233000\\n_cell_length_b            6.544000\\n_cell_length_c           11.231000\\n_cell_angle_alpha        90.000000\\n_cell_angle_beta         95.890000\\n_cell_angle_gamma        90.000000\\n\\nloop_\\n _symmetry_equiv_pos_site_id\\n _symmetry_equiv_pos_as_xyz\\n1 'x, y, z'\\n2 '-x+1/2, y+1/2, -z+1/2'\\n3 '-x, -y, -z'\\n4 'x+1/2, -y+1/2, z+1/2'\\n\\nloop_\\n _atom_site_label\\n _atom_site_type_symbol\\n _atom_site_symmetry_multiplicity\\n _atom_site_fract_x\\n _atom_site_fract_y\\n _atom_site_fract_z\\n _atom_site_occupancy\\nO      O        4     0.711400    0.417300    1.089000 1\\nO      O        4     0.876500    0.141000    1.052700 1\\nO      O        4     0.990200    0.187000    0.903400 1\\nO      O        4     0.597100    0.218500    0.963300 1\\nC      C        4     0.752700    0.516200    0.991200 1\\nC      C        4     0.846300    0.439700    0.933500 1\\nC      C        4     0.700200    0.702300    0.958600 1\\nC      C        4     0.884200    0.553700    0.838600 1\\nC      C        4     0.739100    0.812400    0.864800 1\\nC      C        4     0.831400    0.738000    0.805800 1\\nC      C        4     0.909700    0.243800    0.962800 1\\nC      C        4     0.632600    0.262700    1.062300 1\\nC      C        4     0.600700    0.160100    1.174000 1\\nH      H        4     0.630200    0.762300    1.009500 1\\nH      H        4     0.956700    0.493000    0.791700 1\\nH      H        4     0.698400    0.960400    0.840700 1\\nH      H        4     0.859400    0.826000    0.731200 1\\nH      H        4     0.538200    0.040000    1.145000 1\\nH      H        4     0.566000    0.265000    1.240000 1\\nH      H        4     0.680000    0.103000    1.224000 1\\nH      H        4     0.928700    0.014500    1.064200 1\\n#END\\n\\n\",\"cif\",{\"doAssembly\": true, \"duplicateAssemblyAtoms\": true, \"normalizeAssembly\": true});\n",
       "\tviewer_1617861610438878.setStyle({\"stick\": {\"colorscheme\": \"greenCarbon\"}});\n",
       "\tviewer_1617861610438878.addUnitCell();\n",
       "\tviewer_1617861610438878.replicateUnitCell(1,1,1);\n",
       "\tviewer_1617861610438878.zoomTo();\n",
       "viewer_1617861610438878.render();\n",
       "});\n",
       "</script>"
      ]
     },
     "metadata": {},
     "output_type": "display_data"
    },
    {
     "data": {
      "text/plain": [
       "<py3Dmol.view at 0x7f8f03502490>"
      ]
     },
     "execution_count": 12,
     "metadata": {},
     "output_type": "execute_result"
    }
   ],
   "source": [
    "# We can always use the optimize_lattice function to \n",
    "# change it to a cell reprentation that has an inclination \n",
    "# angle close to 90 degree\n",
    "\n",
    "C1.optimize_lattice()\n",
    "print(C1)\n",
    "C1.show()"
   ]
  }
 ],
 "metadata": {
  "@webio": {
   "lastCommId": null,
   "lastKernelId": null
  },
  "kernelspec": {
   "display_name": "Python 3",
   "language": "python",
   "name": "python3"
  },
  "language_info": {
   "codemirror_mode": {
    "name": "ipython",
    "version": 3
   },
   "file_extension": ".py",
   "mimetype": "text/x-python",
   "name": "python",
   "nbconvert_exporter": "python",
   "pygments_lexer": "ipython3",
   "version": "3.7.4"
  }
 },
 "nbformat": 4,
 "nbformat_minor": 2
}
