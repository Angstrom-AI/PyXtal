{
 "cells": [
  {
   "cell_type": "markdown",
   "metadata": {},
   "source": [
    "# Tutorial for the molecular crystal module in PyXtal\n",
    "\n",
    "Source code: https://github.com/qzhu2017/PyXtal\n",
    "\n",
    "Created by Qiang Zhu"
   ]
  },
  {
   "cell_type": "markdown",
   "metadata": {},
   "source": [
    "# 2.1 Generate a random crystal\n",
    "\n",
    "To use the code, just import the following module\n",
    "```python\n",
    "from pyxtal.molecular_crystal import molecular_crystal\n",
    "```\n",
    "\n",
    "from pyxtal.molecular_crystal import molecular_crystal\n",
    "Ideally, one just needs to define the following parameters:\n",
    "- space group: integer number from 1 to 230\n",
    "- molecules: a list of molecules, e.g. ['H2O']\n",
    "- number of molecules: a list of numbers, e.g. [4]\n",
    "\n",
    "More details can be found at the following [link](https://pyxtal.readthedocs.io/en/latest/pyxtal.molecular_crystal.html#pyxtal.molecular_crystal.molecular_crystal)"
   ]
  },
  {
   "cell_type": "code",
   "execution_count": 1,
   "metadata": {},
   "outputs": [
    {
     "name": "stdout",
     "output_type": "stream",
     "text": [
      "------Random Molecular Crystal------\n",
      "Dimension: 3\n",
      "Group: P212121\n",
      "Volume factor: 1.1\n",
      "orthorhombic lattice:   6.2182   4.4504   6.2954  90.0000  90.0000  90.0000\n",
      "Wyckoff sites:\n",
      "\tH2O1 @ [0.3352 0.6328 0.8659]  WP:  4a, Site symmetry 1 ==> Euler: -131.958 -53.091 33.163\n"
     ]
    }
   ],
   "source": [
    "from pyxtal.molecular_crystal import molecular_crystal\n",
    "\n",
    "h2o = molecular_crystal(19, ['H2O'], [4])\n",
    "print(h2o)"
   ]
  },
  {
   "cell_type": "code",
   "execution_count": 2,
   "metadata": {},
   "outputs": [
    {
     "data": {
      "application/3dmoljs_load.v0": "<div id=\"3dmolviewer_1598665643620213\"  style=\"position: relative; width: 600px; height: 300px\">\n        <p id=\"3dmolwarning_1598665643620213\" style=\"background-color:#ffcccc;color:black\">You appear to be running in JupyterLab (or JavaScript failed to load for some other reason).  You need to install the 3dmol extension: <br>\n        <tt>jupyter labextension install jupyterlab_3dmol</tt></p>\n        </div>\n<script>\n\nvar loadScriptAsync = function(uri){\n  return new Promise((resolve, reject) => {\n    var tag = document.createElement('script');\n    tag.src = uri;\n    tag.async = true;\n    tag.onload = () => {\n      resolve();\n    };\n  var firstScriptTag = document.getElementsByTagName('script')[0];\n  firstScriptTag.parentNode.insertBefore(tag, firstScriptTag);\n});\n};\n\nif(typeof $3Dmolpromise === 'undefined') {\n$3Dmolpromise = null;\n  $3Dmolpromise = loadScriptAsync('https://3dmol.csb.pitt.edu/build/3Dmol.js');\n}\n\nvar viewer_1598665643620213 = null;\nvar warn = document.getElementById(\"3dmolwarning_1598665643620213\");\nif(warn) {\n    warn.parentNode.removeChild(warn);\n}\n$3Dmolpromise.then(function() {\nviewer_1598665643620213 = $3Dmol.createViewer($(\"#3dmolviewer_1598665643620213\"),{backgroundColor:\"white\"});\n\tviewer_1598665643620213.addModel(\"#############################################################\\n#             ______       _    _          _   \\t            #\\n#            (_____ \\\\     \\\\ \\\\  / /        | |               #\\n#             _____) )   _ \\\\ \\\\/ / |_  ____| |  \\t            #\\n#            |  ____/ | | | )  (|  _)/ _  | | \\t            #\\n#            | |    | |_| |/ /\\\\ \\\\ |_( (_| | |___            #\\n#            |_|     \\\\__  /_/  \\\\_\\\\___)__|_|_____)           #\\n#                   (____/                                  #\\n#---------------------(version    0.0.8)--------------------#\\n#       A Python package for random crystal generation      #\\n#       url: https://github.com/qzhu2017/pyxtal             #\\n#       @Zhu's group at University of Nevada Las Vegas      #\\n#############################################################\\ndata_from_pyxtal\\n\\n_symmetry_space_group_name_H-M 'P212121'\\n_symmetry_Int_Tables_number                   19\\n_symmetry_cell_setting              orthorhombic\\n_cell_length_a            6.218186\\n_cell_length_b            4.450374\\n_cell_length_c            6.295449\\n_cell_angle_alpha        90.000000\\n_cell_angle_beta         90.000000\\n_cell_angle_gamma        90.000000\\n\\nloop_\\n _symmetry_equiv_pos_site_id\\n _symmetry_equiv_pos_as_xyz\\n1 'x, y, z'\\n2 '-x+1/2, -y, z+1/2'\\n3 '-x, y+1/2, -z+1/2'\\n4 'x+1/2, -y+1/2, -z'\\n\\nloop_\\n _atom_site_label\\n _atom_site_fract_x\\n _atom_site_fract_y\\n _atom_site_fract_z\\n _atom_site_occupancy\\nO           0.327279    0.624534    0.870046 1\\nH           0.371891    0.825169    0.910456 1\\nH           0.424864    0.570988    0.756170 1\\n#END\\n\\n\",\"cif\",{\"doAssembly\": true, \"duplicateAssemblyAtoms\": true, \"normalizeAssembly\": true});\n\tviewer_1598665643620213.setStyle({\"stick\": {\"colorscheme\": \"greenCarbon\"}});\n\tviewer_1598665643620213.addUnitCell();\n\tviewer_1598665643620213.replicateUnitCell(1,1,1);\n\tviewer_1598665643620213.zoomTo();\nviewer_1598665643620213.render();\n});\n</script>",
      "text/html": [
       "<div id=\"3dmolviewer_1598665643620213\"  style=\"position: relative; width: 600px; height: 300px\">\n",
       "        <p id=\"3dmolwarning_1598665643620213\" style=\"background-color:#ffcccc;color:black\">You appear to be running in JupyterLab (or JavaScript failed to load for some other reason).  You need to install the 3dmol extension: <br>\n",
       "        <tt>jupyter labextension install jupyterlab_3dmol</tt></p>\n",
       "        </div>\n",
       "<script>\n",
       "\n",
       "var loadScriptAsync = function(uri){\n",
       "  return new Promise((resolve, reject) => {\n",
       "    var tag = document.createElement('script');\n",
       "    tag.src = uri;\n",
       "    tag.async = true;\n",
       "    tag.onload = () => {\n",
       "      resolve();\n",
       "    };\n",
       "  var firstScriptTag = document.getElementsByTagName('script')[0];\n",
       "  firstScriptTag.parentNode.insertBefore(tag, firstScriptTag);\n",
       "});\n",
       "};\n",
       "\n",
       "if(typeof $3Dmolpromise === 'undefined') {\n",
       "$3Dmolpromise = null;\n",
       "  $3Dmolpromise = loadScriptAsync('https://3dmol.csb.pitt.edu/build/3Dmol.js');\n",
       "}\n",
       "\n",
       "var viewer_1598665643620213 = null;\n",
       "var warn = document.getElementById(\"3dmolwarning_1598665643620213\");\n",
       "if(warn) {\n",
       "    warn.parentNode.removeChild(warn);\n",
       "}\n",
       "$3Dmolpromise.then(function() {\n",
       "viewer_1598665643620213 = $3Dmol.createViewer($(\"#3dmolviewer_1598665643620213\"),{backgroundColor:\"white\"});\n",
       "\tviewer_1598665643620213.addModel(\"#############################################################\\n#             ______       _    _          _   \\t            #\\n#            (_____ \\\\     \\\\ \\\\  / /        | |               #\\n#             _____) )   _ \\\\ \\\\/ / |_  ____| |  \\t            #\\n#            |  ____/ | | | )  (|  _)/ _  | | \\t            #\\n#            | |    | |_| |/ /\\\\ \\\\ |_( (_| | |___            #\\n#            |_|     \\\\__  /_/  \\\\_\\\\___)__|_|_____)           #\\n#                   (____/                                  #\\n#---------------------(version    0.0.8)--------------------#\\n#       A Python package for random crystal generation      #\\n#       url: https://github.com/qzhu2017/pyxtal             #\\n#       @Zhu's group at University of Nevada Las Vegas      #\\n#############################################################\\ndata_from_pyxtal\\n\\n_symmetry_space_group_name_H-M 'P212121'\\n_symmetry_Int_Tables_number                   19\\n_symmetry_cell_setting              orthorhombic\\n_cell_length_a            6.218186\\n_cell_length_b            4.450374\\n_cell_length_c            6.295449\\n_cell_angle_alpha        90.000000\\n_cell_angle_beta         90.000000\\n_cell_angle_gamma        90.000000\\n\\nloop_\\n _symmetry_equiv_pos_site_id\\n _symmetry_equiv_pos_as_xyz\\n1 'x, y, z'\\n2 '-x+1/2, -y, z+1/2'\\n3 '-x, y+1/2, -z+1/2'\\n4 'x+1/2, -y+1/2, -z'\\n\\nloop_\\n _atom_site_label\\n _atom_site_fract_x\\n _atom_site_fract_y\\n _atom_site_fract_z\\n _atom_site_occupancy\\nO           0.327279    0.624534    0.870046 1\\nH           0.371891    0.825169    0.910456 1\\nH           0.424864    0.570988    0.756170 1\\n#END\\n\\n\",\"cif\",{\"doAssembly\": true, \"duplicateAssemblyAtoms\": true, \"normalizeAssembly\": true});\n",
       "\tviewer_1598665643620213.setStyle({\"stick\": {\"colorscheme\": \"greenCarbon\"}});\n",
       "\tviewer_1598665643620213.addUnitCell();\n",
       "\tviewer_1598665643620213.replicateUnitCell(1,1,1);\n",
       "\tviewer_1598665643620213.zoomTo();\n",
       "viewer_1598665643620213.render();\n",
       "});\n",
       "</script>"
      ]
     },
     "metadata": {},
     "output_type": "display_data"
    },
    {
     "data": {
      "text/plain": [
       "<py3Dmol.view at 0x230f8d690>"
      ]
     },
     "execution_count": 2,
     "metadata": {},
     "output_type": "execute_result"
    }
   ],
   "source": [
    "#display the structure\n",
    "h2o.show()\n",
    "\n",
    "#The crystal can also be exported to pymatgen or ase structure.\n",
    "#pmg_struc = h2o.to_pymatgen()\n",
    "#ase_struc = h2o.to_ase()"
   ]
  },
  {
   "cell_type": "code",
   "execution_count": 3,
   "metadata": {},
   "outputs": [
    {
     "data": {
      "application/3dmoljs_load.v0": "<div id=\"3dmolviewer_1598665643637899\"  style=\"position: relative; width: 400px; height: 300px\">\n        <p id=\"3dmolwarning_1598665643637899\" style=\"background-color:#ffcccc;color:black\">You appear to be running in JupyterLab (or JavaScript failed to load for some other reason).  You need to install the 3dmol extension: <br>\n        <tt>jupyter labextension install jupyterlab_3dmol</tt></p>\n        </div>\n<script>\n\nvar loadScriptAsync = function(uri){\n  return new Promise((resolve, reject) => {\n    var tag = document.createElement('script');\n    tag.src = uri;\n    tag.async = true;\n    tag.onload = () => {\n      resolve();\n    };\n  var firstScriptTag = document.getElementsByTagName('script')[0];\n  firstScriptTag.parentNode.insertBefore(tag, firstScriptTag);\n});\n};\n\nif(typeof $3Dmolpromise === 'undefined') {\n$3Dmolpromise = null;\n  $3Dmolpromise = loadScriptAsync('https://3dmol.csb.pitt.edu/build/3Dmol.js');\n}\n\nvar viewer_1598665643637899 = null;\nvar warn = document.getElementById(\"3dmolwarning_1598665643637899\");\nif(warn) {\n    warn.parentNode.removeChild(warn);\n}\n$3Dmolpromise.then(function() {\nviewer_1598665643637899 = $3Dmol.createViewer($(\"#3dmolviewer_1598665643637899\"),{backgroundColor:\"white\"});\n\tviewer_1598665643637899.addModelsAsFrames(\"#############################################################\\n#             ______       _    _          _   \\t            #\\n#            (_____ \\\\     \\\\ \\\\  / /        | |               #\\n#             _____) )   _ \\\\ \\\\/ / |_  ____| |  \\t            #\\n#            |  ____/ | | | )  (|  _)/ _  | | \\t            #\\n#            | |    | |_| |/ /\\\\ \\\\ |_( (_| | |___            #\\n#            |_|     \\\\__  /_/  \\\\_\\\\___)__|_|_____)           #\\n#                   (____/                                  #\\n#---------------------(version    0.0.8)--------------------#\\n#       A Python package for random crystal generation      #\\n#       url: https://github.com/qzhu2017/pyxtal             #\\n#       @Zhu's group at University of Nevada Las Vegas      #\\n#############################################################\\ndata_from_pyxtal\\n\\n_symmetry_space_group_name_H-M 'P1'\\n_symmetry_Int_Tables_number                    1\\n_symmetry_cell_setting                 triclinic\\n_cell_length_a            6.218186\\n_cell_length_b            4.450374\\n_cell_length_c            6.295449\\n_cell_angle_alpha        90.000000\\n_cell_angle_beta         90.000000\\n_cell_angle_gamma        90.000000\\n\\nloop_\\n _symmetry_equiv_pos_site_id\\n _symmetry_equiv_pos_as_xyz\\n1 'x, y, z'\\n\\nloop_\\n _atom_site_label\\n _atom_site_fract_x\\n _atom_site_fract_y\\n _atom_site_fract_z\\n _atom_site_occupancy\\nO           0.327279    0.624534    0.870046 1\\nH           0.371891    0.825169    0.910456 1\\nH           0.424864    0.570988    0.756170 1\\n#END\\n\\n#############################################################\\n#             ______       _    _          _   \\t            #\\n#            (_____ \\\\     \\\\ \\\\  / /        | |               #\\n#             _____) )   _ \\\\ \\\\/ / |_  ____| |  \\t            #\\n#            |  ____/ | | | )  (|  _)/ _  | | \\t            #\\n#            | |    | |_| |/ /\\\\ \\\\ |_( (_| | |___            #\\n#            |_|     \\\\__  /_/  \\\\_\\\\___)__|_|_____)           #\\n#                   (____/                                  #\\n#---------------------(version    0.0.8)--------------------#\\n#       A Python package for random crystal generation      #\\n#       url: https://github.com/qzhu2017/pyxtal             #\\n#       @Zhu's group at University of Nevada Las Vegas      #\\n#############################################################\\ndata_from_pyxtal\\n\\n_symmetry_space_group_name_H-M 'P1'\\n_symmetry_Int_Tables_number                    1\\n_symmetry_cell_setting                 triclinic\\n_cell_length_a            6.218186\\n_cell_length_b            4.450374\\n_cell_length_c            6.295449\\n_cell_angle_alpha        90.000000\\n_cell_angle_beta         90.000000\\n_cell_angle_gamma        90.000000\\n\\nloop_\\n _symmetry_equiv_pos_site_id\\n _symmetry_equiv_pos_as_xyz\\n1 'x, y, z'\\n\\nloop_\\n _atom_site_label\\n _atom_site_fract_x\\n _atom_site_fract_y\\n _atom_site_fract_z\\n _atom_site_occupancy\\nO           0.327279    0.624534    0.870046 1\\nH           0.371891    0.825169    0.910456 1\\nH           0.424864    0.570988    0.756170 1\\nO           0.172721    0.375466    0.370046 1\\nH           0.128109    0.174831    0.410456 1\\nH           0.075136    0.429012    0.256170 1\\n#END\\n\\n#############################################################\\n#             ______       _    _          _   \\t            #\\n#            (_____ \\\\     \\\\ \\\\  / /        | |               #\\n#             _____) )   _ \\\\ \\\\/ / |_  ____| |  \\t            #\\n#            |  ____/ | | | )  (|  _)/ _  | | \\t            #\\n#            | |    | |_| |/ /\\\\ \\\\ |_( (_| | |___            #\\n#            |_|     \\\\__  /_/  \\\\_\\\\___)__|_|_____)           #\\n#                   (____/                                  #\\n#---------------------(version    0.0.8)--------------------#\\n#       A Python package for random crystal generation      #\\n#       url: https://github.com/qzhu2017/pyxtal             #\\n#       @Zhu's group at University of Nevada Las Vegas      #\\n#############################################################\\ndata_from_pyxtal\\n\\n_symmetry_space_group_name_H-M 'P1'\\n_symmetry_Int_Tables_number                    1\\n_symmetry_cell_setting                 triclinic\\n_cell_length_a            6.218186\\n_cell_length_b            4.450374\\n_cell_length_c            6.295449\\n_cell_angle_alpha        90.000000\\n_cell_angle_beta         90.000000\\n_cell_angle_gamma        90.000000\\n\\nloop_\\n _symmetry_equiv_pos_site_id\\n _symmetry_equiv_pos_as_xyz\\n1 'x, y, z'\\n\\nloop_\\n _atom_site_label\\n _atom_site_fract_x\\n _atom_site_fract_y\\n _atom_site_fract_z\\n _atom_site_occupancy\\nO           0.327279    0.624534    0.870046 1\\nH           0.371891    0.825169    0.910456 1\\nH           0.424864    0.570988    0.756170 1\\nO           0.172721    0.375466    0.370046 1\\nH           0.128109    0.174831    0.410456 1\\nH           0.075136    0.429012    0.256170 1\\nO           0.672721    0.124534    0.629954 1\\nH           0.628109    0.325169    0.589544 1\\nH           0.575136    0.070988    0.743830 1\\n#END\\n\\n#############################################################\\n#             ______       _    _          _   \\t            #\\n#            (_____ \\\\     \\\\ \\\\  / /        | |               #\\n#             _____) )   _ \\\\ \\\\/ / |_  ____| |  \\t            #\\n#            |  ____/ | | | )  (|  _)/ _  | | \\t            #\\n#            | |    | |_| |/ /\\\\ \\\\ |_( (_| | |___            #\\n#            |_|     \\\\__  /_/  \\\\_\\\\___)__|_|_____)           #\\n#                   (____/                                  #\\n#---------------------(version    0.0.8)--------------------#\\n#       A Python package for random crystal generation      #\\n#       url: https://github.com/qzhu2017/pyxtal             #\\n#       @Zhu's group at University of Nevada Las Vegas      #\\n#############################################################\\ndata_from_pyxtal\\n\\n_symmetry_space_group_name_H-M 'P1'\\n_symmetry_Int_Tables_number                    1\\n_symmetry_cell_setting                 triclinic\\n_cell_length_a            6.218186\\n_cell_length_b            4.450374\\n_cell_length_c            6.295449\\n_cell_angle_alpha        90.000000\\n_cell_angle_beta         90.000000\\n_cell_angle_gamma        90.000000\\n\\nloop_\\n _symmetry_equiv_pos_site_id\\n _symmetry_equiv_pos_as_xyz\\n1 'x, y, z'\\n\\nloop_\\n _atom_site_label\\n _atom_site_fract_x\\n _atom_site_fract_y\\n _atom_site_fract_z\\n _atom_site_occupancy\\nO           0.327279    0.624534    0.870046 1\\nH           0.371891    0.825169    0.910456 1\\nH           0.424864    0.570988    0.756170 1\\nO           0.172721    0.375466    0.370046 1\\nH           0.128109    0.174831    0.410456 1\\nH           0.075136    0.429012    0.256170 1\\nO           0.672721    0.124534    0.629954 1\\nH           0.628109    0.325169    0.589544 1\\nH           0.575136    0.070988    0.743830 1\\nO           0.827279    0.875466    0.129954 1\\nH           0.871891    0.674831    0.089544 1\\nH           0.924864    0.929012    0.243830 1\\n#END\\n\\n\",\"cif\");\n\tviewer_1598665643637899.animate({\"loop\": \"forward\", \"interval\": 1000});\n\tviewer_1598665643637899.addUnitCell();\n\tviewer_1598665643637899.setStyle({\"model\": 0},{\"stick\": {\"colorscheme\": \"greenCarbon\"}});\n\tviewer_1598665643637899.zoomTo();\nviewer_1598665643637899.render();\n});\n</script>",
      "text/html": [
       "<div id=\"3dmolviewer_1598665643637899\"  style=\"position: relative; width: 400px; height: 300px\">\n",
       "        <p id=\"3dmolwarning_1598665643637899\" style=\"background-color:#ffcccc;color:black\">You appear to be running in JupyterLab (or JavaScript failed to load for some other reason).  You need to install the 3dmol extension: <br>\n",
       "        <tt>jupyter labextension install jupyterlab_3dmol</tt></p>\n",
       "        </div>\n",
       "<script>\n",
       "\n",
       "var loadScriptAsync = function(uri){\n",
       "  return new Promise((resolve, reject) => {\n",
       "    var tag = document.createElement('script');\n",
       "    tag.src = uri;\n",
       "    tag.async = true;\n",
       "    tag.onload = () => {\n",
       "      resolve();\n",
       "    };\n",
       "  var firstScriptTag = document.getElementsByTagName('script')[0];\n",
       "  firstScriptTag.parentNode.insertBefore(tag, firstScriptTag);\n",
       "});\n",
       "};\n",
       "\n",
       "if(typeof $3Dmolpromise === 'undefined') {\n",
       "$3Dmolpromise = null;\n",
       "  $3Dmolpromise = loadScriptAsync('https://3dmol.csb.pitt.edu/build/3Dmol.js');\n",
       "}\n",
       "\n",
       "var viewer_1598665643637899 = null;\n",
       "var warn = document.getElementById(\"3dmolwarning_1598665643637899\");\n",
       "if(warn) {\n",
       "    warn.parentNode.removeChild(warn);\n",
       "}\n",
       "$3Dmolpromise.then(function() {\n",
       "viewer_1598665643637899 = $3Dmol.createViewer($(\"#3dmolviewer_1598665643637899\"),{backgroundColor:\"white\"});\n",
       "\tviewer_1598665643637899.addModelsAsFrames(\"#############################################################\\n#             ______       _    _          _   \\t            #\\n#            (_____ \\\\     \\\\ \\\\  / /        | |               #\\n#             _____) )   _ \\\\ \\\\/ / |_  ____| |  \\t            #\\n#            |  ____/ | | | )  (|  _)/ _  | | \\t            #\\n#            | |    | |_| |/ /\\\\ \\\\ |_( (_| | |___            #\\n#            |_|     \\\\__  /_/  \\\\_\\\\___)__|_|_____)           #\\n#                   (____/                                  #\\n#---------------------(version    0.0.8)--------------------#\\n#       A Python package for random crystal generation      #\\n#       url: https://github.com/qzhu2017/pyxtal             #\\n#       @Zhu's group at University of Nevada Las Vegas      #\\n#############################################################\\ndata_from_pyxtal\\n\\n_symmetry_space_group_name_H-M 'P1'\\n_symmetry_Int_Tables_number                    1\\n_symmetry_cell_setting                 triclinic\\n_cell_length_a            6.218186\\n_cell_length_b            4.450374\\n_cell_length_c            6.295449\\n_cell_angle_alpha        90.000000\\n_cell_angle_beta         90.000000\\n_cell_angle_gamma        90.000000\\n\\nloop_\\n _symmetry_equiv_pos_site_id\\n _symmetry_equiv_pos_as_xyz\\n1 'x, y, z'\\n\\nloop_\\n _atom_site_label\\n _atom_site_fract_x\\n _atom_site_fract_y\\n _atom_site_fract_z\\n _atom_site_occupancy\\nO           0.327279    0.624534    0.870046 1\\nH           0.371891    0.825169    0.910456 1\\nH           0.424864    0.570988    0.756170 1\\n#END\\n\\n#############################################################\\n#             ______       _    _          _   \\t            #\\n#            (_____ \\\\     \\\\ \\\\  / /        | |               #\\n#             _____) )   _ \\\\ \\\\/ / |_  ____| |  \\t            #\\n#            |  ____/ | | | )  (|  _)/ _  | | \\t            #\\n#            | |    | |_| |/ /\\\\ \\\\ |_( (_| | |___            #\\n#            |_|     \\\\__  /_/  \\\\_\\\\___)__|_|_____)           #\\n#                   (____/                                  #\\n#---------------------(version    0.0.8)--------------------#\\n#       A Python package for random crystal generation      #\\n#       url: https://github.com/qzhu2017/pyxtal             #\\n#       @Zhu's group at University of Nevada Las Vegas      #\\n#############################################################\\ndata_from_pyxtal\\n\\n_symmetry_space_group_name_H-M 'P1'\\n_symmetry_Int_Tables_number                    1\\n_symmetry_cell_setting                 triclinic\\n_cell_length_a            6.218186\\n_cell_length_b            4.450374\\n_cell_length_c            6.295449\\n_cell_angle_alpha        90.000000\\n_cell_angle_beta         90.000000\\n_cell_angle_gamma        90.000000\\n\\nloop_\\n _symmetry_equiv_pos_site_id\\n _symmetry_equiv_pos_as_xyz\\n1 'x, y, z'\\n\\nloop_\\n _atom_site_label\\n _atom_site_fract_x\\n _atom_site_fract_y\\n _atom_site_fract_z\\n _atom_site_occupancy\\nO           0.327279    0.624534    0.870046 1\\nH           0.371891    0.825169    0.910456 1\\nH           0.424864    0.570988    0.756170 1\\nO           0.172721    0.375466    0.370046 1\\nH           0.128109    0.174831    0.410456 1\\nH           0.075136    0.429012    0.256170 1\\n#END\\n\\n#############################################################\\n#             ______       _    _          _   \\t            #\\n#            (_____ \\\\     \\\\ \\\\  / /        | |               #\\n#             _____) )   _ \\\\ \\\\/ / |_  ____| |  \\t            #\\n#            |  ____/ | | | )  (|  _)/ _  | | \\t            #\\n#            | |    | |_| |/ /\\\\ \\\\ |_( (_| | |___            #\\n#            |_|     \\\\__  /_/  \\\\_\\\\___)__|_|_____)           #\\n#                   (____/                                  #\\n#---------------------(version    0.0.8)--------------------#\\n#       A Python package for random crystal generation      #\\n#       url: https://github.com/qzhu2017/pyxtal             #\\n#       @Zhu's group at University of Nevada Las Vegas      #\\n#############################################################\\ndata_from_pyxtal\\n\\n_symmetry_space_group_name_H-M 'P1'\\n_symmetry_Int_Tables_number                    1\\n_symmetry_cell_setting                 triclinic\\n_cell_length_a            6.218186\\n_cell_length_b            4.450374\\n_cell_length_c            6.295449\\n_cell_angle_alpha        90.000000\\n_cell_angle_beta         90.000000\\n_cell_angle_gamma        90.000000\\n\\nloop_\\n _symmetry_equiv_pos_site_id\\n _symmetry_equiv_pos_as_xyz\\n1 'x, y, z'\\n\\nloop_\\n _atom_site_label\\n _atom_site_fract_x\\n _atom_site_fract_y\\n _atom_site_fract_z\\n _atom_site_occupancy\\nO           0.327279    0.624534    0.870046 1\\nH           0.371891    0.825169    0.910456 1\\nH           0.424864    0.570988    0.756170 1\\nO           0.172721    0.375466    0.370046 1\\nH           0.128109    0.174831    0.410456 1\\nH           0.075136    0.429012    0.256170 1\\nO           0.672721    0.124534    0.629954 1\\nH           0.628109    0.325169    0.589544 1\\nH           0.575136    0.070988    0.743830 1\\n#END\\n\\n#############################################################\\n#             ______       _    _          _   \\t            #\\n#            (_____ \\\\     \\\\ \\\\  / /        | |               #\\n#             _____) )   _ \\\\ \\\\/ / |_  ____| |  \\t            #\\n#            |  ____/ | | | )  (|  _)/ _  | | \\t            #\\n#            | |    | |_| |/ /\\\\ \\\\ |_( (_| | |___            #\\n#            |_|     \\\\__  /_/  \\\\_\\\\___)__|_|_____)           #\\n#                   (____/                                  #\\n#---------------------(version    0.0.8)--------------------#\\n#       A Python package for random crystal generation      #\\n#       url: https://github.com/qzhu2017/pyxtal             #\\n#       @Zhu's group at University of Nevada Las Vegas      #\\n#############################################################\\ndata_from_pyxtal\\n\\n_symmetry_space_group_name_H-M 'P1'\\n_symmetry_Int_Tables_number                    1\\n_symmetry_cell_setting                 triclinic\\n_cell_length_a            6.218186\\n_cell_length_b            4.450374\\n_cell_length_c            6.295449\\n_cell_angle_alpha        90.000000\\n_cell_angle_beta         90.000000\\n_cell_angle_gamma        90.000000\\n\\nloop_\\n _symmetry_equiv_pos_site_id\\n _symmetry_equiv_pos_as_xyz\\n1 'x, y, z'\\n\\nloop_\\n _atom_site_label\\n _atom_site_fract_x\\n _atom_site_fract_y\\n _atom_site_fract_z\\n _atom_site_occupancy\\nO           0.327279    0.624534    0.870046 1\\nH           0.371891    0.825169    0.910456 1\\nH           0.424864    0.570988    0.756170 1\\nO           0.172721    0.375466    0.370046 1\\nH           0.128109    0.174831    0.410456 1\\nH           0.075136    0.429012    0.256170 1\\nO           0.672721    0.124534    0.629954 1\\nH           0.628109    0.325169    0.589544 1\\nH           0.575136    0.070988    0.743830 1\\nO           0.827279    0.875466    0.129954 1\\nH           0.871891    0.674831    0.089544 1\\nH           0.924864    0.929012    0.243830 1\\n#END\\n\\n\",\"cif\");\n",
       "\tviewer_1598665643637899.animate({\"loop\": \"forward\", \"interval\": 1000});\n",
       "\tviewer_1598665643637899.addUnitCell();\n",
       "\tviewer_1598665643637899.setStyle({\"model\": 0},{\"stick\": {\"colorscheme\": \"greenCarbon\"}});\n",
       "\tviewer_1598665643637899.zoomTo();\n",
       "viewer_1598665643637899.render();\n",
       "});\n",
       "</script>"
      ]
     },
     "metadata": {},
     "output_type": "display_data"
    },
    {
     "data": {
      "text/plain": [
       "<py3Dmol.view at 0x23131f150>"
      ]
     },
     "execution_count": 3,
     "metadata": {},
     "output_type": "execute_result"
    }
   ],
   "source": [
    "# It is also fun to check how the structure is generated from a simple animation \n",
    "h2o.show(size=(400, 300), animation=True, interval=1000)"
   ]
  },
  {
   "cell_type": "markdown",
   "metadata": {},
   "source": [
    "# 2.2 Crystal with molecules at the special Wyckoff positions\n",
    "\n",
    "In addition to the general `Wyckoff positions` (WP), there are also special WPs which have the `site symmetries` more than the identify operation. If the `molecular symmetry` is compatible with the site symmetry, the molecules can also take the special WPs. In that event, the molecules have less degree of freedom and they can only rotate in a limited range. `PyXtal` takes care of this when dealing the structural manipulation.\n",
    "\n",
    "Below is an example to show the water molecules occupy the 4a site in space group Cmc21(36)."
   ]
  },
  {
   "cell_type": "code",
   "execution_count": 4,
   "metadata": {},
   "outputs": [
    {
     "data": {
      "application/3dmoljs_load.v0": "<div id=\"3dmolviewer_1598665643730711\"  style=\"position: relative; width: 600px; height: 300px\">\n        <p id=\"3dmolwarning_1598665643730711\" style=\"background-color:#ffcccc;color:black\">You appear to be running in JupyterLab (or JavaScript failed to load for some other reason).  You need to install the 3dmol extension: <br>\n        <tt>jupyter labextension install jupyterlab_3dmol</tt></p>\n        </div>\n<script>\n\nvar loadScriptAsync = function(uri){\n  return new Promise((resolve, reject) => {\n    var tag = document.createElement('script');\n    tag.src = uri;\n    tag.async = true;\n    tag.onload = () => {\n      resolve();\n    };\n  var firstScriptTag = document.getElementsByTagName('script')[0];\n  firstScriptTag.parentNode.insertBefore(tag, firstScriptTag);\n});\n};\n\nif(typeof $3Dmolpromise === 'undefined') {\n$3Dmolpromise = null;\n  $3Dmolpromise = loadScriptAsync('https://3dmol.csb.pitt.edu/build/3Dmol.js');\n}\n\nvar viewer_1598665643730711 = null;\nvar warn = document.getElementById(\"3dmolwarning_1598665643730711\");\nif(warn) {\n    warn.parentNode.removeChild(warn);\n}\n$3Dmolpromise.then(function() {\nviewer_1598665643730711 = $3Dmol.createViewer($(\"#3dmolviewer_1598665643730711\"),{backgroundColor:\"white\"});\n\tviewer_1598665643730711.addModel(\"#############################################################\\n#             ______       _    _          _   \\t            #\\n#            (_____ \\\\     \\\\ \\\\  / /        | |               #\\n#             _____) )   _ \\\\ \\\\/ / |_  ____| |  \\t            #\\n#            |  ____/ | | | )  (|  _)/ _  | | \\t            #\\n#            | |    | |_| |/ /\\\\ \\\\ |_( (_| | |___            #\\n#            |_|     \\\\__  /_/  \\\\_\\\\___)__|_|_____)           #\\n#                   (____/                                  #\\n#---------------------(version    0.0.8)--------------------#\\n#       A Python package for random crystal generation      #\\n#       url: https://github.com/qzhu2017/pyxtal             #\\n#       @Zhu's group at University of Nevada Las Vegas      #\\n#############################################################\\ndata_from_pyxtal\\n\\n_symmetry_space_group_name_H-M 'Cmc21'\\n_symmetry_Int_Tables_number                   36\\n_symmetry_cell_setting              orthorhombic\\n_cell_length_a            5.108654\\n_cell_length_b            8.703978\\n_cell_length_c            3.917985\\n_cell_angle_alpha        90.000000\\n_cell_angle_beta         90.000000\\n_cell_angle_gamma        90.000000\\n\\nloop_\\n _symmetry_equiv_pos_site_id\\n _symmetry_equiv_pos_as_xyz\\n1 'x, y, z'\\n2 '-x, -y, z+1/2'\\n3 'x, -y, z+1/2'\\n4 '-x, y, z'\\n5 'x+1/2, y+1/2, z'\\n6 '-x+1/2, -y+1/2, z+1/2'\\n7 'x+1/2, -y+1/2, z+1/2'\\n8 '-x+1/2, y+1/2, z'\\n\\nloop_\\n _atom_site_label\\n _atom_site_fract_x\\n _atom_site_fract_y\\n _atom_site_fract_z\\n _atom_site_occupancy\\nO           0.000000    0.233156    0.302842 1\\nH          -0.149446    0.301711    0.302860 1\\nH           0.149446    0.301711    0.302860 1\\n#END\\n\\n\",\"cif\",{\"doAssembly\": true, \"duplicateAssemblyAtoms\": true, \"normalizeAssembly\": true});\n\tviewer_1598665643730711.setStyle({\"stick\": {\"colorscheme\": \"greenCarbon\"}});\n\tviewer_1598665643730711.addUnitCell();\n\tviewer_1598665643730711.addArrow({\"start\": {\"x\": 4.77868045504574e-08, \"y\": 2.4271869857306774, \"z\": 1.1865773743608563}, \"end\": {\"x\": -1.9999999522131955, \"y\": 2.4271869857306774, \"z\": 1.1865773743608563}});\n\tviewer_1598665643730711.addArrow({\"start\": {\"x\": -4.778680377330128e-08, \"y\": 6.276790521669565, \"z\": 3.1455697492027976}, \"end\": {\"x\": -2.000000047786804, \"y\": 6.276790521669565, \"z\": 3.1455697492027976}});\n\tviewer_1598665643730711.addArrow({\"start\": {\"x\": 2.5543268333749087, \"y\": 6.779175739430798, \"z\": 1.1865773743608563}, \"end\": {\"x\": 0.5543268333749087, \"y\": 6.779175739430798, \"z\": 1.1865773743608563}});\n\tviewer_1598665643730711.addArrow({\"start\": {\"x\": 2.5543267378012997, \"y\": 1.9248017679694442, \"z\": 3.1455697492027976}, \"end\": {\"x\": 0.5543267378012997, \"y\": 1.9248017679694442, \"z\": 3.1455697492027976}});\n\tviewer_1598665643730711.replicateUnitCell(1,1,1);\n\tviewer_1598665643730711.zoomTo();\nviewer_1598665643730711.render();\n});\n</script>",
      "text/html": [
       "<div id=\"3dmolviewer_1598665643730711\"  style=\"position: relative; width: 600px; height: 300px\">\n",
       "        <p id=\"3dmolwarning_1598665643730711\" style=\"background-color:#ffcccc;color:black\">You appear to be running in JupyterLab (or JavaScript failed to load for some other reason).  You need to install the 3dmol extension: <br>\n",
       "        <tt>jupyter labextension install jupyterlab_3dmol</tt></p>\n",
       "        </div>\n",
       "<script>\n",
       "\n",
       "var loadScriptAsync = function(uri){\n",
       "  return new Promise((resolve, reject) => {\n",
       "    var tag = document.createElement('script');\n",
       "    tag.src = uri;\n",
       "    tag.async = true;\n",
       "    tag.onload = () => {\n",
       "      resolve();\n",
       "    };\n",
       "  var firstScriptTag = document.getElementsByTagName('script')[0];\n",
       "  firstScriptTag.parentNode.insertBefore(tag, firstScriptTag);\n",
       "});\n",
       "};\n",
       "\n",
       "if(typeof $3Dmolpromise === 'undefined') {\n",
       "$3Dmolpromise = null;\n",
       "  $3Dmolpromise = loadScriptAsync('https://3dmol.csb.pitt.edu/build/3Dmol.js');\n",
       "}\n",
       "\n",
       "var viewer_1598665643730711 = null;\n",
       "var warn = document.getElementById(\"3dmolwarning_1598665643730711\");\n",
       "if(warn) {\n",
       "    warn.parentNode.removeChild(warn);\n",
       "}\n",
       "$3Dmolpromise.then(function() {\n",
       "viewer_1598665643730711 = $3Dmol.createViewer($(\"#3dmolviewer_1598665643730711\"),{backgroundColor:\"white\"});\n",
       "\tviewer_1598665643730711.addModel(\"#############################################################\\n#             ______       _    _          _   \\t            #\\n#            (_____ \\\\     \\\\ \\\\  / /        | |               #\\n#             _____) )   _ \\\\ \\\\/ / |_  ____| |  \\t            #\\n#            |  ____/ | | | )  (|  _)/ _  | | \\t            #\\n#            | |    | |_| |/ /\\\\ \\\\ |_( (_| | |___            #\\n#            |_|     \\\\__  /_/  \\\\_\\\\___)__|_|_____)           #\\n#                   (____/                                  #\\n#---------------------(version    0.0.8)--------------------#\\n#       A Python package for random crystal generation      #\\n#       url: https://github.com/qzhu2017/pyxtal             #\\n#       @Zhu's group at University of Nevada Las Vegas      #\\n#############################################################\\ndata_from_pyxtal\\n\\n_symmetry_space_group_name_H-M 'Cmc21'\\n_symmetry_Int_Tables_number                   36\\n_symmetry_cell_setting              orthorhombic\\n_cell_length_a            5.108654\\n_cell_length_b            8.703978\\n_cell_length_c            3.917985\\n_cell_angle_alpha        90.000000\\n_cell_angle_beta         90.000000\\n_cell_angle_gamma        90.000000\\n\\nloop_\\n _symmetry_equiv_pos_site_id\\n _symmetry_equiv_pos_as_xyz\\n1 'x, y, z'\\n2 '-x, -y, z+1/2'\\n3 'x, -y, z+1/2'\\n4 '-x, y, z'\\n5 'x+1/2, y+1/2, z'\\n6 '-x+1/2, -y+1/2, z+1/2'\\n7 'x+1/2, -y+1/2, z+1/2'\\n8 '-x+1/2, y+1/2, z'\\n\\nloop_\\n _atom_site_label\\n _atom_site_fract_x\\n _atom_site_fract_y\\n _atom_site_fract_z\\n _atom_site_occupancy\\nO           0.000000    0.233156    0.302842 1\\nH          -0.149446    0.301711    0.302860 1\\nH           0.149446    0.301711    0.302860 1\\n#END\\n\\n\",\"cif\",{\"doAssembly\": true, \"duplicateAssemblyAtoms\": true, \"normalizeAssembly\": true});\n",
       "\tviewer_1598665643730711.setStyle({\"stick\": {\"colorscheme\": \"greenCarbon\"}});\n",
       "\tviewer_1598665643730711.addUnitCell();\n",
       "\tviewer_1598665643730711.addArrow({\"start\": {\"x\": 4.77868045504574e-08, \"y\": 2.4271869857306774, \"z\": 1.1865773743608563}, \"end\": {\"x\": -1.9999999522131955, \"y\": 2.4271869857306774, \"z\": 1.1865773743608563}});\n",
       "\tviewer_1598665643730711.addArrow({\"start\": {\"x\": -4.778680377330128e-08, \"y\": 6.276790521669565, \"z\": 3.1455697492027976}, \"end\": {\"x\": -2.000000047786804, \"y\": 6.276790521669565, \"z\": 3.1455697492027976}});\n",
       "\tviewer_1598665643730711.addArrow({\"start\": {\"x\": 2.5543268333749087, \"y\": 6.779175739430798, \"z\": 1.1865773743608563}, \"end\": {\"x\": 0.5543268333749087, \"y\": 6.779175739430798, \"z\": 1.1865773743608563}});\n",
       "\tviewer_1598665643730711.addArrow({\"start\": {\"x\": 2.5543267378012997, \"y\": 1.9248017679694442, \"z\": 3.1455697492027976}, \"end\": {\"x\": 0.5543267378012997, \"y\": 1.9248017679694442, \"z\": 3.1455697492027976}});\n",
       "\tviewer_1598665643730711.replicateUnitCell(1,1,1);\n",
       "\tviewer_1598665643730711.zoomTo();\n",
       "viewer_1598665643730711.render();\n",
       "});\n",
       "</script>"
      ]
     },
     "metadata": {},
     "output_type": "display_data"
    },
    {
     "data": {
      "text/plain": [
       "<py3Dmol.view at 0x23131f910>"
      ]
     },
     "execution_count": 4,
     "metadata": {},
     "output_type": "execute_result"
    }
   ],
   "source": [
    "h2o_36 = molecular_crystal(36, ['H2O'], [2])\n",
    "ax = h2o_36.mol_sites[0].orientation.axis\n",
    "h2o_36.show(axis=ax*2) #show the rotational axis"
   ]
  },
  {
   "cell_type": "code",
   "execution_count": 5,
   "metadata": {},
   "outputs": [
    {
     "data": {
      "application/vnd.jupyter.widget-view+json": {
       "model_id": "bea585d241414d98a722debc2650309c",
       "version_major": 2,
       "version_minor": 0
      },
      "text/plain": [
       "interactive(children=(IntSlider(value=0, description='id:', max=3), Output()), _dom_classes=('widget-interact'…"
      ]
     },
     "metadata": {},
     "output_type": "display_data"
    }
   ],
   "source": [
    "# Below is a script to show how the molecules rotate around the allowed axis\n",
    "strucs = []\n",
    "for angle in [90, 180, 270, 360]:\n",
    "    struc = h2o_36.copy()\n",
    "    struc.mol_sites[0].rotate(axis=ax, angle=angle)\n",
    "    strucs.append(struc)\n",
    "    \n",
    "from pyxtal.viz import display_mol_crystals\n",
    "display_mol_crystals(strucs, axis=2*ax)"
   ]
  },
  {
   "cell_type": "code",
   "execution_count": null,
   "metadata": {},
   "outputs": [],
   "source": []
  }
 ],
 "metadata": {
  "@webio": {
   "lastCommId": null,
   "lastKernelId": null
  },
  "kernelspec": {
   "display_name": "Python 3",
   "language": "python",
   "name": "python3"
  },
  "language_info": {
   "codemirror_mode": {
    "name": "ipython",
    "version": 3
   },
   "file_extension": ".py",
   "mimetype": "text/x-python",
   "name": "python",
   "nbconvert_exporter": "python",
   "pygments_lexer": "ipython3",
   "version": "3.7.4"
  }
 },
 "nbformat": 4,
 "nbformat_minor": 2
}
