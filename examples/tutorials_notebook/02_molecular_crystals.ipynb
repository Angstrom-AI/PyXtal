{
 "cells": [
  {
   "cell_type": "markdown",
   "metadata": {},
   "source": [
    "# Tutorial for the molecular crystal module in PyXtal\n",
    "\n",
    "Source code: https://github.com/qzhu2017/PyXtal\n",
    "\n",
    "Created by Qiang Zhu (2020/11/23)\n",
    "\n",
    "\n",
    "# 2.1 Generate a random crystal\n",
    "\n",
    "To use the code, just import the following module\n",
    "```python\n",
    "from pyxtal import pyxtal\n",
    "s = pyxtal(molecular=True)\n",
    "```\n",
    "\n",
    "Ideally, one just needs to define the following parameters:\n",
    "- dimension: 1, 2 or 3\n",
    "- group: integer number from 1 to 230\n",
    "- molecules: a list of molecules, e.g. ['H2O']\n",
    "- number of molecules: a list of numbers, e.g. [4]\n",
    "\n",
    "More details can be found at the following [link](https://pyxtal.readthedocs.io/en/latest)"
   ]
  },
  {
   "cell_type": "code",
   "execution_count": 1,
   "metadata": {
    "scrolled": true
   },
   "outputs": [
    {
     "name": "stdout",
     "output_type": "stream",
     "text": [
      "------Crystal from random------\n",
      "Dimension: 3\n",
      "Composition: [H2O]4\n",
      "Group: P212121 (19)\n",
      "orthorhombic lattice:   8.3588   3.6338   5.7356  90.0000  90.0000  90.0000\n",
      "Wyckoff sites:\n",
      "\tH2O1 @ [0.0593 0.6045 0.1437]  WP:  4a, Site symmetry 1 ==> Euler: 151.752 -1.133 93.875\n"
     ]
    }
   ],
   "source": [
    "from pyxtal import pyxtal\n",
    "h2o = pyxtal(molecular=True)\n",
    "h2o.from_random(3, 19, ['H2O'], [4])\n",
    "print(h2o)"
   ]
  },
  {
   "cell_type": "code",
   "execution_count": 2,
   "metadata": {},
   "outputs": [
    {
     "data": {
      "application/3dmoljs_load.v0": "<div id=\"3dmolviewer_1606182454700789\"  style=\"position: relative; width: 600px; height: 300px\">\n        <p id=\"3dmolwarning_1606182454700789\" style=\"background-color:#ffcccc;color:black\">You appear to be running in JupyterLab (or JavaScript failed to load for some other reason).  You need to install the 3dmol extension: <br>\n        <tt>jupyter labextension install jupyterlab_3dmol</tt></p>\n        </div>\n<script>\n\nvar loadScriptAsync = function(uri){\n  return new Promise((resolve, reject) => {\n    var tag = document.createElement('script');\n    tag.src = uri;\n    tag.async = true;\n    tag.onload = () => {\n      resolve();\n    };\n  var firstScriptTag = document.getElementsByTagName('script')[0];\n  firstScriptTag.parentNode.insertBefore(tag, firstScriptTag);\n});\n};\n\nif(typeof $3Dmolpromise === 'undefined') {\n$3Dmolpromise = null;\n  $3Dmolpromise = loadScriptAsync('https://3dmol.csb.pitt.edu/build/3Dmol.js');\n}\n\nvar viewer_1606182454700789 = null;\nvar warn = document.getElementById(\"3dmolwarning_1606182454700789\");\nif(warn) {\n    warn.parentNode.removeChild(warn);\n}\n$3Dmolpromise.then(function() {\nviewer_1606182454700789 = $3Dmol.createViewer($(\"#3dmolviewer_1606182454700789\"),{backgroundColor:\"white\"});\n\tviewer_1606182454700789.addModel(\"#############################################################\\n#             ______       _    _          _   \\t            #\\n#            (_____ \\\\     \\\\ \\\\  / /        | |               #\\n#             _____) )   _ \\\\ \\\\/ / |_  ____| |  \\t            #\\n#            |  ____/ | | | )  (|  _)/ _  | | \\t            #\\n#            | |    | |_| |/ /\\\\ \\\\ |_( (_| | |___            #\\n#            |_|     \\\\__  /_/  \\\\_\\\\___)__|_|_____)           #\\n#                   (____/                                  #\\n#---------------------(version    0.1.4)--------------------#\\n#       A Python package for random crystal generation      #\\n#       url: https://github.com/qzhu2017/pyxtal             #\\n#       @Zhu's group at University of Nevada Las Vegas      #\\n#############################################################\\ndata_from_pyxtal\\n\\n_symmetry_space_group_name_H-M 'P212121'\\n_symmetry_Int_Tables_number                   19\\n_symmetry_cell_setting              orthorhombic\\n_cell_length_a            8.358813\\n_cell_length_b            3.633817\\n_cell_length_c            5.735606\\n_cell_angle_alpha        90.000000\\n_cell_angle_beta         90.000000\\n_cell_angle_gamma        90.000000\\n\\nloop_\\n _symmetry_equiv_pos_site_id\\n _symmetry_equiv_pos_as_xyz\\n1 'x, y, z'\\n2 '-x+1/2, -y, z+1/2'\\n3 '-x, y+1/2, -z+1/2'\\n4 'x+1/2, -y+1/2, -z'\\n\\nloop_\\n _atom_site_label\\n _atom_site_type_symbol\\n _atom_site_symmetry_multiplicity\\n _atom_site_fract_x\\n _atom_site_fract_y\\n _atom_site_fract_z\\n _atom_site_occupancy\\nO      O        4     0.061850    0.607101    0.132757 1\\nH      H        4     0.099149    0.428195    0.245626 1\\nH      H        4    -0.021466    0.739975    0.214682 1\\n#END\\n\\n\",\"cif\",{\"doAssembly\": true, \"duplicateAssemblyAtoms\": true, \"normalizeAssembly\": true});\n\tviewer_1606182454700789.setStyle({\"stick\": {\"colorscheme\": \"greenCarbon\"}});\n\tviewer_1606182454700789.addUnitCell();\n\tviewer_1606182454700789.replicateUnitCell(1,1,1);\n\tviewer_1606182454700789.zoomTo();\nviewer_1606182454700789.render();\n});\n</script>",
      "text/html": [
       "<div id=\"3dmolviewer_1606182454700789\"  style=\"position: relative; width: 600px; height: 300px\">\n",
       "        <p id=\"3dmolwarning_1606182454700789\" style=\"background-color:#ffcccc;color:black\">You appear to be running in JupyterLab (or JavaScript failed to load for some other reason).  You need to install the 3dmol extension: <br>\n",
       "        <tt>jupyter labextension install jupyterlab_3dmol</tt></p>\n",
       "        </div>\n",
       "<script>\n",
       "\n",
       "var loadScriptAsync = function(uri){\n",
       "  return new Promise((resolve, reject) => {\n",
       "    var tag = document.createElement('script');\n",
       "    tag.src = uri;\n",
       "    tag.async = true;\n",
       "    tag.onload = () => {\n",
       "      resolve();\n",
       "    };\n",
       "  var firstScriptTag = document.getElementsByTagName('script')[0];\n",
       "  firstScriptTag.parentNode.insertBefore(tag, firstScriptTag);\n",
       "});\n",
       "};\n",
       "\n",
       "if(typeof $3Dmolpromise === 'undefined') {\n",
       "$3Dmolpromise = null;\n",
       "  $3Dmolpromise = loadScriptAsync('https://3dmol.csb.pitt.edu/build/3Dmol.js');\n",
       "}\n",
       "\n",
       "var viewer_1606182454700789 = null;\n",
       "var warn = document.getElementById(\"3dmolwarning_1606182454700789\");\n",
       "if(warn) {\n",
       "    warn.parentNode.removeChild(warn);\n",
       "}\n",
       "$3Dmolpromise.then(function() {\n",
       "viewer_1606182454700789 = $3Dmol.createViewer($(\"#3dmolviewer_1606182454700789\"),{backgroundColor:\"white\"});\n",
       "\tviewer_1606182454700789.addModel(\"#############################################################\\n#             ______       _    _          _   \\t            #\\n#            (_____ \\\\     \\\\ \\\\  / /        | |               #\\n#             _____) )   _ \\\\ \\\\/ / |_  ____| |  \\t            #\\n#            |  ____/ | | | )  (|  _)/ _  | | \\t            #\\n#            | |    | |_| |/ /\\\\ \\\\ |_( (_| | |___            #\\n#            |_|     \\\\__  /_/  \\\\_\\\\___)__|_|_____)           #\\n#                   (____/                                  #\\n#---------------------(version    0.1.4)--------------------#\\n#       A Python package for random crystal generation      #\\n#       url: https://github.com/qzhu2017/pyxtal             #\\n#       @Zhu's group at University of Nevada Las Vegas      #\\n#############################################################\\ndata_from_pyxtal\\n\\n_symmetry_space_group_name_H-M 'P212121'\\n_symmetry_Int_Tables_number                   19\\n_symmetry_cell_setting              orthorhombic\\n_cell_length_a            8.358813\\n_cell_length_b            3.633817\\n_cell_length_c            5.735606\\n_cell_angle_alpha        90.000000\\n_cell_angle_beta         90.000000\\n_cell_angle_gamma        90.000000\\n\\nloop_\\n _symmetry_equiv_pos_site_id\\n _symmetry_equiv_pos_as_xyz\\n1 'x, y, z'\\n2 '-x+1/2, -y, z+1/2'\\n3 '-x, y+1/2, -z+1/2'\\n4 'x+1/2, -y+1/2, -z'\\n\\nloop_\\n _atom_site_label\\n _atom_site_type_symbol\\n _atom_site_symmetry_multiplicity\\n _atom_site_fract_x\\n _atom_site_fract_y\\n _atom_site_fract_z\\n _atom_site_occupancy\\nO      O        4     0.061850    0.607101    0.132757 1\\nH      H        4     0.099149    0.428195    0.245626 1\\nH      H        4    -0.021466    0.739975    0.214682 1\\n#END\\n\\n\",\"cif\",{\"doAssembly\": true, \"duplicateAssemblyAtoms\": true, \"normalizeAssembly\": true});\n",
       "\tviewer_1606182454700789.setStyle({\"stick\": {\"colorscheme\": \"greenCarbon\"}});\n",
       "\tviewer_1606182454700789.addUnitCell();\n",
       "\tviewer_1606182454700789.replicateUnitCell(1,1,1);\n",
       "\tviewer_1606182454700789.zoomTo();\n",
       "viewer_1606182454700789.render();\n",
       "});\n",
       "</script>"
      ]
     },
     "metadata": {},
     "output_type": "display_data"
    },
    {
     "data": {
      "text/plain": [
       "<py3Dmol.view at 0x7f964f219090>"
      ]
     },
     "execution_count": 2,
     "metadata": {},
     "output_type": "execute_result"
    }
   ],
   "source": [
    "#display the structure\n",
    "h2o.show()\n",
    "\n",
    "#The crystal can also be exported to pymatgen or ase structure.\n",
    "#pmg_struc = h2o.to_pymatgen()\n",
    "#ase_struc = h2o.to_ase()"
   ]
  },
  {
   "cell_type": "code",
   "execution_count": 3,
   "metadata": {},
   "outputs": [
    {
     "data": {
      "text/plain": [
       "[Wyckoff position 4a in space group 19 with site symmetry 1\n",
       " x, y, z\n",
       " -x+1/2, -y, z+1/2\n",
       " -x, y+1/2, -z+1/2\n",
       " x+1/2, -y+1/2, -z]"
      ]
     },
     "execution_count": 3,
     "metadata": {},
     "output_type": "execute_result"
    }
   ],
   "source": [
    "from pyxtal.symmetry import Group\n",
    "g = Group(19)\n",
    "g.Wyckoff_positions"
   ]
  },
  {
   "cell_type": "code",
   "execution_count": 4,
   "metadata": {},
   "outputs": [
    {
     "data": {
      "application/3dmoljs_load.v0": "<div id=\"3dmolviewer_16061824547318861\"  style=\"position: relative; width: 400px; height: 300px\">\n        <p id=\"3dmolwarning_16061824547318861\" style=\"background-color:#ffcccc;color:black\">You appear to be running in JupyterLab (or JavaScript failed to load for some other reason).  You need to install the 3dmol extension: <br>\n        <tt>jupyter labextension install jupyterlab_3dmol</tt></p>\n        </div>\n<script>\n\nvar loadScriptAsync = function(uri){\n  return new Promise((resolve, reject) => {\n    var tag = document.createElement('script');\n    tag.src = uri;\n    tag.async = true;\n    tag.onload = () => {\n      resolve();\n    };\n  var firstScriptTag = document.getElementsByTagName('script')[0];\n  firstScriptTag.parentNode.insertBefore(tag, firstScriptTag);\n});\n};\n\nif(typeof $3Dmolpromise === 'undefined') {\n$3Dmolpromise = null;\n  $3Dmolpromise = loadScriptAsync('https://3dmol.csb.pitt.edu/build/3Dmol.js');\n}\n\nvar viewer_16061824547318861 = null;\nvar warn = document.getElementById(\"3dmolwarning_16061824547318861\");\nif(warn) {\n    warn.parentNode.removeChild(warn);\n}\n$3Dmolpromise.then(function() {\nviewer_16061824547318861 = $3Dmol.createViewer($(\"#3dmolviewer_16061824547318861\"),{backgroundColor:\"white\"});\n\tviewer_16061824547318861.addModelsAsFrames(\"#############################################################\\n#             ______       _    _          _   \\t            #\\n#            (_____ \\\\     \\\\ \\\\  / /        | |               #\\n#             _____) )   _ \\\\ \\\\/ / |_  ____| |  \\t            #\\n#            |  ____/ | | | )  (|  _)/ _  | | \\t            #\\n#            | |    | |_| |/ /\\\\ \\\\ |_( (_| | |___            #\\n#            |_|     \\\\__  /_/  \\\\_\\\\___)__|_|_____)           #\\n#                   (____/                                  #\\n#---------------------(version    0.1.4)--------------------#\\n#       A Python package for random crystal generation      #\\n#       url: https://github.com/qzhu2017/pyxtal             #\\n#       @Zhu's group at University of Nevada Las Vegas      #\\n#############################################################\\ndata_from_pyxtal\\n\\n_symmetry_space_group_name_H-M 'P1'\\n_symmetry_Int_Tables_number                    1\\n_symmetry_cell_setting                 triclinic\\n_cell_length_a            8.358813\\n_cell_length_b            3.633817\\n_cell_length_c            5.735606\\n_cell_angle_alpha        90.000000\\n_cell_angle_beta         90.000000\\n_cell_angle_gamma        90.000000\\n\\nloop_\\n _symmetry_equiv_pos_site_id\\n _symmetry_equiv_pos_as_xyz\\n1 'x, y, z'\\n\\nloop_\\n _atom_site_label\\n _atom_site_type_symbol\\n _atom_site_symmetry_multiplicity\\n _atom_site_fract_x\\n _atom_site_fract_y\\n _atom_site_fract_z\\n _atom_site_occupancy\\nO      O        4     0.061850    0.607101    0.132757 1\\nH      H        4     0.099149    0.428195    0.245626 1\\nH      H        4    -0.021466    0.739975    0.214682 1\\n#END\\n\\n#############################################################\\n#             ______       _    _          _   \\t            #\\n#            (_____ \\\\     \\\\ \\\\  / /        | |               #\\n#             _____) )   _ \\\\ \\\\/ / |_  ____| |  \\t            #\\n#            |  ____/ | | | )  (|  _)/ _  | | \\t            #\\n#            | |    | |_| |/ /\\\\ \\\\ |_( (_| | |___            #\\n#            |_|     \\\\__  /_/  \\\\_\\\\___)__|_|_____)           #\\n#                   (____/                                  #\\n#---------------------(version    0.1.4)--------------------#\\n#       A Python package for random crystal generation      #\\n#       url: https://github.com/qzhu2017/pyxtal             #\\n#       @Zhu's group at University of Nevada Las Vegas      #\\n#############################################################\\ndata_from_pyxtal\\n\\n_symmetry_space_group_name_H-M 'P1'\\n_symmetry_Int_Tables_number                    1\\n_symmetry_cell_setting                 triclinic\\n_cell_length_a            8.358813\\n_cell_length_b            3.633817\\n_cell_length_c            5.735606\\n_cell_angle_alpha        90.000000\\n_cell_angle_beta         90.000000\\n_cell_angle_gamma        90.000000\\n\\nloop_\\n _symmetry_equiv_pos_site_id\\n _symmetry_equiv_pos_as_xyz\\n1 'x, y, z'\\n\\nloop_\\n _atom_site_label\\n _atom_site_type_symbol\\n _atom_site_symmetry_multiplicity\\n _atom_site_fract_x\\n _atom_site_fract_y\\n _atom_site_fract_z\\n _atom_site_occupancy\\nO      O        4     0.061850    0.607101    0.132757 1\\nH      H        4     0.099149    0.428195    0.245626 1\\nH      H        4    -0.021466    0.739975    0.214682 1\\nO      O        4     0.438150    0.392899    0.632757 1\\nH      H        4     0.400851    0.571805    0.745626 1\\nH      H        4     0.521466    0.260025    0.714682 1\\n#END\\n\\n#############################################################\\n#             ______       _    _          _   \\t            #\\n#            (_____ \\\\     \\\\ \\\\  / /        | |               #\\n#             _____) )   _ \\\\ \\\\/ / |_  ____| |  \\t            #\\n#            |  ____/ | | | )  (|  _)/ _  | | \\t            #\\n#            | |    | |_| |/ /\\\\ \\\\ |_( (_| | |___            #\\n#            |_|     \\\\__  /_/  \\\\_\\\\___)__|_|_____)           #\\n#                   (____/                                  #\\n#---------------------(version    0.1.4)--------------------#\\n#       A Python package for random crystal generation      #\\n#       url: https://github.com/qzhu2017/pyxtal             #\\n#       @Zhu's group at University of Nevada Las Vegas      #\\n#############################################################\\ndata_from_pyxtal\\n\\n_symmetry_space_group_name_H-M 'P1'\\n_symmetry_Int_Tables_number                    1\\n_symmetry_cell_setting                 triclinic\\n_cell_length_a            8.358813\\n_cell_length_b            3.633817\\n_cell_length_c            5.735606\\n_cell_angle_alpha        90.000000\\n_cell_angle_beta         90.000000\\n_cell_angle_gamma        90.000000\\n\\nloop_\\n _symmetry_equiv_pos_site_id\\n _symmetry_equiv_pos_as_xyz\\n1 'x, y, z'\\n\\nloop_\\n _atom_site_label\\n _atom_site_type_symbol\\n _atom_site_symmetry_multiplicity\\n _atom_site_fract_x\\n _atom_site_fract_y\\n _atom_site_fract_z\\n _atom_site_occupancy\\nO      O        4     0.061850    0.607101    0.132757 1\\nH      H        4     0.099149    0.428195    0.245626 1\\nH      H        4    -0.021466    0.739975    0.214682 1\\nO      O        4     0.438150    0.392899    0.632757 1\\nH      H        4     0.400851    0.571805    0.745626 1\\nH      H        4     0.521466    0.260025    0.714682 1\\nO      O        4     0.938150    0.107101    0.367243 1\\nH      H        4     0.900851   -0.071805    0.254374 1\\nH      H        4     1.021466    0.239975    0.285318 1\\n#END\\n\\n#############################################################\\n#             ______       _    _          _   \\t            #\\n#            (_____ \\\\     \\\\ \\\\  / /        | |               #\\n#             _____) )   _ \\\\ \\\\/ / |_  ____| |  \\t            #\\n#            |  ____/ | | | )  (|  _)/ _  | | \\t            #\\n#            | |    | |_| |/ /\\\\ \\\\ |_( (_| | |___            #\\n#            |_|     \\\\__  /_/  \\\\_\\\\___)__|_|_____)           #\\n#                   (____/                                  #\\n#---------------------(version    0.1.4)--------------------#\\n#       A Python package for random crystal generation      #\\n#       url: https://github.com/qzhu2017/pyxtal             #\\n#       @Zhu's group at University of Nevada Las Vegas      #\\n#############################################################\\ndata_from_pyxtal\\n\\n_symmetry_space_group_name_H-M 'P1'\\n_symmetry_Int_Tables_number                    1\\n_symmetry_cell_setting                 triclinic\\n_cell_length_a            8.358813\\n_cell_length_b            3.633817\\n_cell_length_c            5.735606\\n_cell_angle_alpha        90.000000\\n_cell_angle_beta         90.000000\\n_cell_angle_gamma        90.000000\\n\\nloop_\\n _symmetry_equiv_pos_site_id\\n _symmetry_equiv_pos_as_xyz\\n1 'x, y, z'\\n\\nloop_\\n _atom_site_label\\n _atom_site_type_symbol\\n _atom_site_symmetry_multiplicity\\n _atom_site_fract_x\\n _atom_site_fract_y\\n _atom_site_fract_z\\n _atom_site_occupancy\\nO      O        4     0.061850    0.607101    0.132757 1\\nH      H        4     0.099149    0.428195    0.245626 1\\nH      H        4    -0.021466    0.739975    0.214682 1\\nO      O        4     0.438150    0.392899    0.632757 1\\nH      H        4     0.400851    0.571805    0.745626 1\\nH      H        4     0.521466    0.260025    0.714682 1\\nO      O        4     0.938150    0.107101    0.367243 1\\nH      H        4     0.900851   -0.071805    0.254374 1\\nH      H        4     1.021466    0.239975    0.285318 1\\nO      O        4     0.561850    0.892899    0.867243 1\\nH      H        4     0.599149    1.071805    0.754374 1\\nH      H        4     0.478534    0.760025    0.785318 1\\n#END\\n\\n\",\"cif\");\n\tviewer_16061824547318861.animate({\"loop\": \"forward\", \"interval\": 1000});\n\tviewer_16061824547318861.addUnitCell();\n\tviewer_16061824547318861.setStyle({\"model\": 0},{\"stick\": {\"colorscheme\": \"greenCarbon\"}});\n\tviewer_16061824547318861.zoomTo();\nviewer_16061824547318861.render();\n});\n</script>",
      "text/html": [
       "<div id=\"3dmolviewer_16061824547318861\"  style=\"position: relative; width: 400px; height: 300px\">\n",
       "        <p id=\"3dmolwarning_16061824547318861\" style=\"background-color:#ffcccc;color:black\">You appear to be running in JupyterLab (or JavaScript failed to load for some other reason).  You need to install the 3dmol extension: <br>\n",
       "        <tt>jupyter labextension install jupyterlab_3dmol</tt></p>\n",
       "        </div>\n",
       "<script>\n",
       "\n",
       "var loadScriptAsync = function(uri){\n",
       "  return new Promise((resolve, reject) => {\n",
       "    var tag = document.createElement('script');\n",
       "    tag.src = uri;\n",
       "    tag.async = true;\n",
       "    tag.onload = () => {\n",
       "      resolve();\n",
       "    };\n",
       "  var firstScriptTag = document.getElementsByTagName('script')[0];\n",
       "  firstScriptTag.parentNode.insertBefore(tag, firstScriptTag);\n",
       "});\n",
       "};\n",
       "\n",
       "if(typeof $3Dmolpromise === 'undefined') {\n",
       "$3Dmolpromise = null;\n",
       "  $3Dmolpromise = loadScriptAsync('https://3dmol.csb.pitt.edu/build/3Dmol.js');\n",
       "}\n",
       "\n",
       "var viewer_16061824547318861 = null;\n",
       "var warn = document.getElementById(\"3dmolwarning_16061824547318861\");\n",
       "if(warn) {\n",
       "    warn.parentNode.removeChild(warn);\n",
       "}\n",
       "$3Dmolpromise.then(function() {\n",
       "viewer_16061824547318861 = $3Dmol.createViewer($(\"#3dmolviewer_16061824547318861\"),{backgroundColor:\"white\"});\n",
       "\tviewer_16061824547318861.addModelsAsFrames(\"#############################################################\\n#             ______       _    _          _   \\t            #\\n#            (_____ \\\\     \\\\ \\\\  / /        | |               #\\n#             _____) )   _ \\\\ \\\\/ / |_  ____| |  \\t            #\\n#            |  ____/ | | | )  (|  _)/ _  | | \\t            #\\n#            | |    | |_| |/ /\\\\ \\\\ |_( (_| | |___            #\\n#            |_|     \\\\__  /_/  \\\\_\\\\___)__|_|_____)           #\\n#                   (____/                                  #\\n#---------------------(version    0.1.4)--------------------#\\n#       A Python package for random crystal generation      #\\n#       url: https://github.com/qzhu2017/pyxtal             #\\n#       @Zhu's group at University of Nevada Las Vegas      #\\n#############################################################\\ndata_from_pyxtal\\n\\n_symmetry_space_group_name_H-M 'P1'\\n_symmetry_Int_Tables_number                    1\\n_symmetry_cell_setting                 triclinic\\n_cell_length_a            8.358813\\n_cell_length_b            3.633817\\n_cell_length_c            5.735606\\n_cell_angle_alpha        90.000000\\n_cell_angle_beta         90.000000\\n_cell_angle_gamma        90.000000\\n\\nloop_\\n _symmetry_equiv_pos_site_id\\n _symmetry_equiv_pos_as_xyz\\n1 'x, y, z'\\n\\nloop_\\n _atom_site_label\\n _atom_site_type_symbol\\n _atom_site_symmetry_multiplicity\\n _atom_site_fract_x\\n _atom_site_fract_y\\n _atom_site_fract_z\\n _atom_site_occupancy\\nO      O        4     0.061850    0.607101    0.132757 1\\nH      H        4     0.099149    0.428195    0.245626 1\\nH      H        4    -0.021466    0.739975    0.214682 1\\n#END\\n\\n#############################################################\\n#             ______       _    _          _   \\t            #\\n#            (_____ \\\\     \\\\ \\\\  / /        | |               #\\n#             _____) )   _ \\\\ \\\\/ / |_  ____| |  \\t            #\\n#            |  ____/ | | | )  (|  _)/ _  | | \\t            #\\n#            | |    | |_| |/ /\\\\ \\\\ |_( (_| | |___            #\\n#            |_|     \\\\__  /_/  \\\\_\\\\___)__|_|_____)           #\\n#                   (____/                                  #\\n#---------------------(version    0.1.4)--------------------#\\n#       A Python package for random crystal generation      #\\n#       url: https://github.com/qzhu2017/pyxtal             #\\n#       @Zhu's group at University of Nevada Las Vegas      #\\n#############################################################\\ndata_from_pyxtal\\n\\n_symmetry_space_group_name_H-M 'P1'\\n_symmetry_Int_Tables_number                    1\\n_symmetry_cell_setting                 triclinic\\n_cell_length_a            8.358813\\n_cell_length_b            3.633817\\n_cell_length_c            5.735606\\n_cell_angle_alpha        90.000000\\n_cell_angle_beta         90.000000\\n_cell_angle_gamma        90.000000\\n\\nloop_\\n _symmetry_equiv_pos_site_id\\n _symmetry_equiv_pos_as_xyz\\n1 'x, y, z'\\n\\nloop_\\n _atom_site_label\\n _atom_site_type_symbol\\n _atom_site_symmetry_multiplicity\\n _atom_site_fract_x\\n _atom_site_fract_y\\n _atom_site_fract_z\\n _atom_site_occupancy\\nO      O        4     0.061850    0.607101    0.132757 1\\nH      H        4     0.099149    0.428195    0.245626 1\\nH      H        4    -0.021466    0.739975    0.214682 1\\nO      O        4     0.438150    0.392899    0.632757 1\\nH      H        4     0.400851    0.571805    0.745626 1\\nH      H        4     0.521466    0.260025    0.714682 1\\n#END\\n\\n#############################################################\\n#             ______       _    _          _   \\t            #\\n#            (_____ \\\\     \\\\ \\\\  / /        | |               #\\n#             _____) )   _ \\\\ \\\\/ / |_  ____| |  \\t            #\\n#            |  ____/ | | | )  (|  _)/ _  | | \\t            #\\n#            | |    | |_| |/ /\\\\ \\\\ |_( (_| | |___            #\\n#            |_|     \\\\__  /_/  \\\\_\\\\___)__|_|_____)           #\\n#                   (____/                                  #\\n#---------------------(version    0.1.4)--------------------#\\n#       A Python package for random crystal generation      #\\n#       url: https://github.com/qzhu2017/pyxtal             #\\n#       @Zhu's group at University of Nevada Las Vegas      #\\n#############################################################\\ndata_from_pyxtal\\n\\n_symmetry_space_group_name_H-M 'P1'\\n_symmetry_Int_Tables_number                    1\\n_symmetry_cell_setting                 triclinic\\n_cell_length_a            8.358813\\n_cell_length_b            3.633817\\n_cell_length_c            5.735606\\n_cell_angle_alpha        90.000000\\n_cell_angle_beta         90.000000\\n_cell_angle_gamma        90.000000\\n\\nloop_\\n _symmetry_equiv_pos_site_id\\n _symmetry_equiv_pos_as_xyz\\n1 'x, y, z'\\n\\nloop_\\n _atom_site_label\\n _atom_site_type_symbol\\n _atom_site_symmetry_multiplicity\\n _atom_site_fract_x\\n _atom_site_fract_y\\n _atom_site_fract_z\\n _atom_site_occupancy\\nO      O        4     0.061850    0.607101    0.132757 1\\nH      H        4     0.099149    0.428195    0.245626 1\\nH      H        4    -0.021466    0.739975    0.214682 1\\nO      O        4     0.438150    0.392899    0.632757 1\\nH      H        4     0.400851    0.571805    0.745626 1\\nH      H        4     0.521466    0.260025    0.714682 1\\nO      O        4     0.938150    0.107101    0.367243 1\\nH      H        4     0.900851   -0.071805    0.254374 1\\nH      H        4     1.021466    0.239975    0.285318 1\\n#END\\n\\n#############################################################\\n#             ______       _    _          _   \\t            #\\n#            (_____ \\\\     \\\\ \\\\  / /        | |               #\\n#             _____) )   _ \\\\ \\\\/ / |_  ____| |  \\t            #\\n#            |  ____/ | | | )  (|  _)/ _  | | \\t            #\\n#            | |    | |_| |/ /\\\\ \\\\ |_( (_| | |___            #\\n#            |_|     \\\\__  /_/  \\\\_\\\\___)__|_|_____)           #\\n#                   (____/                                  #\\n#---------------------(version    0.1.4)--------------------#\\n#       A Python package for random crystal generation      #\\n#       url: https://github.com/qzhu2017/pyxtal             #\\n#       @Zhu's group at University of Nevada Las Vegas      #\\n#############################################################\\ndata_from_pyxtal\\n\\n_symmetry_space_group_name_H-M 'P1'\\n_symmetry_Int_Tables_number                    1\\n_symmetry_cell_setting                 triclinic\\n_cell_length_a            8.358813\\n_cell_length_b            3.633817\\n_cell_length_c            5.735606\\n_cell_angle_alpha        90.000000\\n_cell_angle_beta         90.000000\\n_cell_angle_gamma        90.000000\\n\\nloop_\\n _symmetry_equiv_pos_site_id\\n _symmetry_equiv_pos_as_xyz\\n1 'x, y, z'\\n\\nloop_\\n _atom_site_label\\n _atom_site_type_symbol\\n _atom_site_symmetry_multiplicity\\n _atom_site_fract_x\\n _atom_site_fract_y\\n _atom_site_fract_z\\n _atom_site_occupancy\\nO      O        4     0.061850    0.607101    0.132757 1\\nH      H        4     0.099149    0.428195    0.245626 1\\nH      H        4    -0.021466    0.739975    0.214682 1\\nO      O        4     0.438150    0.392899    0.632757 1\\nH      H        4     0.400851    0.571805    0.745626 1\\nH      H        4     0.521466    0.260025    0.714682 1\\nO      O        4     0.938150    0.107101    0.367243 1\\nH      H        4     0.900851   -0.071805    0.254374 1\\nH      H        4     1.021466    0.239975    0.285318 1\\nO      O        4     0.561850    0.892899    0.867243 1\\nH      H        4     0.599149    1.071805    0.754374 1\\nH      H        4     0.478534    0.760025    0.785318 1\\n#END\\n\\n\",\"cif\");\n",
       "\tviewer_16061824547318861.animate({\"loop\": \"forward\", \"interval\": 1000});\n",
       "\tviewer_16061824547318861.addUnitCell();\n",
       "\tviewer_16061824547318861.setStyle({\"model\": 0},{\"stick\": {\"colorscheme\": \"greenCarbon\"}});\n",
       "\tviewer_16061824547318861.zoomTo();\n",
       "viewer_16061824547318861.render();\n",
       "});\n",
       "</script>"
      ]
     },
     "metadata": {},
     "output_type": "display_data"
    },
    {
     "data": {
      "text/plain": [
       "<py3Dmol.view at 0x7f964ad9bbd0>"
      ]
     },
     "execution_count": 4,
     "metadata": {},
     "output_type": "execute_result"
    }
   ],
   "source": [
    "# It is also fun to check how the structure is generated from a simple animation \n",
    "h2o.show(size=(400, 300), animation=True, interval=1000)"
   ]
  },
  {
   "cell_type": "markdown",
   "metadata": {},
   "source": [
    "# 2.2 Crystal with molecules at the special Wyckoff positions\n",
    "\n",
    "In addition to the general `Wyckoff positions` (WP), there are also special WPs which have the `site symmetries` more than the identify operation. If the `molecular symmetry` is compatible with the site symmetry, the molecules can also take the special WPs. In that event, the molecules have less degree of freedom and they can only rotate in a limited range. `PyXtal` takes care of this when dealing the structural manipulation.\n",
    "\n",
    "Below is an example to show the water molecules occupy the 4a site in space group Cmc21(36)."
   ]
  },
  {
   "cell_type": "code",
   "execution_count": 5,
   "metadata": {},
   "outputs": [
    {
     "name": "stdout",
     "output_type": "stream",
     "text": [
      "------Crystal from random------\n",
      "Dimension: 3\n",
      "Composition: [H2O]4\n",
      "Group: P212121 (19)\n",
      "orthorhombic lattice:   8.3588   3.6338   5.7356  90.0000  90.0000  90.0000\n",
      "Wyckoff sites:\n",
      "\tH2O1 @ [0.0593 0.6045 0.1437]  WP:  4a, Site symmetry 1 ==> Euler: 151.752 -1.133 93.875\n"
     ]
    }
   ],
   "source": [
    "from pyxtal import pyxtal\n",
    "h2o_36 = pyxtal(molecular=True)\n",
    "h2o_36.from_random(3, 36, ['H2O'], [4])\n",
    "print(h2o)\n"
   ]
  },
  {
   "cell_type": "code",
   "execution_count": 6,
   "metadata": {},
   "outputs": [
    {
     "data": {
      "application/vnd.jupyter.widget-view+json": {
       "model_id": "8ff489e7facc4614887b3e662d33e79d",
       "version_major": 2,
       "version_minor": 0
      },
      "text/plain": [
       "interactive(children=(IntSlider(value=0, description='id:', max=3), Output()), _dom_classes=('widget-interact'…"
      ]
     },
     "metadata": {},
     "output_type": "display_data"
    }
   ],
   "source": [
    "# Below is a script to show how the molecules rotate around the allowed axis\n",
    "ax = h2o_36.mol_sites[0].orientation.axis\n",
    "\n",
    "strucs = []\n",
    "for angle in [90, 180, 270, 360]:\n",
    "    struc = h2o_36.copy()\n",
    "    struc.mol_sites[0].rotate(axis=ax, angle=angle)\n",
    "    strucs.append(struc)\n",
    "    \n",
    "from pyxtal.viz import display_mol_crystals\n",
    "display_mol_crystals(strucs, axis=2*ax)"
   ]
  },
  {
   "cell_type": "markdown",
   "metadata": {},
   "source": [
    "# 2.3 2D and 1D Crystals \n"
   ]
  },
  {
   "cell_type": "code",
   "execution_count": 7,
   "metadata": {},
   "outputs": [
    {
     "name": "stdout",
     "output_type": "stream",
     "text": [
      "------Crystal from random------\n",
      "Dimension: 1\n",
      "Composition: [H2O]6\n",
      "Group: p6/mmc (75)\n",
      "hexagonal lattice:   8.7545   8.7545   3.9372  90.0000  90.0000 120.0000\n",
      "Wyckoff sites:\n",
      "\tH2O1 @ [0.3179 0.6358 0.2500]  WP:  6d, Site symmetry m m2 . ==> Euler: 53.486 22.802 136.367\n"
     ]
    },
    {
     "data": {
      "application/3dmoljs_load.v0": "<div id=\"3dmolviewer_1606182455322753\"  style=\"position: relative; width: 600px; height: 300px\">\n        <p id=\"3dmolwarning_1606182455322753\" style=\"background-color:#ffcccc;color:black\">You appear to be running in JupyterLab (or JavaScript failed to load for some other reason).  You need to install the 3dmol extension: <br>\n        <tt>jupyter labextension install jupyterlab_3dmol</tt></p>\n        </div>\n<script>\n\nvar loadScriptAsync = function(uri){\n  return new Promise((resolve, reject) => {\n    var tag = document.createElement('script');\n    tag.src = uri;\n    tag.async = true;\n    tag.onload = () => {\n      resolve();\n    };\n  var firstScriptTag = document.getElementsByTagName('script')[0];\n  firstScriptTag.parentNode.insertBefore(tag, firstScriptTag);\n});\n};\n\nif(typeof $3Dmolpromise === 'undefined') {\n$3Dmolpromise = null;\n  $3Dmolpromise = loadScriptAsync('https://3dmol.csb.pitt.edu/build/3Dmol.js');\n}\n\nvar viewer_1606182455322753 = null;\nvar warn = document.getElementById(\"3dmolwarning_1606182455322753\");\nif(warn) {\n    warn.parentNode.removeChild(warn);\n}\n$3Dmolpromise.then(function() {\nviewer_1606182455322753 = $3Dmol.createViewer($(\"#3dmolviewer_1606182455322753\"),{backgroundColor:\"white\"});\n\tviewer_1606182455322753.addModel(\"# generated using pymatgen\\ndata_H2O\\n_symmetry_space_group_name_H-M   'P 1'\\n_cell_length_a   23.75452546\\n_cell_length_b   23.75452546\\n_cell_length_c   3.93715348\\n_cell_angle_alpha   90.00000000\\n_cell_angle_beta   90.00000000\\n_cell_angle_gamma   120.00000000\\n_symmetry_Int_Tables_number   1\\n_chemical_formula_structural   H2O\\n_chemical_formula_sum   'H12 O6'\\n_cell_volume   1924.00277805\\n_cell_formula_units_Z   6\\nloop_\\n _symmetry_equiv_pos_site_id\\n _symmetry_equiv_pos_as_xyz\\n  1  'x, y, z'\\nloop_\\n _atom_site_type_symbol\\n _atom_site_label\\n _atom_site_symmetry_multiplicity\\n _atom_site_fract_x\\n _atom_site_fract_y\\n _atom_site_fract_z\\n _atom_site_occupancy\\n  H  H0  1  0.66019190  0.62464526  0.25000000  1\\n  H  H1  1  0.59591201  0.62464528  0.25000000  1\\n  H  H2  1  0.60648464  0.63521791  0.25000000  1\\n  H  H3  1  0.60648461  0.57093800  0.25000000  1\\n  H  H4  1  0.59591199  0.57093800  0.25000000  1\\n  H  H5  1  0.66019190  0.63521789  0.25000000  1\\n  H  H6  1  0.70438091  0.47304173  0.75000000  1\\n  H  H7  1  0.76866080  0.47304171  0.75000000  1\\n  H  H8  1  0.75808817  0.46246908  0.75000000  1\\n  H  H9  1  0.75808819  0.52674899  0.75000000  1\\n  H  H10  1  0.76866082  0.52674899  0.75000000  1\\n  H  H11  1  0.70438091  0.46246910  0.75000000  1\\n  O  O12  1  0.61354917  0.59563972  0.25000000  1\\n  O  O13  1  0.63549017  0.61758072  0.25000000  1\\n  O  O14  1  0.61354918  0.61758073  0.25000000  1\\n  O  O15  1  0.75102364  0.50204727  0.75000000  1\\n  O  O16  1  0.72908263  0.48010627  0.75000000  1\\n  O  O17  1  0.75102363  0.48010626  0.75000000  1\\n\",\"cif\",{\"doAssembly\": true, \"duplicateAssemblyAtoms\": true, \"normalizeAssembly\": true});\n\tviewer_1606182455322753.setStyle({\"stick\": {\"colorscheme\": \"greenCarbon\"}});\n\tviewer_1606182455322753.addUnitCell();\n\tviewer_1606182455322753.replicateUnitCell(1,1,3);\n\tviewer_1606182455322753.zoomTo();\nviewer_1606182455322753.render();\n});\n</script>",
      "text/html": [
       "<div id=\"3dmolviewer_1606182455322753\"  style=\"position: relative; width: 600px; height: 300px\">\n",
       "        <p id=\"3dmolwarning_1606182455322753\" style=\"background-color:#ffcccc;color:black\">You appear to be running in JupyterLab (or JavaScript failed to load for some other reason).  You need to install the 3dmol extension: <br>\n",
       "        <tt>jupyter labextension install jupyterlab_3dmol</tt></p>\n",
       "        </div>\n",
       "<script>\n",
       "\n",
       "var loadScriptAsync = function(uri){\n",
       "  return new Promise((resolve, reject) => {\n",
       "    var tag = document.createElement('script');\n",
       "    tag.src = uri;\n",
       "    tag.async = true;\n",
       "    tag.onload = () => {\n",
       "      resolve();\n",
       "    };\n",
       "  var firstScriptTag = document.getElementsByTagName('script')[0];\n",
       "  firstScriptTag.parentNode.insertBefore(tag, firstScriptTag);\n",
       "});\n",
       "};\n",
       "\n",
       "if(typeof $3Dmolpromise === 'undefined') {\n",
       "$3Dmolpromise = null;\n",
       "  $3Dmolpromise = loadScriptAsync('https://3dmol.csb.pitt.edu/build/3Dmol.js');\n",
       "}\n",
       "\n",
       "var viewer_1606182455322753 = null;\n",
       "var warn = document.getElementById(\"3dmolwarning_1606182455322753\");\n",
       "if(warn) {\n",
       "    warn.parentNode.removeChild(warn);\n",
       "}\n",
       "$3Dmolpromise.then(function() {\n",
       "viewer_1606182455322753 = $3Dmol.createViewer($(\"#3dmolviewer_1606182455322753\"),{backgroundColor:\"white\"});\n",
       "\tviewer_1606182455322753.addModel(\"# generated using pymatgen\\ndata_H2O\\n_symmetry_space_group_name_H-M   'P 1'\\n_cell_length_a   23.75452546\\n_cell_length_b   23.75452546\\n_cell_length_c   3.93715348\\n_cell_angle_alpha   90.00000000\\n_cell_angle_beta   90.00000000\\n_cell_angle_gamma   120.00000000\\n_symmetry_Int_Tables_number   1\\n_chemical_formula_structural   H2O\\n_chemical_formula_sum   'H12 O6'\\n_cell_volume   1924.00277805\\n_cell_formula_units_Z   6\\nloop_\\n _symmetry_equiv_pos_site_id\\n _symmetry_equiv_pos_as_xyz\\n  1  'x, y, z'\\nloop_\\n _atom_site_type_symbol\\n _atom_site_label\\n _atom_site_symmetry_multiplicity\\n _atom_site_fract_x\\n _atom_site_fract_y\\n _atom_site_fract_z\\n _atom_site_occupancy\\n  H  H0  1  0.66019190  0.62464526  0.25000000  1\\n  H  H1  1  0.59591201  0.62464528  0.25000000  1\\n  H  H2  1  0.60648464  0.63521791  0.25000000  1\\n  H  H3  1  0.60648461  0.57093800  0.25000000  1\\n  H  H4  1  0.59591199  0.57093800  0.25000000  1\\n  H  H5  1  0.66019190  0.63521789  0.25000000  1\\n  H  H6  1  0.70438091  0.47304173  0.75000000  1\\n  H  H7  1  0.76866080  0.47304171  0.75000000  1\\n  H  H8  1  0.75808817  0.46246908  0.75000000  1\\n  H  H9  1  0.75808819  0.52674899  0.75000000  1\\n  H  H10  1  0.76866082  0.52674899  0.75000000  1\\n  H  H11  1  0.70438091  0.46246910  0.75000000  1\\n  O  O12  1  0.61354917  0.59563972  0.25000000  1\\n  O  O13  1  0.63549017  0.61758072  0.25000000  1\\n  O  O14  1  0.61354918  0.61758073  0.25000000  1\\n  O  O15  1  0.75102364  0.50204727  0.75000000  1\\n  O  O16  1  0.72908263  0.48010627  0.75000000  1\\n  O  O17  1  0.75102363  0.48010626  0.75000000  1\\n\",\"cif\",{\"doAssembly\": true, \"duplicateAssemblyAtoms\": true, \"normalizeAssembly\": true});\n",
       "\tviewer_1606182455322753.setStyle({\"stick\": {\"colorscheme\": \"greenCarbon\"}});\n",
       "\tviewer_1606182455322753.addUnitCell();\n",
       "\tviewer_1606182455322753.replicateUnitCell(1,1,3);\n",
       "\tviewer_1606182455322753.zoomTo();\n",
       "viewer_1606182455322753.render();\n",
       "});\n",
       "</script>"
      ]
     },
     "metadata": {},
     "output_type": "display_data"
    },
    {
     "data": {
      "text/plain": [
       "<py3Dmol.view at 0x7f964b2ff5d0>"
      ]
     },
     "execution_count": 7,
     "metadata": {},
     "output_type": "execute_result"
    }
   ],
   "source": [
    "h2o_1D = pyxtal(molecular=True)\n",
    "h2o_1D.from_random(1, 75, ['H2O'], [6])\n",
    "print(h2o_1D)\n",
    "h2o_1D.show(supercell=(1,1,3))"
   ]
  },
  {
   "cell_type": "code",
   "execution_count": 8,
   "metadata": {},
   "outputs": [
    {
     "name": "stdout",
     "output_type": "stream",
     "text": [
      "------Crystal from random------\n",
      "Dimension: 2\n",
      "Composition: [H2O]4\n",
      "Group: pba2 (25)\n",
      "orthorhombic lattice:   5.7295  10.1357   3.0000  90.0000  90.0000  90.0000\n",
      "Wyckoff sites:\n",
      "\tH2O1 @ [0.3010 0.8968 0.5000]  WP:  4c, Site symmetry 1 ==> Euler: -20.260 -6.612 27.706\n"
     ]
    },
    {
     "data": {
      "application/3dmoljs_load.v0": "<div id=\"3dmolviewer_1606182455459742\"  style=\"position: relative; width: 600px; height: 300px\">\n        <p id=\"3dmolwarning_1606182455459742\" style=\"background-color:#ffcccc;color:black\">You appear to be running in JupyterLab (or JavaScript failed to load for some other reason).  You need to install the 3dmol extension: <br>\n        <tt>jupyter labextension install jupyterlab_3dmol</tt></p>\n        </div>\n<script>\n\nvar loadScriptAsync = function(uri){\n  return new Promise((resolve, reject) => {\n    var tag = document.createElement('script');\n    tag.src = uri;\n    tag.async = true;\n    tag.onload = () => {\n      resolve();\n    };\n  var firstScriptTag = document.getElementsByTagName('script')[0];\n  firstScriptTag.parentNode.insertBefore(tag, firstScriptTag);\n});\n};\n\nif(typeof $3Dmolpromise === 'undefined') {\n$3Dmolpromise = null;\n  $3Dmolpromise = loadScriptAsync('https://3dmol.csb.pitt.edu/build/3Dmol.js');\n}\n\nvar viewer_1606182455459742 = null;\nvar warn = document.getElementById(\"3dmolwarning_1606182455459742\");\nif(warn) {\n    warn.parentNode.removeChild(warn);\n}\n$3Dmolpromise.then(function() {\nviewer_1606182455459742 = $3Dmol.createViewer($(\"#3dmolviewer_1606182455459742\"),{backgroundColor:\"white\"});\n\tviewer_1606182455459742.addModel(\"# generated using pymatgen\\ndata_H2O\\n_symmetry_space_group_name_H-M   'P 1'\\n_cell_length_a   5.72946467\\n_cell_length_b   10.13565075\\n_cell_length_c   18.00000000\\n_cell_angle_alpha   90.00000000\\n_cell_angle_beta   90.00000000\\n_cell_angle_gamma   90.00000000\\n_symmetry_Int_Tables_number   1\\n_chemical_formula_structural   H2O\\n_chemical_formula_sum   'H8 O4'\\n_cell_volume   1045.29335211\\n_cell_formula_units_Z   4\\nloop_\\n _symmetry_equiv_pos_site_id\\n _symmetry_equiv_pos_as_xyz\\n  1  'x, y, z'\\nloop_\\n _atom_site_type_symbol\\n _atom_site_label\\n _atom_site_symmetry_multiplicity\\n _atom_site_fract_x\\n _atom_site_fract_y\\n _atom_site_fract_z\\n _atom_site_occupancy\\n  H  H0  1  0.39565313  0.97098537  0.49640924  1\\n  H  H1  1  0.31556123  0.84476721  0.45774518  1\\n  H  H2  1  0.60434687  0.02901463  0.49640924  1\\n  H  H3  1  0.68443877  0.15523279  0.45774518  1\\n  H  H4  1  0.89565313  0.52901463  0.49640924  1\\n  H  H5  1  0.81556123  0.65523279  0.45774518  1\\n  H  H6  1  0.10434687  0.47098537  0.49640924  1\\n  H  H7  1  0.18443877  0.34476721  0.45774518  1\\n  O  O8  1  0.29408485  0.89541450  0.50288820  1\\n  O  O9  1  0.70591515  0.10458550  0.50288820  1\\n  O  O10  1  0.79408485  0.60458550  0.50288820  1\\n  O  O11  1  0.20591515  0.39541450  0.50288820  1\\n\",\"cif\",{\"doAssembly\": true, \"duplicateAssemblyAtoms\": true, \"normalizeAssembly\": true});\n\tviewer_1606182455459742.setStyle({\"stick\": {\"colorscheme\": \"greenCarbon\"}});\n\tviewer_1606182455459742.addUnitCell();\n\tviewer_1606182455459742.replicateUnitCell(2,2,1);\n\tviewer_1606182455459742.zoomTo();\nviewer_1606182455459742.render();\n});\n</script>",
      "text/html": [
       "<div id=\"3dmolviewer_1606182455459742\"  style=\"position: relative; width: 600px; height: 300px\">\n",
       "        <p id=\"3dmolwarning_1606182455459742\" style=\"background-color:#ffcccc;color:black\">You appear to be running in JupyterLab (or JavaScript failed to load for some other reason).  You need to install the 3dmol extension: <br>\n",
       "        <tt>jupyter labextension install jupyterlab_3dmol</tt></p>\n",
       "        </div>\n",
       "<script>\n",
       "\n",
       "var loadScriptAsync = function(uri){\n",
       "  return new Promise((resolve, reject) => {\n",
       "    var tag = document.createElement('script');\n",
       "    tag.src = uri;\n",
       "    tag.async = true;\n",
       "    tag.onload = () => {\n",
       "      resolve();\n",
       "    };\n",
       "  var firstScriptTag = document.getElementsByTagName('script')[0];\n",
       "  firstScriptTag.parentNode.insertBefore(tag, firstScriptTag);\n",
       "});\n",
       "};\n",
       "\n",
       "if(typeof $3Dmolpromise === 'undefined') {\n",
       "$3Dmolpromise = null;\n",
       "  $3Dmolpromise = loadScriptAsync('https://3dmol.csb.pitt.edu/build/3Dmol.js');\n",
       "}\n",
       "\n",
       "var viewer_1606182455459742 = null;\n",
       "var warn = document.getElementById(\"3dmolwarning_1606182455459742\");\n",
       "if(warn) {\n",
       "    warn.parentNode.removeChild(warn);\n",
       "}\n",
       "$3Dmolpromise.then(function() {\n",
       "viewer_1606182455459742 = $3Dmol.createViewer($(\"#3dmolviewer_1606182455459742\"),{backgroundColor:\"white\"});\n",
       "\tviewer_1606182455459742.addModel(\"# generated using pymatgen\\ndata_H2O\\n_symmetry_space_group_name_H-M   'P 1'\\n_cell_length_a   5.72946467\\n_cell_length_b   10.13565075\\n_cell_length_c   18.00000000\\n_cell_angle_alpha   90.00000000\\n_cell_angle_beta   90.00000000\\n_cell_angle_gamma   90.00000000\\n_symmetry_Int_Tables_number   1\\n_chemical_formula_structural   H2O\\n_chemical_formula_sum   'H8 O4'\\n_cell_volume   1045.29335211\\n_cell_formula_units_Z   4\\nloop_\\n _symmetry_equiv_pos_site_id\\n _symmetry_equiv_pos_as_xyz\\n  1  'x, y, z'\\nloop_\\n _atom_site_type_symbol\\n _atom_site_label\\n _atom_site_symmetry_multiplicity\\n _atom_site_fract_x\\n _atom_site_fract_y\\n _atom_site_fract_z\\n _atom_site_occupancy\\n  H  H0  1  0.39565313  0.97098537  0.49640924  1\\n  H  H1  1  0.31556123  0.84476721  0.45774518  1\\n  H  H2  1  0.60434687  0.02901463  0.49640924  1\\n  H  H3  1  0.68443877  0.15523279  0.45774518  1\\n  H  H4  1  0.89565313  0.52901463  0.49640924  1\\n  H  H5  1  0.81556123  0.65523279  0.45774518  1\\n  H  H6  1  0.10434687  0.47098537  0.49640924  1\\n  H  H7  1  0.18443877  0.34476721  0.45774518  1\\n  O  O8  1  0.29408485  0.89541450  0.50288820  1\\n  O  O9  1  0.70591515  0.10458550  0.50288820  1\\n  O  O10  1  0.79408485  0.60458550  0.50288820  1\\n  O  O11  1  0.20591515  0.39541450  0.50288820  1\\n\",\"cif\",{\"doAssembly\": true, \"duplicateAssemblyAtoms\": true, \"normalizeAssembly\": true});\n",
       "\tviewer_1606182455459742.setStyle({\"stick\": {\"colorscheme\": \"greenCarbon\"}});\n",
       "\tviewer_1606182455459742.addUnitCell();\n",
       "\tviewer_1606182455459742.replicateUnitCell(2,2,1);\n",
       "\tviewer_1606182455459742.zoomTo();\n",
       "viewer_1606182455459742.render();\n",
       "});\n",
       "</script>"
      ]
     },
     "metadata": {},
     "output_type": "display_data"
    },
    {
     "data": {
      "text/plain": [
       "<py3Dmol.view at 0x7f964ad9b290>"
      ]
     },
     "execution_count": 8,
     "metadata": {},
     "output_type": "execute_result"
    }
   ],
   "source": [
    "h2o_2D = pyxtal(molecular=True)\n",
    "h2o_2D.from_random(2, 25, ['H2O'], [4], thickness=0)\n",
    "print(h2o_2D)\n",
    "h2o_2D.show(supercell=(2,2,1))"
   ]
  }
 ],
 "metadata": {
  "@webio": {
   "lastCommId": null,
   "lastKernelId": null
  },
  "kernelspec": {
   "display_name": "Python 3",
   "language": "python",
   "name": "python3"
  },
  "language_info": {
   "codemirror_mode": {
    "name": "ipython",
    "version": 3
   },
   "file_extension": ".py",
   "mimetype": "text/x-python",
   "name": "python",
   "nbconvert_exporter": "python",
   "pygments_lexer": "ipython3",
   "version": "3.7.4"
  }
 },
 "nbformat": 4,
 "nbformat_minor": 2
}
