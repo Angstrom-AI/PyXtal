{
 "cells": [
  {
   "cell_type": "markdown",
   "metadata": {},
   "source": [
    "# Tutorial 2: Molecular crystal module in PyXtal\n",
    "\n",
    "Source code: https://github.com/qzhu2017/PyXtal\n",
    "\n",
    "Created by Qiang Zhu (2020/11/23)\n",
    "\n",
    "Last updated: 2021/05/13\n",
    "\n",
    "\n",
    "# 2.1 Generate a random crystal\n",
    "\n",
    "To use the code, just import the following module\n",
    "```python\n",
    "from pyxtal import pyxtal\n",
    "s = pyxtal(molecular=True)\n",
    "```\n",
    "\n",
    "Ideally, one just needs to define the following parameters:\n",
    "- dimension: 1, 2 or 3\n",
    "- group: integer number from 1 to 230\n",
    "- molecules: a list of molecules, e.g. ['H2O']\n",
    "- number of molecules: a list of numbers, e.g. [4]\n",
    "\n",
    "More details can be found at the following [link](https://pyxtal.readthedocs.io/en/latest)"
   ]
  },
  {
   "cell_type": "code",
   "execution_count": 1,
   "metadata": {
    "scrolled": true
   },
   "outputs": [
    {
     "name": "stdout",
     "output_type": "stream",
     "text": [
      "\n",
      "------Crystal from random------\n",
      "Dimension: 3\n",
      "Composition: [H2O]4\n",
      "Group: P212121 (19)\n",
      "orthorhombic lattice:   5.7943   4.2738   7.0352  90.0000  90.0000  90.0000\n",
      "Wyckoff sites:\n",
      "\tH2O1 @ [ 0.5891  0.5461  0.8750]  WP:  4a, Site symmetry 1 ==> Euler: 152.319 -25.301 110.028\n"
     ]
    }
   ],
   "source": [
    "from pyxtal import pyxtal\n",
    "h2o = pyxtal(molecular=True)\n",
    "h2o.from_random(3, 19, ['H2O'], [4])\n",
    "print(h2o)"
   ]
  },
  {
   "cell_type": "code",
   "execution_count": 2,
   "metadata": {},
   "outputs": [
    {
     "data": {
      "application/3dmoljs_load.v0": "<div id=\"3dmolviewer_1620942284534067\"  style=\"position: relative; width: 600px; height: 300px\">\n        <p id=\"3dmolwarning_1620942284534067\" style=\"background-color:#ffcccc;color:black\">You appear to be running in JupyterLab (or JavaScript failed to load for some other reason).  You need to install the 3dmol extension: <br>\n        <tt>jupyter labextension install jupyterlab_3dmol</tt></p>\n        </div>\n<script>\n\nvar loadScriptAsync = function(uri){\n  return new Promise((resolve, reject) => {\n    var tag = document.createElement('script');\n    tag.src = uri;\n    tag.async = true;\n    tag.onload = () => {\n      resolve();\n    };\n  var firstScriptTag = document.getElementsByTagName('script')[0];\n  firstScriptTag.parentNode.insertBefore(tag, firstScriptTag);\n});\n};\n\nif(typeof $3Dmolpromise === 'undefined') {\n$3Dmolpromise = null;\n  $3Dmolpromise = loadScriptAsync('https://3dmol.csb.pitt.edu/build/3Dmol.js');\n}\n\nvar viewer_1620942284534067 = null;\nvar warn = document.getElementById(\"3dmolwarning_1620942284534067\");\nif(warn) {\n    warn.parentNode.removeChild(warn);\n}\n$3Dmolpromise.then(function() {\nviewer_1620942284534067 = $3Dmol.createViewer($(\"#3dmolviewer_1620942284534067\"),{backgroundColor:\"white\"});\n\tviewer_1620942284534067.addModel(\"#############################################################\\n#             ______       _    _          _   \\t            #\\n#            (_____ \\\\     \\\\ \\\\  / /        | |               #\\n#             _____) )   _ \\\\ \\\\/ / |_  ____| |  \\t            #\\n#            |  ____/ | | | )  (|  _)/ _  | | \\t            #\\n#            | |    | |_| |/ /\\\\ \\\\ |_( (_| | |___            #\\n#            |_|     \\\\__  /_/  \\\\_\\\\___)__|_|_____)           #\\n#                   (____/                                  #\\n#---------------------(version    0.2.6)--------------------#\\n#       A Python package for random crystal generation      #\\n#       url: https://github.com/qzhu2017/pyxtal             #\\n#       @Zhu's group at University of Nevada Las Vegas      #\\n#############################################################\\ndata_from_pyxtal\\n\\n_symmetry_space_group_name_H-M 'P212121'\\n_symmetry_Int_Tables_number                   19\\n_symmetry_cell_setting              orthorhombic\\n_cell_length_a            5.794298\\n_cell_length_b            4.273767\\n_cell_length_c            7.035180\\n_cell_angle_alpha        90.000000\\n_cell_angle_beta         90.000000\\n_cell_angle_gamma        90.000000\\n\\nloop_\\n _symmetry_equiv_pos_site_id\\n _symmetry_equiv_pos_as_xyz\\n1 'x, y, z'\\n2 '-x+1/2, -y, z+1/2'\\n3 '-x, y+1/2, -z+1/2'\\n4 'x+1/2, -y+1/2, -z'\\n\\nloop_\\n _atom_site_label\\n _atom_site_type_symbol\\n _atom_site_symmetry_multiplicity\\n _atom_site_fract_x\\n _atom_site_fract_y\\n _atom_site_fract_z\\n _atom_site_occupancy\\nO      O        4     0.586391    0.573415    0.820948 1\\nH      H        4     0.708584    0.458849    0.884183 1\\nH      H        4     0.472358    0.605996    0.919732 1\\n#END\\n\\n\",\"cif\",{\"doAssembly\": true, \"duplicateAssemblyAtoms\": true, \"normalizeAssembly\": true});\n\tviewer_1620942284534067.setStyle({\"stick\": {\"colorscheme\": \"greenCarbon\"}});\n\tviewer_1620942284534067.addUnitCell();\n\tviewer_1620942284534067.replicateUnitCell(1,1,1);\n\tviewer_1620942284534067.zoomTo();\nviewer_1620942284534067.render();\n});\n</script>",
      "text/html": [
       "<div id=\"3dmolviewer_1620942284534067\"  style=\"position: relative; width: 600px; height: 300px\">\n",
       "        <p id=\"3dmolwarning_1620942284534067\" style=\"background-color:#ffcccc;color:black\">You appear to be running in JupyterLab (or JavaScript failed to load for some other reason).  You need to install the 3dmol extension: <br>\n",
       "        <tt>jupyter labextension install jupyterlab_3dmol</tt></p>\n",
       "        </div>\n",
       "<script>\n",
       "\n",
       "var loadScriptAsync = function(uri){\n",
       "  return new Promise((resolve, reject) => {\n",
       "    var tag = document.createElement('script');\n",
       "    tag.src = uri;\n",
       "    tag.async = true;\n",
       "    tag.onload = () => {\n",
       "      resolve();\n",
       "    };\n",
       "  var firstScriptTag = document.getElementsByTagName('script')[0];\n",
       "  firstScriptTag.parentNode.insertBefore(tag, firstScriptTag);\n",
       "});\n",
       "};\n",
       "\n",
       "if(typeof $3Dmolpromise === 'undefined') {\n",
       "$3Dmolpromise = null;\n",
       "  $3Dmolpromise = loadScriptAsync('https://3dmol.csb.pitt.edu/build/3Dmol.js');\n",
       "}\n",
       "\n",
       "var viewer_1620942284534067 = null;\n",
       "var warn = document.getElementById(\"3dmolwarning_1620942284534067\");\n",
       "if(warn) {\n",
       "    warn.parentNode.removeChild(warn);\n",
       "}\n",
       "$3Dmolpromise.then(function() {\n",
       "viewer_1620942284534067 = $3Dmol.createViewer($(\"#3dmolviewer_1620942284534067\"),{backgroundColor:\"white\"});\n",
       "\tviewer_1620942284534067.addModel(\"#############################################################\\n#             ______       _    _          _   \\t            #\\n#            (_____ \\\\     \\\\ \\\\  / /        | |               #\\n#             _____) )   _ \\\\ \\\\/ / |_  ____| |  \\t            #\\n#            |  ____/ | | | )  (|  _)/ _  | | \\t            #\\n#            | |    | |_| |/ /\\\\ \\\\ |_( (_| | |___            #\\n#            |_|     \\\\__  /_/  \\\\_\\\\___)__|_|_____)           #\\n#                   (____/                                  #\\n#---------------------(version    0.2.6)--------------------#\\n#       A Python package for random crystal generation      #\\n#       url: https://github.com/qzhu2017/pyxtal             #\\n#       @Zhu's group at University of Nevada Las Vegas      #\\n#############################################################\\ndata_from_pyxtal\\n\\n_symmetry_space_group_name_H-M 'P212121'\\n_symmetry_Int_Tables_number                   19\\n_symmetry_cell_setting              orthorhombic\\n_cell_length_a            5.794298\\n_cell_length_b            4.273767\\n_cell_length_c            7.035180\\n_cell_angle_alpha        90.000000\\n_cell_angle_beta         90.000000\\n_cell_angle_gamma        90.000000\\n\\nloop_\\n _symmetry_equiv_pos_site_id\\n _symmetry_equiv_pos_as_xyz\\n1 'x, y, z'\\n2 '-x+1/2, -y, z+1/2'\\n3 '-x, y+1/2, -z+1/2'\\n4 'x+1/2, -y+1/2, -z'\\n\\nloop_\\n _atom_site_label\\n _atom_site_type_symbol\\n _atom_site_symmetry_multiplicity\\n _atom_site_fract_x\\n _atom_site_fract_y\\n _atom_site_fract_z\\n _atom_site_occupancy\\nO      O        4     0.586391    0.573415    0.820948 1\\nH      H        4     0.708584    0.458849    0.884183 1\\nH      H        4     0.472358    0.605996    0.919732 1\\n#END\\n\\n\",\"cif\",{\"doAssembly\": true, \"duplicateAssemblyAtoms\": true, \"normalizeAssembly\": true});\n",
       "\tviewer_1620942284534067.setStyle({\"stick\": {\"colorscheme\": \"greenCarbon\"}});\n",
       "\tviewer_1620942284534067.addUnitCell();\n",
       "\tviewer_1620942284534067.replicateUnitCell(1,1,1);\n",
       "\tviewer_1620942284534067.zoomTo();\n",
       "viewer_1620942284534067.render();\n",
       "});\n",
       "</script>"
      ]
     },
     "metadata": {},
     "output_type": "display_data"
    },
    {
     "data": {
      "text/plain": [
       "<py3Dmol.view at 0x7fcea8afed90>"
      ]
     },
     "execution_count": 2,
     "metadata": {},
     "output_type": "execute_result"
    }
   ],
   "source": [
    "#display the structure\n",
    "h2o.show()\n",
    "\n",
    "#The crystal can also be exported to pymatgen or ase structure.\n",
    "#pmg_struc = h2o.to_pymatgen()\n",
    "#ase_struc = h2o.to_ase()"
   ]
  },
  {
   "cell_type": "code",
   "execution_count": 3,
   "metadata": {},
   "outputs": [
    {
     "data": {
      "application/3dmoljs_load.v0": "<div id=\"3dmolviewer_1620942284563942\"  style=\"position: relative; width: 400px; height: 300px\">\n        <p id=\"3dmolwarning_1620942284563942\" style=\"background-color:#ffcccc;color:black\">You appear to be running in JupyterLab (or JavaScript failed to load for some other reason).  You need to install the 3dmol extension: <br>\n        <tt>jupyter labextension install jupyterlab_3dmol</tt></p>\n        </div>\n<script>\n\nvar loadScriptAsync = function(uri){\n  return new Promise((resolve, reject) => {\n    var tag = document.createElement('script');\n    tag.src = uri;\n    tag.async = true;\n    tag.onload = () => {\n      resolve();\n    };\n  var firstScriptTag = document.getElementsByTagName('script')[0];\n  firstScriptTag.parentNode.insertBefore(tag, firstScriptTag);\n});\n};\n\nif(typeof $3Dmolpromise === 'undefined') {\n$3Dmolpromise = null;\n  $3Dmolpromise = loadScriptAsync('https://3dmol.csb.pitt.edu/build/3Dmol.js');\n}\n\nvar viewer_1620942284563942 = null;\nvar warn = document.getElementById(\"3dmolwarning_1620942284563942\");\nif(warn) {\n    warn.parentNode.removeChild(warn);\n}\n$3Dmolpromise.then(function() {\nviewer_1620942284563942 = $3Dmol.createViewer($(\"#3dmolviewer_1620942284563942\"),{backgroundColor:\"white\"});\n\tviewer_1620942284563942.addModelsAsFrames(\"#############################################################\\n#             ______       _    _          _   \\t            #\\n#            (_____ \\\\     \\\\ \\\\  / /        | |               #\\n#             _____) )   _ \\\\ \\\\/ / |_  ____| |  \\t            #\\n#            |  ____/ | | | )  (|  _)/ _  | | \\t            #\\n#            | |    | |_| |/ /\\\\ \\\\ |_( (_| | |___            #\\n#            |_|     \\\\__  /_/  \\\\_\\\\___)__|_|_____)           #\\n#                   (____/                                  #\\n#---------------------(version    0.2.6)--------------------#\\n#       A Python package for random crystal generation      #\\n#       url: https://github.com/qzhu2017/pyxtal             #\\n#       @Zhu's group at University of Nevada Las Vegas      #\\n#############################################################\\ndata_from_pyxtal\\n\\n_symmetry_space_group_name_H-M 'P1'\\n_symmetry_Int_Tables_number                    1\\n_symmetry_cell_setting                 triclinic\\n_cell_length_a            5.794298\\n_cell_length_b            4.273767\\n_cell_length_c            7.035180\\n_cell_angle_alpha        90.000000\\n_cell_angle_beta         90.000000\\n_cell_angle_gamma        90.000000\\n\\nloop_\\n _symmetry_equiv_pos_site_id\\n _symmetry_equiv_pos_as_xyz\\n1 'x, y, z'\\n\\nloop_\\n _atom_site_label\\n _atom_site_type_symbol\\n _atom_site_symmetry_multiplicity\\n _atom_site_fract_x\\n _atom_site_fract_y\\n _atom_site_fract_z\\n _atom_site_occupancy\\nO      O        4     0.586391    0.573415    0.820948 1\\nH      H        4     0.708584    0.458849    0.884183 1\\nH      H        4     0.472358    0.605996    0.919732 1\\n#END\\n\\n#############################################################\\n#             ______       _    _          _   \\t            #\\n#            (_____ \\\\     \\\\ \\\\  / /        | |               #\\n#             _____) )   _ \\\\ \\\\/ / |_  ____| |  \\t            #\\n#            |  ____/ | | | )  (|  _)/ _  | | \\t            #\\n#            | |    | |_| |/ /\\\\ \\\\ |_( (_| | |___            #\\n#            |_|     \\\\__  /_/  \\\\_\\\\___)__|_|_____)           #\\n#                   (____/                                  #\\n#---------------------(version    0.2.6)--------------------#\\n#       A Python package for random crystal generation      #\\n#       url: https://github.com/qzhu2017/pyxtal             #\\n#       @Zhu's group at University of Nevada Las Vegas      #\\n#############################################################\\ndata_from_pyxtal\\n\\n_symmetry_space_group_name_H-M 'P1'\\n_symmetry_Int_Tables_number                    1\\n_symmetry_cell_setting                 triclinic\\n_cell_length_a            5.794298\\n_cell_length_b            4.273767\\n_cell_length_c            7.035180\\n_cell_angle_alpha        90.000000\\n_cell_angle_beta         90.000000\\n_cell_angle_gamma        90.000000\\n\\nloop_\\n _symmetry_equiv_pos_site_id\\n _symmetry_equiv_pos_as_xyz\\n1 'x, y, z'\\n\\nloop_\\n _atom_site_label\\n _atom_site_type_symbol\\n _atom_site_symmetry_multiplicity\\n _atom_site_fract_x\\n _atom_site_fract_y\\n _atom_site_fract_z\\n _atom_site_occupancy\\nO      O        4     0.586391    0.573415    0.820948 1\\nH      H        4     0.708584    0.458849    0.884183 1\\nH      H        4     0.472358    0.605996    0.919732 1\\nO      O        4     0.913609    0.426585    0.320948 1\\nH      H        4     0.791416    0.541151    0.384183 1\\nH      H        4     1.027642    0.394004    0.419732 1\\n#END\\n\\n#############################################################\\n#             ______       _    _          _   \\t            #\\n#            (_____ \\\\     \\\\ \\\\  / /        | |               #\\n#             _____) )   _ \\\\ \\\\/ / |_  ____| |  \\t            #\\n#            |  ____/ | | | )  (|  _)/ _  | | \\t            #\\n#            | |    | |_| |/ /\\\\ \\\\ |_( (_| | |___            #\\n#            |_|     \\\\__  /_/  \\\\_\\\\___)__|_|_____)           #\\n#                   (____/                                  #\\n#---------------------(version    0.2.6)--------------------#\\n#       A Python package for random crystal generation      #\\n#       url: https://github.com/qzhu2017/pyxtal             #\\n#       @Zhu's group at University of Nevada Las Vegas      #\\n#############################################################\\ndata_from_pyxtal\\n\\n_symmetry_space_group_name_H-M 'P1'\\n_symmetry_Int_Tables_number                    1\\n_symmetry_cell_setting                 triclinic\\n_cell_length_a            5.794298\\n_cell_length_b            4.273767\\n_cell_length_c            7.035180\\n_cell_angle_alpha        90.000000\\n_cell_angle_beta         90.000000\\n_cell_angle_gamma        90.000000\\n\\nloop_\\n _symmetry_equiv_pos_site_id\\n _symmetry_equiv_pos_as_xyz\\n1 'x, y, z'\\n\\nloop_\\n _atom_site_label\\n _atom_site_type_symbol\\n _atom_site_symmetry_multiplicity\\n _atom_site_fract_x\\n _atom_site_fract_y\\n _atom_site_fract_z\\n _atom_site_occupancy\\nO      O        4     0.586391    0.573415    0.820948 1\\nH      H        4     0.708584    0.458849    0.884183 1\\nH      H        4     0.472358    0.605996    0.919732 1\\nO      O        4     0.913609    0.426585    0.320948 1\\nH      H        4     0.791416    0.541151    0.384183 1\\nH      H        4     1.027642    0.394004    0.419732 1\\nO      O        4     0.413609    0.073415    0.679052 1\\nH      H        4     0.291416   -0.041151    0.615817 1\\nH      H        4     0.527642    0.105996    0.580268 1\\n#END\\n\\n#############################################################\\n#             ______       _    _          _   \\t            #\\n#            (_____ \\\\     \\\\ \\\\  / /        | |               #\\n#             _____) )   _ \\\\ \\\\/ / |_  ____| |  \\t            #\\n#            |  ____/ | | | )  (|  _)/ _  | | \\t            #\\n#            | |    | |_| |/ /\\\\ \\\\ |_( (_| | |___            #\\n#            |_|     \\\\__  /_/  \\\\_\\\\___)__|_|_____)           #\\n#                   (____/                                  #\\n#---------------------(version    0.2.6)--------------------#\\n#       A Python package for random crystal generation      #\\n#       url: https://github.com/qzhu2017/pyxtal             #\\n#       @Zhu's group at University of Nevada Las Vegas      #\\n#############################################################\\ndata_from_pyxtal\\n\\n_symmetry_space_group_name_H-M 'P1'\\n_symmetry_Int_Tables_number                    1\\n_symmetry_cell_setting                 triclinic\\n_cell_length_a            5.794298\\n_cell_length_b            4.273767\\n_cell_length_c            7.035180\\n_cell_angle_alpha        90.000000\\n_cell_angle_beta         90.000000\\n_cell_angle_gamma        90.000000\\n\\nloop_\\n _symmetry_equiv_pos_site_id\\n _symmetry_equiv_pos_as_xyz\\n1 'x, y, z'\\n\\nloop_\\n _atom_site_label\\n _atom_site_type_symbol\\n _atom_site_symmetry_multiplicity\\n _atom_site_fract_x\\n _atom_site_fract_y\\n _atom_site_fract_z\\n _atom_site_occupancy\\nO      O        4     0.586391    0.573415    0.820948 1\\nH      H        4     0.708584    0.458849    0.884183 1\\nH      H        4     0.472358    0.605996    0.919732 1\\nO      O        4     0.913609    0.426585    0.320948 1\\nH      H        4     0.791416    0.541151    0.384183 1\\nH      H        4     1.027642    0.394004    0.419732 1\\nO      O        4     0.413609    0.073415    0.679052 1\\nH      H        4     0.291416   -0.041151    0.615817 1\\nH      H        4     0.527642    0.105996    0.580268 1\\nO      O        4     0.086391    0.926585    0.179052 1\\nH      H        4     0.208584    1.041151    0.115817 1\\nH      H        4    -0.027642    0.894004    0.080268 1\\n#END\\n\\n\",\"cif\");\n\tviewer_1620942284563942.animate({\"loop\": \"forward\", \"interval\": 1000});\n\tviewer_1620942284563942.addUnitCell();\n\tviewer_1620942284563942.setStyle({\"model\": 0},{\"stick\": {\"colorscheme\": \"greenCarbon\"}});\n\tviewer_1620942284563942.zoomTo();\nviewer_1620942284563942.render();\n});\n</script>",
      "text/html": [
       "<div id=\"3dmolviewer_1620942284563942\"  style=\"position: relative; width: 400px; height: 300px\">\n",
       "        <p id=\"3dmolwarning_1620942284563942\" style=\"background-color:#ffcccc;color:black\">You appear to be running in JupyterLab (or JavaScript failed to load for some other reason).  You need to install the 3dmol extension: <br>\n",
       "        <tt>jupyter labextension install jupyterlab_3dmol</tt></p>\n",
       "        </div>\n",
       "<script>\n",
       "\n",
       "var loadScriptAsync = function(uri){\n",
       "  return new Promise((resolve, reject) => {\n",
       "    var tag = document.createElement('script');\n",
       "    tag.src = uri;\n",
       "    tag.async = true;\n",
       "    tag.onload = () => {\n",
       "      resolve();\n",
       "    };\n",
       "  var firstScriptTag = document.getElementsByTagName('script')[0];\n",
       "  firstScriptTag.parentNode.insertBefore(tag, firstScriptTag);\n",
       "});\n",
       "};\n",
       "\n",
       "if(typeof $3Dmolpromise === 'undefined') {\n",
       "$3Dmolpromise = null;\n",
       "  $3Dmolpromise = loadScriptAsync('https://3dmol.csb.pitt.edu/build/3Dmol.js');\n",
       "}\n",
       "\n",
       "var viewer_1620942284563942 = null;\n",
       "var warn = document.getElementById(\"3dmolwarning_1620942284563942\");\n",
       "if(warn) {\n",
       "    warn.parentNode.removeChild(warn);\n",
       "}\n",
       "$3Dmolpromise.then(function() {\n",
       "viewer_1620942284563942 = $3Dmol.createViewer($(\"#3dmolviewer_1620942284563942\"),{backgroundColor:\"white\"});\n",
       "\tviewer_1620942284563942.addModelsAsFrames(\"#############################################################\\n#             ______       _    _          _   \\t            #\\n#            (_____ \\\\     \\\\ \\\\  / /        | |               #\\n#             _____) )   _ \\\\ \\\\/ / |_  ____| |  \\t            #\\n#            |  ____/ | | | )  (|  _)/ _  | | \\t            #\\n#            | |    | |_| |/ /\\\\ \\\\ |_( (_| | |___            #\\n#            |_|     \\\\__  /_/  \\\\_\\\\___)__|_|_____)           #\\n#                   (____/                                  #\\n#---------------------(version    0.2.6)--------------------#\\n#       A Python package for random crystal generation      #\\n#       url: https://github.com/qzhu2017/pyxtal             #\\n#       @Zhu's group at University of Nevada Las Vegas      #\\n#############################################################\\ndata_from_pyxtal\\n\\n_symmetry_space_group_name_H-M 'P1'\\n_symmetry_Int_Tables_number                    1\\n_symmetry_cell_setting                 triclinic\\n_cell_length_a            5.794298\\n_cell_length_b            4.273767\\n_cell_length_c            7.035180\\n_cell_angle_alpha        90.000000\\n_cell_angle_beta         90.000000\\n_cell_angle_gamma        90.000000\\n\\nloop_\\n _symmetry_equiv_pos_site_id\\n _symmetry_equiv_pos_as_xyz\\n1 'x, y, z'\\n\\nloop_\\n _atom_site_label\\n _atom_site_type_symbol\\n _atom_site_symmetry_multiplicity\\n _atom_site_fract_x\\n _atom_site_fract_y\\n _atom_site_fract_z\\n _atom_site_occupancy\\nO      O        4     0.586391    0.573415    0.820948 1\\nH      H        4     0.708584    0.458849    0.884183 1\\nH      H        4     0.472358    0.605996    0.919732 1\\n#END\\n\\n#############################################################\\n#             ______       _    _          _   \\t            #\\n#            (_____ \\\\     \\\\ \\\\  / /        | |               #\\n#             _____) )   _ \\\\ \\\\/ / |_  ____| |  \\t            #\\n#            |  ____/ | | | )  (|  _)/ _  | | \\t            #\\n#            | |    | |_| |/ /\\\\ \\\\ |_( (_| | |___            #\\n#            |_|     \\\\__  /_/  \\\\_\\\\___)__|_|_____)           #\\n#                   (____/                                  #\\n#---------------------(version    0.2.6)--------------------#\\n#       A Python package for random crystal generation      #\\n#       url: https://github.com/qzhu2017/pyxtal             #\\n#       @Zhu's group at University of Nevada Las Vegas      #\\n#############################################################\\ndata_from_pyxtal\\n\\n_symmetry_space_group_name_H-M 'P1'\\n_symmetry_Int_Tables_number                    1\\n_symmetry_cell_setting                 triclinic\\n_cell_length_a            5.794298\\n_cell_length_b            4.273767\\n_cell_length_c            7.035180\\n_cell_angle_alpha        90.000000\\n_cell_angle_beta         90.000000\\n_cell_angle_gamma        90.000000\\n\\nloop_\\n _symmetry_equiv_pos_site_id\\n _symmetry_equiv_pos_as_xyz\\n1 'x, y, z'\\n\\nloop_\\n _atom_site_label\\n _atom_site_type_symbol\\n _atom_site_symmetry_multiplicity\\n _atom_site_fract_x\\n _atom_site_fract_y\\n _atom_site_fract_z\\n _atom_site_occupancy\\nO      O        4     0.586391    0.573415    0.820948 1\\nH      H        4     0.708584    0.458849    0.884183 1\\nH      H        4     0.472358    0.605996    0.919732 1\\nO      O        4     0.913609    0.426585    0.320948 1\\nH      H        4     0.791416    0.541151    0.384183 1\\nH      H        4     1.027642    0.394004    0.419732 1\\n#END\\n\\n#############################################################\\n#             ______       _    _          _   \\t            #\\n#            (_____ \\\\     \\\\ \\\\  / /        | |               #\\n#             _____) )   _ \\\\ \\\\/ / |_  ____| |  \\t            #\\n#            |  ____/ | | | )  (|  _)/ _  | | \\t            #\\n#            | |    | |_| |/ /\\\\ \\\\ |_( (_| | |___            #\\n#            |_|     \\\\__  /_/  \\\\_\\\\___)__|_|_____)           #\\n#                   (____/                                  #\\n#---------------------(version    0.2.6)--------------------#\\n#       A Python package for random crystal generation      #\\n#       url: https://github.com/qzhu2017/pyxtal             #\\n#       @Zhu's group at University of Nevada Las Vegas      #\\n#############################################################\\ndata_from_pyxtal\\n\\n_symmetry_space_group_name_H-M 'P1'\\n_symmetry_Int_Tables_number                    1\\n_symmetry_cell_setting                 triclinic\\n_cell_length_a            5.794298\\n_cell_length_b            4.273767\\n_cell_length_c            7.035180\\n_cell_angle_alpha        90.000000\\n_cell_angle_beta         90.000000\\n_cell_angle_gamma        90.000000\\n\\nloop_\\n _symmetry_equiv_pos_site_id\\n _symmetry_equiv_pos_as_xyz\\n1 'x, y, z'\\n\\nloop_\\n _atom_site_label\\n _atom_site_type_symbol\\n _atom_site_symmetry_multiplicity\\n _atom_site_fract_x\\n _atom_site_fract_y\\n _atom_site_fract_z\\n _atom_site_occupancy\\nO      O        4     0.586391    0.573415    0.820948 1\\nH      H        4     0.708584    0.458849    0.884183 1\\nH      H        4     0.472358    0.605996    0.919732 1\\nO      O        4     0.913609    0.426585    0.320948 1\\nH      H        4     0.791416    0.541151    0.384183 1\\nH      H        4     1.027642    0.394004    0.419732 1\\nO      O        4     0.413609    0.073415    0.679052 1\\nH      H        4     0.291416   -0.041151    0.615817 1\\nH      H        4     0.527642    0.105996    0.580268 1\\n#END\\n\\n#############################################################\\n#             ______       _    _          _   \\t            #\\n#            (_____ \\\\     \\\\ \\\\  / /        | |               #\\n#             _____) )   _ \\\\ \\\\/ / |_  ____| |  \\t            #\\n#            |  ____/ | | | )  (|  _)/ _  | | \\t            #\\n#            | |    | |_| |/ /\\\\ \\\\ |_( (_| | |___            #\\n#            |_|     \\\\__  /_/  \\\\_\\\\___)__|_|_____)           #\\n#                   (____/                                  #\\n#---------------------(version    0.2.6)--------------------#\\n#       A Python package for random crystal generation      #\\n#       url: https://github.com/qzhu2017/pyxtal             #\\n#       @Zhu's group at University of Nevada Las Vegas      #\\n#############################################################\\ndata_from_pyxtal\\n\\n_symmetry_space_group_name_H-M 'P1'\\n_symmetry_Int_Tables_number                    1\\n_symmetry_cell_setting                 triclinic\\n_cell_length_a            5.794298\\n_cell_length_b            4.273767\\n_cell_length_c            7.035180\\n_cell_angle_alpha        90.000000\\n_cell_angle_beta         90.000000\\n_cell_angle_gamma        90.000000\\n\\nloop_\\n _symmetry_equiv_pos_site_id\\n _symmetry_equiv_pos_as_xyz\\n1 'x, y, z'\\n\\nloop_\\n _atom_site_label\\n _atom_site_type_symbol\\n _atom_site_symmetry_multiplicity\\n _atom_site_fract_x\\n _atom_site_fract_y\\n _atom_site_fract_z\\n _atom_site_occupancy\\nO      O        4     0.586391    0.573415    0.820948 1\\nH      H        4     0.708584    0.458849    0.884183 1\\nH      H        4     0.472358    0.605996    0.919732 1\\nO      O        4     0.913609    0.426585    0.320948 1\\nH      H        4     0.791416    0.541151    0.384183 1\\nH      H        4     1.027642    0.394004    0.419732 1\\nO      O        4     0.413609    0.073415    0.679052 1\\nH      H        4     0.291416   -0.041151    0.615817 1\\nH      H        4     0.527642    0.105996    0.580268 1\\nO      O        4     0.086391    0.926585    0.179052 1\\nH      H        4     0.208584    1.041151    0.115817 1\\nH      H        4    -0.027642    0.894004    0.080268 1\\n#END\\n\\n\",\"cif\");\n",
       "\tviewer_1620942284563942.animate({\"loop\": \"forward\", \"interval\": 1000});\n",
       "\tviewer_1620942284563942.addUnitCell();\n",
       "\tviewer_1620942284563942.setStyle({\"model\": 0},{\"stick\": {\"colorscheme\": \"greenCarbon\"}});\n",
       "\tviewer_1620942284563942.zoomTo();\n",
       "viewer_1620942284563942.render();\n",
       "});\n",
       "</script>"
      ]
     },
     "metadata": {},
     "output_type": "display_data"
    },
    {
     "data": {
      "text/plain": [
       "<py3Dmol.view at 0x7fcea8c62490>"
      ]
     },
     "execution_count": 3,
     "metadata": {},
     "output_type": "execute_result"
    }
   ],
   "source": [
    "# It is also fun to check how the structure is generated from a simple animation \n",
    "h2o.show(size=(400, 300), animation=True, interval=1000)"
   ]
  },
  {
   "cell_type": "markdown",
   "metadata": {},
   "source": [
    "# 2.2 Crystal with molecules at the special Wyckoff positions\n",
    "\n",
    "In addition to the general `Wyckoff positions` (WP), there are also special WPs which have the `site symmetries` more than the identify operation. If the `molecular symmetry` is compatible with the site symmetry, the molecules can also take the special WPs. In that event, the molecules have less degree of freedom and they can only rotate in a limited range. `PyXtal` takes care of this when dealing the structural manipulation.\n",
    "\n",
    "Below is an example to show the water molecules occupy the 4a site in space group Cmc21(36)."
   ]
  },
  {
   "cell_type": "code",
   "execution_count": 4,
   "metadata": {},
   "outputs": [
    {
     "name": "stdout",
     "output_type": "stream",
     "text": [
      "\n",
      "------Crystal from random------\n",
      "Dimension: 3\n",
      "Composition: [H2O]4\n",
      "Group: P212121 (19)\n",
      "orthorhombic lattice:   5.7943   4.2738   7.0352  90.0000  90.0000  90.0000\n",
      "Wyckoff sites:\n",
      "\tH2O1 @ [ 0.5891  0.5461  0.8750]  WP:  4a, Site symmetry 1 ==> Euler: 152.319 -25.301 110.028\n"
     ]
    }
   ],
   "source": [
    "from pyxtal import pyxtal\n",
    "h2o_36 = pyxtal(molecular=True)\n",
    "h2o_36.from_random(3, 36, ['H2O'], [4])\n",
    "print(h2o)"
   ]
  },
  {
   "cell_type": "code",
   "execution_count": 5,
   "metadata": {},
   "outputs": [
    {
     "data": {
      "application/vnd.jupyter.widget-view+json": {
       "model_id": "b9c3a4ac4e5144dd96b78cc174f26871",
       "version_major": 2,
       "version_minor": 0
      },
      "text/plain": [
       "interactive(children=(IntSlider(value=0, description='id:', max=3), Output()), _dom_classes=('widget-interact'…"
      ]
     },
     "metadata": {},
     "output_type": "display_data"
    }
   ],
   "source": [
    "# Below is a script to show how the molecules rotate around the allowed axis\n",
    "ax = h2o_36.mol_sites[0].orientation.axis\n",
    "\n",
    "strucs = []\n",
    "for angle in [90, 180, 270, 360]:\n",
    "    struc = h2o_36.copy()\n",
    "    struc.mol_sites[0].rotate(ax_vector=ax, angle=angle)\n",
    "    strucs.append(struc)\n",
    "    \n",
    "from pyxtal.viz import display_mol_crystals\n",
    "display_mol_crystals(strucs, axis=2*ax)"
   ]
  },
  {
   "cell_type": "markdown",
   "metadata": {},
   "source": [
    "# 2.3 2D and 1D Crystals "
   ]
  },
  {
   "cell_type": "code",
   "execution_count": 6,
   "metadata": {},
   "outputs": [
    {
     "data": {
      "application/3dmoljs_load.v0": "<div id=\"3dmolviewer_1620942285193027\"  style=\"position: relative; width: 600px; height: 300px\">\n        <p id=\"3dmolwarning_1620942285193027\" style=\"background-color:#ffcccc;color:black\">You appear to be running in JupyterLab (or JavaScript failed to load for some other reason).  You need to install the 3dmol extension: <br>\n        <tt>jupyter labextension install jupyterlab_3dmol</tt></p>\n        </div>\n<script>\n\nvar loadScriptAsync = function(uri){\n  return new Promise((resolve, reject) => {\n    var tag = document.createElement('script');\n    tag.src = uri;\n    tag.async = true;\n    tag.onload = () => {\n      resolve();\n    };\n  var firstScriptTag = document.getElementsByTagName('script')[0];\n  firstScriptTag.parentNode.insertBefore(tag, firstScriptTag);\n});\n};\n\nif(typeof $3Dmolpromise === 'undefined') {\n$3Dmolpromise = null;\n  $3Dmolpromise = loadScriptAsync('https://3dmol.csb.pitt.edu/build/3Dmol.js');\n}\n\nvar viewer_1620942285193027 = null;\nvar warn = document.getElementById(\"3dmolwarning_1620942285193027\");\nif(warn) {\n    warn.parentNode.removeChild(warn);\n}\n$3Dmolpromise.then(function() {\nviewer_1620942285193027 = $3Dmol.createViewer($(\"#3dmolviewer_1620942285193027\"),{backgroundColor:\"white\"});\n\tviewer_1620942285193027.addModel(\"# generated using pymatgen\\ndata_H2O\\n_symmetry_space_group_name_H-M   'P 1'\\n_cell_length_a   21.72514340\\n_cell_length_b   21.72514340\\n_cell_length_c   6.67182225\\n_cell_angle_alpha   90.00000000\\n_cell_angle_beta   90.00000000\\n_cell_angle_gamma   120.00000000\\n_symmetry_Int_Tables_number   1\\n_chemical_formula_structural   H2O\\n_chemical_formula_sum   'H12 O6'\\n_cell_volume   2727.09584927\\n_cell_formula_units_Z   6\\nloop_\\n _symmetry_equiv_pos_site_id\\n _symmetry_equiv_pos_as_xyz\\n  1  'x, y, z'\\nloop_\\n _atom_site_type_symbol\\n _atom_site_label\\n _atom_site_symmetry_multiplicity\\n _atom_site_fract_x\\n _atom_site_fract_y\\n _atom_site_fract_z\\n _atom_site_occupancy\\n  H  H0  1  0.43613537  0.61039530  0.13556808  1\\n  H  H1  1  0.43613537  0.61039528  0.36443188  1\\n  H  H2  1  0.64232483  0.82574008  0.13556808  1\\n  H  H3  1  0.64232485  0.82574010  0.36443188  1\\n  H  H4  1  0.42698005  0.81658475  0.13556808  1\\n  H  H5  1  0.42698003  0.81658475  0.36443188  1\\n  H  H6  1  0.67067672  0.78823287  0.63556808  1\\n  H  H7  1  0.67067672  0.78823289  0.86443188  1\\n  H  H8  1  0.46448726  0.57288809  0.63556808  1\\n  H  H9  1  0.46448724  0.57288807  0.86443188  1\\n  H  H10  1  0.67983204  0.58204341  0.63556808  1\\n  H  H11  1  0.67983206  0.58204341  0.86443188  1\\n  O  O12  1  0.43613537  0.63786129  0.25000003  1\\n  O  O13  1  0.61485884  0.79827409  0.25000003  1\\n  O  O14  1  0.45444604  0.81658475  0.25000003  1\\n  O  O15  1  0.67067672  0.76076688  0.75000003  1\\n  O  O16  1  0.49195325  0.60035408  0.75000003  1\\n  O  O17  1  0.65236605  0.58204341  0.75000003  1\\n\",\"cif\",{\"doAssembly\": true, \"duplicateAssemblyAtoms\": true, \"normalizeAssembly\": true});\n\tviewer_1620942285193027.setStyle({\"stick\": {\"colorscheme\": \"greenCarbon\"}});\n\tviewer_1620942285193027.addUnitCell();\n\tviewer_1620942285193027.replicateUnitCell(1,1,3);\n\tviewer_1620942285193027.zoomTo();\nviewer_1620942285193027.render();\n});\n</script>",
      "text/html": [
       "<div id=\"3dmolviewer_1620942285193027\"  style=\"position: relative; width: 600px; height: 300px\">\n",
       "        <p id=\"3dmolwarning_1620942285193027\" style=\"background-color:#ffcccc;color:black\">You appear to be running in JupyterLab (or JavaScript failed to load for some other reason).  You need to install the 3dmol extension: <br>\n",
       "        <tt>jupyter labextension install jupyterlab_3dmol</tt></p>\n",
       "        </div>\n",
       "<script>\n",
       "\n",
       "var loadScriptAsync = function(uri){\n",
       "  return new Promise((resolve, reject) => {\n",
       "    var tag = document.createElement('script');\n",
       "    tag.src = uri;\n",
       "    tag.async = true;\n",
       "    tag.onload = () => {\n",
       "      resolve();\n",
       "    };\n",
       "  var firstScriptTag = document.getElementsByTagName('script')[0];\n",
       "  firstScriptTag.parentNode.insertBefore(tag, firstScriptTag);\n",
       "});\n",
       "};\n",
       "\n",
       "if(typeof $3Dmolpromise === 'undefined') {\n",
       "$3Dmolpromise = null;\n",
       "  $3Dmolpromise = loadScriptAsync('https://3dmol.csb.pitt.edu/build/3Dmol.js');\n",
       "}\n",
       "\n",
       "var viewer_1620942285193027 = null;\n",
       "var warn = document.getElementById(\"3dmolwarning_1620942285193027\");\n",
       "if(warn) {\n",
       "    warn.parentNode.removeChild(warn);\n",
       "}\n",
       "$3Dmolpromise.then(function() {\n",
       "viewer_1620942285193027 = $3Dmol.createViewer($(\"#3dmolviewer_1620942285193027\"),{backgroundColor:\"white\"});\n",
       "\tviewer_1620942285193027.addModel(\"# generated using pymatgen\\ndata_H2O\\n_symmetry_space_group_name_H-M   'P 1'\\n_cell_length_a   21.72514340\\n_cell_length_b   21.72514340\\n_cell_length_c   6.67182225\\n_cell_angle_alpha   90.00000000\\n_cell_angle_beta   90.00000000\\n_cell_angle_gamma   120.00000000\\n_symmetry_Int_Tables_number   1\\n_chemical_formula_structural   H2O\\n_chemical_formula_sum   'H12 O6'\\n_cell_volume   2727.09584927\\n_cell_formula_units_Z   6\\nloop_\\n _symmetry_equiv_pos_site_id\\n _symmetry_equiv_pos_as_xyz\\n  1  'x, y, z'\\nloop_\\n _atom_site_type_symbol\\n _atom_site_label\\n _atom_site_symmetry_multiplicity\\n _atom_site_fract_x\\n _atom_site_fract_y\\n _atom_site_fract_z\\n _atom_site_occupancy\\n  H  H0  1  0.43613537  0.61039530  0.13556808  1\\n  H  H1  1  0.43613537  0.61039528  0.36443188  1\\n  H  H2  1  0.64232483  0.82574008  0.13556808  1\\n  H  H3  1  0.64232485  0.82574010  0.36443188  1\\n  H  H4  1  0.42698005  0.81658475  0.13556808  1\\n  H  H5  1  0.42698003  0.81658475  0.36443188  1\\n  H  H6  1  0.67067672  0.78823287  0.63556808  1\\n  H  H7  1  0.67067672  0.78823289  0.86443188  1\\n  H  H8  1  0.46448726  0.57288809  0.63556808  1\\n  H  H9  1  0.46448724  0.57288807  0.86443188  1\\n  H  H10  1  0.67983204  0.58204341  0.63556808  1\\n  H  H11  1  0.67983206  0.58204341  0.86443188  1\\n  O  O12  1  0.43613537  0.63786129  0.25000003  1\\n  O  O13  1  0.61485884  0.79827409  0.25000003  1\\n  O  O14  1  0.45444604  0.81658475  0.25000003  1\\n  O  O15  1  0.67067672  0.76076688  0.75000003  1\\n  O  O16  1  0.49195325  0.60035408  0.75000003  1\\n  O  O17  1  0.65236605  0.58204341  0.75000003  1\\n\",\"cif\",{\"doAssembly\": true, \"duplicateAssemblyAtoms\": true, \"normalizeAssembly\": true});\n",
       "\tviewer_1620942285193027.setStyle({\"stick\": {\"colorscheme\": \"greenCarbon\"}});\n",
       "\tviewer_1620942285193027.addUnitCell();\n",
       "\tviewer_1620942285193027.replicateUnitCell(1,1,3);\n",
       "\tviewer_1620942285193027.zoomTo();\n",
       "viewer_1620942285193027.render();\n",
       "});\n",
       "</script>"
      ]
     },
     "metadata": {},
     "output_type": "display_data"
    },
    {
     "data": {
      "text/plain": [
       "<py3Dmol.view at 0x7fce8969a050>"
      ]
     },
     "execution_count": 6,
     "metadata": {},
     "output_type": "execute_result"
    }
   ],
   "source": [
    "h2o_1D = pyxtal(molecular=True)\n",
    "h2o_1D.from_random(1, 75, ['H2O'], [12])\n",
    "#print(h2o_1D)\n",
    "h2o_1D.show(supercell=(1,1,3))"
   ]
  },
  {
   "cell_type": "code",
   "execution_count": 7,
   "metadata": {},
   "outputs": [
    {
     "data": {
      "application/3dmoljs_load.v0": "<div id=\"3dmolviewer_1620942285326208\"  style=\"position: relative; width: 600px; height: 300px\">\n        <p id=\"3dmolwarning_1620942285326208\" style=\"background-color:#ffcccc;color:black\">You appear to be running in JupyterLab (or JavaScript failed to load for some other reason).  You need to install the 3dmol extension: <br>\n        <tt>jupyter labextension install jupyterlab_3dmol</tt></p>\n        </div>\n<script>\n\nvar loadScriptAsync = function(uri){\n  return new Promise((resolve, reject) => {\n    var tag = document.createElement('script');\n    tag.src = uri;\n    tag.async = true;\n    tag.onload = () => {\n      resolve();\n    };\n  var firstScriptTag = document.getElementsByTagName('script')[0];\n  firstScriptTag.parentNode.insertBefore(tag, firstScriptTag);\n});\n};\n\nif(typeof $3Dmolpromise === 'undefined') {\n$3Dmolpromise = null;\n  $3Dmolpromise = loadScriptAsync('https://3dmol.csb.pitt.edu/build/3Dmol.js');\n}\n\nvar viewer_1620942285326208 = null;\nvar warn = document.getElementById(\"3dmolwarning_1620942285326208\");\nif(warn) {\n    warn.parentNode.removeChild(warn);\n}\n$3Dmolpromise.then(function() {\nviewer_1620942285326208 = $3Dmol.createViewer($(\"#3dmolviewer_1620942285326208\"),{backgroundColor:\"white\"});\n\tviewer_1620942285326208.addModel(\"# generated using pymatgen\\ndata_H2O\\n_symmetry_space_group_name_H-M   'P 1'\\n_cell_length_a   7.00975510\\n_cell_length_b   8.28443392\\n_cell_length_c   18.00000000\\n_cell_angle_alpha   90.00000000\\n_cell_angle_beta   90.00000000\\n_cell_angle_gamma   90.00000000\\n_symmetry_Int_Tables_number   1\\n_chemical_formula_structural   H2O\\n_chemical_formula_sum   'H8 O4'\\n_cell_volume   1045.29335211\\n_cell_formula_units_Z   4\\nloop_\\n _symmetry_equiv_pos_site_id\\n _symmetry_equiv_pos_as_xyz\\n  1  'x, y, z'\\nloop_\\n _atom_site_type_symbol\\n _atom_site_label\\n _atom_site_symmetry_multiplicity\\n _atom_site_fract_x\\n _atom_site_fract_y\\n _atom_site_fract_z\\n _atom_site_occupancy\\n  H  H0  1  0.57695079  0.78051364  0.53902728  1\\n  H  H1  1  0.51651142  0.76293861  0.45793044  1\\n  H  H2  1  0.42304921  0.21948636  0.53902728  1\\n  H  H3  1  0.48348858  0.23706139  0.45793044  1\\n  H  H4  1  0.07695079  0.71948636  0.53902728  1\\n  H  H5  1  0.01651142  0.73706139  0.45793044  1\\n  H  H6  1  0.92304921  0.28051364  0.53902728  1\\n  H  H7  1  0.98348858  0.26293861  0.45793044  1\\n  O  O8  1  0.53505256  0.70107253  0.50304228  1\\n  O  O9  1  0.46494744  0.29892747  0.50304228  1\\n  O  O10  1  0.03505256  0.79892747  0.50304228  1\\n  O  O11  1  0.96494744  0.20107253  0.50304228  1\\n\",\"cif\",{\"doAssembly\": true, \"duplicateAssemblyAtoms\": true, \"normalizeAssembly\": true});\n\tviewer_1620942285326208.setStyle({\"stick\": {\"colorscheme\": \"greenCarbon\"}});\n\tviewer_1620942285326208.addUnitCell();\n\tviewer_1620942285326208.replicateUnitCell(2,2,1);\n\tviewer_1620942285326208.zoomTo();\nviewer_1620942285326208.render();\n});\n</script>",
      "text/html": [
       "<div id=\"3dmolviewer_1620942285326208\"  style=\"position: relative; width: 600px; height: 300px\">\n",
       "        <p id=\"3dmolwarning_1620942285326208\" style=\"background-color:#ffcccc;color:black\">You appear to be running in JupyterLab (or JavaScript failed to load for some other reason).  You need to install the 3dmol extension: <br>\n",
       "        <tt>jupyter labextension install jupyterlab_3dmol</tt></p>\n",
       "        </div>\n",
       "<script>\n",
       "\n",
       "var loadScriptAsync = function(uri){\n",
       "  return new Promise((resolve, reject) => {\n",
       "    var tag = document.createElement('script');\n",
       "    tag.src = uri;\n",
       "    tag.async = true;\n",
       "    tag.onload = () => {\n",
       "      resolve();\n",
       "    };\n",
       "  var firstScriptTag = document.getElementsByTagName('script')[0];\n",
       "  firstScriptTag.parentNode.insertBefore(tag, firstScriptTag);\n",
       "});\n",
       "};\n",
       "\n",
       "if(typeof $3Dmolpromise === 'undefined') {\n",
       "$3Dmolpromise = null;\n",
       "  $3Dmolpromise = loadScriptAsync('https://3dmol.csb.pitt.edu/build/3Dmol.js');\n",
       "}\n",
       "\n",
       "var viewer_1620942285326208 = null;\n",
       "var warn = document.getElementById(\"3dmolwarning_1620942285326208\");\n",
       "if(warn) {\n",
       "    warn.parentNode.removeChild(warn);\n",
       "}\n",
       "$3Dmolpromise.then(function() {\n",
       "viewer_1620942285326208 = $3Dmol.createViewer($(\"#3dmolviewer_1620942285326208\"),{backgroundColor:\"white\"});\n",
       "\tviewer_1620942285326208.addModel(\"# generated using pymatgen\\ndata_H2O\\n_symmetry_space_group_name_H-M   'P 1'\\n_cell_length_a   7.00975510\\n_cell_length_b   8.28443392\\n_cell_length_c   18.00000000\\n_cell_angle_alpha   90.00000000\\n_cell_angle_beta   90.00000000\\n_cell_angle_gamma   90.00000000\\n_symmetry_Int_Tables_number   1\\n_chemical_formula_structural   H2O\\n_chemical_formula_sum   'H8 O4'\\n_cell_volume   1045.29335211\\n_cell_formula_units_Z   4\\nloop_\\n _symmetry_equiv_pos_site_id\\n _symmetry_equiv_pos_as_xyz\\n  1  'x, y, z'\\nloop_\\n _atom_site_type_symbol\\n _atom_site_label\\n _atom_site_symmetry_multiplicity\\n _atom_site_fract_x\\n _atom_site_fract_y\\n _atom_site_fract_z\\n _atom_site_occupancy\\n  H  H0  1  0.57695079  0.78051364  0.53902728  1\\n  H  H1  1  0.51651142  0.76293861  0.45793044  1\\n  H  H2  1  0.42304921  0.21948636  0.53902728  1\\n  H  H3  1  0.48348858  0.23706139  0.45793044  1\\n  H  H4  1  0.07695079  0.71948636  0.53902728  1\\n  H  H5  1  0.01651142  0.73706139  0.45793044  1\\n  H  H6  1  0.92304921  0.28051364  0.53902728  1\\n  H  H7  1  0.98348858  0.26293861  0.45793044  1\\n  O  O8  1  0.53505256  0.70107253  0.50304228  1\\n  O  O9  1  0.46494744  0.29892747  0.50304228  1\\n  O  O10  1  0.03505256  0.79892747  0.50304228  1\\n  O  O11  1  0.96494744  0.20107253  0.50304228  1\\n\",\"cif\",{\"doAssembly\": true, \"duplicateAssemblyAtoms\": true, \"normalizeAssembly\": true});\n",
       "\tviewer_1620942285326208.setStyle({\"stick\": {\"colorscheme\": \"greenCarbon\"}});\n",
       "\tviewer_1620942285326208.addUnitCell();\n",
       "\tviewer_1620942285326208.replicateUnitCell(2,2,1);\n",
       "\tviewer_1620942285326208.zoomTo();\n",
       "viewer_1620942285326208.render();\n",
       "});\n",
       "</script>"
      ]
     },
     "metadata": {},
     "output_type": "display_data"
    },
    {
     "data": {
      "text/plain": [
       "<py3Dmol.view at 0x7fce9d5ae8d0>"
      ]
     },
     "execution_count": 7,
     "metadata": {},
     "output_type": "execute_result"
    }
   ],
   "source": [
    "h2o_2D = pyxtal(molecular=True)\n",
    "h2o_2D.from_random(2, 25, ['H2O'], [4], thickness=0)\n",
    "#print(h2o_2D)\n",
    "h2o_2D.show(supercell=(2,2,1))"
   ]
  },
  {
   "cell_type": "markdown",
   "metadata": {},
   "source": [
    "# 2.4 Subgroup"
   ]
  },
  {
   "cell_type": "code",
   "execution_count": 8,
   "metadata": {},
   "outputs": [
    {
     "name": "stdout",
     "output_type": "stream",
     "text": [
      "\n",
      "------Crystal from Seed------\n",
      "Dimension: 3\n",
      "Composition: [aspirin]4\n",
      "Group: P21/c (14)\n",
      "monoclinic lattice:  11.2330   6.5440  11.2310  90.0000  95.8900  90.0000\n",
      "Wyckoff sites:\n",
      "\tH8C9O4 @ [ 0.2414  0.5782  0.0168]  WP:  4e, Site symmetry 1 ==> Euler:  0.000  0.000  0.000\n"
     ]
    },
    {
     "data": {
      "application/3dmoljs_load.v0": "<div id=\"3dmolviewer_1620942285708818\"  style=\"position: relative; width: 600px; height: 300px\">\n        <p id=\"3dmolwarning_1620942285708818\" style=\"background-color:#ffcccc;color:black\">You appear to be running in JupyterLab (or JavaScript failed to load for some other reason).  You need to install the 3dmol extension: <br>\n        <tt>jupyter labextension install jupyterlab_3dmol</tt></p>\n        </div>\n<script>\n\nvar loadScriptAsync = function(uri){\n  return new Promise((resolve, reject) => {\n    var tag = document.createElement('script');\n    tag.src = uri;\n    tag.async = true;\n    tag.onload = () => {\n      resolve();\n    };\n  var firstScriptTag = document.getElementsByTagName('script')[0];\n  firstScriptTag.parentNode.insertBefore(tag, firstScriptTag);\n});\n};\n\nif(typeof $3Dmolpromise === 'undefined') {\n$3Dmolpromise = null;\n  $3Dmolpromise = loadScriptAsync('https://3dmol.csb.pitt.edu/build/3Dmol.js');\n}\n\nvar viewer_1620942285708818 = null;\nvar warn = document.getElementById(\"3dmolwarning_1620942285708818\");\nif(warn) {\n    warn.parentNode.removeChild(warn);\n}\n$3Dmolpromise.then(function() {\nviewer_1620942285708818 = $3Dmol.createViewer($(\"#3dmolviewer_1620942285708818\"),{backgroundColor:\"white\"});\n\tviewer_1620942285708818.addModel(\"#############################################################\\n#             ______       _    _          _   \\t            #\\n#            (_____ \\\\     \\\\ \\\\  / /        | |               #\\n#             _____) )   _ \\\\ \\\\/ / |_  ____| |  \\t            #\\n#            |  ____/ | | | )  (|  _)/ _  | | \\t            #\\n#            | |    | |_| |/ /\\\\ \\\\ |_( (_| | |___            #\\n#            |_|     \\\\__  /_/  \\\\_\\\\___)__|_|_____)           #\\n#                   (____/                                  #\\n#---------------------(version    0.2.6)--------------------#\\n#       A Python package for random crystal generation      #\\n#       url: https://github.com/qzhu2017/pyxtal             #\\n#       @Zhu's group at University of Nevada Las Vegas      #\\n#############################################################\\ndata_from_pyxtal\\n\\n_symmetry_space_group_name_H-M 'P21/c'\\n_symmetry_Int_Tables_number                   14\\n_symmetry_cell_setting                monoclinic\\n_cell_length_a           11.233000\\n_cell_length_b            6.544000\\n_cell_length_c           11.231000\\n_cell_angle_alpha        90.000000\\n_cell_angle_beta         95.890000\\n_cell_angle_gamma        90.000000\\n\\nloop_\\n _symmetry_equiv_pos_site_id\\n _symmetry_equiv_pos_as_xyz\\n1 'x, y, z'\\n2 '-x, y+1/2, -z+1/2'\\n3 '-x, -y, -z'\\n4 'x, -y+1/2, z+1/2'\\n\\nloop_\\n _atom_site_label\\n _atom_site_type_symbol\\n _atom_site_symmetry_multiplicity\\n _atom_site_fract_x\\n _atom_site_fract_y\\n _atom_site_fract_z\\n _atom_site_occupancy\\nO      O        4     0.288600    0.582700   -0.089000 1\\nO      O        4     0.123500    0.859000   -0.052700 1\\nO      O        4     0.009800    0.813000    0.096600 1\\nO      O        4     0.402900    0.781500    0.036700 1\\nC      C        4     0.247300    0.483800    0.008800 1\\nC      C        4     0.153700    0.560300    0.066500 1\\nC      C        4     0.299800    0.297700    0.041400 1\\nC      C        4     0.115800    0.446300    0.161400 1\\nC      C        4     0.260900    0.187600    0.135200 1\\nC      C        4     0.168600    0.262000    0.194200 1\\nC      C        4     0.090300    0.756200    0.037200 1\\nC      C        4     0.367400    0.737300   -0.062300 1\\nC      C        4     0.399300    0.839900   -0.174000 1\\nH      H        4     0.369800    0.237700   -0.009500 1\\nH      H        4     0.043300    0.507000    0.208300 1\\nH      H        4     0.301600    0.039600    0.159300 1\\nH      H        4     0.140600    0.174000    0.268800 1\\nH      H        4     0.320000    0.897000   -0.224000 1\\nH      H        4     0.434000    0.735000   -0.240000 1\\nH      H        4     0.461800    0.960000   -0.145000 1\\nH      H        4     0.071300    0.985500   -0.064200 1\\n#END\\n\\n\",\"cif\",{\"doAssembly\": true, \"duplicateAssemblyAtoms\": true, \"normalizeAssembly\": true});\n\tviewer_1620942285708818.setStyle({\"stick\": {\"colorscheme\": \"greenCarbon\"}});\n\tviewer_1620942285708818.addUnitCell();\n\tviewer_1620942285708818.replicateUnitCell(1,1,1);\n\tviewer_1620942285708818.zoomTo();\nviewer_1620942285708818.render();\n});\n</script>",
      "text/html": [
       "<div id=\"3dmolviewer_1620942285708818\"  style=\"position: relative; width: 600px; height: 300px\">\n",
       "        <p id=\"3dmolwarning_1620942285708818\" style=\"background-color:#ffcccc;color:black\">You appear to be running in JupyterLab (or JavaScript failed to load for some other reason).  You need to install the 3dmol extension: <br>\n",
       "        <tt>jupyter labextension install jupyterlab_3dmol</tt></p>\n",
       "        </div>\n",
       "<script>\n",
       "\n",
       "var loadScriptAsync = function(uri){\n",
       "  return new Promise((resolve, reject) => {\n",
       "    var tag = document.createElement('script');\n",
       "    tag.src = uri;\n",
       "    tag.async = true;\n",
       "    tag.onload = () => {\n",
       "      resolve();\n",
       "    };\n",
       "  var firstScriptTag = document.getElementsByTagName('script')[0];\n",
       "  firstScriptTag.parentNode.insertBefore(tag, firstScriptTag);\n",
       "});\n",
       "};\n",
       "\n",
       "if(typeof $3Dmolpromise === 'undefined') {\n",
       "$3Dmolpromise = null;\n",
       "  $3Dmolpromise = loadScriptAsync('https://3dmol.csb.pitt.edu/build/3Dmol.js');\n",
       "}\n",
       "\n",
       "var viewer_1620942285708818 = null;\n",
       "var warn = document.getElementById(\"3dmolwarning_1620942285708818\");\n",
       "if(warn) {\n",
       "    warn.parentNode.removeChild(warn);\n",
       "}\n",
       "$3Dmolpromise.then(function() {\n",
       "viewer_1620942285708818 = $3Dmol.createViewer($(\"#3dmolviewer_1620942285708818\"),{backgroundColor:\"white\"});\n",
       "\tviewer_1620942285708818.addModel(\"#############################################################\\n#             ______       _    _          _   \\t            #\\n#            (_____ \\\\     \\\\ \\\\  / /        | |               #\\n#             _____) )   _ \\\\ \\\\/ / |_  ____| |  \\t            #\\n#            |  ____/ | | | )  (|  _)/ _  | | \\t            #\\n#            | |    | |_| |/ /\\\\ \\\\ |_( (_| | |___            #\\n#            |_|     \\\\__  /_/  \\\\_\\\\___)__|_|_____)           #\\n#                   (____/                                  #\\n#---------------------(version    0.2.6)--------------------#\\n#       A Python package for random crystal generation      #\\n#       url: https://github.com/qzhu2017/pyxtal             #\\n#       @Zhu's group at University of Nevada Las Vegas      #\\n#############################################################\\ndata_from_pyxtal\\n\\n_symmetry_space_group_name_H-M 'P21/c'\\n_symmetry_Int_Tables_number                   14\\n_symmetry_cell_setting                monoclinic\\n_cell_length_a           11.233000\\n_cell_length_b            6.544000\\n_cell_length_c           11.231000\\n_cell_angle_alpha        90.000000\\n_cell_angle_beta         95.890000\\n_cell_angle_gamma        90.000000\\n\\nloop_\\n _symmetry_equiv_pos_site_id\\n _symmetry_equiv_pos_as_xyz\\n1 'x, y, z'\\n2 '-x, y+1/2, -z+1/2'\\n3 '-x, -y, -z'\\n4 'x, -y+1/2, z+1/2'\\n\\nloop_\\n _atom_site_label\\n _atom_site_type_symbol\\n _atom_site_symmetry_multiplicity\\n _atom_site_fract_x\\n _atom_site_fract_y\\n _atom_site_fract_z\\n _atom_site_occupancy\\nO      O        4     0.288600    0.582700   -0.089000 1\\nO      O        4     0.123500    0.859000   -0.052700 1\\nO      O        4     0.009800    0.813000    0.096600 1\\nO      O        4     0.402900    0.781500    0.036700 1\\nC      C        4     0.247300    0.483800    0.008800 1\\nC      C        4     0.153700    0.560300    0.066500 1\\nC      C        4     0.299800    0.297700    0.041400 1\\nC      C        4     0.115800    0.446300    0.161400 1\\nC      C        4     0.260900    0.187600    0.135200 1\\nC      C        4     0.168600    0.262000    0.194200 1\\nC      C        4     0.090300    0.756200    0.037200 1\\nC      C        4     0.367400    0.737300   -0.062300 1\\nC      C        4     0.399300    0.839900   -0.174000 1\\nH      H        4     0.369800    0.237700   -0.009500 1\\nH      H        4     0.043300    0.507000    0.208300 1\\nH      H        4     0.301600    0.039600    0.159300 1\\nH      H        4     0.140600    0.174000    0.268800 1\\nH      H        4     0.320000    0.897000   -0.224000 1\\nH      H        4     0.434000    0.735000   -0.240000 1\\nH      H        4     0.461800    0.960000   -0.145000 1\\nH      H        4     0.071300    0.985500   -0.064200 1\\n#END\\n\\n\",\"cif\",{\"doAssembly\": true, \"duplicateAssemblyAtoms\": true, \"normalizeAssembly\": true});\n",
       "\tviewer_1620942285708818.setStyle({\"stick\": {\"colorscheme\": \"greenCarbon\"}});\n",
       "\tviewer_1620942285708818.addUnitCell();\n",
       "\tviewer_1620942285708818.replicateUnitCell(1,1,1);\n",
       "\tviewer_1620942285708818.zoomTo();\n",
       "viewer_1620942285708818.render();\n",
       "});\n",
       "</script>"
      ]
     },
     "metadata": {},
     "output_type": "display_data"
    },
    {
     "data": {
      "text/plain": [
       "<py3Dmol.view at 0x7fce89796390>"
      ]
     },
     "execution_count": 8,
     "metadata": {},
     "output_type": "execute_result"
    }
   ],
   "source": [
    "from pyxtal import pyxtal\n",
    "\n",
    "C1 = pyxtal(molecular=True)\n",
    "C1.from_seed(seed=\"aspirin.cif\", molecules=[\"aspirin\"])\n",
    "print(C1)\n",
    "C1.show() "
   ]
  },
  {
   "cell_type": "code",
   "execution_count": 9,
   "metadata": {},
   "outputs": [
    {
     "name": "stdout",
     "output_type": "stream",
     "text": [
      "\n",
      "------Crystal from subgroup------\n",
      "Dimension: 3\n",
      "Composition: [aspirin]4\n",
      "Group: Pc (7)\n",
      "monoclinic lattice:  11.2330   6.5440  11.2310  90.0000  95.8900  90.0000\n",
      "Wyckoff sites:\n",
      "\tH8C9O4 @ [ 0.2414  0.3282  0.0168]  WP:  2a, Site symmetry 1 ==> Euler:  0.000  0.000  0.000\n",
      "\tH8C9O4 @ [ 0.7586  0.1718  0.9832]  WP:  2a, Site symmetry 1 ==> Euler:  0.000  0.000  0.000\n"
     ]
    },
    {
     "data": {
      "application/3dmoljs_load.v0": "<div id=\"3dmolviewer_1620942285881345\"  style=\"position: relative; width: 600px; height: 300px\">\n        <p id=\"3dmolwarning_1620942285881345\" style=\"background-color:#ffcccc;color:black\">You appear to be running in JupyterLab (or JavaScript failed to load for some other reason).  You need to install the 3dmol extension: <br>\n        <tt>jupyter labextension install jupyterlab_3dmol</tt></p>\n        </div>\n<script>\n\nvar loadScriptAsync = function(uri){\n  return new Promise((resolve, reject) => {\n    var tag = document.createElement('script');\n    tag.src = uri;\n    tag.async = true;\n    tag.onload = () => {\n      resolve();\n    };\n  var firstScriptTag = document.getElementsByTagName('script')[0];\n  firstScriptTag.parentNode.insertBefore(tag, firstScriptTag);\n});\n};\n\nif(typeof $3Dmolpromise === 'undefined') {\n$3Dmolpromise = null;\n  $3Dmolpromise = loadScriptAsync('https://3dmol.csb.pitt.edu/build/3Dmol.js');\n}\n\nvar viewer_1620942285881345 = null;\nvar warn = document.getElementById(\"3dmolwarning_1620942285881345\");\nif(warn) {\n    warn.parentNode.removeChild(warn);\n}\n$3Dmolpromise.then(function() {\nviewer_1620942285881345 = $3Dmol.createViewer($(\"#3dmolviewer_1620942285881345\"),{backgroundColor:\"white\"});\n\tviewer_1620942285881345.addModel(\"#############################################################\\n#             ______       _    _          _   \\t            #\\n#            (_____ \\\\     \\\\ \\\\  / /        | |               #\\n#             _____) )   _ \\\\ \\\\/ / |_  ____| |  \\t            #\\n#            |  ____/ | | | )  (|  _)/ _  | | \\t            #\\n#            | |    | |_| |/ /\\\\ \\\\ |_( (_| | |___            #\\n#            |_|     \\\\__  /_/  \\\\_\\\\___)__|_|_____)           #\\n#                   (____/                                  #\\n#---------------------(version    0.2.6)--------------------#\\n#       A Python package for random crystal generation      #\\n#       url: https://github.com/qzhu2017/pyxtal             #\\n#       @Zhu's group at University of Nevada Las Vegas      #\\n#############################################################\\ndata_from_pyxtal\\n\\n_symmetry_space_group_name_H-M 'Pc'\\n_symmetry_Int_Tables_number                    7\\n_symmetry_cell_setting                monoclinic\\n_cell_length_a           11.233000\\n_cell_length_b            6.544000\\n_cell_length_c           11.231000\\n_cell_angle_alpha        90.000000\\n_cell_angle_beta         95.890000\\n_cell_angle_gamma        90.000000\\n\\nloop_\\n _symmetry_equiv_pos_site_id\\n _symmetry_equiv_pos_as_xyz\\n1 'x, y, z'\\n2 'x, -y, z+1/2'\\n\\nloop_\\n _atom_site_label\\n _atom_site_type_symbol\\n _atom_site_symmetry_multiplicity\\n _atom_site_fract_x\\n _atom_site_fract_y\\n _atom_site_fract_z\\n _atom_site_occupancy\\nO      O        2     0.288600    0.332700   -0.089000 1\\nO      O        2     0.123500    0.609000   -0.052700 1\\nO      O        2     0.009800    0.563000    0.096600 1\\nO      O        2     0.402900    0.531500    0.036700 1\\nC      C        2     0.247300    0.233800    0.008800 1\\nC      C        2     0.153700    0.310300    0.066500 1\\nC      C        2     0.299800    0.047700    0.041400 1\\nC      C        2     0.115800    0.196300    0.161400 1\\nC      C        2     0.260900   -0.062400    0.135200 1\\nC      C        2     0.168600    0.012000    0.194200 1\\nC      C        2     0.090300    0.506200    0.037200 1\\nC      C        2     0.367400    0.487300   -0.062300 1\\nC      C        2     0.399300    0.589900   -0.174000 1\\nH      H        2     0.369800   -0.012300   -0.009500 1\\nH      H        2     0.043300    0.257000    0.208300 1\\nH      H        2     0.301600   -0.210400    0.159300 1\\nH      H        2     0.140600   -0.076000    0.268800 1\\nH      H        2     0.320000    0.647000   -0.224000 1\\nH      H        2     0.434000    0.485000   -0.240000 1\\nH      H        2     0.461800    0.710000   -0.145000 1\\nH      H        2     0.071300    0.735500   -0.064200 1\\nO      O        2     0.711400    0.167300    1.089000 1\\nO      O        2     0.876500   -0.109000    1.052700 1\\nO      O        2     0.990200   -0.063000    0.903400 1\\nO      O        2     0.597100   -0.031500    0.963300 1\\nC      C        2     0.752700    0.266200    0.991200 1\\nC      C        2     0.846300    0.189700    0.933500 1\\nC      C        2     0.700200    0.452300    0.958600 1\\nC      C        2     0.884200    0.303700    0.838600 1\\nC      C        2     0.739100    0.562400    0.864800 1\\nC      C        2     0.831400    0.488000    0.805800 1\\nC      C        2     0.909700   -0.006200    0.962800 1\\nC      C        2     0.632600    0.012700    1.062300 1\\nC      C        2     0.600700   -0.089900    1.174000 1\\nH      H        2     0.630200    0.512300    1.009500 1\\nH      H        2     0.956700    0.243000    0.791700 1\\nH      H        2     0.698400    0.710400    0.840700 1\\nH      H        2     0.859400    0.576000    0.731200 1\\nH      H        2     0.680000   -0.147000    1.224000 1\\nH      H        2     0.566000    0.015000    1.240000 1\\nH      H        2     0.538200   -0.210000    1.145000 1\\nH      H        2     0.928700   -0.235500    1.064200 1\\n#END\\n\\n\",\"cif\",{\"doAssembly\": true, \"duplicateAssemblyAtoms\": true, \"normalizeAssembly\": true});\n\tviewer_1620942285881345.setStyle({\"stick\": {\"colorscheme\": \"greenCarbon\"}});\n\tviewer_1620942285881345.addUnitCell();\n\tviewer_1620942285881345.replicateUnitCell(1,1,1);\n\tviewer_1620942285881345.zoomTo();\nviewer_1620942285881345.render();\n});\n</script>",
      "text/html": [
       "<div id=\"3dmolviewer_1620942285881345\"  style=\"position: relative; width: 600px; height: 300px\">\n",
       "        <p id=\"3dmolwarning_1620942285881345\" style=\"background-color:#ffcccc;color:black\">You appear to be running in JupyterLab (or JavaScript failed to load for some other reason).  You need to install the 3dmol extension: <br>\n",
       "        <tt>jupyter labextension install jupyterlab_3dmol</tt></p>\n",
       "        </div>\n",
       "<script>\n",
       "\n",
       "var loadScriptAsync = function(uri){\n",
       "  return new Promise((resolve, reject) => {\n",
       "    var tag = document.createElement('script');\n",
       "    tag.src = uri;\n",
       "    tag.async = true;\n",
       "    tag.onload = () => {\n",
       "      resolve();\n",
       "    };\n",
       "  var firstScriptTag = document.getElementsByTagName('script')[0];\n",
       "  firstScriptTag.parentNode.insertBefore(tag, firstScriptTag);\n",
       "});\n",
       "};\n",
       "\n",
       "if(typeof $3Dmolpromise === 'undefined') {\n",
       "$3Dmolpromise = null;\n",
       "  $3Dmolpromise = loadScriptAsync('https://3dmol.csb.pitt.edu/build/3Dmol.js');\n",
       "}\n",
       "\n",
       "var viewer_1620942285881345 = null;\n",
       "var warn = document.getElementById(\"3dmolwarning_1620942285881345\");\n",
       "if(warn) {\n",
       "    warn.parentNode.removeChild(warn);\n",
       "}\n",
       "$3Dmolpromise.then(function() {\n",
       "viewer_1620942285881345 = $3Dmol.createViewer($(\"#3dmolviewer_1620942285881345\"),{backgroundColor:\"white\"});\n",
       "\tviewer_1620942285881345.addModel(\"#############################################################\\n#             ______       _    _          _   \\t            #\\n#            (_____ \\\\     \\\\ \\\\  / /        | |               #\\n#             _____) )   _ \\\\ \\\\/ / |_  ____| |  \\t            #\\n#            |  ____/ | | | )  (|  _)/ _  | | \\t            #\\n#            | |    | |_| |/ /\\\\ \\\\ |_( (_| | |___            #\\n#            |_|     \\\\__  /_/  \\\\_\\\\___)__|_|_____)           #\\n#                   (____/                                  #\\n#---------------------(version    0.2.6)--------------------#\\n#       A Python package for random crystal generation      #\\n#       url: https://github.com/qzhu2017/pyxtal             #\\n#       @Zhu's group at University of Nevada Las Vegas      #\\n#############################################################\\ndata_from_pyxtal\\n\\n_symmetry_space_group_name_H-M 'Pc'\\n_symmetry_Int_Tables_number                    7\\n_symmetry_cell_setting                monoclinic\\n_cell_length_a           11.233000\\n_cell_length_b            6.544000\\n_cell_length_c           11.231000\\n_cell_angle_alpha        90.000000\\n_cell_angle_beta         95.890000\\n_cell_angle_gamma        90.000000\\n\\nloop_\\n _symmetry_equiv_pos_site_id\\n _symmetry_equiv_pos_as_xyz\\n1 'x, y, z'\\n2 'x, -y, z+1/2'\\n\\nloop_\\n _atom_site_label\\n _atom_site_type_symbol\\n _atom_site_symmetry_multiplicity\\n _atom_site_fract_x\\n _atom_site_fract_y\\n _atom_site_fract_z\\n _atom_site_occupancy\\nO      O        2     0.288600    0.332700   -0.089000 1\\nO      O        2     0.123500    0.609000   -0.052700 1\\nO      O        2     0.009800    0.563000    0.096600 1\\nO      O        2     0.402900    0.531500    0.036700 1\\nC      C        2     0.247300    0.233800    0.008800 1\\nC      C        2     0.153700    0.310300    0.066500 1\\nC      C        2     0.299800    0.047700    0.041400 1\\nC      C        2     0.115800    0.196300    0.161400 1\\nC      C        2     0.260900   -0.062400    0.135200 1\\nC      C        2     0.168600    0.012000    0.194200 1\\nC      C        2     0.090300    0.506200    0.037200 1\\nC      C        2     0.367400    0.487300   -0.062300 1\\nC      C        2     0.399300    0.589900   -0.174000 1\\nH      H        2     0.369800   -0.012300   -0.009500 1\\nH      H        2     0.043300    0.257000    0.208300 1\\nH      H        2     0.301600   -0.210400    0.159300 1\\nH      H        2     0.140600   -0.076000    0.268800 1\\nH      H        2     0.320000    0.647000   -0.224000 1\\nH      H        2     0.434000    0.485000   -0.240000 1\\nH      H        2     0.461800    0.710000   -0.145000 1\\nH      H        2     0.071300    0.735500   -0.064200 1\\nO      O        2     0.711400    0.167300    1.089000 1\\nO      O        2     0.876500   -0.109000    1.052700 1\\nO      O        2     0.990200   -0.063000    0.903400 1\\nO      O        2     0.597100   -0.031500    0.963300 1\\nC      C        2     0.752700    0.266200    0.991200 1\\nC      C        2     0.846300    0.189700    0.933500 1\\nC      C        2     0.700200    0.452300    0.958600 1\\nC      C        2     0.884200    0.303700    0.838600 1\\nC      C        2     0.739100    0.562400    0.864800 1\\nC      C        2     0.831400    0.488000    0.805800 1\\nC      C        2     0.909700   -0.006200    0.962800 1\\nC      C        2     0.632600    0.012700    1.062300 1\\nC      C        2     0.600700   -0.089900    1.174000 1\\nH      H        2     0.630200    0.512300    1.009500 1\\nH      H        2     0.956700    0.243000    0.791700 1\\nH      H        2     0.698400    0.710400    0.840700 1\\nH      H        2     0.859400    0.576000    0.731200 1\\nH      H        2     0.680000   -0.147000    1.224000 1\\nH      H        2     0.566000    0.015000    1.240000 1\\nH      H        2     0.538200   -0.210000    1.145000 1\\nH      H        2     0.928700   -0.235500    1.064200 1\\n#END\\n\\n\",\"cif\",{\"doAssembly\": true, \"duplicateAssemblyAtoms\": true, \"normalizeAssembly\": true});\n",
       "\tviewer_1620942285881345.setStyle({\"stick\": {\"colorscheme\": \"greenCarbon\"}});\n",
       "\tviewer_1620942285881345.addUnitCell();\n",
       "\tviewer_1620942285881345.replicateUnitCell(1,1,1);\n",
       "\tviewer_1620942285881345.zoomTo();\n",
       "viewer_1620942285881345.render();\n",
       "});\n",
       "</script>"
      ]
     },
     "metadata": {},
     "output_type": "display_data"
    },
    {
     "data": {
      "text/plain": [
       "<py3Dmol.view at 0x7fce9d5ae990>"
      ]
     },
     "execution_count": 9,
     "metadata": {},
     "output_type": "execute_result"
    }
   ],
   "source": [
    "C2 = C1.subgroup_once(H=7, eps=0, mut_lat=False)\n",
    "print(C2)\n",
    "C2.show()"
   ]
  },
  {
   "cell_type": "markdown",
   "metadata": {},
   "source": [
    "# 2.5 Cell Transformation"
   ]
  },
  {
   "cell_type": "code",
   "execution_count": 10,
   "metadata": {},
   "outputs": [
    {
     "name": "stdout",
     "output_type": "stream",
     "text": [
      "\n",
      "------Crystal from Seed------\n",
      "Dimension: 3\n",
      "Composition: [aspirin]4\n",
      "Group: P21/c (14)\n",
      "monoclinic lattice:  11.2330   6.5440  11.2310  90.0000  95.8900  90.0000\n",
      "Wyckoff sites:\n",
      "\tH8C9O4 @ [ 0.2414  0.5782  0.0168]  WP:  4e, Site symmetry 1 ==> Euler:  0.000  0.000  0.000\n"
     ]
    },
    {
     "data": {
      "application/3dmoljs_load.v0": "<div id=\"3dmolviewer_1620942286229016\"  style=\"position: relative; width: 600px; height: 300px\">\n        <p id=\"3dmolwarning_1620942286229016\" style=\"background-color:#ffcccc;color:black\">You appear to be running in JupyterLab (or JavaScript failed to load for some other reason).  You need to install the 3dmol extension: <br>\n        <tt>jupyter labextension install jupyterlab_3dmol</tt></p>\n        </div>\n<script>\n\nvar loadScriptAsync = function(uri){\n  return new Promise((resolve, reject) => {\n    var tag = document.createElement('script');\n    tag.src = uri;\n    tag.async = true;\n    tag.onload = () => {\n      resolve();\n    };\n  var firstScriptTag = document.getElementsByTagName('script')[0];\n  firstScriptTag.parentNode.insertBefore(tag, firstScriptTag);\n});\n};\n\nif(typeof $3Dmolpromise === 'undefined') {\n$3Dmolpromise = null;\n  $3Dmolpromise = loadScriptAsync('https://3dmol.csb.pitt.edu/build/3Dmol.js');\n}\n\nvar viewer_1620942286229016 = null;\nvar warn = document.getElementById(\"3dmolwarning_1620942286229016\");\nif(warn) {\n    warn.parentNode.removeChild(warn);\n}\n$3Dmolpromise.then(function() {\nviewer_1620942286229016 = $3Dmol.createViewer($(\"#3dmolviewer_1620942286229016\"),{backgroundColor:\"white\"});\n\tviewer_1620942286229016.addModel(\"#############################################################\\n#             ______       _    _          _   \\t            #\\n#            (_____ \\\\     \\\\ \\\\  / /        | |               #\\n#             _____) )   _ \\\\ \\\\/ / |_  ____| |  \\t            #\\n#            |  ____/ | | | )  (|  _)/ _  | | \\t            #\\n#            | |    | |_| |/ /\\\\ \\\\ |_( (_| | |___            #\\n#            |_|     \\\\__  /_/  \\\\_\\\\___)__|_|_____)           #\\n#                   (____/                                  #\\n#---------------------(version    0.2.6)--------------------#\\n#       A Python package for random crystal generation      #\\n#       url: https://github.com/qzhu2017/pyxtal             #\\n#       @Zhu's group at University of Nevada Las Vegas      #\\n#############################################################\\ndata_from_pyxtal\\n\\n_symmetry_space_group_name_H-M 'P21/c'\\n_symmetry_Int_Tables_number                   14\\n_symmetry_cell_setting                monoclinic\\n_cell_length_a           11.233000\\n_cell_length_b            6.544000\\n_cell_length_c           11.231000\\n_cell_angle_alpha        90.000000\\n_cell_angle_beta         95.890000\\n_cell_angle_gamma        90.000000\\n\\nloop_\\n _symmetry_equiv_pos_site_id\\n _symmetry_equiv_pos_as_xyz\\n1 'x, y, z'\\n2 '-x, y+1/2, -z+1/2'\\n3 '-x, -y, -z'\\n4 'x, -y+1/2, z+1/2'\\n\\nloop_\\n _atom_site_label\\n _atom_site_type_symbol\\n _atom_site_symmetry_multiplicity\\n _atom_site_fract_x\\n _atom_site_fract_y\\n _atom_site_fract_z\\n _atom_site_occupancy\\nO      O        4     0.288600    0.582700   -0.089000 1\\nO      O        4     0.123500    0.859000   -0.052700 1\\nO      O        4     0.009800    0.813000    0.096600 1\\nO      O        4     0.402900    0.781500    0.036700 1\\nC      C        4     0.247300    0.483800    0.008800 1\\nC      C        4     0.153700    0.560300    0.066500 1\\nC      C        4     0.299800    0.297700    0.041400 1\\nC      C        4     0.115800    0.446300    0.161400 1\\nC      C        4     0.260900    0.187600    0.135200 1\\nC      C        4     0.168600    0.262000    0.194200 1\\nC      C        4     0.090300    0.756200    0.037200 1\\nC      C        4     0.367400    0.737300   -0.062300 1\\nC      C        4     0.399300    0.839900   -0.174000 1\\nH      H        4     0.369800    0.237700   -0.009500 1\\nH      H        4     0.043300    0.507000    0.208300 1\\nH      H        4     0.301600    0.039600    0.159300 1\\nH      H        4     0.140600    0.174000    0.268800 1\\nH      H        4     0.320000    0.897000   -0.224000 1\\nH      H        4     0.434000    0.735000   -0.240000 1\\nH      H        4     0.461800    0.960000   -0.145000 1\\nH      H        4     0.071300    0.985500   -0.064200 1\\n#END\\n\\n\",\"cif\",{\"doAssembly\": true, \"duplicateAssemblyAtoms\": true, \"normalizeAssembly\": true});\n\tviewer_1620942286229016.setStyle({\"stick\": {\"colorscheme\": \"greenCarbon\"}});\n\tviewer_1620942286229016.addUnitCell();\n\tviewer_1620942286229016.replicateUnitCell(1,1,1);\n\tviewer_1620942286229016.zoomTo();\nviewer_1620942286229016.render();\n});\n</script>",
      "text/html": [
       "<div id=\"3dmolviewer_1620942286229016\"  style=\"position: relative; width: 600px; height: 300px\">\n",
       "        <p id=\"3dmolwarning_1620942286229016\" style=\"background-color:#ffcccc;color:black\">You appear to be running in JupyterLab (or JavaScript failed to load for some other reason).  You need to install the 3dmol extension: <br>\n",
       "        <tt>jupyter labextension install jupyterlab_3dmol</tt></p>\n",
       "        </div>\n",
       "<script>\n",
       "\n",
       "var loadScriptAsync = function(uri){\n",
       "  return new Promise((resolve, reject) => {\n",
       "    var tag = document.createElement('script');\n",
       "    tag.src = uri;\n",
       "    tag.async = true;\n",
       "    tag.onload = () => {\n",
       "      resolve();\n",
       "    };\n",
       "  var firstScriptTag = document.getElementsByTagName('script')[0];\n",
       "  firstScriptTag.parentNode.insertBefore(tag, firstScriptTag);\n",
       "});\n",
       "};\n",
       "\n",
       "if(typeof $3Dmolpromise === 'undefined') {\n",
       "$3Dmolpromise = null;\n",
       "  $3Dmolpromise = loadScriptAsync('https://3dmol.csb.pitt.edu/build/3Dmol.js');\n",
       "}\n",
       "\n",
       "var viewer_1620942286229016 = null;\n",
       "var warn = document.getElementById(\"3dmolwarning_1620942286229016\");\n",
       "if(warn) {\n",
       "    warn.parentNode.removeChild(warn);\n",
       "}\n",
       "$3Dmolpromise.then(function() {\n",
       "viewer_1620942286229016 = $3Dmol.createViewer($(\"#3dmolviewer_1620942286229016\"),{backgroundColor:\"white\"});\n",
       "\tviewer_1620942286229016.addModel(\"#############################################################\\n#             ______       _    _          _   \\t            #\\n#            (_____ \\\\     \\\\ \\\\  / /        | |               #\\n#             _____) )   _ \\\\ \\\\/ / |_  ____| |  \\t            #\\n#            |  ____/ | | | )  (|  _)/ _  | | \\t            #\\n#            | |    | |_| |/ /\\\\ \\\\ |_( (_| | |___            #\\n#            |_|     \\\\__  /_/  \\\\_\\\\___)__|_|_____)           #\\n#                   (____/                                  #\\n#---------------------(version    0.2.6)--------------------#\\n#       A Python package for random crystal generation      #\\n#       url: https://github.com/qzhu2017/pyxtal             #\\n#       @Zhu's group at University of Nevada Las Vegas      #\\n#############################################################\\ndata_from_pyxtal\\n\\n_symmetry_space_group_name_H-M 'P21/c'\\n_symmetry_Int_Tables_number                   14\\n_symmetry_cell_setting                monoclinic\\n_cell_length_a           11.233000\\n_cell_length_b            6.544000\\n_cell_length_c           11.231000\\n_cell_angle_alpha        90.000000\\n_cell_angle_beta         95.890000\\n_cell_angle_gamma        90.000000\\n\\nloop_\\n _symmetry_equiv_pos_site_id\\n _symmetry_equiv_pos_as_xyz\\n1 'x, y, z'\\n2 '-x, y+1/2, -z+1/2'\\n3 '-x, -y, -z'\\n4 'x, -y+1/2, z+1/2'\\n\\nloop_\\n _atom_site_label\\n _atom_site_type_symbol\\n _atom_site_symmetry_multiplicity\\n _atom_site_fract_x\\n _atom_site_fract_y\\n _atom_site_fract_z\\n _atom_site_occupancy\\nO      O        4     0.288600    0.582700   -0.089000 1\\nO      O        4     0.123500    0.859000   -0.052700 1\\nO      O        4     0.009800    0.813000    0.096600 1\\nO      O        4     0.402900    0.781500    0.036700 1\\nC      C        4     0.247300    0.483800    0.008800 1\\nC      C        4     0.153700    0.560300    0.066500 1\\nC      C        4     0.299800    0.297700    0.041400 1\\nC      C        4     0.115800    0.446300    0.161400 1\\nC      C        4     0.260900    0.187600    0.135200 1\\nC      C        4     0.168600    0.262000    0.194200 1\\nC      C        4     0.090300    0.756200    0.037200 1\\nC      C        4     0.367400    0.737300   -0.062300 1\\nC      C        4     0.399300    0.839900   -0.174000 1\\nH      H        4     0.369800    0.237700   -0.009500 1\\nH      H        4     0.043300    0.507000    0.208300 1\\nH      H        4     0.301600    0.039600    0.159300 1\\nH      H        4     0.140600    0.174000    0.268800 1\\nH      H        4     0.320000    0.897000   -0.224000 1\\nH      H        4     0.434000    0.735000   -0.240000 1\\nH      H        4     0.461800    0.960000   -0.145000 1\\nH      H        4     0.071300    0.985500   -0.064200 1\\n#END\\n\\n\",\"cif\",{\"doAssembly\": true, \"duplicateAssemblyAtoms\": true, \"normalizeAssembly\": true});\n",
       "\tviewer_1620942286229016.setStyle({\"stick\": {\"colorscheme\": \"greenCarbon\"}});\n",
       "\tviewer_1620942286229016.addUnitCell();\n",
       "\tviewer_1620942286229016.replicateUnitCell(1,1,1);\n",
       "\tviewer_1620942286229016.zoomTo();\n",
       "viewer_1620942286229016.render();\n",
       "});\n",
       "</script>"
      ]
     },
     "metadata": {},
     "output_type": "display_data"
    },
    {
     "data": {
      "text/plain": [
       "<py3Dmol.view at 0x7fce9c1077d0>"
      ]
     },
     "execution_count": 10,
     "metadata": {},
     "output_type": "execute_result"
    }
   ],
   "source": [
    "from pyxtal import pyxtal\n",
    "\n",
    "C1 = pyxtal(molecular=True)\n",
    "C1.from_seed(seed=\"aspirin.cif\", molecules=[\"aspirin\"])\n",
    "print(C1)\n",
    "C1.show()"
   ]
  },
  {
   "cell_type": "code",
   "execution_count": 11,
   "metadata": {},
   "outputs": [
    {
     "name": "stdout",
     "output_type": "stream",
     "text": [
      "\n",
      "------Crystal from Seed------\n",
      "Dimension: 3\n",
      "Composition: [aspirin]4\n",
      "Group: P21/n (14)\n",
      "monoclinic lattice:  11.2330   6.5440  15.0474  90.0000  47.9393  90.0000\n",
      "Wyckoff sites:\n",
      "\tH8C9O4 @ [ 0.2246  0.5782  0.0168]  WP:  4e, Site symmetry 1 ==> Euler:  0.000  0.000  0.000\n"
     ]
    },
    {
     "data": {
      "application/3dmoljs_load.v0": "<div id=\"3dmolviewer_1620942286270109\"  style=\"position: relative; width: 600px; height: 300px\">\n        <p id=\"3dmolwarning_1620942286270109\" style=\"background-color:#ffcccc;color:black\">You appear to be running in JupyterLab (or JavaScript failed to load for some other reason).  You need to install the 3dmol extension: <br>\n        <tt>jupyter labextension install jupyterlab_3dmol</tt></p>\n        </div>\n<script>\n\nvar loadScriptAsync = function(uri){\n  return new Promise((resolve, reject) => {\n    var tag = document.createElement('script');\n    tag.src = uri;\n    tag.async = true;\n    tag.onload = () => {\n      resolve();\n    };\n  var firstScriptTag = document.getElementsByTagName('script')[0];\n  firstScriptTag.parentNode.insertBefore(tag, firstScriptTag);\n});\n};\n\nif(typeof $3Dmolpromise === 'undefined') {\n$3Dmolpromise = null;\n  $3Dmolpromise = loadScriptAsync('https://3dmol.csb.pitt.edu/build/3Dmol.js');\n}\n\nvar viewer_1620942286270109 = null;\nvar warn = document.getElementById(\"3dmolwarning_1620942286270109\");\nif(warn) {\n    warn.parentNode.removeChild(warn);\n}\n$3Dmolpromise.then(function() {\nviewer_1620942286270109 = $3Dmol.createViewer($(\"#3dmolviewer_1620942286270109\"),{backgroundColor:\"white\"});\n\tviewer_1620942286270109.addModel(\"#############################################################\\n#             ______       _    _          _   \\t            #\\n#            (_____ \\\\     \\\\ \\\\  / /        | |               #\\n#             _____) )   _ \\\\ \\\\/ / |_  ____| |  \\t            #\\n#            |  ____/ | | | )  (|  _)/ _  | | \\t            #\\n#            | |    | |_| |/ /\\\\ \\\\ |_( (_| | |___            #\\n#            |_|     \\\\__  /_/  \\\\_\\\\___)__|_|_____)           #\\n#                   (____/                                  #\\n#---------------------(version    0.2.6)--------------------#\\n#       A Python package for random crystal generation      #\\n#       url: https://github.com/qzhu2017/pyxtal             #\\n#       @Zhu's group at University of Nevada Las Vegas      #\\n#############################################################\\ndata_from_pyxtal\\n\\n_symmetry_space_group_name_H-M 'P21/n'\\n_symmetry_Int_Tables_number                   14\\n_symmetry_cell_setting                monoclinic\\n_cell_length_a           11.233000\\n_cell_length_b            6.544000\\n_cell_length_c           15.047368\\n_cell_angle_alpha        90.000000\\n_cell_angle_beta         47.939346\\n_cell_angle_gamma        90.000000\\n\\nloop_\\n _symmetry_equiv_pos_site_id\\n _symmetry_equiv_pos_as_xyz\\n1 'x, y, z'\\n2 '-x+1/2, y+1/2, -z+1/2'\\n3 '-x, -y, -z'\\n4 'x+1/2, -y+1/2, z+1/2'\\n\\nloop_\\n _atom_site_label\\n _atom_site_type_symbol\\n _atom_site_symmetry_multiplicity\\n _atom_site_fract_x\\n _atom_site_fract_y\\n _atom_site_fract_z\\n _atom_site_occupancy\\nO      O        4     0.377600    0.582700   -0.089000 1\\nO      O        4     0.176200    0.859000   -0.052700 1\\nO      O        4    -0.086800    0.813000    0.096600 1\\nO      O        4     0.366200    0.781500    0.036700 1\\nC      C        4     0.238500    0.483800    0.008800 1\\nC      C        4     0.087200    0.560300    0.066500 1\\nC      C        4     0.258400    0.297700    0.041400 1\\nC      C        4    -0.045600    0.446300    0.161400 1\\nC      C        4     0.125700    0.187600    0.135200 1\\nC      C        4    -0.025600    0.262000    0.194200 1\\nC      C        4     0.053100    0.756200    0.037200 1\\nC      C        4     0.429700    0.737300   -0.062300 1\\nC      C        4     0.573300    0.839900   -0.174000 1\\nH      H        4     0.379300    0.237700   -0.009500 1\\nH      H        4    -0.165000    0.507000    0.208300 1\\nH      H        4     0.142300    0.039600    0.159300 1\\nH      H        4    -0.128200    0.174000    0.268800 1\\nH      H        4     0.544000    0.897000   -0.224000 1\\nH      H        4     0.674000    0.735000   -0.240000 1\\nH      H        4     0.606800    0.960000   -0.145000 1\\nH      H        4     0.135500    0.985500   -0.064200 1\\n#END\\n\\n\",\"cif\",{\"doAssembly\": true, \"duplicateAssemblyAtoms\": true, \"normalizeAssembly\": true});\n\tviewer_1620942286270109.setStyle({\"stick\": {\"colorscheme\": \"greenCarbon\"}});\n\tviewer_1620942286270109.addUnitCell();\n\tviewer_1620942286270109.replicateUnitCell(1,1,1);\n\tviewer_1620942286270109.zoomTo();\nviewer_1620942286270109.render();\n});\n</script>",
      "text/html": [
       "<div id=\"3dmolviewer_1620942286270109\"  style=\"position: relative; width: 600px; height: 300px\">\n",
       "        <p id=\"3dmolwarning_1620942286270109\" style=\"background-color:#ffcccc;color:black\">You appear to be running in JupyterLab (or JavaScript failed to load for some other reason).  You need to install the 3dmol extension: <br>\n",
       "        <tt>jupyter labextension install jupyterlab_3dmol</tt></p>\n",
       "        </div>\n",
       "<script>\n",
       "\n",
       "var loadScriptAsync = function(uri){\n",
       "  return new Promise((resolve, reject) => {\n",
       "    var tag = document.createElement('script');\n",
       "    tag.src = uri;\n",
       "    tag.async = true;\n",
       "    tag.onload = () => {\n",
       "      resolve();\n",
       "    };\n",
       "  var firstScriptTag = document.getElementsByTagName('script')[0];\n",
       "  firstScriptTag.parentNode.insertBefore(tag, firstScriptTag);\n",
       "});\n",
       "};\n",
       "\n",
       "if(typeof $3Dmolpromise === 'undefined') {\n",
       "$3Dmolpromise = null;\n",
       "  $3Dmolpromise = loadScriptAsync('https://3dmol.csb.pitt.edu/build/3Dmol.js');\n",
       "}\n",
       "\n",
       "var viewer_1620942286270109 = null;\n",
       "var warn = document.getElementById(\"3dmolwarning_1620942286270109\");\n",
       "if(warn) {\n",
       "    warn.parentNode.removeChild(warn);\n",
       "}\n",
       "$3Dmolpromise.then(function() {\n",
       "viewer_1620942286270109 = $3Dmol.createViewer($(\"#3dmolviewer_1620942286270109\"),{backgroundColor:\"white\"});\n",
       "\tviewer_1620942286270109.addModel(\"#############################################################\\n#             ______       _    _          _   \\t            #\\n#            (_____ \\\\     \\\\ \\\\  / /        | |               #\\n#             _____) )   _ \\\\ \\\\/ / |_  ____| |  \\t            #\\n#            |  ____/ | | | )  (|  _)/ _  | | \\t            #\\n#            | |    | |_| |/ /\\\\ \\\\ |_( (_| | |___            #\\n#            |_|     \\\\__  /_/  \\\\_\\\\___)__|_|_____)           #\\n#                   (____/                                  #\\n#---------------------(version    0.2.6)--------------------#\\n#       A Python package for random crystal generation      #\\n#       url: https://github.com/qzhu2017/pyxtal             #\\n#       @Zhu's group at University of Nevada Las Vegas      #\\n#############################################################\\ndata_from_pyxtal\\n\\n_symmetry_space_group_name_H-M 'P21/n'\\n_symmetry_Int_Tables_number                   14\\n_symmetry_cell_setting                monoclinic\\n_cell_length_a           11.233000\\n_cell_length_b            6.544000\\n_cell_length_c           15.047368\\n_cell_angle_alpha        90.000000\\n_cell_angle_beta         47.939346\\n_cell_angle_gamma        90.000000\\n\\nloop_\\n _symmetry_equiv_pos_site_id\\n _symmetry_equiv_pos_as_xyz\\n1 'x, y, z'\\n2 '-x+1/2, y+1/2, -z+1/2'\\n3 '-x, -y, -z'\\n4 'x+1/2, -y+1/2, z+1/2'\\n\\nloop_\\n _atom_site_label\\n _atom_site_type_symbol\\n _atom_site_symmetry_multiplicity\\n _atom_site_fract_x\\n _atom_site_fract_y\\n _atom_site_fract_z\\n _atom_site_occupancy\\nO      O        4     0.377600    0.582700   -0.089000 1\\nO      O        4     0.176200    0.859000   -0.052700 1\\nO      O        4    -0.086800    0.813000    0.096600 1\\nO      O        4     0.366200    0.781500    0.036700 1\\nC      C        4     0.238500    0.483800    0.008800 1\\nC      C        4     0.087200    0.560300    0.066500 1\\nC      C        4     0.258400    0.297700    0.041400 1\\nC      C        4    -0.045600    0.446300    0.161400 1\\nC      C        4     0.125700    0.187600    0.135200 1\\nC      C        4    -0.025600    0.262000    0.194200 1\\nC      C        4     0.053100    0.756200    0.037200 1\\nC      C        4     0.429700    0.737300   -0.062300 1\\nC      C        4     0.573300    0.839900   -0.174000 1\\nH      H        4     0.379300    0.237700   -0.009500 1\\nH      H        4    -0.165000    0.507000    0.208300 1\\nH      H        4     0.142300    0.039600    0.159300 1\\nH      H        4    -0.128200    0.174000    0.268800 1\\nH      H        4     0.544000    0.897000   -0.224000 1\\nH      H        4     0.674000    0.735000   -0.240000 1\\nH      H        4     0.606800    0.960000   -0.145000 1\\nH      H        4     0.135500    0.985500   -0.064200 1\\n#END\\n\\n\",\"cif\",{\"doAssembly\": true, \"duplicateAssemblyAtoms\": true, \"normalizeAssembly\": true});\n",
       "\tviewer_1620942286270109.setStyle({\"stick\": {\"colorscheme\": \"greenCarbon\"}});\n",
       "\tviewer_1620942286270109.addUnitCell();\n",
       "\tviewer_1620942286270109.replicateUnitCell(1,1,1);\n",
       "\tviewer_1620942286270109.zoomTo();\n",
       "viewer_1620942286270109.render();\n",
       "});\n",
       "</script>"
      ]
     },
     "metadata": {},
     "output_type": "display_data"
    },
    {
     "data": {
      "text/plain": [
       "<py3Dmol.view at 0x7fce89b9dc90>"
      ]
     },
     "execution_count": 11,
     "metadata": {},
     "output_type": "execute_result"
    }
   ],
   "source": [
    "# Now we apply the cell transformation \n",
    "C1.transform([[1,0,0],[0,1,0],[1,0,1]])\n",
    "print(C1)\n",
    "C1.show()"
   ]
  },
  {
   "cell_type": "code",
   "execution_count": 12,
   "metadata": {},
   "outputs": [
    {
     "name": "stdout",
     "output_type": "stream",
     "text": [
      "\n",
      "------Crystal from Seed------\n",
      "Dimension: 3\n",
      "Composition: [aspirin]4\n",
      "Group: P21/c (14)\n",
      "monoclinic lattice:  11.2330   6.5440  11.2310  90.0000  95.8900  90.0000\n",
      "Wyckoff sites:\n",
      "\tH8C9O4 @ [ 0.2414  0.5782  0.0168]  WP:  4e, Site symmetry 1 ==> Euler:  0.000  0.000  0.000\n"
     ]
    },
    {
     "data": {
      "application/3dmoljs_load.v0": "<div id=\"3dmolviewer_1620942286363629\"  style=\"position: relative; width: 600px; height: 300px\">\n        <p id=\"3dmolwarning_1620942286363629\" style=\"background-color:#ffcccc;color:black\">You appear to be running in JupyterLab (or JavaScript failed to load for some other reason).  You need to install the 3dmol extension: <br>\n        <tt>jupyter labextension install jupyterlab_3dmol</tt></p>\n        </div>\n<script>\n\nvar loadScriptAsync = function(uri){\n  return new Promise((resolve, reject) => {\n    var tag = document.createElement('script');\n    tag.src = uri;\n    tag.async = true;\n    tag.onload = () => {\n      resolve();\n    };\n  var firstScriptTag = document.getElementsByTagName('script')[0];\n  firstScriptTag.parentNode.insertBefore(tag, firstScriptTag);\n});\n};\n\nif(typeof $3Dmolpromise === 'undefined') {\n$3Dmolpromise = null;\n  $3Dmolpromise = loadScriptAsync('https://3dmol.csb.pitt.edu/build/3Dmol.js');\n}\n\nvar viewer_1620942286363629 = null;\nvar warn = document.getElementById(\"3dmolwarning_1620942286363629\");\nif(warn) {\n    warn.parentNode.removeChild(warn);\n}\n$3Dmolpromise.then(function() {\nviewer_1620942286363629 = $3Dmol.createViewer($(\"#3dmolviewer_1620942286363629\"),{backgroundColor:\"white\"});\n\tviewer_1620942286363629.addModel(\"#############################################################\\n#             ______       _    _          _   \\t            #\\n#            (_____ \\\\     \\\\ \\\\  / /        | |               #\\n#             _____) )   _ \\\\ \\\\/ / |_  ____| |  \\t            #\\n#            |  ____/ | | | )  (|  _)/ _  | | \\t            #\\n#            | |    | |_| |/ /\\\\ \\\\ |_( (_| | |___            #\\n#            |_|     \\\\__  /_/  \\\\_\\\\___)__|_|_____)           #\\n#                   (____/                                  #\\n#---------------------(version    0.2.6)--------------------#\\n#       A Python package for random crystal generation      #\\n#       url: https://github.com/qzhu2017/pyxtal             #\\n#       @Zhu's group at University of Nevada Las Vegas      #\\n#############################################################\\ndata_from_pyxtal\\n\\n_symmetry_space_group_name_H-M 'P21/c'\\n_symmetry_Int_Tables_number                   14\\n_symmetry_cell_setting                monoclinic\\n_cell_length_a           11.233000\\n_cell_length_b            6.544000\\n_cell_length_c           11.231000\\n_cell_angle_alpha        90.000000\\n_cell_angle_beta         95.890000\\n_cell_angle_gamma        90.000000\\n\\nloop_\\n _symmetry_equiv_pos_site_id\\n _symmetry_equiv_pos_as_xyz\\n1 'x, y, z'\\n2 '-x+1/2, y+1/2, -z+1/2'\\n3 '-x, -y, -z'\\n4 'x+1/2, -y+1/2, z+1/2'\\n\\nloop_\\n _atom_site_label\\n _atom_site_type_symbol\\n _atom_site_symmetry_multiplicity\\n _atom_site_fract_x\\n _atom_site_fract_y\\n _atom_site_fract_z\\n _atom_site_occupancy\\nO      O        4     0.288600    0.582700   -0.089000 1\\nO      O        4     0.123500    0.859000   -0.052700 1\\nO      O        4     0.009800    0.813000    0.096600 1\\nO      O        4     0.402900    0.781500    0.036700 1\\nC      C        4     0.247300    0.483800    0.008800 1\\nC      C        4     0.153700    0.560300    0.066500 1\\nC      C        4     0.299800    0.297700    0.041400 1\\nC      C        4     0.115800    0.446300    0.161400 1\\nC      C        4     0.260900    0.187600    0.135200 1\\nC      C        4     0.168600    0.262000    0.194200 1\\nC      C        4     0.090300    0.756200    0.037200 1\\nC      C        4     0.367400    0.737300   -0.062300 1\\nC      C        4     0.399300    0.839900   -0.174000 1\\nH      H        4     0.369800    0.237700   -0.009500 1\\nH      H        4     0.043300    0.507000    0.208300 1\\nH      H        4     0.301600    0.039600    0.159300 1\\nH      H        4     0.140600    0.174000    0.268800 1\\nH      H        4     0.320000    0.897000   -0.224000 1\\nH      H        4     0.434000    0.735000   -0.240000 1\\nH      H        4     0.461800    0.960000   -0.145000 1\\nH      H        4     0.071300    0.985500   -0.064200 1\\n#END\\n\\n\",\"cif\",{\"doAssembly\": true, \"duplicateAssemblyAtoms\": true, \"normalizeAssembly\": true});\n\tviewer_1620942286363629.setStyle({\"stick\": {\"colorscheme\": \"greenCarbon\"}});\n\tviewer_1620942286363629.addUnitCell();\n\tviewer_1620942286363629.replicateUnitCell(1,1,1);\n\tviewer_1620942286363629.zoomTo();\nviewer_1620942286363629.render();\n});\n</script>",
      "text/html": [
       "<div id=\"3dmolviewer_1620942286363629\"  style=\"position: relative; width: 600px; height: 300px\">\n",
       "        <p id=\"3dmolwarning_1620942286363629\" style=\"background-color:#ffcccc;color:black\">You appear to be running in JupyterLab (or JavaScript failed to load for some other reason).  You need to install the 3dmol extension: <br>\n",
       "        <tt>jupyter labextension install jupyterlab_3dmol</tt></p>\n",
       "        </div>\n",
       "<script>\n",
       "\n",
       "var loadScriptAsync = function(uri){\n",
       "  return new Promise((resolve, reject) => {\n",
       "    var tag = document.createElement('script');\n",
       "    tag.src = uri;\n",
       "    tag.async = true;\n",
       "    tag.onload = () => {\n",
       "      resolve();\n",
       "    };\n",
       "  var firstScriptTag = document.getElementsByTagName('script')[0];\n",
       "  firstScriptTag.parentNode.insertBefore(tag, firstScriptTag);\n",
       "});\n",
       "};\n",
       "\n",
       "if(typeof $3Dmolpromise === 'undefined') {\n",
       "$3Dmolpromise = null;\n",
       "  $3Dmolpromise = loadScriptAsync('https://3dmol.csb.pitt.edu/build/3Dmol.js');\n",
       "}\n",
       "\n",
       "var viewer_1620942286363629 = null;\n",
       "var warn = document.getElementById(\"3dmolwarning_1620942286363629\");\n",
       "if(warn) {\n",
       "    warn.parentNode.removeChild(warn);\n",
       "}\n",
       "$3Dmolpromise.then(function() {\n",
       "viewer_1620942286363629 = $3Dmol.createViewer($(\"#3dmolviewer_1620942286363629\"),{backgroundColor:\"white\"});\n",
       "\tviewer_1620942286363629.addModel(\"#############################################################\\n#             ______       _    _          _   \\t            #\\n#            (_____ \\\\     \\\\ \\\\  / /        | |               #\\n#             _____) )   _ \\\\ \\\\/ / |_  ____| |  \\t            #\\n#            |  ____/ | | | )  (|  _)/ _  | | \\t            #\\n#            | |    | |_| |/ /\\\\ \\\\ |_( (_| | |___            #\\n#            |_|     \\\\__  /_/  \\\\_\\\\___)__|_|_____)           #\\n#                   (____/                                  #\\n#---------------------(version    0.2.6)--------------------#\\n#       A Python package for random crystal generation      #\\n#       url: https://github.com/qzhu2017/pyxtal             #\\n#       @Zhu's group at University of Nevada Las Vegas      #\\n#############################################################\\ndata_from_pyxtal\\n\\n_symmetry_space_group_name_H-M 'P21/c'\\n_symmetry_Int_Tables_number                   14\\n_symmetry_cell_setting                monoclinic\\n_cell_length_a           11.233000\\n_cell_length_b            6.544000\\n_cell_length_c           11.231000\\n_cell_angle_alpha        90.000000\\n_cell_angle_beta         95.890000\\n_cell_angle_gamma        90.000000\\n\\nloop_\\n _symmetry_equiv_pos_site_id\\n _symmetry_equiv_pos_as_xyz\\n1 'x, y, z'\\n2 '-x+1/2, y+1/2, -z+1/2'\\n3 '-x, -y, -z'\\n4 'x+1/2, -y+1/2, z+1/2'\\n\\nloop_\\n _atom_site_label\\n _atom_site_type_symbol\\n _atom_site_symmetry_multiplicity\\n _atom_site_fract_x\\n _atom_site_fract_y\\n _atom_site_fract_z\\n _atom_site_occupancy\\nO      O        4     0.288600    0.582700   -0.089000 1\\nO      O        4     0.123500    0.859000   -0.052700 1\\nO      O        4     0.009800    0.813000    0.096600 1\\nO      O        4     0.402900    0.781500    0.036700 1\\nC      C        4     0.247300    0.483800    0.008800 1\\nC      C        4     0.153700    0.560300    0.066500 1\\nC      C        4     0.299800    0.297700    0.041400 1\\nC      C        4     0.115800    0.446300    0.161400 1\\nC      C        4     0.260900    0.187600    0.135200 1\\nC      C        4     0.168600    0.262000    0.194200 1\\nC      C        4     0.090300    0.756200    0.037200 1\\nC      C        4     0.367400    0.737300   -0.062300 1\\nC      C        4     0.399300    0.839900   -0.174000 1\\nH      H        4     0.369800    0.237700   -0.009500 1\\nH      H        4     0.043300    0.507000    0.208300 1\\nH      H        4     0.301600    0.039600    0.159300 1\\nH      H        4     0.140600    0.174000    0.268800 1\\nH      H        4     0.320000    0.897000   -0.224000 1\\nH      H        4     0.434000    0.735000   -0.240000 1\\nH      H        4     0.461800    0.960000   -0.145000 1\\nH      H        4     0.071300    0.985500   -0.064200 1\\n#END\\n\\n\",\"cif\",{\"doAssembly\": true, \"duplicateAssemblyAtoms\": true, \"normalizeAssembly\": true});\n",
       "\tviewer_1620942286363629.setStyle({\"stick\": {\"colorscheme\": \"greenCarbon\"}});\n",
       "\tviewer_1620942286363629.addUnitCell();\n",
       "\tviewer_1620942286363629.replicateUnitCell(1,1,1);\n",
       "\tviewer_1620942286363629.zoomTo();\n",
       "viewer_1620942286363629.render();\n",
       "});\n",
       "</script>"
      ]
     },
     "metadata": {},
     "output_type": "display_data"
    },
    {
     "data": {
      "text/plain": [
       "<py3Dmol.view at 0x7fcea3840190>"
      ]
     },
     "execution_count": 12,
     "metadata": {},
     "output_type": "execute_result"
    }
   ],
   "source": [
    "# We can always use the optimize_lattice function to \n",
    "# change it to a cell reprentation that has an inclination \n",
    "# angle close to 90 degree\n",
    "\n",
    "C1.optimize_lattice()\n",
    "print(C1)\n",
    "C1.show()"
   ]
  }
 ],
 "metadata": {
  "@webio": {
   "lastCommId": null,
   "lastKernelId": null
  },
  "kernelspec": {
   "display_name": "Python 3",
   "language": "python",
   "name": "python3"
  },
  "language_info": {
   "codemirror_mode": {
    "name": "ipython",
    "version": 3
   },
   "file_extension": ".py",
   "mimetype": "text/x-python",
   "name": "python",
   "nbconvert_exporter": "python",
   "pygments_lexer": "ipython3",
   "version": "3.7.4"
  }
 },
 "nbformat": 4,
 "nbformat_minor": 2
}
