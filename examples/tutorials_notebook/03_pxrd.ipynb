{
 "cells": [
  {
   "cell_type": "markdown",
   "metadata": {},
   "source": [
    "# Tutorial for the atomic crystal module in PyXtal\n",
    "Source code: https://github.com/qzhu2017/PyXtal\n",
    "\n",
    "Created by Qiang Zhu (2020/11/25)\n",
    "\n",
    "An interactive webpage can be found at the following [link](https://vxrd.physics.unlv.edu)\n"
   ]
  },
  {
   "cell_type": "code",
   "execution_count": 1,
   "metadata": {},
   "outputs": [],
   "source": [
    "# load the necessary libraries\n",
    "\n",
    "from pyxtal import pyxtal\n",
    "from pyxtal.XRD import Similarity\n",
    "from pkg_resources import resource_filename"
   ]
  },
  {
   "cell_type": "code",
   "execution_count": 2,
   "metadata": {
    "scrolled": false
   },
   "outputs": [
    {
     "name": "stdout",
     "output_type": "stream",
     "text": [
      "------Crystal from Seed------\n",
      "Dimension: 3\n",
      "Composition: [H8 C9 O4]4\n",
      "Group: P21/c (14)\n",
      "monoclinic lattice:  11.2330   6.5440  11.2310  90.0000  95.8900  90.0000\n",
      "Wyckoff sites:\n",
      "\tH8C9O4 @ [0.2414 0.5782 0.0168]  WP:  4e, Site symmetry 1 ==> Euler:  0.000  0.000  0.000\n"
     ]
    }
   ],
   "source": [
    "# specify the path of an experimental structure\n",
    "cif_nacl = resource_filename(\"pyxtal\", \"database/cifs/NaCl.cif\")\n",
    "cif_aspirin = resource_filename(\"pyxtal\", \"database/cifs/aspirin.cif\")\n",
    "\n",
    "# load the structure from pyxtal\n",
    "\n",
    "# if you load the atomic crystal\n",
    "#xtal1 = pyxtal()\n",
    "#xtal1.from_seed(seed = cif_nacl)    \n",
    "\n",
    "# to load a molecular crystal, also needs to specify the molecule tag\n",
    "xtal1 = pyxtal(molecular=True)\n",
    "xtal1.from_seed(seed=cif_aspirin, molecule='aspirin')\n",
    "print(xtal1)\n",
    "\n",
    "# visualize the structure\n",
    "# xtal1.show()"
   ]
  },
  {
   "cell_type": "code",
   "execution_count": 3,
   "metadata": {
    "scrolled": false
   },
   "outputs": [
    {
     "name": "stdout",
     "output_type": "stream",
     "text": [
      "  2theta     d_hkl     hkl       Intensity  Multi\n",
      "   7.912    11.174   [ 1  0  0]    43.69        2\n",
      "  15.693     5.647   [ 1  1  0]    11.94        4\n",
      "  15.694     5.647   [ 0  1  1]    13.85        4\n",
      "  15.863     5.587   [ 2  0  0]    15.35        2\n",
      "  15.866     5.586   [ 0  0  2]   100.00        2\n",
      "  17.002     5.215   [ 1  0 -2]     6.52        2\n",
      "  17.224     5.148   [ 1  1 -1]     1.15        4\n",
      "  17.965     4.938   [ 1  1  1]     2.18        4\n",
      "  18.472     4.803   [ 1  0  2]     1.69        2\n",
      "  20.907     4.249   [ 2  1  0]     8.59        4\n",
      "  20.909     4.249   [ 0  1  2]    22.40        4\n",
      "  21.308     4.170   [ 2  0 -2]     6.03        2\n",
      "  21.791     4.079   [ 2  1 -1]     6.94        4\n",
      "  21.792     4.078   [ 1  1 -2]     1.73        4\n",
      "  22.967     3.872   [ 2  1  1]    49.23        4\n",
      "  22.968     3.872   [ 1  1  2]    46.39        4\n",
      "  23.651     3.762   [ 2  0  2]    17.19        2\n",
      "  23.891     3.725   [ 3  0  0]     2.41        2\n",
      "  25.327     3.517   [ 2  1 -2]     4.51        4\n",
      "  27.255     3.272   [ 0  2  0]    13.80        2\n",
      "  27.346     3.261   [ 2  1  2]    50.63        4\n",
      "  27.384     3.257   [ 3  0 -2]     1.87        2\n",
      "  27.556     3.237   [ 3  1  0]    50.62        4\n",
      "  27.560     3.237   [ 0  1  3]     0.76        4\n",
      "  28.006     3.186   [ 3  1 -1]     5.42        4\n",
      "  28.009     3.186   [ 1  1 -3]     3.34        4\n",
      "  28.423     3.140   [ 1  2  0]     1.21        4\n",
      "  28.424     3.140   [ 0  2  1]     0.02        4\n",
      "  29.322     3.046   [ 1  2 -1]     0.25        4\n",
      "  29.405     3.038   [ 3  1  1]     7.16        4\n",
      "  29.408     3.037   [ 1  1  3]     2.32        4\n",
      "  29.776     3.001   [ 1  2  1]     2.25        4\n",
      "  30.175     2.962   [ 3  0  2]     2.27        2\n",
      "  30.662     2.916   [ 3  1 -2]     6.68        4\n",
      "  30.664     2.916   [ 2  1 -3]     1.43        4\n",
      "  31.691     2.823   [ 2  2  0]     3.22        4\n",
      "  31.693     2.823   [ 0  2  2]     2.77        4\n",
      "  32.040     2.793   [ 4  0  0]     3.69        2\n",
      "  32.046     2.793   [ 0  0  4]     0.02        2\n",
      "  32.230     2.777   [ 1  0 -4]     2.15        2\n",
      "  32.298     2.772   [ 2  2 -1]     0.25        4\n",
      "  32.299     2.772   [ 1  2 -2]     0.18        4\n",
      "  33.127     2.704   [ 2  2  1]     1.38        4\n",
      "  33.128     2.704   [ 1  2  2]     2.22        4\n",
      "  33.203     2.698   [ 3  1  2]    11.60        4\n",
      "  33.204     2.698   [ 2  1  3]    13.36        4\n",
      "  33.872     2.646   [ 1  0  4]     0.00        2\n",
      "  34.390     2.608   [ 4  0 -2]     0.70        2\n",
      "  34.394     2.607   [ 2  0 -4]     2.82        2\n",
      "  34.854     2.574   [ 2  2 -2]     2.34        4\n",
      "  34.923     2.569   [ 4  1  0]     0.01        4\n",
      "  34.929     2.569   [ 0  1  4]     2.85        4\n",
      "\n"
     ]
    }
   ],
   "source": [
    "# compute the xrd project\n",
    "xrd = xtal1.get_XRD(thetas=[0, 35])\n",
    "\n",
    "# you can easily access the diffraction information by hkl indices\n",
    "print(xrd)"
   ]
  },
  {
   "cell_type": "code",
   "execution_count": 4,
   "metadata": {},
   "outputs": [],
   "source": [
    "# Now we randomly perturb the crystal\n",
    "xtal2 = xtal1.copy()\n",
    "xtal2.apply_perturbation(d_lat=0.02)\n",
    "xrd2 = xtal2.get_XRD(thetas=[0, 35])"
   ]
  },
  {
   "cell_type": "code",
   "execution_count": 5,
   "metadata": {},
   "outputs": [
    {
     "name": "stdout",
     "output_type": "stream",
     "text": [
      "The similarity between two PXRDs is 0.9483\n"
     ]
    },
    {
     "data": {
      "image/png": "[encoded data removed]",
      "text/plain": [
       "<Figure size 1080x432 with 2 Axes>"
      ]
     },
     "metadata": {
      "needs_background": "light"
     },
     "output_type": "display_data"
    }
   ],
   "source": [
    "# Compare the the PXRDs of two structures\n",
    "p1 = xrd.get_profile()\n",
    "p2 = xrd2.get_profile()\n",
    "s = Similarity(p1, p2, x_range=[0,35])\n",
    "print(s)\n",
    "s.show()"
   ]
  },
  {
   "cell_type": "code",
   "execution_count": 6,
   "metadata": {},
   "outputs": [
    {
     "name": "stdout",
     "output_type": "stream",
     "text": [
      "------Crystal from Seed------\n",
      "Dimension: 3\n",
      "Composition: [H8 C9 O4]4\n",
      "Group: P21/c (14)\n",
      "monoclinic lattice:  11.2330   6.5440  11.2310  90.0000  95.8900  90.0000\n",
      "Wyckoff sites:\n",
      "\tH8C9O4 @ [0.2414 0.5782 0.0168]  WP:  4e, Site symmetry 1 ==> Euler:  0.000  0.000  0.000\n",
      "------Crystal from Perturbation------\n",
      "Dimension: 3\n",
      "Composition: [H8 C9 O4]4\n",
      "Group: P21/c (14)\n",
      "monoclinic lattice:  11.3414   6.5678  11.2109  90.0000  95.1484  90.0000\n",
      "Wyckoff sites:\n",
      "\tH8C9O4 @ [0.2384 0.5761 0.0196]  WP:  4e, Site symmetry 1 ==> Euler:  0.134  0.787  0.603\n"
     ]
    }
   ],
   "source": [
    "print(xtal1)\n",
    "print(xtal2)"
   ]
  },
  {
   "cell_type": "code",
   "execution_count": 7,
   "metadata": {},
   "outputs": [
    {
     "data": {
      "application/3dmoljs_load.v0": "<div id=\"3dmolviewer_16063628127842429\"  style=\"position: relative; width: 600px; height: 300px\">\n        <p id=\"3dmolwarning_16063628127842429\" style=\"background-color:#ffcccc;color:black\">You appear to be running in JupyterLab (or JavaScript failed to load for some other reason).  You need to install the 3dmol extension: <br>\n        <tt>jupyter labextension install jupyterlab_3dmol</tt></p>\n        </div>\n<script>\n\nvar loadScriptAsync = function(uri){\n  return new Promise((resolve, reject) => {\n    var tag = document.createElement('script');\n    tag.src = uri;\n    tag.async = true;\n    tag.onload = () => {\n      resolve();\n    };\n  var firstScriptTag = document.getElementsByTagName('script')[0];\n  firstScriptTag.parentNode.insertBefore(tag, firstScriptTag);\n});\n};\n\nif(typeof $3Dmolpromise === 'undefined') {\n$3Dmolpromise = null;\n  $3Dmolpromise = loadScriptAsync('https://3dmol.csb.pitt.edu/build/3Dmol.js');\n}\n\nvar viewer_16063628127842429 = null;\nvar warn = document.getElementById(\"3dmolwarning_16063628127842429\");\nif(warn) {\n    warn.parentNode.removeChild(warn);\n}\n$3Dmolpromise.then(function() {\nviewer_16063628127842429 = $3Dmol.createViewer($(\"#3dmolviewer_16063628127842429\"),{backgroundColor:\"white\"});\n\tviewer_16063628127842429.addModel(\"#############################################################\\n#             ______       _    _          _   \\t            #\\n#            (_____ \\\\     \\\\ \\\\  / /        | |               #\\n#             _____) )   _ \\\\ \\\\/ / |_  ____| |  \\t            #\\n#            |  ____/ | | | )  (|  _)/ _  | | \\t            #\\n#            | |    | |_| |/ /\\\\ \\\\ |_( (_| | |___            #\\n#            |_|     \\\\__  /_/  \\\\_\\\\___)__|_|_____)           #\\n#                   (____/                                  #\\n#---------------------(version    0.1.4)--------------------#\\n#       A Python package for random crystal generation      #\\n#       url: https://github.com/qzhu2017/pyxtal             #\\n#       @Zhu's group at University of Nevada Las Vegas      #\\n#############################################################\\ndata_from_pyxtal\\n\\n_symmetry_space_group_name_H-M 'P21/c'\\n_symmetry_Int_Tables_number                   14\\n_symmetry_cell_setting                monoclinic\\n_cell_length_a           11.233000\\n_cell_length_b            6.544000\\n_cell_length_c           11.231000\\n_cell_angle_alpha        90.000000\\n_cell_angle_beta         95.890000\\n_cell_angle_gamma        90.000000\\n\\nloop_\\n _symmetry_equiv_pos_site_id\\n _symmetry_equiv_pos_as_xyz\\n1 'x, y, z'\\n2 '-x, y+1/2, -z+1/2'\\n3 '-x, -y, -z'\\n4 'x, -y+1/2, z+1/2'\\n\\nloop_\\n _atom_site_label\\n _atom_site_type_symbol\\n _atom_site_symmetry_multiplicity\\n _atom_site_fract_x\\n _atom_site_fract_y\\n _atom_site_fract_z\\n _atom_site_occupancy\\nO      O        4     0.288600    0.582700   -0.089000 1\\nO      O        4     0.123500    0.859000   -0.052700 1\\nO      O        4     0.009800    0.813000    0.096600 1\\nO      O        4     0.402900    0.781500    0.036700 1\\nC      C        4     0.247300    0.483800    0.008800 1\\nC      C        4     0.153700    0.560300    0.066500 1\\nC      C        4     0.299800    0.297700    0.041400 1\\nC      C        4     0.115800    0.446300    0.161400 1\\nC      C        4     0.260900    0.187600    0.135200 1\\nC      C        4     0.168600    0.262000    0.194200 1\\nC      C        4     0.090300    0.756200    0.037200 1\\nC      C        4     0.367400    0.737300   -0.062300 1\\nC      C        4     0.399300    0.839900   -0.174000 1\\nH      H        4     0.369800    0.237700   -0.009500 1\\nH      H        4     0.043300    0.507000    0.208300 1\\nH      H        4     0.301600    0.039600    0.159300 1\\nH      H        4     0.140600    0.174000    0.268800 1\\nH      H        4     0.320000    0.897000   -0.224000 1\\nH      H        4     0.434000    0.735000   -0.240000 1\\nH      H        4     0.461800    0.960000   -0.145000 1\\nH      H        4     0.071300    0.985500   -0.064200 1\\n#END\\n\\n\",\"cif\",{\"doAssembly\": true, \"duplicateAssemblyAtoms\": true, \"normalizeAssembly\": true});\n\tviewer_16063628127842429.setStyle({\"stick\": {\"colorscheme\": \"greenCarbon\"}});\n\tviewer_16063628127842429.addUnitCell();\n\tviewer_16063628127842429.replicateUnitCell(1,1,1);\n\tviewer_16063628127842429.zoomTo();\nviewer_16063628127842429.render();\n});\n</script>",
      "text/html": [
       "<div id=\"3dmolviewer_16063628127842429\"  style=\"position: relative; width: 600px; height: 300px\">\n",
       "        <p id=\"3dmolwarning_16063628127842429\" style=\"background-color:#ffcccc;color:black\">You appear to be running in JupyterLab (or JavaScript failed to load for some other reason).  You need to install the 3dmol extension: <br>\n",
       "        <tt>jupyter labextension install jupyterlab_3dmol</tt></p>\n",
       "        </div>\n",
       "<script>\n",
       "\n",
       "var loadScriptAsync = function(uri){\n",
       "  return new Promise((resolve, reject) => {\n",
       "    var tag = document.createElement('script');\n",
       "    tag.src = uri;\n",
       "    tag.async = true;\n",
       "    tag.onload = () => {\n",
       "      resolve();\n",
       "    };\n",
       "  var firstScriptTag = document.getElementsByTagName('script')[0];\n",
       "  firstScriptTag.parentNode.insertBefore(tag, firstScriptTag);\n",
       "});\n",
       "};\n",
       "\n",
       "if(typeof $3Dmolpromise === 'undefined') {\n",
       "$3Dmolpromise = null;\n",
       "  $3Dmolpromise = loadScriptAsync('https://3dmol.csb.pitt.edu/build/3Dmol.js');\n",
       "}\n",
       "\n",
       "var viewer_16063628127842429 = null;\n",
       "var warn = document.getElementById(\"3dmolwarning_16063628127842429\");\n",
       "if(warn) {\n",
       "    warn.parentNode.removeChild(warn);\n",
       "}\n",
       "$3Dmolpromise.then(function() {\n",
       "viewer_16063628127842429 = $3Dmol.createViewer($(\"#3dmolviewer_16063628127842429\"),{backgroundColor:\"white\"});\n",
       "\tviewer_16063628127842429.addModel(\"#############################################################\\n#             ______       _    _          _   \\t            #\\n#            (_____ \\\\     \\\\ \\\\  / /        | |               #\\n#             _____) )   _ \\\\ \\\\/ / |_  ____| |  \\t            #\\n#            |  ____/ | | | )  (|  _)/ _  | | \\t            #\\n#            | |    | |_| |/ /\\\\ \\\\ |_( (_| | |___            #\\n#            |_|     \\\\__  /_/  \\\\_\\\\___)__|_|_____)           #\\n#                   (____/                                  #\\n#---------------------(version    0.1.4)--------------------#\\n#       A Python package for random crystal generation      #\\n#       url: https://github.com/qzhu2017/pyxtal             #\\n#       @Zhu's group at University of Nevada Las Vegas      #\\n#############################################################\\ndata_from_pyxtal\\n\\n_symmetry_space_group_name_H-M 'P21/c'\\n_symmetry_Int_Tables_number                   14\\n_symmetry_cell_setting                monoclinic\\n_cell_length_a           11.233000\\n_cell_length_b            6.544000\\n_cell_length_c           11.231000\\n_cell_angle_alpha        90.000000\\n_cell_angle_beta         95.890000\\n_cell_angle_gamma        90.000000\\n\\nloop_\\n _symmetry_equiv_pos_site_id\\n _symmetry_equiv_pos_as_xyz\\n1 'x, y, z'\\n2 '-x, y+1/2, -z+1/2'\\n3 '-x, -y, -z'\\n4 'x, -y+1/2, z+1/2'\\n\\nloop_\\n _atom_site_label\\n _atom_site_type_symbol\\n _atom_site_symmetry_multiplicity\\n _atom_site_fract_x\\n _atom_site_fract_y\\n _atom_site_fract_z\\n _atom_site_occupancy\\nO      O        4     0.288600    0.582700   -0.089000 1\\nO      O        4     0.123500    0.859000   -0.052700 1\\nO      O        4     0.009800    0.813000    0.096600 1\\nO      O        4     0.402900    0.781500    0.036700 1\\nC      C        4     0.247300    0.483800    0.008800 1\\nC      C        4     0.153700    0.560300    0.066500 1\\nC      C        4     0.299800    0.297700    0.041400 1\\nC      C        4     0.115800    0.446300    0.161400 1\\nC      C        4     0.260900    0.187600    0.135200 1\\nC      C        4     0.168600    0.262000    0.194200 1\\nC      C        4     0.090300    0.756200    0.037200 1\\nC      C        4     0.367400    0.737300   -0.062300 1\\nC      C        4     0.399300    0.839900   -0.174000 1\\nH      H        4     0.369800    0.237700   -0.009500 1\\nH      H        4     0.043300    0.507000    0.208300 1\\nH      H        4     0.301600    0.039600    0.159300 1\\nH      H        4     0.140600    0.174000    0.268800 1\\nH      H        4     0.320000    0.897000   -0.224000 1\\nH      H        4     0.434000    0.735000   -0.240000 1\\nH      H        4     0.461800    0.960000   -0.145000 1\\nH      H        4     0.071300    0.985500   -0.064200 1\\n#END\\n\\n\",\"cif\",{\"doAssembly\": true, \"duplicateAssemblyAtoms\": true, \"normalizeAssembly\": true});\n",
       "\tviewer_16063628127842429.setStyle({\"stick\": {\"colorscheme\": \"greenCarbon\"}});\n",
       "\tviewer_16063628127842429.addUnitCell();\n",
       "\tviewer_16063628127842429.replicateUnitCell(1,1,1);\n",
       "\tviewer_16063628127842429.zoomTo();\n",
       "viewer_16063628127842429.render();\n",
       "});\n",
       "</script>"
      ]
     },
     "metadata": {},
     "output_type": "display_data"
    },
    {
     "data": {
      "text/plain": [
       "<py3Dmol.view at 0x7fc8b3d1a390>"
      ]
     },
     "execution_count": 7,
     "metadata": {},
     "output_type": "execute_result"
    }
   ],
   "source": [
    "xtal1.show()\n",
    "# xtal2.show()"
   ]
  }
 ],
 "metadata": {
  "@webio": {
   "lastCommId": null,
   "lastKernelId": null
  },
  "kernelspec": {
   "display_name": "Python 3",
   "language": "python",
   "name": "python3"
  },
  "language_info": {
   "codemirror_mode": {
    "name": "ipython",
    "version": 3
   },
   "file_extension": ".py",
   "mimetype": "text/x-python",
   "name": "python",
   "nbconvert_exporter": "python",
   "pygments_lexer": "ipython3",
   "version": "3.7.4"
  }
 },
 "nbformat": 4,
 "nbformat_minor": 4
}
